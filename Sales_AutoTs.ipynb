{
 "cells": [
  {
   "cell_type": "markdown",
   "id": "71248614-5ab1-4e0c-89a3-c22123f945c5",
   "metadata": {},
   "source": [
    "<h2>Installing Necessary Libraries</h2>"
   ]
  },
  {
   "cell_type": "code",
   "execution_count": 1,
   "id": "b4430ddf-6352-471e-bdaa-725abff06ee0",
   "metadata": {},
   "outputs": [
    {
     "name": "stdout",
     "output_type": "stream",
     "text": [
      "Requirement already satisfied: autots in c:\\users\\premkumar\\appdata\\local\\programs\\python\\python312\\lib\\site-packages (0.6.14)\n",
      "Requirement already satisfied: numpy>=1.14.6 in c:\\users\\premkumar\\appdata\\local\\programs\\python\\python312\\lib\\site-packages (from autots) (1.26.4)\n",
      "Requirement already satisfied: pandas>=0.25.0 in c:\\users\\premkumar\\appdata\\local\\programs\\python\\python312\\lib\\site-packages (from autots) (2.2.1)\n",
      "Requirement already satisfied: statsmodels>=0.10.0 in c:\\users\\premkumar\\appdata\\local\\programs\\python\\python312\\lib\\site-packages (from autots) (0.14.2)\n",
      "Requirement already satisfied: scikit-learn>=0.20.0 in c:\\users\\premkumar\\appdata\\local\\programs\\python\\python312\\lib\\site-packages (from autots) (1.4.1.post1)\n",
      "Requirement already satisfied: python-dateutil>=2.8.2 in c:\\users\\premkumar\\appdata\\local\\programs\\python\\python312\\lib\\site-packages (from pandas>=0.25.0->autots) (2.9.0.post0)\n",
      "Requirement already satisfied: pytz>=2020.1 in c:\\users\\premkumar\\appdata\\local\\programs\\python\\python312\\lib\\site-packages (from pandas>=0.25.0->autots) (2024.1)\n",
      "Requirement already satisfied: tzdata>=2022.7 in c:\\users\\premkumar\\appdata\\local\\programs\\python\\python312\\lib\\site-packages (from pandas>=0.25.0->autots) (2024.1)\n",
      "Requirement already satisfied: scipy>=1.6.0 in c:\\users\\premkumar\\appdata\\local\\programs\\python\\python312\\lib\\site-packages (from scikit-learn>=0.20.0->autots) (1.12.0)\n",
      "Requirement already satisfied: joblib>=1.2.0 in c:\\users\\premkumar\\appdata\\local\\programs\\python\\python312\\lib\\site-packages (from scikit-learn>=0.20.0->autots) (1.3.2)\n",
      "Requirement already satisfied: threadpoolctl>=2.0.0 in c:\\users\\premkumar\\appdata\\local\\programs\\python\\python312\\lib\\site-packages (from scikit-learn>=0.20.0->autots) (3.3.0)\n",
      "Requirement already satisfied: patsy>=0.5.6 in c:\\users\\premkumar\\appdata\\local\\programs\\python\\python312\\lib\\site-packages (from statsmodels>=0.10.0->autots) (0.5.6)\n",
      "Requirement already satisfied: packaging>=21.3 in c:\\users\\premkumar\\appdata\\local\\programs\\python\\python312\\lib\\site-packages (from statsmodels>=0.10.0->autots) (23.2)\n",
      "Requirement already satisfied: six in c:\\users\\premkumar\\appdata\\local\\programs\\python\\python312\\lib\\site-packages (from patsy>=0.5.6->statsmodels>=0.10.0->autots) (1.16.0)\n",
      "Note: you may need to restart the kernel to use updated packages.\n"
     ]
    }
   ],
   "source": [
    "pip install autots"
   ]
  },
  {
   "cell_type": "markdown",
   "id": "d1a75e40-8313-4c3b-b20c-0423ba923bf2",
   "metadata": {},
   "source": [
    "<h2> Importing Libraries</h2>"
   ]
  },
  {
   "cell_type": "code",
   "execution_count": 2,
   "id": "ff6bcdb1-62da-40cb-8a6e-e82038848628",
   "metadata": {},
   "outputs": [],
   "source": [
    "import pandas as pd\n",
    "import numpy as np\n",
    "import matplotlib.pyplot as plt\n",
    "import autots as AutoTS"
   ]
  },
  {
   "cell_type": "markdown",
   "id": "cb6005e4-efb2-4f9b-81b7-475c63aa7fbb",
   "metadata": {},
   "source": [
    "<h2> Loading Data</h2>"
   ]
  },
  {
   "cell_type": "code",
   "execution_count": 3,
   "id": "eaca099a-c380-4d3c-ad29-c493e063aae5",
   "metadata": {},
   "outputs": [],
   "source": [
    "data=pd.read_csv(\"wipro.csv\")"
   ]
  },
  {
   "cell_type": "code",
   "execution_count": 4,
   "id": "1aa3f88e-76ed-49a5-b2aa-6eff21335674",
   "metadata": {},
   "outputs": [
    {
     "data": {
      "text/html": [
       "<div>\n",
       "<style scoped>\n",
       "    .dataframe tbody tr th:only-of-type {\n",
       "        vertical-align: middle;\n",
       "    }\n",
       "\n",
       "    .dataframe tbody tr th {\n",
       "        vertical-align: top;\n",
       "    }\n",
       "\n",
       "    .dataframe thead th {\n",
       "        text-align: right;\n",
       "    }\n",
       "</style>\n",
       "<table border=\"1\" class=\"dataframe\">\n",
       "  <thead>\n",
       "    <tr style=\"text-align: right;\">\n",
       "      <th></th>\n",
       "      <th>Date</th>\n",
       "      <th>Price</th>\n",
       "      <th>Open</th>\n",
       "      <th>High</th>\n",
       "      <th>Low</th>\n",
       "      <th>Vol.</th>\n",
       "      <th>Change %</th>\n",
       "    </tr>\n",
       "  </thead>\n",
       "  <tbody>\n",
       "    <tr>\n",
       "      <th>0</th>\n",
       "      <td>30-05-2024</td>\n",
       "      <td>436.95</td>\n",
       "      <td>449.0</td>\n",
       "      <td>449.50</td>\n",
       "      <td>435.1</td>\n",
       "      <td>10.36M</td>\n",
       "      <td>-3.07%</td>\n",
       "    </tr>\n",
       "    <tr>\n",
       "      <th>1</th>\n",
       "      <td>29-05-2024</td>\n",
       "      <td>450.80</td>\n",
       "      <td>454.0</td>\n",
       "      <td>455.50</td>\n",
       "      <td>449.5</td>\n",
       "      <td>4.88M</td>\n",
       "      <td>-1.15%</td>\n",
       "    </tr>\n",
       "    <tr>\n",
       "      <th>2</th>\n",
       "      <td>28-05-2024</td>\n",
       "      <td>456.05</td>\n",
       "      <td>454.0</td>\n",
       "      <td>457.25</td>\n",
       "      <td>453.1</td>\n",
       "      <td>7.89M</td>\n",
       "      <td>0.80%</td>\n",
       "    </tr>\n",
       "    <tr>\n",
       "      <th>3</th>\n",
       "      <td>27-05-2024</td>\n",
       "      <td>452.45</td>\n",
       "      <td>462.0</td>\n",
       "      <td>462.15</td>\n",
       "      <td>451.6</td>\n",
       "      <td>20.49M</td>\n",
       "      <td>-2.42%</td>\n",
       "    </tr>\n",
       "    <tr>\n",
       "      <th>4</th>\n",
       "      <td>24-05-2024</td>\n",
       "      <td>463.65</td>\n",
       "      <td>467.0</td>\n",
       "      <td>470.50</td>\n",
       "      <td>462.0</td>\n",
       "      <td>4.10M</td>\n",
       "      <td>-0.46%</td>\n",
       "    </tr>\n",
       "  </tbody>\n",
       "</table>\n",
       "</div>"
      ],
      "text/plain": [
       "         Date   Price   Open    High    Low    Vol. Change %\n",
       "0  30-05-2024  436.95  449.0  449.50  435.1  10.36M   -3.07%\n",
       "1  29-05-2024  450.80  454.0  455.50  449.5   4.88M   -1.15%\n",
       "2  28-05-2024  456.05  454.0  457.25  453.1   7.89M    0.80%\n",
       "3  27-05-2024  452.45  462.0  462.15  451.6  20.49M   -2.42%\n",
       "4  24-05-2024  463.65  467.0  470.50  462.0   4.10M   -0.46%"
      ]
     },
     "execution_count": 4,
     "metadata": {},
     "output_type": "execute_result"
    }
   ],
   "source": [
    "data.head()"
   ]
  },
  {
   "cell_type": "code",
   "execution_count": 5,
   "id": "a0ab8637-d6d2-4e2d-b656-cfdf15dba8dc",
   "metadata": {},
   "outputs": [
    {
     "data": {
      "text/html": [
       "<div>\n",
       "<style scoped>\n",
       "    .dataframe tbody tr th:only-of-type {\n",
       "        vertical-align: middle;\n",
       "    }\n",
       "\n",
       "    .dataframe tbody tr th {\n",
       "        vertical-align: top;\n",
       "    }\n",
       "\n",
       "    .dataframe thead th {\n",
       "        text-align: right;\n",
       "    }\n",
       "</style>\n",
       "<table border=\"1\" class=\"dataframe\">\n",
       "  <thead>\n",
       "    <tr style=\"text-align: right;\">\n",
       "      <th></th>\n",
       "      <th>Date</th>\n",
       "      <th>Price</th>\n",
       "      <th>Open</th>\n",
       "      <th>High</th>\n",
       "      <th>Low</th>\n",
       "      <th>Vol.</th>\n",
       "      <th>Change %</th>\n",
       "    </tr>\n",
       "  </thead>\n",
       "  <tbody>\n",
       "    <tr>\n",
       "      <th>1070</th>\n",
       "      <td>04-02-2020</td>\n",
       "      <td>240.25</td>\n",
       "      <td>239.00</td>\n",
       "      <td>241.25</td>\n",
       "      <td>237.90</td>\n",
       "      <td>3.16M</td>\n",
       "      <td>1.20%</td>\n",
       "    </tr>\n",
       "    <tr>\n",
       "      <th>1071</th>\n",
       "      <td>03-02-2020</td>\n",
       "      <td>237.40</td>\n",
       "      <td>237.70</td>\n",
       "      <td>240.15</td>\n",
       "      <td>235.25</td>\n",
       "      <td>4.23M</td>\n",
       "      <td>0.25%</td>\n",
       "    </tr>\n",
       "    <tr>\n",
       "      <th>1072</th>\n",
       "      <td>01-02-2020</td>\n",
       "      <td>236.80</td>\n",
       "      <td>236.75</td>\n",
       "      <td>239.30</td>\n",
       "      <td>234.30</td>\n",
       "      <td>2.10M</td>\n",
       "      <td>0.00%</td>\n",
       "    </tr>\n",
       "    <tr>\n",
       "      <th>1073</th>\n",
       "      <td>31-01-2020</td>\n",
       "      <td>236.80</td>\n",
       "      <td>238.00</td>\n",
       "      <td>239.15</td>\n",
       "      <td>235.00</td>\n",
       "      <td>5.55M</td>\n",
       "      <td>-1.62%</td>\n",
       "    </tr>\n",
       "    <tr>\n",
       "      <th>1074</th>\n",
       "      <td>30-01-2020</td>\n",
       "      <td>240.70</td>\n",
       "      <td>247.60</td>\n",
       "      <td>247.60</td>\n",
       "      <td>240.20</td>\n",
       "      <td>2.15M</td>\n",
       "      <td>-2.45%</td>\n",
       "    </tr>\n",
       "  </tbody>\n",
       "</table>\n",
       "</div>"
      ],
      "text/plain": [
       "            Date   Price    Open    High     Low   Vol. Change %\n",
       "1070  04-02-2020  240.25  239.00  241.25  237.90  3.16M    1.20%\n",
       "1071  03-02-2020  237.40  237.70  240.15  235.25  4.23M    0.25%\n",
       "1072  01-02-2020  236.80  236.75  239.30  234.30  2.10M    0.00%\n",
       "1073  31-01-2020  236.80  238.00  239.15  235.00  5.55M   -1.62%\n",
       "1074  30-01-2020  240.70  247.60  247.60  240.20  2.15M   -2.45%"
      ]
     },
     "execution_count": 5,
     "metadata": {},
     "output_type": "execute_result"
    }
   ],
   "source": [
    "data.tail()"
   ]
  },
  {
   "cell_type": "markdown",
   "id": "c20608c4-8833-49d7-8a14-debad7ab7dbf",
   "metadata": {},
   "source": [
    "<h2> Data Preprocessing</h2>"
   ]
  },
  {
   "cell_type": "code",
   "execution_count": 6,
   "id": "8a21b4e6-42de-43b1-8b17-b5371b73bdef",
   "metadata": {},
   "outputs": [
    {
     "name": "stdout",
     "output_type": "stream",
     "text": [
      "<class 'pandas.core.frame.DataFrame'>\n",
      "RangeIndex: 1075 entries, 0 to 1074\n",
      "Data columns (total 7 columns):\n",
      " #   Column    Non-Null Count  Dtype  \n",
      "---  ------    --------------  -----  \n",
      " 0   Date      1075 non-null   object \n",
      " 1   Price     1075 non-null   float64\n",
      " 2   Open      1075 non-null   float64\n",
      " 3   High      1075 non-null   float64\n",
      " 4   Low       1075 non-null   float64\n",
      " 5   Vol.      1075 non-null   object \n",
      " 6   Change %  1075 non-null   object \n",
      "dtypes: float64(4), object(3)\n",
      "memory usage: 58.9+ KB\n"
     ]
    }
   ],
   "source": [
    "data.info()"
   ]
  },
  {
   "cell_type": "code",
   "execution_count": 7,
   "id": "61f16aa9-cff9-4d67-9d77-8dfb88163e12",
   "metadata": {},
   "outputs": [],
   "source": [
    "#We will pick only close column to predict our stock price \n",
    "data = data[[\"Date\", \"Price\"]]"
   ]
  },
  {
   "cell_type": "code",
   "execution_count": 8,
   "id": "e12275b1-7845-4bae-a5fd-32d4ee46e9d0",
   "metadata": {},
   "outputs": [
    {
     "name": "stderr",
     "output_type": "stream",
     "text": [
      "C:\\Users\\premkumar\\AppData\\Local\\Temp\\ipykernel_41828\\139315313.py:1: UserWarning: Parsing dates in %d-%m-%Y format when dayfirst=False (the default) was specified. Pass `dayfirst=True` or specify a format to silence this warning.\n",
      "  data[\"Date\"] = pd.to_datetime(data.Date)\n"
     ]
    }
   ],
   "source": [
    "data[\"Date\"] = pd.to_datetime(data.Date)"
   ]
  },
  {
   "cell_type": "code",
   "execution_count": 9,
   "id": "845b541e-3393-4bc4-b29d-3225d6bbed6d",
   "metadata": {},
   "outputs": [
    {
     "name": "stdout",
     "output_type": "stream",
     "text": [
      "<class 'pandas.core.frame.DataFrame'>\n",
      "RangeIndex: 1075 entries, 0 to 1074\n",
      "Data columns (total 2 columns):\n",
      " #   Column  Non-Null Count  Dtype         \n",
      "---  ------  --------------  -----         \n",
      " 0   Date    1075 non-null   datetime64[ns]\n",
      " 1   Price   1075 non-null   float64       \n",
      "dtypes: datetime64[ns](1), float64(1)\n",
      "memory usage: 16.9 KB\n"
     ]
    }
   ],
   "source": [
    "data.info()"
   ]
  },
  {
   "cell_type": "markdown",
   "id": "d612b853-aa13-4684-9cc9-fddafce2f74e",
   "metadata": {},
   "source": [
    "<h3>handling Missing Values</h3>"
   ]
  },
  {
   "cell_type": "code",
   "execution_count": 27,
   "id": "4424d24d-fd44-4d5a-b71b-ea130fcfcc11",
   "metadata": {},
   "outputs": [
    {
     "data": {
      "text/plain": [
       "0"
      ]
     },
     "execution_count": 27,
     "metadata": {},
     "output_type": "execute_result"
    }
   ],
   "source": [
    "data[\"Price\"].isnull().sum()"
   ]
  },
  {
   "cell_type": "code",
   "execution_count": 28,
   "id": "a22a32b8-3766-489e-bed0-5d52ce75774a",
   "metadata": {},
   "outputs": [
    {
     "data": {
      "text/plain": [
       "0"
      ]
     },
     "execution_count": 28,
     "metadata": {},
     "output_type": "execute_result"
    }
   ],
   "source": [
    "data[\"Date\"].isnull().sum()"
   ]
  },
  {
   "cell_type": "code",
   "execution_count": null,
   "id": "8c45683f-7616-4d4e-ad47-b78fc35fec4f",
   "metadata": {},
   "outputs": [],
   "source": [
    "#There is no missing values in our data , Even if missing values are present our model will automatically handles it .\n",
    "#But it is better practice to handle missing values manually ."
   ]
  },
  {
   "cell_type": "code",
   "execution_count": 10,
   "id": "2338a300-eb53-4e76-ac89-2fe44fd2edf0",
   "metadata": {},
   "outputs": [
    {
     "data": {
      "image/png": "[encoded data removed]",
      "text/plain": [
       "<Figure size 1000x500 with 1 Axes>"
      ]
     },
     "metadata": {},
     "output_type": "display_data"
    }
   ],
   "source": [
    "#Plotting data \n",
    "data[\"Price\"].plot(figsize=(10,5),title=\"Wipro Stock Prices\",label=\"Close Price\")\n",
    "plt.show()"
   ]
  },
  {
   "cell_type": "markdown",
   "id": "3c3446ff-8279-4dc6-af4e-e68084a37f4a",
   "metadata": {},
   "source": [
    "<h3>Training Model</h3>"
   ]
  },
  {
   "cell_type": "code",
   "execution_count": 15,
   "id": "474cfb0b-459c-4fdc-900f-110d5df967ca",
   "metadata": {},
   "outputs": [
    {
     "name": "stdout",
     "output_type": "stream",
     "text": [
      "Using 2 cpus for n_jobs.\n",
      "Data frequency is: None, used frequency is: None\n",
      "Frequency is 'None'! Data frequency not recognized.\n",
      "Model Number: 1 with model ARIMA in generation 0 of 5\n",
      "Model Number: 2 with model AverageValueNaive in generation 0 of 5\n",
      "Model Number: 3 with model AverageValueNaive in generation 0 of 5\n",
      "Model Number: 4 with model AverageValueNaive in generation 0 of 5\n",
      "Model Number: 5 with model DatepartRegression in generation 0 of 5\n"
     ]
    },
    {
     "name": "stderr",
     "output_type": "stream",
     "text": [
      "C:\\Users\\premkumar\\AppData\\Local\\Programs\\Python\\Python312\\Lib\\site-packages\\autots\\models\\base.py:1025: RuntimeWarning: invalid value encountered in divide\n",
      "  smape_cons = (np.nansum(wsmape_df, axis=1) * 200) / np.count_nonzero(\n",
      "C:\\Users\\premkumar\\AppData\\Local\\Programs\\Python\\Python312\\Lib\\site-packages\\autots\\models\\base.py:1025: RuntimeWarning: invalid value encountered in divide\n",
      "  smape_cons = (np.nansum(wsmape_df, axis=1) * 200) / np.count_nonzero(\n",
      "C:\\Users\\premkumar\\AppData\\Local\\Programs\\Python\\Python312\\Lib\\site-packages\\autots\\models\\base.py:1025: RuntimeWarning: invalid value encountered in divide\n",
      "  smape_cons = (np.nansum(wsmape_df, axis=1) * 200) / np.count_nonzero(\n",
      "C:\\Users\\premkumar\\AppData\\Local\\Programs\\Python\\Python312\\Lib\\site-packages\\autots\\models\\base.py:1025: RuntimeWarning: invalid value encountered in divide\n",
      "  smape_cons = (np.nansum(wsmape_df, axis=1) * 200) / np.count_nonzero(\n",
      "C:\\Users\\premkumar\\AppData\\Local\\Programs\\Python\\Python312\\Lib\\site-packages\\autots\\models\\base.py:1025: RuntimeWarning: invalid value encountered in divide\n",
      "  smape_cons = (np.nansum(wsmape_df, axis=1) * 200) / np.count_nonzero(\n",
      "C:\\Users\\premkumar\\AppData\\Local\\Programs\\Python\\Python312\\Lib\\site-packages\\sklearn\\svm\\_classes.py:31: FutureWarning: The default value of `dual` will change from `True` to `'auto'` in 1.5. Set the value of `dual` explicitly to suppress the warning.\n",
      "  warnings.warn(\n",
      "C:\\Users\\premkumar\\AppData\\Local\\Programs\\Python\\Python312\\Lib\\site-packages\\sklearn\\svm\\_base.py:1237: ConvergenceWarning: Liblinear failed to converge, increase the number of iterations.\n",
      "  warnings.warn(\n"
     ]
    },
    {
     "name": "stdout",
     "output_type": "stream",
     "text": [
      "Model Number: 6 with model DatepartRegression in generation 0 of 5\n",
      "Model Number: 7 with model DatepartRegression in generation 0 of 5\n"
     ]
    },
    {
     "name": "stderr",
     "output_type": "stream",
     "text": [
      "C:\\Users\\premkumar\\AppData\\Local\\Programs\\Python\\Python312\\Lib\\site-packages\\autots\\models\\base.py:1025: RuntimeWarning: invalid value encountered in divide\n",
      "  smape_cons = (np.nansum(wsmape_df, axis=1) * 200) / np.count_nonzero(\n",
      "C:\\Users\\premkumar\\AppData\\Local\\Programs\\Python\\Python312\\Lib\\site-packages\\sklearn\\neural_network\\_multilayer_perceptron.py:546: ConvergenceWarning: lbfgs failed to converge (status=1):\n",
      "STOP: TOTAL NO. of ITERATIONS REACHED LIMIT.\n",
      "\n",
      "Increase the number of iterations (max_iter) or scale the data as shown in:\n",
      "    https://scikit-learn.org/stable/modules/preprocessing.html\n",
      "  self.n_iter_ = _check_optimize_result(\"lbfgs\", opt_res, self.max_iter)\n",
      "C:\\Users\\premkumar\\AppData\\Local\\Programs\\Python\\Python312\\Lib\\site-packages\\autots\\models\\base.py:1025: RuntimeWarning: invalid value encountered in divide\n",
      "  smape_cons = (np.nansum(wsmape_df, axis=1) * 200) / np.count_nonzero(\n"
     ]
    },
    {
     "name": "stdout",
     "output_type": "stream",
     "text": [
      "Model Number: 8 with model DatepartRegression in generation 0 of 5\n",
      "Epoch 1/50\n"
     ]
    },
    {
     "name": "stderr",
     "output_type": "stream",
     "text": [
      "C:\\Users\\premkumar\\AppData\\Local\\Programs\\Python\\Python312\\Lib\\site-packages\\keras\\src\\layers\\rnn\\rnn.py:204: UserWarning: Do not pass an `input_shape`/`input_dim` argument to a layer. When using Sequential models, prefer using an `Input(shape)` object as the first layer in the model instead.\n",
      "  super().__init__(**kwargs)\n"
     ]
    },
    {
     "name": "stdout",
     "output_type": "stream",
     "text": [
      "\u001b[1m50/50\u001b[0m \u001b[32m━━━━━━━━━━━━━━━━━━━━\u001b[0m\u001b[37m\u001b[0m \u001b[1m5s\u001b[0m 2ms/step - loss: 0.4163\n",
      "Epoch 2/50\n",
      "\u001b[1m50/50\u001b[0m \u001b[32m━━━━━━━━━━━━━━━━━━━━\u001b[0m\u001b[37m\u001b[0m \u001b[1m0s\u001b[0m 2ms/step - loss: 0.4097\n",
      "Epoch 3/50\n",
      "\u001b[1m50/50\u001b[0m \u001b[32m━━━━━━━━━━━━━━━━━━━━\u001b[0m\u001b[37m\u001b[0m \u001b[1m0s\u001b[0m 3ms/step - loss: 0.4107\n",
      "Epoch 4/50\n",
      "\u001b[1m50/50\u001b[0m \u001b[32m━━━━━━━━━━━━━━━━━━━━\u001b[0m\u001b[37m\u001b[0m \u001b[1m0s\u001b[0m 3ms/step - loss: 0.4088\n",
      "Epoch 5/50\n",
      "\u001b[1m50/50\u001b[0m \u001b[32m━━━━━━━━━━━━━━━━━━━━\u001b[0m\u001b[37m\u001b[0m \u001b[1m0s\u001b[0m 3ms/step - loss: 0.4079\n",
      "Epoch 6/50\n",
      "\u001b[1m50/50\u001b[0m \u001b[32m━━━━━━━━━━━━━━━━━━━━\u001b[0m\u001b[37m\u001b[0m \u001b[1m0s\u001b[0m 3ms/step - loss: 0.4076\n",
      "Epoch 7/50\n",
      "\u001b[1m50/50\u001b[0m \u001b[32m━━━━━━━━━━━━━━━━━━━━\u001b[0m\u001b[37m\u001b[0m \u001b[1m0s\u001b[0m 3ms/step - loss: 0.4085\n",
      "Epoch 8/50\n",
      "\u001b[1m50/50\u001b[0m \u001b[32m━━━━━━━━━━━━━━━━━━━━\u001b[0m\u001b[37m\u001b[0m \u001b[1m0s\u001b[0m 4ms/step - loss: 0.4076\n",
      "Epoch 9/50\n",
      "\u001b[1m50/50\u001b[0m \u001b[32m━━━━━━━━━━━━━━━━━━━━\u001b[0m\u001b[37m\u001b[0m \u001b[1m0s\u001b[0m 3ms/step - loss: 0.4083\n",
      "Epoch 10/50\n",
      "\u001b[1m50/50\u001b[0m \u001b[32m━━━━━━━━━━━━━━━━━━━━\u001b[0m\u001b[37m\u001b[0m \u001b[1m0s\u001b[0m 3ms/step - loss: 0.4071\n",
      "Epoch 11/50\n",
      "\u001b[1m50/50\u001b[0m \u001b[32m━━━━━━━━━━━━━━━━━━━━\u001b[0m\u001b[37m\u001b[0m \u001b[1m0s\u001b[0m 3ms/step - loss: 0.4078\n",
      "Epoch 12/50\n",
      "\u001b[1m50/50\u001b[0m \u001b[32m━━━━━━━━━━━━━━━━━━━━\u001b[0m\u001b[37m\u001b[0m \u001b[1m0s\u001b[0m 3ms/step - loss: 0.4072\n",
      "Epoch 13/50\n",
      "\u001b[1m50/50\u001b[0m \u001b[32m━━━━━━━━━━━━━━━━━━━━\u001b[0m\u001b[37m\u001b[0m \u001b[1m0s\u001b[0m 3ms/step - loss: 0.4069\n",
      "Epoch 14/50\n",
      "\u001b[1m50/50\u001b[0m \u001b[32m━━━━━━━━━━━━━━━━━━━━\u001b[0m\u001b[37m\u001b[0m \u001b[1m0s\u001b[0m 3ms/step - loss: 0.4075\n",
      "Epoch 15/50\n",
      "\u001b[1m50/50\u001b[0m \u001b[32m━━━━━━━━━━━━━━━━━━━━\u001b[0m\u001b[37m\u001b[0m \u001b[1m0s\u001b[0m 3ms/step - loss: 0.4061\n",
      "Epoch 16/50\n",
      "\u001b[1m50/50\u001b[0m \u001b[32m━━━━━━━━━━━━━━━━━━━━\u001b[0m\u001b[37m\u001b[0m \u001b[1m0s\u001b[0m 3ms/step - loss: 0.4060\n",
      "Epoch 17/50\n",
      "\u001b[1m50/50\u001b[0m \u001b[32m━━━━━━━━━━━━━━━━━━━━\u001b[0m\u001b[37m\u001b[0m \u001b[1m0s\u001b[0m 4ms/step - loss: 0.4062\n",
      "Epoch 18/50\n",
      "\u001b[1m50/50\u001b[0m \u001b[32m━━━━━━━━━━━━━━━━━━━━\u001b[0m\u001b[37m\u001b[0m \u001b[1m0s\u001b[0m 3ms/step - loss: 0.4071\n",
      "Epoch 19/50\n",
      "\u001b[1m50/50\u001b[0m \u001b[32m━━━━━━━━━━━━━━━━━━━━\u001b[0m\u001b[37m\u001b[0m \u001b[1m0s\u001b[0m 3ms/step - loss: 0.4073\n",
      "Epoch 20/50\n",
      "\u001b[1m50/50\u001b[0m \u001b[32m━━━━━━━━━━━━━━━━━━━━\u001b[0m\u001b[37m\u001b[0m \u001b[1m0s\u001b[0m 3ms/step - loss: 0.4046\n",
      "Epoch 21/50\n",
      "\u001b[1m50/50\u001b[0m \u001b[32m━━━━━━━━━━━━━━━━━━━━\u001b[0m\u001b[37m\u001b[0m \u001b[1m0s\u001b[0m 3ms/step - loss: 0.4071\n",
      "Epoch 22/50\n",
      "\u001b[1m50/50\u001b[0m \u001b[32m━━━━━━━━━━━━━━━━━━━━\u001b[0m\u001b[37m\u001b[0m \u001b[1m0s\u001b[0m 3ms/step - loss: 0.4070\n",
      "Epoch 23/50\n",
      "\u001b[1m50/50\u001b[0m \u001b[32m━━━━━━━━━━━━━━━━━━━━\u001b[0m\u001b[37m\u001b[0m \u001b[1m0s\u001b[0m 3ms/step - loss: 0.4058\n",
      "Epoch 24/50\n",
      "\u001b[1m50/50\u001b[0m \u001b[32m━━━━━━━━━━━━━━━━━━━━\u001b[0m\u001b[37m\u001b[0m \u001b[1m0s\u001b[0m 4ms/step - loss: 0.4060\n",
      "Epoch 25/50\n",
      "\u001b[1m50/50\u001b[0m \u001b[32m━━━━━━━━━━━━━━━━━━━━\u001b[0m\u001b[37m\u001b[0m \u001b[1m0s\u001b[0m 3ms/step - loss: 0.4058\n",
      "Epoch 26/50\n",
      "\u001b[1m50/50\u001b[0m \u001b[32m━━━━━━━━━━━━━━━━━━━━\u001b[0m\u001b[37m\u001b[0m \u001b[1m0s\u001b[0m 3ms/step - loss: 0.4051\n",
      "Epoch 27/50\n",
      "\u001b[1m50/50\u001b[0m \u001b[32m━━━━━━━━━━━━━━━━━━━━\u001b[0m\u001b[37m\u001b[0m \u001b[1m0s\u001b[0m 3ms/step - loss: 0.4056\n",
      "Epoch 28/50\n",
      "\u001b[1m50/50\u001b[0m \u001b[32m━━━━━━━━━━━━━━━━━━━━\u001b[0m\u001b[37m\u001b[0m \u001b[1m0s\u001b[0m 3ms/step - loss: 0.4060\n",
      "Epoch 29/50\n",
      "\u001b[1m50/50\u001b[0m \u001b[32m━━━━━━━━━━━━━━━━━━━━\u001b[0m\u001b[37m\u001b[0m \u001b[1m0s\u001b[0m 3ms/step - loss: 0.4065\n",
      "Epoch 30/50\n",
      "\u001b[1m50/50\u001b[0m \u001b[32m━━━━━━━━━━━━━━━━━━━━\u001b[0m\u001b[37m\u001b[0m \u001b[1m0s\u001b[0m 4ms/step - loss: 0.4068\n",
      "Epoch 31/50\n",
      "\u001b[1m50/50\u001b[0m \u001b[32m━━━━━━━━━━━━━━━━━━━━\u001b[0m\u001b[37m\u001b[0m \u001b[1m0s\u001b[0m 6ms/step - loss: 0.4056\n",
      "Epoch 32/50\n",
      "\u001b[1m50/50\u001b[0m \u001b[32m━━━━━━━━━━━━━━━━━━━━\u001b[0m\u001b[37m\u001b[0m \u001b[1m0s\u001b[0m 5ms/step - loss: 0.4045\n",
      "Epoch 33/50\n",
      "\u001b[1m50/50\u001b[0m \u001b[32m━━━━━━━━━━━━━━━━━━━━\u001b[0m\u001b[37m\u001b[0m \u001b[1m0s\u001b[0m 3ms/step - loss: 0.4071\n",
      "Epoch 34/50\n",
      "\u001b[1m50/50\u001b[0m \u001b[32m━━━━━━━━━━━━━━━━━━━━\u001b[0m\u001b[37m\u001b[0m \u001b[1m0s\u001b[0m 3ms/step - loss: 0.4044\n",
      "Epoch 35/50\n",
      "\u001b[1m50/50\u001b[0m \u001b[32m━━━━━━━━━━━━━━━━━━━━\u001b[0m\u001b[37m\u001b[0m \u001b[1m0s\u001b[0m 3ms/step - loss: 0.4048\n",
      "Epoch 36/50\n",
      "\u001b[1m50/50\u001b[0m \u001b[32m━━━━━━━━━━━━━━━━━━━━\u001b[0m\u001b[37m\u001b[0m \u001b[1m0s\u001b[0m 3ms/step - loss: 0.4055\n",
      "Epoch 37/50\n",
      "\u001b[1m50/50\u001b[0m \u001b[32m━━━━━━━━━━━━━━━━━━━━\u001b[0m\u001b[37m\u001b[0m \u001b[1m0s\u001b[0m 3ms/step - loss: 0.4042\n",
      "Epoch 38/50\n",
      "\u001b[1m50/50\u001b[0m \u001b[32m━━━━━━━━━━━━━━━━━━━━\u001b[0m\u001b[37m\u001b[0m \u001b[1m0s\u001b[0m 3ms/step - loss: 0.4052\n",
      "Epoch 39/50\n",
      "\u001b[1m50/50\u001b[0m \u001b[32m━━━━━━━━━━━━━━━━━━━━\u001b[0m\u001b[37m\u001b[0m \u001b[1m0s\u001b[0m 3ms/step - loss: 0.4057\n",
      "Epoch 40/50\n",
      "\u001b[1m50/50\u001b[0m \u001b[32m━━━━━━━━━━━━━━━━━━━━\u001b[0m\u001b[37m\u001b[0m \u001b[1m0s\u001b[0m 3ms/step - loss: 0.4047\n",
      "Epoch 41/50\n",
      "\u001b[1m50/50\u001b[0m \u001b[32m━━━━━━━━━━━━━━━━━━━━\u001b[0m\u001b[37m\u001b[0m \u001b[1m0s\u001b[0m 3ms/step - loss: 0.4044\n",
      "Epoch 42/50\n",
      "\u001b[1m50/50\u001b[0m \u001b[32m━━━━━━━━━━━━━━━━━━━━\u001b[0m\u001b[37m\u001b[0m \u001b[1m0s\u001b[0m 3ms/step - loss: 0.4048\n",
      "Epoch 43/50\n",
      "\u001b[1m50/50\u001b[0m \u001b[32m━━━━━━━━━━━━━━━━━━━━\u001b[0m\u001b[37m\u001b[0m \u001b[1m0s\u001b[0m 4ms/step - loss: 0.4054\n",
      "Epoch 44/50\n",
      "\u001b[1m50/50\u001b[0m \u001b[32m━━━━━━━━━━━━━━━━━━━━\u001b[0m\u001b[37m\u001b[0m \u001b[1m0s\u001b[0m 3ms/step - loss: 0.4039\n",
      "Epoch 45/50\n",
      "\u001b[1m50/50\u001b[0m \u001b[32m━━━━━━━━━━━━━━━━━━━━\u001b[0m\u001b[37m\u001b[0m \u001b[1m0s\u001b[0m 3ms/step - loss: 0.4038\n",
      "Epoch 46/50\n",
      "\u001b[1m50/50\u001b[0m \u001b[32m━━━━━━━━━━━━━━━━━━━━\u001b[0m\u001b[37m\u001b[0m \u001b[1m0s\u001b[0m 3ms/step - loss: 0.4044\n",
      "Epoch 47/50\n",
      "\u001b[1m50/50\u001b[0m \u001b[32m━━━━━━━━━━━━━━━━━━━━\u001b[0m\u001b[37m\u001b[0m \u001b[1m0s\u001b[0m 3ms/step - loss: 0.4053\n",
      "Epoch 48/50\n",
      "\u001b[1m50/50\u001b[0m \u001b[32m━━━━━━━━━━━━━━━━━━━━\u001b[0m\u001b[37m\u001b[0m \u001b[1m0s\u001b[0m 3ms/step - loss: 0.4057\n",
      "Epoch 49/50\n",
      "\u001b[1m50/50\u001b[0m \u001b[32m━━━━━━━━━━━━━━━━━━━━\u001b[0m\u001b[37m\u001b[0m \u001b[1m0s\u001b[0m 3ms/step - loss: 0.4056\n",
      "Epoch 50/50\n",
      "\u001b[1m50/50\u001b[0m \u001b[32m━━━━━━━━━━━━━━━━━━━━\u001b[0m\u001b[37m\u001b[0m \u001b[1m0s\u001b[0m 3ms/step - loss: 0.4041\n",
      "\u001b[1m1/1\u001b[0m \u001b[32m━━━━━━━━━━━━━━━━━━━━\u001b[0m\u001b[37m\u001b[0m \u001b[1m0s\u001b[0m 459ms/step\n",
      "Model Number: 9 with model ETS in generation 0 of 5\n",
      "Model Number: 10 with model ETS in generation 0 of 5\n"
     ]
    },
    {
     "name": "stderr",
     "output_type": "stream",
     "text": [
      "C:\\Users\\premkumar\\AppData\\Local\\Programs\\Python\\Python312\\Lib\\site-packages\\autots\\models\\base.py:1025: RuntimeWarning: invalid value encountered in divide\n",
      "  smape_cons = (np.nansum(wsmape_df, axis=1) * 200) / np.count_nonzero(\n",
      "C:\\Users\\premkumar\\AppData\\Local\\Programs\\Python\\Python312\\Lib\\site-packages\\autots\\models\\base.py:1025: RuntimeWarning: invalid value encountered in divide\n",
      "  smape_cons = (np.nansum(wsmape_df, axis=1) * 200) / np.count_nonzero(\n"
     ]
    },
    {
     "name": "stdout",
     "output_type": "stream",
     "text": [
      "Model Number: 11 with model GLM in generation 0 of 5\n",
      "Model Number: 12 with model GLM in generation 0 of 5\n",
      "Model Number: 13 with model GLS in generation 0 of 5\n"
     ]
    },
    {
     "name": "stderr",
     "output_type": "stream",
     "text": [
      "C:\\Users\\premkumar\\AppData\\Local\\Programs\\Python\\Python312\\Lib\\site-packages\\autots\\models\\base.py:1025: RuntimeWarning: invalid value encountered in divide\n",
      "  smape_cons = (np.nansum(wsmape_df, axis=1) * 200) / np.count_nonzero(\n",
      "C:\\Users\\premkumar\\AppData\\Local\\Programs\\Python\\Python312\\Lib\\site-packages\\autots\\models\\base.py:1025: RuntimeWarning: invalid value encountered in divide\n",
      "  smape_cons = (np.nansum(wsmape_df, axis=1) * 200) / np.count_nonzero(\n",
      "C:\\Users\\premkumar\\AppData\\Local\\Programs\\Python\\Python312\\Lib\\site-packages\\autots\\models\\base.py:1025: RuntimeWarning: invalid value encountered in divide\n",
      "  smape_cons = (np.nansum(wsmape_df, axis=1) * 200) / np.count_nonzero(\n",
      "C:\\Users\\premkumar\\AppData\\Local\\Programs\\Python\\Python312\\Lib\\site-packages\\autots\\models\\base.py:1025: RuntimeWarning: invalid value encountered in divide\n",
      "  smape_cons = (np.nansum(wsmape_df, axis=1) * 200) / np.count_nonzero(\n"
     ]
    },
    {
     "name": "stdout",
     "output_type": "stream",
     "text": [
      "Model Number: 14 with model GLS in generation 0 of 5\n",
      "Model Number: 15 with model LastValueNaive in generation 0 of 5\n",
      "Model Number: 16 with model LastValueNaive in generation 0 of 5\n",
      "Model Number: 17 with model LastValueNaive in generation 0 of 5\n",
      "Model Number: 18 with model LastValueNaive in generation 0 of 5\n"
     ]
    },
    {
     "name": "stderr",
     "output_type": "stream",
     "text": [
      "C:\\Users\\premkumar\\AppData\\Local\\Programs\\Python\\Python312\\Lib\\site-packages\\autots\\models\\base.py:1025: RuntimeWarning: invalid value encountered in divide\n",
      "  smape_cons = (np.nansum(wsmape_df, axis=1) * 200) / np.count_nonzero(\n",
      "C:\\Users\\premkumar\\AppData\\Local\\Programs\\Python\\Python312\\Lib\\site-packages\\autots\\models\\base.py:1025: RuntimeWarning: invalid value encountered in divide\n",
      "  smape_cons = (np.nansum(wsmape_df, axis=1) * 200) / np.count_nonzero(\n",
      "C:\\Users\\premkumar\\AppData\\Local\\Programs\\Python\\Python312\\Lib\\site-packages\\autots\\models\\base.py:1025: RuntimeWarning: invalid value encountered in divide\n",
      "  smape_cons = (np.nansum(wsmape_df, axis=1) * 200) / np.count_nonzero(\n",
      "C:\\Users\\premkumar\\AppData\\Local\\Programs\\Python\\Python312\\Lib\\site-packages\\autots\\models\\base.py:1025: RuntimeWarning: invalid value encountered in divide\n",
      "  smape_cons = (np.nansum(wsmape_df, axis=1) * 200) / np.count_nonzero(\n",
      "C:\\Users\\premkumar\\AppData\\Local\\Programs\\Python\\Python312\\Lib\\site-packages\\autots\\models\\base.py:1025: RuntimeWarning: invalid value encountered in divide\n",
      "  smape_cons = (np.nansum(wsmape_df, axis=1) * 200) / np.count_nonzero(\n"
     ]
    },
    {
     "name": "stdout",
     "output_type": "stream",
     "text": [
      "Model Number: 19 with model SeasonalNaive in generation 0 of 5\n",
      "Template Eval Error: Exception(\"Transformer PowerTransformer failed on fit from params rolling_mean_24 {'0': {}, '1': {'model': 'middle', 'decimals': 2, 'on_transform': False, 'on_inverse': True}, '2': {}}\") in model 19 in generation 0: SeasonalNaive\n",
      "Model Number: 20 with model SeasonalNaive in generation 0 of 5\n",
      "Model Number: 21 with model SeasonalNaive in generation 0 of 5\n",
      "Model Number: 22 with model UnobservedComponents in generation 0 of 5\n"
     ]
    },
    {
     "name": "stderr",
     "output_type": "stream",
     "text": [
      "C:\\Users\\premkumar\\AppData\\Local\\Programs\\Python\\Python312\\Lib\\site-packages\\sklearn\\preprocessing\\_data.py:3412: RuntimeWarning: overflow encountered in power\n",
      "  out[~pos] = -(np.power(-x[~pos] + 1, 2 - lmbda) - 1) / (2 - lmbda)\n",
      "C:\\Users\\premkumar\\AppData\\Local\\Programs\\Python\\Python312\\Lib\\site-packages\\autots\\models\\base.py:1025: RuntimeWarning: invalid value encountered in divide\n",
      "  smape_cons = (np.nansum(wsmape_df, axis=1) * 200) / np.count_nonzero(\n",
      "C:\\Users\\premkumar\\AppData\\Local\\Programs\\Python\\Python312\\Lib\\site-packages\\autots\\models\\base.py:1025: RuntimeWarning: invalid value encountered in divide\n",
      "  smape_cons = (np.nansum(wsmape_df, axis=1) * 200) / np.count_nonzero(\n"
     ]
    },
    {
     "name": "stdout",
     "output_type": "stream",
     "text": [
      "Model Number: 23 with model UnobservedComponents in generation 0 of 5\n",
      "Model Number: 24 with model UnobservedComponents in generation 0 of 5\n"
     ]
    },
    {
     "name": "stderr",
     "output_type": "stream",
     "text": [
      "C:\\Users\\premkumar\\AppData\\Local\\Programs\\Python\\Python312\\Lib\\site-packages\\autots\\models\\base.py:1025: RuntimeWarning: invalid value encountered in divide\n",
      "  smape_cons = (np.nansum(wsmape_df, axis=1) * 200) / np.count_nonzero(\n",
      "C:\\Users\\premkumar\\AppData\\Local\\Programs\\Python\\Python312\\Lib\\site-packages\\autots\\models\\base.py:1025: RuntimeWarning: invalid value encountered in divide\n",
      "  smape_cons = (np.nansum(wsmape_df, axis=1) * 200) / np.count_nonzero(\n"
     ]
    },
    {
     "name": "stdout",
     "output_type": "stream",
     "text": [
      "Model Number: 25 with model VAR in generation 0 of 5\n",
      "Template Eval Error: ValueError('Only gave one variable to VAR') in model 25 in generation 0: VAR\n",
      "Model Number: 26 with model VAR in generation 0 of 5\n",
      "Template Eval Error: ValueError('Only gave one variable to VAR') in model 26 in generation 0: VAR\n",
      "Model Number: 27 with model VECM in generation 0 of 5\n",
      "Template Eval Error: ValueError('Only gave one variable to VECM') in model 27 in generation 0: VECM\n",
      "Model Number: 28 with model VECM in generation 0 of 5\n",
      "Template Eval Error: ValueError('Only gave one variable to VECM') in model 28 in generation 0: VECM\n",
      "Model Number: 29 with model WindowRegression in generation 0 of 5\n"
     ]
    },
    {
     "name": "stderr",
     "output_type": "stream",
     "text": [
      "C:\\Users\\premkumar\\AppData\\Local\\Programs\\Python\\Python312\\Lib\\site-packages\\autots\\models\\base.py:1025: RuntimeWarning: invalid value encountered in divide\n",
      "  smape_cons = (np.nansum(wsmape_df, axis=1) * 200) / np.count_nonzero(\n"
     ]
    },
    {
     "name": "stdout",
     "output_type": "stream",
     "text": [
      "Model Number: 30 with model ConstantNaive in generation 0 of 5\n"
     ]
    },
    {
     "name": "stderr",
     "output_type": "stream",
     "text": [
      "C:\\Users\\premkumar\\AppData\\Local\\Programs\\Python\\Python312\\Lib\\site-packages\\sklearn\\neural_network\\_multilayer_perceptron.py:546: ConvergenceWarning: lbfgs failed to converge (status=1):\n",
      "STOP: TOTAL NO. of ITERATIONS REACHED LIMIT.\n",
      "\n",
      "Increase the number of iterations (max_iter) or scale the data as shown in:\n",
      "    https://scikit-learn.org/stable/modules/preprocessing.html\n",
      "  self.n_iter_ = _check_optimize_result(\"lbfgs\", opt_res, self.max_iter)\n",
      "C:\\Users\\premkumar\\AppData\\Local\\Programs\\Python\\Python312\\Lib\\site-packages\\autots\\models\\base.py:1025: RuntimeWarning: invalid value encountered in divide\n",
      "  smape_cons = (np.nansum(wsmape_df, axis=1) * 200) / np.count_nonzero(\n",
      "C:\\Users\\premkumar\\AppData\\Local\\Programs\\Python\\Python312\\Lib\\site-packages\\autots\\models\\base.py:1025: RuntimeWarning: invalid value encountered in divide\n",
      "  smape_cons = (np.nansum(wsmape_df, axis=1) * 200) / np.count_nonzero(\n"
     ]
    },
    {
     "name": "stdout",
     "output_type": "stream",
     "text": [
      "Model Number: 31 with model FBProphet in generation 0 of 5\n",
      "Template Eval Error: ModuleNotFoundError(\"No module named 'fbprophet'\") in model 31 in generation 0: FBProphet\n",
      "Model Number: 32 with model MultivariateRegression in generation 0 of 5\n",
      "Model Number: 33 with model MultivariateRegression in generation 0 of 5\n",
      "Template Eval Error: ValueError(\"regression_type='User' but not future_regressor supplied.\") in model 33 in generation 0: MultivariateRegression\n",
      "Model Number: 34 with model DatepartRegression in generation 0 of 5\n",
      "Template Eval Error: ValueError(\"regression_type='User' but no future_regressor passed\") in model 34 in generation 0: DatepartRegression\n",
      "Model Number: 35 with model SeasonalNaive in generation 0 of 5\n"
     ]
    },
    {
     "name": "stderr",
     "output_type": "stream",
     "text": [
      "C:\\Users\\premkumar\\AppData\\Local\\Programs\\Python\\Python312\\Lib\\site-packages\\autots\\models\\base.py:1025: RuntimeWarning: invalid value encountered in divide\n",
      "  smape_cons = (np.nansum(wsmape_df, axis=1) * 200) / np.count_nonzero(\n",
      "C:\\Users\\premkumar\\AppData\\Local\\Programs\\Python\\Python312\\Lib\\site-packages\\autots\\models\\base.py:1025: RuntimeWarning: invalid value encountered in divide\n",
      "  smape_cons = (np.nansum(wsmape_df, axis=1) * 200) / np.count_nonzero(\n"
     ]
    },
    {
     "name": "stdout",
     "output_type": "stream",
     "text": [
      "Model Number: 36 with model DatepartRegression in generation 0 of 5\n"
     ]
    },
    {
     "name": "stderr",
     "output_type": "stream",
     "text": [
      "C:\\Users\\premkumar\\AppData\\Local\\Programs\\Python\\Python312\\Lib\\site-packages\\autots\\models\\base.py:1025: RuntimeWarning: invalid value encountered in divide\n",
      "  smape_cons = (np.nansum(wsmape_df, axis=1) * 200) / np.count_nonzero(\n"
     ]
    },
    {
     "name": "stdout",
     "output_type": "stream",
     "text": [
      "Model Number: 37 with model UnobservedComponents in generation 0 of 5\n"
     ]
    },
    {
     "name": "stderr",
     "output_type": "stream",
     "text": [
      "C:\\Users\\premkumar\\AppData\\Local\\Programs\\Python\\Python312\\Lib\\site-packages\\autots\\models\\base.py:1025: RuntimeWarning: invalid value encountered in divide\n",
      "  smape_cons = (np.nansum(wsmape_df, axis=1) * 200) / np.count_nonzero(\n"
     ]
    },
    {
     "name": "stdout",
     "output_type": "stream",
     "text": [
      "Model Number: 38 with model UnobservedComponents in generation 0 of 5\n",
      "Model Number: 39 with model ETS in generation 0 of 5\n"
     ]
    },
    {
     "name": "stderr",
     "output_type": "stream",
     "text": [
      "C:\\Users\\premkumar\\AppData\\Local\\Programs\\Python\\Python312\\Lib\\site-packages\\autots\\models\\base.py:1025: RuntimeWarning: invalid value encountered in divide\n",
      "  smape_cons = (np.nansum(wsmape_df, axis=1) * 200) / np.count_nonzero(\n",
      "C:\\Users\\premkumar\\AppData\\Local\\Programs\\Python\\Python312\\Lib\\site-packages\\autots\\models\\base.py:1025: RuntimeWarning: invalid value encountered in divide\n",
      "  smape_cons = (np.nansum(wsmape_df, axis=1) * 200) / np.count_nonzero(\n"
     ]
    },
    {
     "name": "stdout",
     "output_type": "stream",
     "text": [
      "Model Number: 40 with model VECM in generation 0 of 5\n",
      "Template Eval Error: ValueError('Only gave one variable to VECM') in model 40 in generation 0: VECM\n",
      "Model Number: 41 with model ARDL in generation 0 of 5\n",
      "Model Number: 42 with model MultivariateMotif in generation 0 of 5\n",
      "Model Number: 43 with model MultivariateMotif in generation 0 of 5\n",
      "Model Number: 44 with model UnivariateMotif in generation 0 of 5\n",
      "Model Number: 45 with model UnivariateMotif in generation 0 of 5\n",
      "Model Number: 46 with model SectionalMotif in generation 0 of 5\n",
      "Model Number: 47 with model SectionalMotif in generation 0 of 5\n"
     ]
    },
    {
     "name": "stderr",
     "output_type": "stream",
     "text": [
      "C:\\Users\\premkumar\\AppData\\Local\\Programs\\Python\\Python312\\Lib\\site-packages\\autots\\models\\base.py:1025: RuntimeWarning: invalid value encountered in divide\n",
      "  smape_cons = (np.nansum(wsmape_df, axis=1) * 200) / np.count_nonzero(\n",
      "C:\\Users\\premkumar\\AppData\\Local\\Programs\\Python\\Python312\\Lib\\site-packages\\autots\\models\\base.py:1025: RuntimeWarning: invalid value encountered in divide\n",
      "  smape_cons = (np.nansum(wsmape_df, axis=1) * 200) / np.count_nonzero(\n",
      "C:\\Users\\premkumar\\AppData\\Local\\Programs\\Python\\Python312\\Lib\\site-packages\\autots\\models\\base.py:1025: RuntimeWarning: invalid value encountered in divide\n",
      "  smape_cons = (np.nansum(wsmape_df, axis=1) * 200) / np.count_nonzero(\n",
      "C:\\Users\\premkumar\\AppData\\Local\\Programs\\Python\\Python312\\Lib\\site-packages\\autots\\models\\base.py:1025: RuntimeWarning: invalid value encountered in divide\n",
      "  smape_cons = (np.nansum(wsmape_df, axis=1) * 200) / np.count_nonzero(\n",
      "C:\\Users\\premkumar\\AppData\\Local\\Programs\\Python\\Python312\\Lib\\site-packages\\autots\\models\\base.py:1025: RuntimeWarning: invalid value encountered in divide\n",
      "  smape_cons = (np.nansum(wsmape_df, axis=1) * 200) / np.count_nonzero(\n",
      "C:\\Users\\premkumar\\AppData\\Local\\Programs\\Python\\Python312\\Lib\\site-packages\\autots\\models\\base.py:1025: RuntimeWarning: invalid value encountered in divide\n",
      "  smape_cons = (np.nansum(wsmape_df, axis=1) * 200) / np.count_nonzero(\n"
     ]
    },
    {
     "name": "stdout",
     "output_type": "stream",
     "text": [
      "Model Number: 48 with model MultivariateRegression in generation 0 of 5\n"
     ]
    },
    {
     "name": "stderr",
     "output_type": "stream",
     "text": [
      "C:\\Users\\premkumar\\AppData\\Local\\Programs\\Python\\Python312\\Lib\\site-packages\\autots\\models\\base.py:1025: RuntimeWarning: invalid value encountered in divide\n",
      "  smape_cons = (np.nansum(wsmape_df, axis=1) * 200) / np.count_nonzero(\n"
     ]
    },
    {
     "name": "stdout",
     "output_type": "stream",
     "text": [
      "Model Number: 49 with model FBProphet in generation 0 of 5\n",
      "Template Eval Error: ModuleNotFoundError(\"No module named 'fbprophet'\") in model 49 in generation 0: FBProphet\n",
      "Model Number: 50 with model SeasonalNaive in generation 0 of 5\n"
     ]
    },
    {
     "name": "stderr",
     "output_type": "stream",
     "text": [
      "C:\\Users\\premkumar\\AppData\\Local\\Programs\\Python\\Python312\\Lib\\site-packages\\autots\\models\\base.py:1025: RuntimeWarning: invalid value encountered in divide\n",
      "  smape_cons = (np.nansum(wsmape_df, axis=1) * 200) / np.count_nonzero(\n",
      "C:\\Users\\premkumar\\AppData\\Local\\Programs\\Python\\Python312\\Lib\\site-packages\\autots\\models\\base.py:1025: RuntimeWarning: invalid value encountered in divide\n",
      "  smape_cons = (np.nansum(wsmape_df, axis=1) * 200) / np.count_nonzero(\n"
     ]
    },
    {
     "name": "stdout",
     "output_type": "stream",
     "text": [
      "Model Number: 51 with model DatepartRegression in generation 0 of 5\n",
      "Model Number: 52 with model NVAR in generation 0 of 5\n"
     ]
    },
    {
     "name": "stderr",
     "output_type": "stream",
     "text": [
      "C:\\Users\\premkumar\\AppData\\Local\\Programs\\Python\\Python312\\Lib\\site-packages\\autots\\models\\base.py:1025: RuntimeWarning: invalid value encountered in divide\n",
      "  smape_cons = (np.nansum(wsmape_df, axis=1) * 200) / np.count_nonzero(\n",
      "C:\\Users\\premkumar\\AppData\\Local\\Programs\\Python\\Python312\\Lib\\site-packages\\autots\\models\\base.py:1025: RuntimeWarning: invalid value encountered in divide\n",
      "  smape_cons = (np.nansum(wsmape_df, axis=1) * 200) / np.count_nonzero(\n"
     ]
    },
    {
     "name": "stdout",
     "output_type": "stream",
     "text": [
      "Model Number: 53 with model Theta in generation 0 of 5\n",
      "Model Number: 54 with model ARCH in generation 0 of 5\n",
      "Template Eval Error: ImportError('`arch` package must be installed from pip') in model 54 in generation 0: ARCH\n",
      "Model Number: 55 with model Cassandra in generation 0 of 5\n",
      "Model Number: 56 with model SeasonalityMotif in generation 0 of 5\n"
     ]
    },
    {
     "name": "stderr",
     "output_type": "stream",
     "text": [
      "C:\\Users\\premkumar\\AppData\\Local\\Programs\\Python\\Python312\\Lib\\site-packages\\autots\\models\\base.py:1025: RuntimeWarning: invalid value encountered in divide\n",
      "  smape_cons = (np.nansum(wsmape_df, axis=1) * 200) / np.count_nonzero(\n",
      "C:\\Users\\premkumar\\AppData\\Local\\Programs\\Python\\Python312\\Lib\\site-packages\\autots\\models\\base.py:1025: RuntimeWarning: invalid value encountered in divide\n",
      "  smape_cons = (np.nansum(wsmape_df, axis=1) * 200) / np.count_nonzero(\n",
      "C:\\Users\\premkumar\\AppData\\Local\\Programs\\Python\\Python312\\Lib\\site-packages\\autots\\tools\\transform.py:5472: FutureWarning: Downcasting object dtype arrays on .fillna, .ffill, .bfill is deprecated and will change in a future version. Call result.infer_objects(copy=False) instead. To opt-in to the future behavior, set `pd.set_option('future.no_silent_downcasting', True)`\n",
      "  df = df.fillna(0)\n",
      "C:\\Users\\premkumar\\AppData\\Local\\Programs\\Python\\Python312\\Lib\\site-packages\\autots\\tools\\transform.py:5472: FutureWarning: Downcasting object dtype arrays on .fillna, .ffill, .bfill is deprecated and will change in a future version. Call result.infer_objects(copy=False) instead. To opt-in to the future behavior, set `pd.set_option('future.no_silent_downcasting', True)`\n",
      "  df = df.fillna(0)\n",
      "C:\\Users\\premkumar\\AppData\\Local\\Programs\\Python\\Python312\\Lib\\site-packages\\autots\\models\\base.py:1025: RuntimeWarning: invalid value encountered in divide\n",
      "  smape_cons = (np.nansum(wsmape_df, axis=1) * 200) / np.count_nonzero(\n"
     ]
    },
    {
     "name": "stdout",
     "output_type": "stream",
     "text": [
      "Model Number: 57 with model Cassandra in generation 0 of 5\n"
     ]
    },
    {
     "name": "stderr",
     "output_type": "stream",
     "text": [
      "C:\\Users\\premkumar\\AppData\\Local\\Programs\\Python\\Python312\\Lib\\site-packages\\autots\\models\\base.py:1025: RuntimeWarning: invalid value encountered in divide\n",
      "  smape_cons = (np.nansum(wsmape_df, axis=1) * 200) / np.count_nonzero(\n"
     ]
    },
    {
     "name": "stdout",
     "output_type": "stream",
     "text": [
      "Model Number: 58 with model Cassandra in generation 0 of 5\n",
      "FillNA method `pad` not known, returning original\n"
     ]
    },
    {
     "name": "stderr",
     "output_type": "stream",
     "text": [
      "C:\\Users\\premkumar\\AppData\\Local\\Programs\\Python\\Python312\\Lib\\site-packages\\autots\\models\\base.py:1025: RuntimeWarning: invalid value encountered in divide\n",
      "  smape_cons = (np.nansum(wsmape_df, axis=1) * 200) / np.count_nonzero(\n"
     ]
    },
    {
     "name": "stdout",
     "output_type": "stream",
     "text": [
      "Model Number: 59 with model Cassandra in generation 0 of 5\n",
      "Model Number: 60 with model DMD in generation 0 of 5\n",
      "Model Number: 61 with model DMD in generation 0 of 5\n",
      "Model Number: 62 with model ConstantNaive in generation 0 of 5\n",
      "Model Number: 63 with model LastValueNaive in generation 0 of 5\n"
     ]
    },
    {
     "name": "stderr",
     "output_type": "stream",
     "text": [
      "C:\\Users\\premkumar\\AppData\\Local\\Programs\\Python\\Python312\\Lib\\site-packages\\autots\\models\\base.py:1025: RuntimeWarning: invalid value encountered in divide\n",
      "  smape_cons = (np.nansum(wsmape_df, axis=1) * 200) / np.count_nonzero(\n",
      "C:\\Users\\premkumar\\AppData\\Local\\Programs\\Python\\Python312\\Lib\\site-packages\\autots\\models\\base.py:1025: RuntimeWarning: invalid value encountered in divide\n",
      "  smape_cons = (np.nansum(wsmape_df, axis=1) * 200) / np.count_nonzero(\n",
      "C:\\Users\\premkumar\\AppData\\Local\\Programs\\Python\\Python312\\Lib\\site-packages\\autots\\models\\base.py:1025: RuntimeWarning: invalid value encountered in divide\n",
      "  smape_cons = (np.nansum(wsmape_df, axis=1) * 200) / np.count_nonzero(\n",
      "C:\\Users\\premkumar\\AppData\\Local\\Programs\\Python\\Python312\\Lib\\site-packages\\autots\\models\\base.py:1025: RuntimeWarning: invalid value encountered in divide\n",
      "  smape_cons = (np.nansum(wsmape_df, axis=1) * 200) / np.count_nonzero(\n"
     ]
    },
    {
     "name": "stdout",
     "output_type": "stream",
     "text": [
      "Model Number: 64 with model AverageValueNaive in generation 0 of 5\n",
      "Model Number: 65 with model GLS in generation 0 of 5\n",
      "Model Number: 66 with model SeasonalNaive in generation 0 of 5\n"
     ]
    },
    {
     "name": "stderr",
     "output_type": "stream",
     "text": [
      "C:\\Users\\premkumar\\AppData\\Local\\Programs\\Python\\Python312\\Lib\\site-packages\\autots\\models\\base.py:1025: RuntimeWarning: invalid value encountered in divide\n",
      "  smape_cons = (np.nansum(wsmape_df, axis=1) * 200) / np.count_nonzero(\n",
      "C:\\Users\\premkumar\\AppData\\Local\\Programs\\Python\\Python312\\Lib\\site-packages\\autots\\models\\base.py:1025: RuntimeWarning: invalid value encountered in divide\n",
      "  smape_cons = (np.nansum(wsmape_df, axis=1) * 200) / np.count_nonzero(\n",
      "C:\\Users\\premkumar\\AppData\\Local\\Programs\\Python\\Python312\\Lib\\site-packages\\autots\\models\\base.py:1025: RuntimeWarning: invalid value encountered in divide\n",
      "  smape_cons = (np.nansum(wsmape_df, axis=1) * 200) / np.count_nonzero(\n",
      "C:\\Users\\premkumar\\AppData\\Local\\Programs\\Python\\Python312\\Lib\\site-packages\\autots\\models\\base.py:1025: RuntimeWarning: invalid value encountered in divide\n",
      "  smape_cons = (np.nansum(wsmape_df, axis=1) * 200) / np.count_nonzero(\n"
     ]
    },
    {
     "name": "stdout",
     "output_type": "stream",
     "text": [
      "Model Number: 67 with model GLM in generation 0 of 5\n",
      "Model Number: 68 with model ETS in generation 0 of 5\n"
     ]
    },
    {
     "name": "stderr",
     "output_type": "stream",
     "text": [
      "C:\\Users\\premkumar\\AppData\\Local\\Programs\\Python\\Python312\\Lib\\site-packages\\autots\\models\\base.py:1025: RuntimeWarning: invalid value encountered in divide\n",
      "  smape_cons = (np.nansum(wsmape_df, axis=1) * 200) / np.count_nonzero(\n",
      "C:\\Users\\premkumar\\AppData\\Local\\Programs\\Python\\Python312\\Lib\\site-packages\\autots\\models\\base.py:1025: RuntimeWarning: invalid value encountered in divide\n",
      "  smape_cons = (np.nansum(wsmape_df, axis=1) * 200) / np.count_nonzero(\n"
     ]
    },
    {
     "name": "stdout",
     "output_type": "stream",
     "text": [
      "Model Number: 69 with model FBProphet in generation 0 of 5\n",
      "Template Eval Error: ValueError(\"regression_type='User' but no future_regressor passed\") in model 69 in generation 0: FBProphet\n",
      "Model Number: 70 with model UnobservedComponents in generation 0 of 5\n"
     ]
    },
    {
     "name": "stderr",
     "output_type": "stream",
     "text": [
      "C:\\Users\\premkumar\\AppData\\Local\\Programs\\Python\\Python312\\Lib\\site-packages\\autots\\models\\base.py:1025: RuntimeWarning: invalid value encountered in divide\n",
      "  smape_cons = (np.nansum(wsmape_df, axis=1) * 200) / np.count_nonzero(\n"
     ]
    },
    {
     "name": "stdout",
     "output_type": "stream",
     "text": [
      "Model Number: 71 with model VAR in generation 0 of 5\n",
      "Template Eval Error: ValueError('Only gave one variable to VAR') in model 71 in generation 0: VAR\n",
      "Model Number: 72 with model VECM in generation 0 of 5\n",
      "Template Eval Error: ValueError(\"regression_type='User' but no future_regressor supplied\") in model 72 in generation 0: VECM\n",
      "Model Number: 73 with model ARIMA in generation 0 of 5\n",
      "Template Eval Error: ValueError(\"regression_type='User' but future_regressor not supplied\") in model 73 in generation 0: ARIMA\n",
      "Model Number: 74 with model WindowRegression in generation 0 of 5\n",
      "Model Number: 75 with model DatepartRegression in generation 0 of 5\n",
      "Model Number: 76 with model MultivariateRegression in generation 0 of 5\n",
      "Template Eval Error: ValueError(\"regression_type='User' but not future_regressor supplied.\") in model 76 in generation 0: MultivariateRegression\n",
      "Model Number: 77 with model UnivariateMotif in generation 0 of 5\n",
      "Model Number: 78 with model MultivariateMotif in generation 0 of 5\n",
      "Template Eval Error: IndexError('index 1551 is out of bounds for axis 0 with size 1') in model 78 in generation 0: MultivariateMotif\n",
      "Model Number: 79 with model SectionalMotif in generation 0 of 5\n",
      "Model Number: 80 with model NVAR in generation 0 of 5\n"
     ]
    },
    {
     "name": "stderr",
     "output_type": "stream",
     "text": [
      "C:\\Users\\premkumar\\AppData\\Local\\Programs\\Python\\Python312\\Lib\\site-packages\\autots\\models\\base.py:1025: RuntimeWarning: invalid value encountered in divide\n",
      "  smape_cons = (np.nansum(wsmape_df, axis=1) * 200) / np.count_nonzero(\n",
      "C:\\Users\\premkumar\\AppData\\Local\\Programs\\Python\\Python312\\Lib\\site-packages\\autots\\models\\base.py:1025: RuntimeWarning: invalid value encountered in divide\n",
      "  smape_cons = (np.nansum(wsmape_df, axis=1) * 200) / np.count_nonzero(\n",
      "C:\\Users\\premkumar\\AppData\\Local\\Programs\\Python\\Python312\\Lib\\site-packages\\autots\\models\\base.py:1025: RuntimeWarning: invalid value encountered in divide\n",
      "  smape_cons = (np.nansum(wsmape_df, axis=1) * 200) / np.count_nonzero(\n",
      "C:\\Users\\premkumar\\AppData\\Local\\Programs\\Python\\Python312\\Lib\\site-packages\\autots\\models\\base.py:1025: RuntimeWarning: invalid value encountered in divide\n",
      "  smape_cons = (np.nansum(wsmape_df, axis=1) * 200) / np.count_nonzero(\n"
     ]
    },
    {
     "name": "stdout",
     "output_type": "stream",
     "text": [
      "Model Number: 81 with model Theta in generation 0 of 5\n"
     ]
    },
    {
     "name": "stderr",
     "output_type": "stream",
     "text": [
      "C:\\Users\\premkumar\\AppData\\Local\\Programs\\Python\\Python312\\Lib\\site-packages\\autots\\models\\base.py:1025: RuntimeWarning: invalid value encountered in divide\n",
      "  smape_cons = (np.nansum(wsmape_df, axis=1) * 200) / np.count_nonzero(\n"
     ]
    },
    {
     "name": "stdout",
     "output_type": "stream",
     "text": [
      "Model Number: 82 with model ARDL in generation 0 of 5\n",
      "Template Eval Error: ValueError(\"regression_type='User' but future_regressor not supplied\") in model 82 in generation 0: ARDL\n",
      "Model Number: 83 with model ARCH in generation 0 of 5\n",
      "Template Eval Error: ImportError('`arch` package must be installed from pip') in model 83 in generation 0: ARCH\n",
      "Model Number: 84 with model MetricMotif in generation 0 of 5\n",
      "Model Number: 85 with model SeasonalityMotif in generation 0 of 5\n",
      "Model Number: 86 with model DMD in generation 0 of 5\n"
     ]
    },
    {
     "name": "stderr",
     "output_type": "stream",
     "text": [
      "C:\\Users\\premkumar\\AppData\\Local\\Programs\\Python\\Python312\\Lib\\site-packages\\autots\\models\\base.py:1025: RuntimeWarning: invalid value encountered in divide\n",
      "  smape_cons = (np.nansum(wsmape_df, axis=1) * 200) / np.count_nonzero(\n",
      "C:\\Users\\premkumar\\AppData\\Local\\Programs\\Python\\Python312\\Lib\\site-packages\\autots\\models\\base.py:1025: RuntimeWarning: invalid value encountered in divide\n",
      "  smape_cons = (np.nansum(wsmape_df, axis=1) * 200) / np.count_nonzero(\n",
      "C:\\Users\\premkumar\\AppData\\Local\\Programs\\Python\\Python312\\Lib\\site-packages\\autots\\models\\base.py:1025: RuntimeWarning: invalid value encountered in divide\n",
      "  smape_cons = (np.nansum(wsmape_df, axis=1) * 200) / np.count_nonzero(\n",
      "C:\\Users\\premkumar\\AppData\\Local\\Programs\\Python\\Python312\\Lib\\site-packages\\autots\\models\\base.py:1025: RuntimeWarning: invalid value encountered in divide\n",
      "  smape_cons = (np.nansum(wsmape_df, axis=1) * 200) / np.count_nonzero(\n"
     ]
    },
    {
     "name": "stdout",
     "output_type": "stream",
     "text": [
      "Model Number: 87 with model RRVAR in generation 0 of 5\n",
      "Model Number: 88 with model FFT in generation 0 of 5\n",
      "Template Eval Error: Exception(\"Transformer AlignLastValue failed on inverse from params ffill {'0': {'method': 'savgol_filter', 'method_args': {'window_length': 31, 'polyorder': 3, 'deriv': 0, 'mode': 'interp'}}, '1': {'rows': 1, 'lag': 1, 'method': 'additive', 'strength': 1.0, 'first_value_only': True, 'threshold': 10}, '2': {}, '3': {}, '4': {'window_size': 30, 'alpha': 2.0, 'grouping_forward_limit': 3, 'max_level_shifts': 30, 'alignment': 'average'}, '5': {'rows': 7, 'lag': 1, 'method': 'additive', 'strength': 1.0, 'first_value_only': False, 'threshold': None}}\") in model 88 in generation 0: FFT\n",
      "Model Number: 89 with model Cassandra in generation 0 of 5\n",
      "Model Number: 90 with model SeasonalityMotif in generation 0 of 5\n"
     ]
    },
    {
     "name": "stderr",
     "output_type": "stream",
     "text": [
      "C:\\Users\\premkumar\\AppData\\Local\\Programs\\Python\\Python312\\Lib\\site-packages\\autots\\models\\base.py:1025: RuntimeWarning: invalid value encountered in divide\n",
      "  smape_cons = (np.nansum(wsmape_df, axis=1) * 200) / np.count_nonzero(\n",
      "C:\\Users\\premkumar\\AppData\\Local\\Programs\\Python\\Python312\\Lib\\site-packages\\autots\\models\\base.py:1025: RuntimeWarning: invalid value encountered in divide\n",
      "  smape_cons = (np.nansum(wsmape_df, axis=1) * 200) / np.count_nonzero(\n",
      "C:\\Users\\premkumar\\AppData\\Local\\Programs\\Python\\Python312\\Lib\\site-packages\\autots\\models\\base.py:1025: RuntimeWarning: invalid value encountered in divide\n",
      "  smape_cons = (np.nansum(wsmape_df, axis=1) * 200) / np.count_nonzero(\n"
     ]
    },
    {
     "name": "stdout",
     "output_type": "stream",
     "text": [
      "Model Number: 91 with model SeasonalityMotif in generation 0 of 5\n",
      "Model Number: 92 with model AverageValueNaive in generation 0 of 5\n",
      "Model Number: 93 with model ConstantNaive in generation 0 of 5\n",
      "Model Number: 94 with model SectionalMotif in generation 0 of 5\n",
      "Model Number: 95 with model UnivariateMotif in generation 0 of 5\n",
      "Model Number: 96 with model SectionalMotif in generation 0 of 5\n",
      "Model Number: 97 with model NVAR in generation 0 of 5\n"
     ]
    },
    {
     "name": "stderr",
     "output_type": "stream",
     "text": [
      "C:\\Users\\premkumar\\AppData\\Local\\Programs\\Python\\Python312\\Lib\\site-packages\\autots\\models\\base.py:1025: RuntimeWarning: invalid value encountered in divide\n",
      "  smape_cons = (np.nansum(wsmape_df, axis=1) * 200) / np.count_nonzero(\n",
      "C:\\Users\\premkumar\\AppData\\Local\\Programs\\Python\\Python312\\Lib\\site-packages\\autots\\models\\base.py:1025: RuntimeWarning: invalid value encountered in divide\n",
      "  smape_cons = (np.nansum(wsmape_df, axis=1) * 200) / np.count_nonzero(\n",
      "C:\\Users\\premkumar\\AppData\\Local\\Programs\\Python\\Python312\\Lib\\site-packages\\autots\\models\\base.py:1025: RuntimeWarning: invalid value encountered in divide\n",
      "  smape_cons = (np.nansum(wsmape_df, axis=1) * 200) / np.count_nonzero(\n",
      "C:\\Users\\premkumar\\AppData\\Local\\Programs\\Python\\Python312\\Lib\\site-packages\\autots\\models\\base.py:1025: RuntimeWarning: invalid value encountered in divide\n",
      "  smape_cons = (np.nansum(wsmape_df, axis=1) * 200) / np.count_nonzero(\n",
      "C:\\Users\\premkumar\\AppData\\Local\\Programs\\Python\\Python312\\Lib\\site-packages\\autots\\models\\base.py:1025: RuntimeWarning: invalid value encountered in divide\n",
      "  smape_cons = (np.nansum(wsmape_df, axis=1) * 200) / np.count_nonzero(\n",
      "C:\\Users\\premkumar\\AppData\\Local\\Programs\\Python\\Python312\\Lib\\site-packages\\autots\\models\\base.py:1025: RuntimeWarning: invalid value encountered in divide\n",
      "  smape_cons = (np.nansum(wsmape_df, axis=1) * 200) / np.count_nonzero(\n",
      "C:\\Users\\premkumar\\AppData\\Local\\Programs\\Python\\Python312\\Lib\\site-packages\\autots\\models\\base.py:1025: RuntimeWarning: invalid value encountered in divide\n",
      "  smape_cons = (np.nansum(wsmape_df, axis=1) * 200) / np.count_nonzero(\n"
     ]
    },
    {
     "name": "stdout",
     "output_type": "stream",
     "text": [
      "Model Number: 98 with model VAR in generation 0 of 5\n",
      "Template Eval Error: ValueError('Only gave one variable to VAR') in model 98 in generation 0: VAR\n",
      "Model Number: 99 with model VAR in generation 0 of 5\n",
      "Template Eval Error: ValueError('Only gave one variable to VAR') in model 99 in generation 0: VAR\n",
      "Model Number: 100 with model ARCH in generation 0 of 5\n",
      "Template Eval Error: ImportError('`arch` package must be installed from pip') in model 100 in generation 0: ARCH\n",
      "Model Number: 101 with model FFT in generation 0 of 5\n",
      "Model Number: 102 with model ARDL in generation 0 of 5\n",
      "Model Number: 103 with model SeasonalityMotif in generation 0 of 5\n"
     ]
    },
    {
     "name": "stderr",
     "output_type": "stream",
     "text": [
      "C:\\Users\\premkumar\\AppData\\Local\\Programs\\Python\\Python312\\Lib\\site-packages\\autots\\models\\base.py:1025: RuntimeWarning: invalid value encountered in divide\n",
      "  smape_cons = (np.nansum(wsmape_df, axis=1) * 200) / np.count_nonzero(\n",
      "C:\\Users\\premkumar\\AppData\\Local\\Programs\\Python\\Python312\\Lib\\site-packages\\autots\\models\\base.py:1025: RuntimeWarning: invalid value encountered in divide\n",
      "  smape_cons = (np.nansum(wsmape_df, axis=1) * 200) / np.count_nonzero(\n"
     ]
    },
    {
     "name": "stdout",
     "output_type": "stream",
     "text": [
      "Model Number: 104 with model SeasonalityMotif in generation 0 of 5\n",
      "Model Number: 105 with model VAR in generation 0 of 5\n",
      "Template Eval Error: ValueError('Only gave one variable to VAR') in model 105 in generation 0: VAR\n",
      "Model Number: 106 with model DatepartRegression in generation 0 of 5\n",
      "Template Eval Error: Exception(\"Transformer AlignLastValue failed on inverse from params ffill {'0': {'method': 'clip', 'std_threshold': 4, 'fillna': None}, '1': {'model': 'Linear', 'phi': 1, 'window': None, 'transform_dict': None}, '2': {'rows': 1, 'lag': 1, 'method': 'additive', 'strength': 1.0, 'first_value_only': True, 'threshold': 10}, '3': {'rows': 1, 'lag': 1, 'method': 'additive', 'strength': 1.0, 'first_value_only': True, 'threshold': 1}}\") in model 106 in generation 0: DatepartRegression\n",
      "Model Number: 107 with model WindowRegression in generation 0 of 5\n",
      "Template Eval Error: ModuleNotFoundError(\"No module named 'lightgbm'\") in model 107 in generation 0: WindowRegression\n",
      "Model Number: 108 with model VAR in generation 0 of 5\n",
      "Template Eval Error: LinAlgError('2-th leading minor of the array is not positive definite') in model 108 in generation 0: VAR\n",
      "Model Number: 109 with model MetricMotif in generation 0 of 5\n",
      "Model Number: 110 with model VAR in generation 0 of 5\n",
      "Template Eval Error: ValueError('Only gave one variable to VAR') in model 110 in generation 0: VAR\n",
      "Model Number: 111 with model FFT in generation 0 of 5\n"
     ]
    },
    {
     "name": "stderr",
     "output_type": "stream",
     "text": [
      "C:\\Users\\premkumar\\AppData\\Local\\Programs\\Python\\Python312\\Lib\\site-packages\\autots\\models\\base.py:1025: RuntimeWarning: invalid value encountered in divide\n",
      "  smape_cons = (np.nansum(wsmape_df, axis=1) * 200) / np.count_nonzero(\n",
      "C:\\Users\\premkumar\\AppData\\Local\\Programs\\Python\\Python312\\Lib\\site-packages\\autots\\models\\base.py:1025: RuntimeWarning: invalid value encountered in divide\n",
      "  smape_cons = (np.nansum(wsmape_df, axis=1) * 200) / np.count_nonzero(\n",
      "C:\\Users\\premkumar\\AppData\\Local\\Programs\\Python\\Python312\\Lib\\site-packages\\autots\\models\\base.py:1025: RuntimeWarning: invalid value encountered in divide\n",
      "  smape_cons = (np.nansum(wsmape_df, axis=1) * 200) / np.count_nonzero(\n"
     ]
    },
    {
     "name": "stdout",
     "output_type": "stream",
     "text": [
      "Model Number: 112 with model Theta in generation 0 of 5\n"
     ]
    },
    {
     "name": "stderr",
     "output_type": "stream",
     "text": [
      "C:\\Users\\premkumar\\AppData\\Local\\Programs\\Python\\Python312\\Lib\\site-packages\\autots\\models\\base.py:1025: RuntimeWarning: invalid value encountered in divide\n",
      "  smape_cons = (np.nansum(wsmape_df, axis=1) * 200) / np.count_nonzero(\n"
     ]
    },
    {
     "name": "stdout",
     "output_type": "stream",
     "text": [
      "Model Number: 113 with model VAR in generation 0 of 5\n",
      "Template Eval Error: ValueError('Only gave one variable to VAR') in model 113 in generation 0: VAR\n",
      "Model Number: 114 with model MultivariateMotif in generation 0 of 5\n",
      "Model Number: 115 with model SeasonalityMotif in generation 0 of 5\n",
      "Model Number: 116 with model ARCH in generation 0 of 5\n",
      "Template Eval Error: ImportError('`arch` package must be installed from pip') in model 116 in generation 0: ARCH\n",
      "Model Number: 117 with model SeasonalityMotif in generation 0 of 5\n"
     ]
    },
    {
     "name": "stderr",
     "output_type": "stream",
     "text": [
      "C:\\Users\\premkumar\\AppData\\Local\\Programs\\Python\\Python312\\Lib\\site-packages\\autots\\models\\base.py:1025: RuntimeWarning: invalid value encountered in divide\n",
      "  smape_cons = (np.nansum(wsmape_df, axis=1) * 200) / np.count_nonzero(\n",
      "C:\\Users\\premkumar\\AppData\\Local\\Programs\\Python\\Python312\\Lib\\site-packages\\autots\\models\\base.py:1025: RuntimeWarning: invalid value encountered in divide\n",
      "  smape_cons = (np.nansum(wsmape_df, axis=1) * 200) / np.count_nonzero(\n",
      "C:\\Users\\premkumar\\AppData\\Local\\Programs\\Python\\Python312\\Lib\\site-packages\\autots\\models\\base.py:1025: RuntimeWarning: invalid value encountered in divide\n",
      "  smape_cons = (np.nansum(wsmape_df, axis=1) * 200) / np.count_nonzero(\n",
      "C:\\Users\\premkumar\\AppData\\Local\\Programs\\Python\\Python312\\Lib\\site-packages\\autots\\models\\base.py:1025: RuntimeWarning: invalid value encountered in divide\n",
      "  smape_cons = (np.nansum(wsmape_df, axis=1) * 200) / np.count_nonzero(\n"
     ]
    },
    {
     "name": "stdout",
     "output_type": "stream",
     "text": [
      "Model Number: 118 with model ARIMA in generation 0 of 5\n",
      "Model Number: 119 with model WindowRegression in generation 0 of 5\n",
      "Template Eval Error: ValueError(\"regression_type='User' but no future_regressor passed\") in model 119 in generation 0: WindowRegression\n",
      "Model Number: 120 with model SectionalMotif in generation 0 of 5\n",
      "Model Number: 121 with model DatepartRegression in generation 0 of 5\n"
     ]
    },
    {
     "name": "stderr",
     "output_type": "stream",
     "text": [
      "C:\\Users\\premkumar\\AppData\\Local\\Programs\\Python\\Python312\\Lib\\site-packages\\autots\\models\\base.py:1025: RuntimeWarning: invalid value encountered in divide\n",
      "  smape_cons = (np.nansum(wsmape_df, axis=1) * 200) / np.count_nonzero(\n",
      "C:\\Users\\premkumar\\AppData\\Local\\Programs\\Python\\Python312\\Lib\\site-packages\\autots\\models\\base.py:1025: RuntimeWarning: invalid value encountered in divide\n",
      "  smape_cons = (np.nansum(wsmape_df, axis=1) * 200) / np.count_nonzero(\n",
      "C:\\Users\\premkumar\\AppData\\Local\\Programs\\Python\\Python312\\Lib\\site-packages\\autots\\models\\base.py:1025: RuntimeWarning: invalid value encountered in divide\n",
      "  smape_cons = (np.nansum(wsmape_df, axis=1) * 200) / np.count_nonzero(\n",
      "C:\\Users\\premkumar\\AppData\\Local\\Programs\\Python\\Python312\\Lib\\site-packages\\sklearn\\neighbors\\_regression.py:505: UserWarning: One or more samples have no neighbors within specified radius; predicting NaN.\n",
      "  warnings.warn(empty_warning_msg)\n"
     ]
    },
    {
     "name": "stdout",
     "output_type": "stream",
     "text": [
      "Model Number: 122 with model DatepartRegression in generation 0 of 5\n",
      "Template Eval Error: ValueError('Model DatepartRegression returned NaN for one or more series. fail_on_forecast_nan=True') in model 122 in generation 0: DatepartRegression\n",
      "Model Number: 123 with model UnivariateMotif in generation 0 of 5\n",
      "Template Eval Error: Exception(\"Transformer Detrend failed on fit from params ffill {'0': {'method': 'IQR', 'method_params': {'iqr_threshold': 2.0, 'iqr_quantiles': [0.25, 0.75]}, 'fillna': 'ffill', 'transform_dict': {'transformations': {'0': 'DatepartRegression'}, 'transformation_params': {'0': {'datepart_method': 'simple_3', 'regression_model': {'model': 'DecisionTree', 'model_params': {'max_depth': None, 'min_samples_split': 0.1}}}}}, 'isolated_only': False}, '1': {'lag': 1, 'fill': 'one'}, '2': {'lag_1': 7, 'method': 'LastValue'}, '3': {'discretization': 'upper', 'n_bins': 5}, '4': {'rows': 7, 'lag': 1, 'method': 'additive', 'strength': 1.0, 'first_value_only': False, 'threshold': 1}, '5': {'model': 'Linear', 'phi': 1, 'window': None, 'transform_dict': {'fillna': None, 'transformations': {'0': 'AnomalyRemoval'}, 'transformation_params': {'0': {'method': 'zscore', 'transform_dict': {'transformations': {'0': 'DatepartRegression'}, 'transformation_params': {'0': {'datepart_method': 'simple_3', 'regression_model': {'model': 'ElasticNet', 'model_params': {}}}}}, 'method_params': {'distribution': 'uniform', 'alpha': 0.05}}}}}}\") in model 123 in generation 0: UnivariateMotif\n",
      "Model Number: 124 with model WindowRegression in generation 0 of 5\n",
      "Model Number: 125 with model VECM in generation 0 of 5\n",
      "Template Eval Error: ValueError('Only gave one variable to VECM') in model 125 in generation 0: VECM\n",
      "Model Number: 126 with model ETS in generation 0 of 5\n",
      "Model Number: 127 with model SectionalMotif in generation 0 of 5\n"
     ]
    },
    {
     "name": "stderr",
     "output_type": "stream",
     "text": [
      "C:\\Users\\premkumar\\AppData\\Local\\Programs\\Python\\Python312\\Lib\\site-packages\\autots\\models\\base.py:1025: RuntimeWarning: invalid value encountered in divide\n",
      "  smape_cons = (np.nansum(wsmape_df, axis=1) * 200) / np.count_nonzero(\n",
      "C:\\Users\\premkumar\\AppData\\Local\\Programs\\Python\\Python312\\Lib\\site-packages\\autots\\models\\base.py:1025: RuntimeWarning: invalid value encountered in divide\n",
      "  smape_cons = (np.nansum(wsmape_df, axis=1) * 200) / np.count_nonzero(\n",
      "C:\\Users\\premkumar\\AppData\\Local\\Programs\\Python\\Python312\\Lib\\site-packages\\autots\\models\\base.py:1025: RuntimeWarning: invalid value encountered in divide\n",
      "  smape_cons = (np.nansum(wsmape_df, axis=1) * 200) / np.count_nonzero(\n"
     ]
    },
    {
     "name": "stdout",
     "output_type": "stream",
     "text": [
      "Model Number: 128 with model DatepartRegression in generation 0 of 5\n",
      "Template Eval Error: ValueError(\"regression_type='User' but no future_regressor passed\") in model 128 in generation 0: DatepartRegression\n",
      "Model Number: 129 with model Cassandra in generation 0 of 5\n",
      "Template Eval Error: IndexError('positional indexers are out-of-bounds') in model 129 in generation 0: Cassandra\n",
      "Model Number: 130 with model ARCH in generation 0 of 5\n",
      "Template Eval Error: ImportError('`arch` package must be installed from pip') in model 130 in generation 0: ARCH\n",
      "Model Number: 131 with model Theta in generation 0 of 5\n",
      "Model Number: 132 with model SectionalMotif in generation 0 of 5\n"
     ]
    },
    {
     "name": "stderr",
     "output_type": "stream",
     "text": [
      "C:\\Users\\premkumar\\AppData\\Local\\Programs\\Python\\Python312\\Lib\\site-packages\\autots\\models\\base.py:1025: RuntimeWarning: invalid value encountered in divide\n",
      "  smape_cons = (np.nansum(wsmape_df, axis=1) * 200) / np.count_nonzero(\n",
      "C:\\Users\\premkumar\\AppData\\Local\\Programs\\Python\\Python312\\Lib\\site-packages\\autots\\models\\base.py:1025: RuntimeWarning: invalid value encountered in divide\n",
      "  smape_cons = (np.nansum(wsmape_df, axis=1) * 200) / np.count_nonzero(\n"
     ]
    },
    {
     "name": "stdout",
     "output_type": "stream",
     "text": [
      "Model Number: 133 with model Theta in generation 0 of 5\n",
      "Model Number: 134 with model SeasonalNaive in generation 0 of 5\n",
      "Model Number: 135 with model SeasonalityMotif in generation 0 of 5\n"
     ]
    },
    {
     "name": "stderr",
     "output_type": "stream",
     "text": [
      "C:\\Users\\premkumar\\AppData\\Local\\Programs\\Python\\Python312\\Lib\\site-packages\\autots\\models\\base.py:1025: RuntimeWarning: invalid value encountered in divide\n",
      "  smape_cons = (np.nansum(wsmape_df, axis=1) * 200) / np.count_nonzero(\n",
      "C:\\Users\\premkumar\\AppData\\Local\\Programs\\Python\\Python312\\Lib\\site-packages\\autots\\models\\base.py:1025: RuntimeWarning: invalid value encountered in divide\n",
      "  smape_cons = (np.nansum(wsmape_df, axis=1) * 200) / np.count_nonzero(\n",
      "C:\\Users\\premkumar\\AppData\\Local\\Programs\\Python\\Python312\\Lib\\site-packages\\sklearn\\neighbors\\_classification.py:238: DataConversionWarning: A column-vector y was passed when a 1d array was expected. Please change the shape of y to (n_samples,), for example using ravel().\n",
      "  return self._fit(X, y)\n",
      "C:\\Users\\premkumar\\AppData\\Local\\Programs\\Python\\Python312\\Lib\\site-packages\\autots\\models\\base.py:1025: RuntimeWarning: invalid value encountered in divide\n",
      "  smape_cons = (np.nansum(wsmape_df, axis=1) * 200) / np.count_nonzero(\n"
     ]
    },
    {
     "name": "stdout",
     "output_type": "stream",
     "text": [
      "Model Number: 136 with model GLM in generation 0 of 5\n",
      "Template Eval Error: ValueError('regression_type=user and no future_regressor passed') in model 136 in generation 0: GLM\n",
      "Model Number: 137 with model MetricMotif in generation 0 of 5\n",
      "Model Number: 138 with model Cassandra in generation 0 of 5\n"
     ]
    },
    {
     "name": "stderr",
     "output_type": "stream",
     "text": [
      "C:\\Users\\premkumar\\AppData\\Local\\Programs\\Python\\Python312\\Lib\\site-packages\\sklearn\\linear_model\\_ridge.py:204: LinAlgWarning: Ill-conditioned matrix (rcond=6.76561e-26): result may not be accurate.\n",
      "  return linalg.solve(A, Xy, assume_a=\"pos\", overwrite_a=True).T\n",
      "C:\\Users\\premkumar\\AppData\\Local\\Programs\\Python\\Python312\\Lib\\site-packages\\autots\\models\\base.py:1025: RuntimeWarning: invalid value encountered in divide\n",
      "  smape_cons = (np.nansum(wsmape_df, axis=1) * 200) / np.count_nonzero(\n",
      "C:\\Users\\premkumar\\AppData\\Local\\Programs\\Python\\Python312\\Lib\\site-packages\\numpy\\lib\\function_base.py:2897: RuntimeWarning: invalid value encountered in divide\n",
      "  c /= stddev[:, None]\n",
      "C:\\Users\\premkumar\\AppData\\Local\\Programs\\Python\\Python312\\Lib\\site-packages\\numpy\\lib\\function_base.py:2898: RuntimeWarning: invalid value encountered in divide\n",
      "  c /= stddev[None, :]\n",
      "C:\\Users\\premkumar\\AppData\\Local\\Programs\\Python\\Python312\\Lib\\site-packages\\autots\\models\\base.py:1025: RuntimeWarning: invalid value encountered in divide\n",
      "  smape_cons = (np.nansum(wsmape_df, axis=1) * 200) / np.count_nonzero(\n"
     ]
    },
    {
     "name": "stdout",
     "output_type": "stream",
     "text": [
      "Model Number: 139 with model SeasonalityMotif in generation 0 of 5\n",
      "Model Number: 140 with model SeasonalityMotif in generation 0 of 5\n",
      "Model Number: 141 with model GLS in generation 0 of 5\n",
      "Model Number: 142 with model RRVAR in generation 0 of 5\n",
      "Model Number: 143 with model ConstantNaive in generation 0 of 5\n"
     ]
    },
    {
     "name": "stderr",
     "output_type": "stream",
     "text": [
      "C:\\Users\\premkumar\\AppData\\Local\\Programs\\Python\\Python312\\Lib\\site-packages\\autots\\models\\base.py:1025: RuntimeWarning: invalid value encountered in divide\n",
      "  smape_cons = (np.nansum(wsmape_df, axis=1) * 200) / np.count_nonzero(\n",
      "C:\\Users\\premkumar\\AppData\\Local\\Programs\\Python\\Python312\\Lib\\site-packages\\autots\\models\\base.py:1025: RuntimeWarning: invalid value encountered in divide\n",
      "  smape_cons = (np.nansum(wsmape_df, axis=1) * 200) / np.count_nonzero(\n",
      "C:\\Users\\premkumar\\AppData\\Local\\Programs\\Python\\Python312\\Lib\\site-packages\\autots\\models\\base.py:1025: RuntimeWarning: invalid value encountered in divide\n",
      "  smape_cons = (np.nansum(wsmape_df, axis=1) * 200) / np.count_nonzero(\n",
      "C:\\Users\\premkumar\\AppData\\Local\\Programs\\Python\\Python312\\Lib\\site-packages\\autots\\models\\base.py:1025: RuntimeWarning: invalid value encountered in divide\n",
      "  smape_cons = (np.nansum(wsmape_df, axis=1) * 200) / np.count_nonzero(\n",
      "C:\\Users\\premkumar\\AppData\\Local\\Programs\\Python\\Python312\\Lib\\site-packages\\autots\\models\\base.py:1025: RuntimeWarning: invalid value encountered in divide\n",
      "  smape_cons = (np.nansum(wsmape_df, axis=1) * 200) / np.count_nonzero(\n"
     ]
    },
    {
     "name": "stdout",
     "output_type": "stream",
     "text": [
      "Model Number: 144 with model GLS in generation 0 of 5\n",
      "Model Number: 145 with model DatepartRegression in generation 0 of 5"
     ]
    },
    {
     "name": "stderr",
     "output_type": "stream",
     "text": [
      "C:\\Users\\premkumar\\AppData\\Local\\Programs\\Python\\Python312\\Lib\\site-packages\\autots\\models\\base.py:1025: RuntimeWarning: invalid value encountered in divide\n",
      "  smape_cons = (np.nansum(wsmape_df, axis=1) * 200) / np.count_nonzero(\n"
     ]
    },
    {
     "name": "stdout",
     "output_type": "stream",
     "text": [
      "\n",
      "Template Eval Error: ValueError(\"regression_type='User' but no future_regressor passed\") in model 145 in generation 0: DatepartRegression\n",
      "Model Number: 146 with model UnobservedComponents in generation 0 of 5\n",
      "Model Number: 147 with model UnobservedComponents in generation 0 of 5\n",
      "Model Number: 148 with model ARDL in generation 0 of 5\n",
      "Template Eval Error: ValueError(\"regression_type='User' but future_regressor not supplied\") in model 148 in generation 0: ARDL\n",
      "Model Number: 149 with model LastValueNaive in generation 0 of 5\n"
     ]
    },
    {
     "name": "stderr",
     "output_type": "stream",
     "text": [
      "C:\\Users\\premkumar\\AppData\\Local\\Programs\\Python\\Python312\\Lib\\site-packages\\autots\\models\\base.py:1025: RuntimeWarning: invalid value encountered in divide\n",
      "  smape_cons = (np.nansum(wsmape_df, axis=1) * 200) / np.count_nonzero(\n",
      "C:\\Users\\premkumar\\AppData\\Local\\Programs\\Python\\Python312\\Lib\\site-packages\\autots\\models\\base.py:1025: RuntimeWarning: invalid value encountered in divide\n",
      "  smape_cons = (np.nansum(wsmape_df, axis=1) * 200) / np.count_nonzero(\n",
      "C:\\Users\\premkumar\\AppData\\Local\\Programs\\Python\\Python312\\Lib\\site-packages\\autots\\models\\base.py:1025: RuntimeWarning: invalid value encountered in divide\n",
      "  smape_cons = (np.nansum(wsmape_df, axis=1) * 200) / np.count_nonzero(\n"
     ]
    },
    {
     "name": "stdout",
     "output_type": "stream",
     "text": [
      "Model Number: 150 with model VAR in generation 0 of 5\n",
      "Template Eval Error: ValueError('Only gave one variable to VAR') in model 150 in generation 0: VAR\n",
      "Model Number: 151 with model AverageValueNaive in generation 0 of 5\n",
      "Model Number: 152 with model VAR in generation 0 of 5\n",
      "Template Eval Error: ValueError('Only gave one variable to VAR') in model 152 in generation 0: VAR\n",
      "Model Number: 153 with model UnobservedComponents in generation 0 of 5\n"
     ]
    },
    {
     "name": "stderr",
     "output_type": "stream",
     "text": [
      "C:\\Users\\premkumar\\AppData\\Local\\Programs\\Python\\Python312\\Lib\\site-packages\\autots\\models\\base.py:1025: RuntimeWarning: invalid value encountered in divide\n",
      "  smape_cons = (np.nansum(wsmape_df, axis=1) * 200) / np.count_nonzero(\n",
      "C:\\Users\\premkumar\\AppData\\Local\\Programs\\Python\\Python312\\Lib\\site-packages\\autots\\models\\base.py:1025: RuntimeWarning: invalid value encountered in divide\n",
      "  smape_cons = (np.nansum(wsmape_df, axis=1) * 200) / np.count_nonzero(\n"
     ]
    },
    {
     "name": "stdout",
     "output_type": "stream",
     "text": [
      "Model Number: 154 with model Theta in generation 0 of 5\n",
      "Model Number: 155 with model GLS in generation 0 of 5\n",
      "Model Number: 156 with model GLS in generation 0 of 5\n"
     ]
    },
    {
     "name": "stderr",
     "output_type": "stream",
     "text": [
      "C:\\Users\\premkumar\\AppData\\Local\\Programs\\Python\\Python312\\Lib\\site-packages\\autots\\models\\base.py:1025: RuntimeWarning: invalid value encountered in divide\n",
      "  smape_cons = (np.nansum(wsmape_df, axis=1) * 200) / np.count_nonzero(\n",
      "C:\\Users\\premkumar\\AppData\\Local\\Programs\\Python\\Python312\\Lib\\site-packages\\autots\\models\\base.py:1025: RuntimeWarning: invalid value encountered in divide\n",
      "  smape_cons = (np.nansum(wsmape_df, axis=1) * 200) / np.count_nonzero(\n",
      "C:\\Users\\premkumar\\AppData\\Local\\Programs\\Python\\Python312\\Lib\\site-packages\\autots\\models\\base.py:1025: RuntimeWarning: invalid value encountered in divide\n",
      "  smape_cons = (np.nansum(wsmape_df, axis=1) * 200) / np.count_nonzero(\n"
     ]
    },
    {
     "name": "stdout",
     "output_type": "stream",
     "text": [
      "Model Number: 157 with model VECM in generation 0 of 5\n",
      "Template Eval Error: ValueError('Only gave one variable to VECM') in model 157 in generation 0: VECM\n",
      "Model Number: 158 with model LastValueNaive in generation 0 of 5\n",
      "Model Number: 159 with model FBProphet in generation 0 of 5\n",
      "Template Eval Error: ModuleNotFoundError(\"No module named 'fbprophet'\") in model 159 in generation 0: FBProphet\n",
      "Model Number: 160 with model VECM in generation 0 of 5\n",
      "Template Eval Error: ValueError('Only gave one variable to VECM') in model 160 in generation 0: VECM\n",
      "Model Number: 161 with model VECM in generation 0 of 5\n",
      "Template Eval Error: ValueError(\"regression_type='User' but no future_regressor supplied\") in model 161 in generation 0: VECM\n",
      "Model Number: 162 with model LastValueNaive in generation 0 of 5\n",
      "Model Number: 163 with model WindowRegression in generation 0 of 5\n",
      "Model Number: 164 with model NVAR in generation 0 of 5\n",
      "Model Number: 165 with model MultivariateMotif in generation 0 of 5\n"
     ]
    },
    {
     "name": "stderr",
     "output_type": "stream",
     "text": [
      "C:\\Users\\premkumar\\AppData\\Local\\Programs\\Python\\Python312\\Lib\\site-packages\\autots\\models\\base.py:1025: RuntimeWarning: invalid value encountered in divide\n",
      "  smape_cons = (np.nansum(wsmape_df, axis=1) * 200) / np.count_nonzero(\n",
      "C:\\Users\\premkumar\\AppData\\Local\\Programs\\Python\\Python312\\Lib\\site-packages\\autots\\models\\base.py:1025: RuntimeWarning: invalid value encountered in divide\n",
      "  smape_cons = (np.nansum(wsmape_df, axis=1) * 200) / np.count_nonzero(\n",
      "C:\\Users\\premkumar\\AppData\\Local\\Programs\\Python\\Python312\\Lib\\site-packages\\autots\\models\\base.py:1025: RuntimeWarning: invalid value encountered in divide\n",
      "  smape_cons = (np.nansum(wsmape_df, axis=1) * 200) / np.count_nonzero(\n",
      "C:\\Users\\premkumar\\AppData\\Local\\Programs\\Python\\Python312\\Lib\\site-packages\\autots\\models\\base.py:1025: RuntimeWarning: invalid value encountered in divide\n",
      "  smape_cons = (np.nansum(wsmape_df, axis=1) * 200) / np.count_nonzero(\n",
      "C:\\Users\\premkumar\\AppData\\Local\\Programs\\Python\\Python312\\Lib\\site-packages\\autots\\models\\base.py:1025: RuntimeWarning: invalid value encountered in divide\n",
      "  smape_cons = (np.nansum(wsmape_df, axis=1) * 200) / np.count_nonzero(\n",
      "C:\\Users\\premkumar\\AppData\\Local\\Programs\\Python\\Python312\\Lib\\site-packages\\sklearn\\neighbors\\_regression.py:505: UserWarning: One or more samples have no neighbors within specified radius; predicting NaN.\n",
      "  warnings.warn(empty_warning_msg)\n"
     ]
    },
    {
     "name": "stdout",
     "output_type": "stream",
     "text": [
      "Model Number: 166 with model VECM in generation 0 of 5\n",
      "Template Eval Error: ValueError('Only gave one variable to VECM') in model 166 in generation 0: VECM\n",
      "Model Number: 167 with model DatepartRegression in generation 0 of 5\n",
      "Template Eval Error: ValueError('Model DatepartRegression returned NaN for one or more series. fail_on_forecast_nan=True') in model 167 in generation 0: DatepartRegression\n",
      "Model Number: 168 with model GLM in generation 0 of 5\n",
      "Model Number: 169 with model SeasonalityMotif in generation 0 of 5\n",
      "Model Number: 170 with model ETS in generation 0 of 5\n",
      "Model Number: 171 with model DatepartRegression in generation 0 of 5\n"
     ]
    },
    {
     "name": "stderr",
     "output_type": "stream",
     "text": [
      "C:\\Users\\premkumar\\AppData\\Local\\Programs\\Python\\Python312\\Lib\\site-packages\\autots\\models\\base.py:1025: RuntimeWarning: invalid value encountered in divide\n",
      "  smape_cons = (np.nansum(wsmape_df, axis=1) * 200) / np.count_nonzero(\n",
      "C:\\Users\\premkumar\\AppData\\Local\\Programs\\Python\\Python312\\Lib\\site-packages\\autots\\models\\base.py:1025: RuntimeWarning: invalid value encountered in divide\n",
      "  smape_cons = (np.nansum(wsmape_df, axis=1) * 200) / np.count_nonzero(\n",
      "C:\\Users\\premkumar\\AppData\\Local\\Programs\\Python\\Python312\\Lib\\site-packages\\autots\\models\\base.py:1025: RuntimeWarning: invalid value encountered in divide\n",
      "  smape_cons = (np.nansum(wsmape_df, axis=1) * 200) / np.count_nonzero(\n",
      "C:\\Users\\premkumar\\AppData\\Local\\Programs\\Python\\Python312\\Lib\\site-packages\\autots\\models\\base.py:1025: RuntimeWarning: invalid value encountered in divide\n",
      "  smape_cons = (np.nansum(wsmape_df, axis=1) * 200) / np.count_nonzero(\n"
     ]
    },
    {
     "name": "stdout",
     "output_type": "stream",
     "text": [
      "Model Number: 172 with model ARCH in generation 0 of 5\n",
      "Template Eval Error: ImportError('`arch` package must be installed from pip') in model 172 in generation 0: ARCH\n",
      "Model Number: 173 with model GLM in generation 0 of 5\n",
      "Template Eval Error: ValueError('regression_type=user and no future_regressor passed') in model 173 in generation 0: GLM\n",
      "Model Number: 174 with model ConstantNaive in generation 0 of 5\n",
      "Template Eval Error: Exception(\"Transformer Detrend failed on fit from params linear {'0': {'method': 'clip', 'std_threshold': 3.5, 'fillna': None}, '1': {'model': 'Linear', 'phi': 1, 'window': None, 'transform_dict': {'fillna': None, 'transformations': {'0': 'AnomalyRemoval'}, 'transformation_params': {'0': {'method': 'zscore', 'transform_dict': {'transformations': {'0': 'DatepartRegression'}, 'transformation_params': {'0': {'datepart_method': 'simple_3', 'regression_model': {'model': 'ElasticNet', 'model_params': {}}}}}, 'method_params': {'distribution': 'uniform', 'alpha': 0.05}}}}}, '2': {'lag': 1, 'fill': 'zero'}}\") in model 174 in generation 0: ConstantNaive\n",
      "Model Number: 175 with model AverageValueNaive in generation 0 of 5\n",
      "Model Number: 176 with model VAR in generation 0 of 5\n",
      "Template Eval Error: ValueError('Only gave one variable to VAR') in model 176 in generation 0: VAR\n",
      "Model Number: 177 with model SectionalMotif in generation 0 of 5\n",
      "Template Eval Error: ValueError('Unknown Distance Metric: kulsinski') in model 177 in generation 0: SectionalMotif\n",
      "Model Number: 178 with model WindowRegression in generation 0 of 5\n",
      "Model Number: 179 with model SeasonalityMotif in generation 0 of 5\n",
      "Model Number: 180 with model AverageValueNaive in generation 0 of 5\n"
     ]
    },
    {
     "name": "stderr",
     "output_type": "stream",
     "text": [
      "C:\\Users\\premkumar\\AppData\\Local\\Programs\\Python\\Python312\\Lib\\site-packages\\autots\\models\\base.py:1025: RuntimeWarning: invalid value encountered in divide\n",
      "  smape_cons = (np.nansum(wsmape_df, axis=1) * 200) / np.count_nonzero(\n",
      "C:\\Users\\premkumar\\AppData\\Local\\Programs\\Python\\Python312\\Lib\\site-packages\\autots\\models\\base.py:1025: RuntimeWarning: invalid value encountered in divide\n",
      "  smape_cons = (np.nansum(wsmape_df, axis=1) * 200) / np.count_nonzero(\n",
      "C:\\Users\\premkumar\\AppData\\Local\\Programs\\Python\\Python312\\Lib\\site-packages\\autots\\models\\base.py:1025: RuntimeWarning: invalid value encountered in divide\n",
      "  smape_cons = (np.nansum(wsmape_df, axis=1) * 200) / np.count_nonzero(\n",
      "C:\\Users\\premkumar\\AppData\\Local\\Programs\\Python\\Python312\\Lib\\site-packages\\autots\\models\\base.py:1025: RuntimeWarning: invalid value encountered in divide\n",
      "  smape_cons = (np.nansum(wsmape_df, axis=1) * 200) / np.count_nonzero(\n"
     ]
    },
    {
     "name": "stdout",
     "output_type": "stream",
     "text": [
      "Model Number: 181 with model MetricMotif in generation 0 of 5\n",
      "Model Number: 182 with model SeasonalityMotif in generation 0 of 5\n",
      "Model Number: 183 with model VECM in generation 0 of 5\n",
      "Template Eval Error: ValueError('Only gave one variable to VECM') in model 183 in generation 0: VECM\n",
      "Model Number: 184 with model UnobservedComponents in generation 0 of 5\n",
      "Template Eval Error: ValueError(\"regression_type='User' but no future_regressor supplied\") in model 184 in generation 0: UnobservedComponents\n",
      "Model Number: 185 with model ConstantNaive in generation 0 of 5\n",
      "Model Number: 186 with model AverageValueNaive in generation 0 of 5\n"
     ]
    },
    {
     "name": "stderr",
     "output_type": "stream",
     "text": [
      "C:\\Users\\premkumar\\AppData\\Local\\Programs\\Python\\Python312\\Lib\\site-packages\\autots\\models\\base.py:1025: RuntimeWarning: invalid value encountered in divide\n",
      "  smape_cons = (np.nansum(wsmape_df, axis=1) * 200) / np.count_nonzero(\n",
      "C:\\Users\\premkumar\\AppData\\Local\\Programs\\Python\\Python312\\Lib\\site-packages\\autots\\models\\base.py:1025: RuntimeWarning: invalid value encountered in divide\n",
      "  smape_cons = (np.nansum(wsmape_df, axis=1) * 200) / np.count_nonzero(\n",
      "C:\\Users\\premkumar\\AppData\\Local\\Programs\\Python\\Python312\\Lib\\site-packages\\autots\\models\\base.py:1025: RuntimeWarning: invalid value encountered in divide\n",
      "  smape_cons = (np.nansum(wsmape_df, axis=1) * 200) / np.count_nonzero(\n",
      "C:\\Users\\premkumar\\AppData\\Local\\Programs\\Python\\Python312\\Lib\\site-packages\\autots\\models\\base.py:1025: RuntimeWarning: invalid value encountered in divide\n",
      "  smape_cons = (np.nansum(wsmape_df, axis=1) * 200) / np.count_nonzero(\n",
      "C:\\Users\\premkumar\\AppData\\Local\\Programs\\Python\\Python312\\Lib\\site-packages\\statsmodels\\genmod\\families\\family.py:1650: RuntimeWarning: invalid value encountered in log\n",
      "  endog * np.log(endog / mu) + (mu - endog))\n"
     ]
    },
    {
     "name": "stdout",
     "output_type": "stream",
     "text": [
      "Model Number: 187 with model GLM in generation 0 of 5\n",
      "Template Eval Error: ValueError('The first guess on the deviance function returned a nan.  This could be a boundary  problem and should be reported.') in model 187 in generation 0: GLM\n",
      "Model Number: 188 with model ARDL in generation 0 of 5\n",
      "Model Number: 189 with model GLS in generation 0 of 5\n",
      "Model Number: 190 with model ARDL in generation 0 of 5\n",
      "Template Eval Error: ValueError(\"regression_type='User' but future_regressor not supplied\") in model 190 in generation 0: ARDL\n",
      "Model Number: 191 with model SeasonalityMotif in generation 0 of 5\n",
      "Model Number: 192 with model LastValueNaive in generation 0 of 5\n"
     ]
    },
    {
     "name": "stderr",
     "output_type": "stream",
     "text": [
      "C:\\Users\\premkumar\\AppData\\Local\\Programs\\Python\\Python312\\Lib\\site-packages\\autots\\models\\base.py:1025: RuntimeWarning: invalid value encountered in divide\n",
      "  smape_cons = (np.nansum(wsmape_df, axis=1) * 200) / np.count_nonzero(\n",
      "C:\\Users\\premkumar\\AppData\\Local\\Programs\\Python\\Python312\\Lib\\site-packages\\autots\\models\\base.py:1025: RuntimeWarning: invalid value encountered in divide\n",
      "  smape_cons = (np.nansum(wsmape_df, axis=1) * 200) / np.count_nonzero(\n",
      "C:\\Users\\premkumar\\AppData\\Local\\Programs\\Python\\Python312\\Lib\\site-packages\\autots\\models\\base.py:1025: RuntimeWarning: invalid value encountered in divide\n",
      "  smape_cons = (np.nansum(wsmape_df, axis=1) * 200) / np.count_nonzero(\n",
      "C:\\Users\\premkumar\\AppData\\Local\\Programs\\Python\\Python312\\Lib\\site-packages\\autots\\models\\base.py:1025: RuntimeWarning: invalid value encountered in divide\n",
      "  smape_cons = (np.nansum(wsmape_df, axis=1) * 200) / np.count_nonzero(\n"
     ]
    },
    {
     "name": "stdout",
     "output_type": "stream",
     "text": [
      "Model Number: 193 with model VAR in generation 0 of 5\n",
      "Template Eval Error: ValueError('Only gave one variable to VAR') in model 193 in generation 0: VAR\n",
      "Model Number: 194 with model ConstantNaive in generation 0 of 5\n",
      "Model Number: 195 with model Theta in generation 0 of 5\n"
     ]
    },
    {
     "name": "stderr",
     "output_type": "stream",
     "text": [
      "C:\\Users\\premkumar\\AppData\\Local\\Programs\\Python\\Python312\\Lib\\site-packages\\autots\\models\\base.py:1025: RuntimeWarning: invalid value encountered in divide\n",
      "  smape_cons = (np.nansum(wsmape_df, axis=1) * 200) / np.count_nonzero(\n",
      "C:\\Users\\premkumar\\AppData\\Local\\Programs\\Python\\Python312\\Lib\\site-packages\\autots\\models\\base.py:1025: RuntimeWarning: invalid value encountered in divide\n",
      "  smape_cons = (np.nansum(wsmape_df, axis=1) * 200) / np.count_nonzero(\n"
     ]
    },
    {
     "name": "stdout",
     "output_type": "stream",
     "text": [
      "Model Number: 196 with model UnobservedComponents in generation 0 of 5\n",
      "Model Number: 197 with model WindowRegression in generation 0 of 5\n",
      "Model Number: 198 with model UnivariateMotif in generation 0 of 5\n"
     ]
    },
    {
     "name": "stderr",
     "output_type": "stream",
     "text": [
      "C:\\Users\\premkumar\\AppData\\Local\\Programs\\Python\\Python312\\Lib\\site-packages\\autots\\models\\base.py:1025: RuntimeWarning: invalid value encountered in divide\n",
      "  smape_cons = (np.nansum(wsmape_df, axis=1) * 200) / np.count_nonzero(\n",
      "C:\\Users\\premkumar\\AppData\\Local\\Programs\\Python\\Python312\\Lib\\site-packages\\autots\\tools\\transform.py:5472: FutureWarning: Downcasting object dtype arrays on .fillna, .ffill, .bfill is deprecated and will change in a future version. Call result.infer_objects(copy=False) instead. To opt-in to the future behavior, set `pd.set_option('future.no_silent_downcasting', True)`\n",
      "  df = df.fillna(0)\n",
      "C:\\Users\\premkumar\\AppData\\Local\\Programs\\Python\\Python312\\Lib\\site-packages\\autots\\tools\\transform.py:5472: FutureWarning: Downcasting object dtype arrays on .fillna, .ffill, .bfill is deprecated and will change in a future version. Call result.infer_objects(copy=False) instead. To opt-in to the future behavior, set `pd.set_option('future.no_silent_downcasting', True)`\n",
      "  df = df.fillna(0)\n",
      "C:\\Users\\premkumar\\AppData\\Local\\Programs\\Python\\Python312\\Lib\\site-packages\\autots\\models\\base.py:1025: RuntimeWarning: invalid value encountered in divide\n",
      "  smape_cons = (np.nansum(wsmape_df, axis=1) * 200) / np.count_nonzero(\n",
      "C:\\Users\\premkumar\\AppData\\Local\\Programs\\Python\\Python312\\Lib\\site-packages\\autots\\models\\base.py:1025: RuntimeWarning: invalid value encountered in divide\n",
      "  smape_cons = (np.nansum(wsmape_df, axis=1) * 200) / np.count_nonzero(\n",
      "C:\\Users\\premkumar\\AppData\\Local\\Programs\\Python\\Python312\\Lib\\site-packages\\autots\\tools\\anomaly_utils.py:1115: FutureWarning: Downcasting object dtype arrays on .fillna, .ffill, .bfill is deprecated and will change in a future version. Call result.infer_objects(copy=False) instead. To opt-in to the future behavior, set `pd.set_option('future.no_silent_downcasting', True)`\n",
      "  result = result + temp.where(temp.isnull(), 1).fillna(0)\n",
      "C:\\Users\\premkumar\\AppData\\Local\\Programs\\Python\\Python312\\Lib\\site-packages\\autots\\tools\\anomaly_utils.py:1115: FutureWarning: Downcasting object dtype arrays on .fillna, .ffill, .bfill is deprecated and will change in a future version. Call result.infer_objects(copy=False) instead. To opt-in to the future behavior, set `pd.set_option('future.no_silent_downcasting', True)`\n",
      "  result = result + temp.where(temp.isnull(), 1).fillna(0)\n"
     ]
    },
    {
     "name": "stdout",
     "output_type": "stream",
     "text": [
      "Model Number: 199 with model WindowRegression in generation 0 of 5\n",
      "Template Eval Error: Exception(\"Transformer AlignLastValue failed on inverse from params mean {'0': {'rows': 1, 'lag': 1, 'method': 'additive', 'strength': 1.0, 'first_value_only': True, 'threshold': 1}, '1': {}, '2': {'rows': 7, 'lag': 1, 'method': 'additive', 'strength': 1.0, 'first_value_only': False, 'threshold': 10}}\") in model 199 in generation 0: WindowRegression\n",
      "Model Number: 200 with model MultivariateRegression in generation 0 of 5\n",
      "Template Eval Error: ModuleNotFoundError(\"No module named 'xgboost'\") in model 200 in generation 0: MultivariateRegression\n",
      "Model Number: 201 with model RRVAR in generation 0 of 5\n",
      "New Generation: 1 of 5\n"
     ]
    },
    {
     "name": "stderr",
     "output_type": "stream",
     "text": [
      "C:\\Users\\premkumar\\AppData\\Local\\Programs\\Python\\Python312\\Lib\\site-packages\\autots\\models\\base.py:1025: RuntimeWarning: invalid value encountered in divide\n",
      "  smape_cons = (np.nansum(wsmape_df, axis=1) * 200) / np.count_nonzero(\n"
     ]
    },
    {
     "name": "stdout",
     "output_type": "stream",
     "text": [
      "Model Number: 202 with model Cassandra in generation 1 of 5\n"
     ]
    },
    {
     "name": "stderr",
     "output_type": "stream",
     "text": [
      "C:\\Users\\premkumar\\AppData\\Local\\Programs\\Python\\Python312\\Lib\\site-packages\\autots\\models\\base.py:1025: RuntimeWarning: invalid value encountered in divide\n",
      "  smape_cons = (np.nansum(wsmape_df, axis=1) * 200) / np.count_nonzero(\n"
     ]
    },
    {
     "name": "stdout",
     "output_type": "stream",
     "text": [
      "Model Number: 203 with model ARIMA in generation 1 of 5\n",
      "Model Number: 204 with model ConstantNaive in generation 1 of 5\n",
      "Model Number: 205 with model SeasonalityMotif in generation 1 of 5\n"
     ]
    },
    {
     "name": "stderr",
     "output_type": "stream",
     "text": [
      "C:\\Users\\premkumar\\AppData\\Local\\Programs\\Python\\Python312\\Lib\\site-packages\\autots\\models\\base.py:1025: RuntimeWarning: invalid value encountered in divide\n",
      "  smape_cons = (np.nansum(wsmape_df, axis=1) * 200) / np.count_nonzero(\n",
      "C:\\Users\\premkumar\\AppData\\Local\\Programs\\Python\\Python312\\Lib\\site-packages\\autots\\models\\base.py:1025: RuntimeWarning: invalid value encountered in divide\n",
      "  smape_cons = (np.nansum(wsmape_df, axis=1) * 200) / np.count_nonzero(\n",
      "C:\\Users\\premkumar\\AppData\\Local\\Programs\\Python\\Python312\\Lib\\site-packages\\autots\\models\\base.py:1025: RuntimeWarning: invalid value encountered in divide\n",
      "  smape_cons = (np.nansum(wsmape_df, axis=1) * 200) / np.count_nonzero(\n"
     ]
    },
    {
     "name": "stdout",
     "output_type": "stream",
     "text": [
      "Model Number: 206 with model ARDL in generation 1 of 5\n",
      "Template Eval Error: ValueError(\"regression_type='User' but future_regressor not supplied\") in model 206 in generation 1: ARDL\n",
      "Model Number: 207 with model Theta in generation 1 of 5\n",
      "Model Number: 208 with model LastValueNaive in generation 1 of 5\n",
      "Model Number: 209 with model WindowRegression in generation 1 of 5\n",
      "Template Eval Error: ModuleNotFoundError(\"No module named 'xgboost'\") in model 209 in generation 1: WindowRegression\n",
      "Model Number: 210 with model SectionalMotif in generation 1 of 5\n",
      "Model Number: 211 with model ARIMA in generation 1 of 5\n"
     ]
    },
    {
     "name": "stderr",
     "output_type": "stream",
     "text": [
      "C:\\Users\\premkumar\\AppData\\Local\\Programs\\Python\\Python312\\Lib\\site-packages\\autots\\models\\base.py:1025: RuntimeWarning: invalid value encountered in divide\n",
      "  smape_cons = (np.nansum(wsmape_df, axis=1) * 200) / np.count_nonzero(\n",
      "C:\\Users\\premkumar\\AppData\\Local\\Programs\\Python\\Python312\\Lib\\site-packages\\autots\\models\\base.py:1025: RuntimeWarning: invalid value encountered in divide\n",
      "  smape_cons = (np.nansum(wsmape_df, axis=1) * 200) / np.count_nonzero(\n",
      "C:\\Users\\premkumar\\AppData\\Local\\Programs\\Python\\Python312\\Lib\\site-packages\\autots\\models\\base.py:1025: RuntimeWarning: invalid value encountered in divide\n",
      "  smape_cons = (np.nansum(wsmape_df, axis=1) * 200) / np.count_nonzero(\n"
     ]
    },
    {
     "name": "stdout",
     "output_type": "stream",
     "text": [
      "Model Number: 212 with model WindowRegression in generation 1 of 5\n",
      "Model Number: 213 with model NVAR in generation 1 of 5\n",
      "Model Number: 214 with model GLS in generation 1 of 5\n",
      "Model Number: 215 with model LastValueNaive in generation 1 of 5\n",
      "Model Number: 216 with model NVAR in generation 1 of 5\n",
      "Model Number: 217 with model AverageValueNaive in generation 1 of 5\n"
     ]
    },
    {
     "name": "stderr",
     "output_type": "stream",
     "text": [
      "C:\\Users\\premkumar\\AppData\\Local\\Programs\\Python\\Python312\\Lib\\site-packages\\autots\\models\\base.py:1025: RuntimeWarning: invalid value encountered in divide\n",
      "  smape_cons = (np.nansum(wsmape_df, axis=1) * 200) / np.count_nonzero(\n",
      "C:\\Users\\premkumar\\AppData\\Local\\Programs\\Python\\Python312\\Lib\\site-packages\\autots\\models\\base.py:1025: RuntimeWarning: invalid value encountered in divide\n",
      "  smape_cons = (np.nansum(wsmape_df, axis=1) * 200) / np.count_nonzero(\n",
      "C:\\Users\\premkumar\\AppData\\Local\\Programs\\Python\\Python312\\Lib\\site-packages\\autots\\models\\base.py:1025: RuntimeWarning: invalid value encountered in divide\n",
      "  smape_cons = (np.nansum(wsmape_df, axis=1) * 200) / np.count_nonzero(\n",
      "C:\\Users\\premkumar\\AppData\\Local\\Programs\\Python\\Python312\\Lib\\site-packages\\autots\\models\\base.py:1025: RuntimeWarning: invalid value encountered in divide\n",
      "  smape_cons = (np.nansum(wsmape_df, axis=1) * 200) / np.count_nonzero(\n",
      "C:\\Users\\premkumar\\AppData\\Local\\Programs\\Python\\Python312\\Lib\\site-packages\\autots\\models\\base.py:1025: RuntimeWarning: invalid value encountered in divide\n",
      "  smape_cons = (np.nansum(wsmape_df, axis=1) * 200) / np.count_nonzero(\n",
      "C:\\Users\\premkumar\\AppData\\Local\\Programs\\Python\\Python312\\Lib\\site-packages\\autots\\models\\base.py:1025: RuntimeWarning: invalid value encountered in divide\n",
      "  smape_cons = (np.nansum(wsmape_df, axis=1) * 200) / np.count_nonzero(\n"
     ]
    },
    {
     "name": "stdout",
     "output_type": "stream",
     "text": [
      "Model Number: 218 with model WindowRegression in generation 1 of 5\n"
     ]
    },
    {
     "name": "stderr",
     "output_type": "stream",
     "text": [
      "C:\\Users\\premkumar\\AppData\\Local\\Programs\\Python\\Python312\\Lib\\site-packages\\autots\\models\\base.py:1025: RuntimeWarning: invalid value encountered in divide\n",
      "  smape_cons = (np.nansum(wsmape_df, axis=1) * 200) / np.count_nonzero(\n"
     ]
    },
    {
     "name": "stdout",
     "output_type": "stream",
     "text": [
      "Model Number: 219 with model GLS in generation 1 of 5\n",
      "Model Number: 220 with model MetricMotif in generation 1 of 5\n",
      "Model Number: 221 with model SectionalMotif in generation 1 of 5\n"
     ]
    },
    {
     "name": "stderr",
     "output_type": "stream",
     "text": [
      "C:\\Users\\premkumar\\AppData\\Local\\Programs\\Python\\Python312\\Lib\\site-packages\\sklearn\\neural_network\\_multilayer_perceptron.py:691: ConvergenceWarning: Stochastic Optimizer: Maximum iterations (250) reached and the optimization hasn't converged yet.\n",
      "  warnings.warn(\n",
      "C:\\Users\\premkumar\\AppData\\Local\\Programs\\Python\\Python312\\Lib\\site-packages\\autots\\models\\base.py:1025: RuntimeWarning: invalid value encountered in divide\n",
      "  smape_cons = (np.nansum(wsmape_df, axis=1) * 200) / np.count_nonzero(\n",
      "C:\\Users\\premkumar\\AppData\\Local\\Programs\\Python\\Python312\\Lib\\site-packages\\autots\\models\\base.py:1025: RuntimeWarning: invalid value encountered in divide\n",
      "  smape_cons = (np.nansum(wsmape_df, axis=1) * 200) / np.count_nonzero(\n",
      "C:\\Users\\premkumar\\AppData\\Local\\Programs\\Python\\Python312\\Lib\\site-packages\\autots\\models\\base.py:1025: RuntimeWarning: invalid value encountered in divide\n",
      "  smape_cons = (np.nansum(wsmape_df, axis=1) * 200) / np.count_nonzero(\n",
      "C:\\Users\\premkumar\\AppData\\Local\\Programs\\Python\\Python312\\Lib\\site-packages\\autots\\models\\base.py:1025: RuntimeWarning: invalid value encountered in divide\n",
      "  smape_cons = (np.nansum(wsmape_df, axis=1) * 200) / np.count_nonzero(\n"
     ]
    },
    {
     "name": "stdout",
     "output_type": "stream",
     "text": [
      "Model Number: 222 with model Cassandra in generation 1 of 5\n",
      "Model Number: 223 with model MetricMotif in generation 1 of 5\n"
     ]
    },
    {
     "name": "stderr",
     "output_type": "stream",
     "text": [
      "C:\\Users\\premkumar\\AppData\\Local\\Programs\\Python\\Python312\\Lib\\site-packages\\autots\\models\\base.py:1025: RuntimeWarning: invalid value encountered in divide\n",
      "  smape_cons = (np.nansum(wsmape_df, axis=1) * 200) / np.count_nonzero(\n",
      "C:\\Users\\premkumar\\AppData\\Local\\Programs\\Python\\Python312\\Lib\\site-packages\\autots\\models\\base.py:1025: RuntimeWarning: invalid value encountered in divide\n",
      "  smape_cons = (np.nansum(wsmape_df, axis=1) * 200) / np.count_nonzero(\n"
     ]
    },
    {
     "name": "stdout",
     "output_type": "stream",
     "text": [
      "Model Number: 224 with model UnobservedComponents in generation 1 of 5\n"
     ]
    },
    {
     "name": "stderr",
     "output_type": "stream",
     "text": [
      "C:\\Users\\premkumar\\AppData\\Local\\Programs\\Python\\Python312\\Lib\\site-packages\\autots\\models\\base.py:1025: RuntimeWarning: invalid value encountered in divide\n",
      "  smape_cons = (np.nansum(wsmape_df, axis=1) * 200) / np.count_nonzero(\n"
     ]
    },
    {
     "name": "stdout",
     "output_type": "stream",
     "text": [
      "Model Number: 225 with model UnobservedComponents in generation 1 of 5\n",
      "Model Number: 226 with model ETS in generation 1 of 5\n",
      "Model Number: 227 with model LastValueNaive in generation 1 of 5\n"
     ]
    },
    {
     "name": "stderr",
     "output_type": "stream",
     "text": [
      "C:\\Users\\premkumar\\AppData\\Local\\Programs\\Python\\Python312\\Lib\\site-packages\\autots\\models\\base.py:1025: RuntimeWarning: invalid value encountered in divide\n",
      "  smape_cons = (np.nansum(wsmape_df, axis=1) * 200) / np.count_nonzero(\n",
      "C:\\Users\\premkumar\\AppData\\Local\\Programs\\Python\\Python312\\Lib\\site-packages\\autots\\models\\base.py:1025: RuntimeWarning: invalid value encountered in divide\n",
      "  smape_cons = (np.nansum(wsmape_df, axis=1) * 200) / np.count_nonzero(\n",
      "C:\\Users\\premkumar\\AppData\\Local\\Programs\\Python\\Python312\\Lib\\site-packages\\autots\\models\\base.py:1025: RuntimeWarning: invalid value encountered in divide\n",
      "  smape_cons = (np.nansum(wsmape_df, axis=1) * 200) / np.count_nonzero(\n"
     ]
    },
    {
     "name": "stdout",
     "output_type": "stream",
     "text": [
      "Model Number: 228 with model GLM in generation 1 of 5\n",
      "Model Number: 229 with model DatepartRegression in generation 1 of 5\n"
     ]
    },
    {
     "name": "stderr",
     "output_type": "stream",
     "text": [
      "C:\\Users\\premkumar\\AppData\\Local\\Programs\\Python\\Python312\\Lib\\site-packages\\autots\\models\\base.py:1025: RuntimeWarning: invalid value encountered in divide\n",
      "  smape_cons = (np.nansum(wsmape_df, axis=1) * 200) / np.count_nonzero(\n",
      "C:\\Users\\premkumar\\AppData\\Local\\Programs\\Python\\Python312\\Lib\\site-packages\\autots\\models\\base.py:1025: RuntimeWarning: invalid value encountered in divide\n",
      "  smape_cons = (np.nansum(wsmape_df, axis=1) * 200) / np.count_nonzero(\n"
     ]
    },
    {
     "name": "stdout",
     "output_type": "stream",
     "text": [
      "Model Number: 230 with model ARIMA in generation 1 of 5\n",
      "Model Number: 231 with model ConstantNaive in generation 1 of 5\n",
      "Model Number: 232 with model LastValueNaive in generation 1 of 5\n",
      "Template Eval Error: Exception(\"Transformer AlignLastValue failed on inverse from params ffill {'0': {'rows': 1, 'lag': 1, 'method': 'additive', 'strength': 1.0, 'first_value_only': False, 'threshold': 10}, '1': {}, '2': {'center': 'mean'}, '3': {'rows': 1, 'lag': 1, 'method': 'additive', 'strength': 1.0, 'first_value_only': True, 'threshold': 10}, '4': {'lag_1': 7, 'method': 'Mean'}}\") in model 232 in generation 1: LastValueNaive\n",
      "Model Number: 233 with model ConstantNaive in generation 1 of 5\n",
      "Model Number: 234 with model UnivariateMotif in generation 1 of 5\n",
      "Model Number: 235 with model NVAR in generation 1 of 5\n",
      "Model Number: 236 with model MultivariateMotif in generation 1 of 5\n",
      "Model Number: 237 with model AverageValueNaive in generation 1 of 5\n"
     ]
    },
    {
     "name": "stderr",
     "output_type": "stream",
     "text": [
      "C:\\Users\\premkumar\\AppData\\Local\\Programs\\Python\\Python312\\Lib\\site-packages\\autots\\models\\base.py:1025: RuntimeWarning: invalid value encountered in divide\n",
      "  smape_cons = (np.nansum(wsmape_df, axis=1) * 200) / np.count_nonzero(\n",
      "C:\\Users\\premkumar\\AppData\\Local\\Programs\\Python\\Python312\\Lib\\site-packages\\autots\\models\\base.py:1025: RuntimeWarning: invalid value encountered in divide\n",
      "  smape_cons = (np.nansum(wsmape_df, axis=1) * 200) / np.count_nonzero(\n",
      "C:\\Users\\premkumar\\AppData\\Local\\Programs\\Python\\Python312\\Lib\\site-packages\\autots\\models\\base.py:1025: RuntimeWarning: invalid value encountered in divide\n",
      "  smape_cons = (np.nansum(wsmape_df, axis=1) * 200) / np.count_nonzero(\n",
      "C:\\Users\\premkumar\\AppData\\Local\\Programs\\Python\\Python312\\Lib\\site-packages\\autots\\models\\base.py:1025: RuntimeWarning: invalid value encountered in divide\n",
      "  smape_cons = (np.nansum(wsmape_df, axis=1) * 200) / np.count_nonzero(\n",
      "C:\\Users\\premkumar\\AppData\\Local\\Programs\\Python\\Python312\\Lib\\site-packages\\autots\\models\\base.py:1025: RuntimeWarning: invalid value encountered in divide\n",
      "  smape_cons = (np.nansum(wsmape_df, axis=1) * 200) / np.count_nonzero(\n",
      "C:\\Users\\premkumar\\AppData\\Local\\Programs\\Python\\Python312\\Lib\\site-packages\\autots\\models\\base.py:1025: RuntimeWarning: invalid value encountered in divide\n",
      "  smape_cons = (np.nansum(wsmape_df, axis=1) * 200) / np.count_nonzero(\n"
     ]
    },
    {
     "name": "stdout",
     "output_type": "stream",
     "text": [
      "Model Number: 238 with model UnobservedComponents in generation 1 of 5\n"
     ]
    },
    {
     "name": "stderr",
     "output_type": "stream",
     "text": [
      "C:\\Users\\premkumar\\AppData\\Local\\Programs\\Python\\Python312\\Lib\\site-packages\\autots\\models\\base.py:1025: RuntimeWarning: invalid value encountered in divide\n",
      "  smape_cons = (np.nansum(wsmape_df, axis=1) * 200) / np.count_nonzero(\n"
     ]
    },
    {
     "name": "stdout",
     "output_type": "stream",
     "text": [
      "Model Number: 239 with model AverageValueNaive in generation 1 of 5\n",
      "Model Number: 240 with model AverageValueNaive in generation 1 of 5\n"
     ]
    },
    {
     "name": "stderr",
     "output_type": "stream",
     "text": [
      "C:\\Users\\premkumar\\AppData\\Local\\Programs\\Python\\Python312\\Lib\\site-packages\\autots\\models\\base.py:1025: RuntimeWarning: invalid value encountered in divide\n",
      "  smape_cons = (np.nansum(wsmape_df, axis=1) * 200) / np.count_nonzero(\n",
      "C:\\Users\\premkumar\\AppData\\Local\\Programs\\Python\\Python312\\Lib\\site-packages\\autots\\models\\base.py:1025: RuntimeWarning: invalid value encountered in divide\n",
      "  smape_cons = (np.nansum(wsmape_df, axis=1) * 200) / np.count_nonzero(\n",
      "C:\\Users\\premkumar\\AppData\\Local\\Programs\\Python\\Python312\\Lib\\site-packages\\autots\\models\\base.py:1025: RuntimeWarning: invalid value encountered in divide\n",
      "  smape_cons = (np.nansum(wsmape_df, axis=1) * 200) / np.count_nonzero(\n"
     ]
    },
    {
     "name": "stdout",
     "output_type": "stream",
     "text": [
      "Model Number: 241 with model Cassandra in generation 1 of 5\n",
      "Model Number: 242 with model NVAR in generation 1 of 5\n",
      "Model Number: 243 with model DatepartRegression in generation 1 of 5\n"
     ]
    },
    {
     "name": "stderr",
     "output_type": "stream",
     "text": [
      "C:\\Users\\premkumar\\AppData\\Local\\Programs\\Python\\Python312\\Lib\\site-packages\\autots\\models\\base.py:1025: RuntimeWarning: invalid value encountered in divide\n",
      "  smape_cons = (np.nansum(wsmape_df, axis=1) * 200) / np.count_nonzero(\n",
      "C:\\Users\\premkumar\\AppData\\Local\\Programs\\Python\\Python312\\Lib\\site-packages\\autots\\models\\base.py:1025: RuntimeWarning: invalid value encountered in divide\n",
      "  smape_cons = (np.nansum(wsmape_df, axis=1) * 200) / np.count_nonzero(\n",
      "C:\\Users\\premkumar\\AppData\\Local\\Programs\\Python\\Python312\\Lib\\site-packages\\autots\\models\\base.py:1025: RuntimeWarning: invalid value encountered in divide\n",
      "  smape_cons = (np.nansum(wsmape_df, axis=1) * 200) / np.count_nonzero(\n"
     ]
    },
    {
     "name": "stdout",
     "output_type": "stream",
     "text": [
      "Model Number: 244 with model WindowRegression in generation 1 of 5\n",
      "Template Eval Error: ModuleNotFoundError(\"No module named 'lightgbm'\") in model 244 in generation 1: WindowRegression\n",
      "Model Number: 245 with model Theta in generation 1 of 5\n",
      "Model Number: 246 with model UnivariateMotif in generation 1 of 5\n",
      "Model Number: 247 with model MultivariateMotif in generation 1 of 5\n"
     ]
    },
    {
     "name": "stderr",
     "output_type": "stream",
     "text": [
      "C:\\Users\\premkumar\\AppData\\Local\\Programs\\Python\\Python312\\Lib\\site-packages\\autots\\models\\base.py:1025: RuntimeWarning: invalid value encountered in divide\n",
      "  smape_cons = (np.nansum(wsmape_df, axis=1) * 200) / np.count_nonzero(\n",
      "C:\\Users\\premkumar\\AppData\\Local\\Programs\\Python\\Python312\\Lib\\site-packages\\autots\\models\\base.py:1025: RuntimeWarning: invalid value encountered in divide\n",
      "  smape_cons = (np.nansum(wsmape_df, axis=1) * 200) / np.count_nonzero(\n",
      "C:\\Users\\premkumar\\AppData\\Local\\Programs\\Python\\Python312\\Lib\\site-packages\\autots\\models\\base.py:1025: RuntimeWarning: invalid value encountered in divide\n",
      "  smape_cons = (np.nansum(wsmape_df, axis=1) * 200) / np.count_nonzero(\n",
      "C:\\Users\\premkumar\\AppData\\Local\\Programs\\Python\\Python312\\Lib\\site-packages\\sklearn\\neighbors\\_classification.py:238: DataConversionWarning: A column-vector y was passed when a 1d array was expected. Please change the shape of y to (n_samples,), for example using ravel().\n",
      "  return self._fit(X, y)\n"
     ]
    },
    {
     "name": "stdout",
     "output_type": "stream",
     "text": [
      "Model Number: 248 with model LastValueNaive in generation 1 of 5\n"
     ]
    },
    {
     "name": "stderr",
     "output_type": "stream",
     "text": [
      "C:\\Users\\premkumar\\AppData\\Local\\Programs\\Python\\Python312\\Lib\\site-packages\\autots\\models\\base.py:1025: RuntimeWarning: invalid value encountered in divide\n",
      "  smape_cons = (np.nansum(wsmape_df, axis=1) * 200) / np.count_nonzero(\n"
     ]
    },
    {
     "name": "stdout",
     "output_type": "stream",
     "text": [
      "Model Number: 249 with model FFT in generation 1 of 5\n",
      "Model Number: 250 with model SeasonalNaive in generation 1 of 5\n",
      "Model Number: 251 with model SectionalMotif in generation 1 of 5\n"
     ]
    },
    {
     "name": "stderr",
     "output_type": "stream",
     "text": [
      "C:\\Users\\premkumar\\AppData\\Local\\Programs\\Python\\Python312\\Lib\\site-packages\\autots\\models\\base.py:1025: RuntimeWarning: invalid value encountered in divide\n",
      "  smape_cons = (np.nansum(wsmape_df, axis=1) * 200) / np.count_nonzero(\n",
      "C:\\Users\\premkumar\\AppData\\Local\\Programs\\Python\\Python312\\Lib\\site-packages\\autots\\models\\base.py:1025: RuntimeWarning: invalid value encountered in divide\n",
      "  smape_cons = (np.nansum(wsmape_df, axis=1) * 200) / np.count_nonzero(\n",
      "C:\\Users\\premkumar\\AppData\\Local\\Programs\\Python\\Python312\\Lib\\site-packages\\autots\\models\\base.py:1025: RuntimeWarning: invalid value encountered in divide\n",
      "  smape_cons = (np.nansum(wsmape_df, axis=1) * 200) / np.count_nonzero(\n"
     ]
    },
    {
     "name": "stdout",
     "output_type": "stream",
     "text": [
      "Model Number: 252 with model Cassandra in generation 1 of 5\n",
      "Model Number: 253 with model UnobservedComponents in generation 1 of 5\n",
      "Template Eval Error: ValueError(\"regression_type='User' but no future_regressor supplied\") in model 253 in generation 1: UnobservedComponents\n",
      "Model Number: 254 with model SeasonalNaive in generation 1 of 5\n",
      "Model Number: 255 with model SeasonalityMotif in generation 1 of 5\n",
      "Model Number: 256 with model SeasonalityMotif in generation 1 of 5\n"
     ]
    },
    {
     "name": "stderr",
     "output_type": "stream",
     "text": [
      "C:\\Users\\premkumar\\AppData\\Local\\Programs\\Python\\Python312\\Lib\\site-packages\\autots\\models\\base.py:1025: RuntimeWarning: invalid value encountered in divide\n",
      "  smape_cons = (np.nansum(wsmape_df, axis=1) * 200) / np.count_nonzero(\n",
      "C:\\Users\\premkumar\\AppData\\Local\\Programs\\Python\\Python312\\Lib\\site-packages\\autots\\models\\base.py:1025: RuntimeWarning: invalid value encountered in divide\n",
      "  smape_cons = (np.nansum(wsmape_df, axis=1) * 200) / np.count_nonzero(\n",
      "C:\\Users\\premkumar\\AppData\\Local\\Programs\\Python\\Python312\\Lib\\site-packages\\autots\\models\\base.py:1025: RuntimeWarning: invalid value encountered in divide\n",
      "  smape_cons = (np.nansum(wsmape_df, axis=1) * 200) / np.count_nonzero(\n",
      "C:\\Users\\premkumar\\AppData\\Local\\Programs\\Python\\Python312\\Lib\\site-packages\\autots\\models\\base.py:1025: RuntimeWarning: invalid value encountered in divide\n",
      "  smape_cons = (np.nansum(wsmape_df, axis=1) * 200) / np.count_nonzero(\n"
     ]
    },
    {
     "name": "stdout",
     "output_type": "stream",
     "text": [
      "Model Number: 257 with model Theta in generation 1 of 5\n"
     ]
    },
    {
     "name": "stderr",
     "output_type": "stream",
     "text": [
      "C:\\Users\\premkumar\\AppData\\Local\\Programs\\Python\\Python312\\Lib\\site-packages\\autots\\models\\base.py:1025: RuntimeWarning: invalid value encountered in divide\n",
      "  smape_cons = (np.nansum(wsmape_df, axis=1) * 200) / np.count_nonzero(\n"
     ]
    },
    {
     "name": "stdout",
     "output_type": "stream",
     "text": [
      "Model Number: 258 with model ETS in generation 1 of 5\n",
      "Model Number: 259 with model UnivariateMotif in generation 1 of 5\n",
      "Model Number: 260 with model SeasonalNaive in generation 1 of 5\n",
      "Model Number: 261 with model UnivariateMotif in generation 1 of 5\n",
      "Model Number: 262 with model ETS in generation 1 of 5\n"
     ]
    },
    {
     "name": "stderr",
     "output_type": "stream",
     "text": [
      "C:\\Users\\premkumar\\AppData\\Local\\Programs\\Python\\Python312\\Lib\\site-packages\\autots\\models\\base.py:1025: RuntimeWarning: invalid value encountered in divide\n",
      "  smape_cons = (np.nansum(wsmape_df, axis=1) * 200) / np.count_nonzero(\n",
      "C:\\Users\\premkumar\\AppData\\Local\\Programs\\Python\\Python312\\Lib\\site-packages\\autots\\models\\base.py:1025: RuntimeWarning: invalid value encountered in divide\n",
      "  smape_cons = (np.nansum(wsmape_df, axis=1) * 200) / np.count_nonzero(\n",
      "C:\\Users\\premkumar\\AppData\\Local\\Programs\\Python\\Python312\\Lib\\site-packages\\autots\\models\\base.py:1025: RuntimeWarning: invalid value encountered in divide\n",
      "  smape_cons = (np.nansum(wsmape_df, axis=1) * 200) / np.count_nonzero(\n",
      "C:\\Users\\premkumar\\AppData\\Local\\Programs\\Python\\Python312\\Lib\\site-packages\\autots\\tools\\transform.py:5472: FutureWarning: Downcasting object dtype arrays on .fillna, .ffill, .bfill is deprecated and will change in a future version. Call result.infer_objects(copy=False) instead. To opt-in to the future behavior, set `pd.set_option('future.no_silent_downcasting', True)`\n",
      "  df = df.fillna(0)\n",
      "C:\\Users\\premkumar\\AppData\\Local\\Programs\\Python\\Python312\\Lib\\site-packages\\autots\\tools\\transform.py:5472: FutureWarning: Downcasting object dtype arrays on .fillna, .ffill, .bfill is deprecated and will change in a future version. Call result.infer_objects(copy=False) instead. To opt-in to the future behavior, set `pd.set_option('future.no_silent_downcasting', True)`\n",
      "  df = df.fillna(0)\n",
      "C:\\Users\\premkumar\\AppData\\Local\\Programs\\Python\\Python312\\Lib\\site-packages\\autots\\models\\base.py:1025: RuntimeWarning: invalid value encountered in divide\n",
      "  smape_cons = (np.nansum(wsmape_df, axis=1) * 200) / np.count_nonzero(\n",
      "C:\\Users\\premkumar\\AppData\\Local\\Programs\\Python\\Python312\\Lib\\site-packages\\autots\\models\\base.py:1025: RuntimeWarning: invalid value encountered in divide\n",
      "  smape_cons = (np.nansum(wsmape_df, axis=1) * 200) / np.count_nonzero(\n"
     ]
    },
    {
     "name": "stdout",
     "output_type": "stream",
     "text": [
      "Model Number: 263 with model NVAR in generation 1 of 5\n",
      "Model Number: 264 with model SectionalMotif in generation 1 of 5\n",
      "Model Number: 265 with model GLS in generation 1 of 5\n",
      "Model Number: 266 with model ETS in generation 1 of 5\n"
     ]
    },
    {
     "name": "stderr",
     "output_type": "stream",
     "text": [
      "C:\\Users\\premkumar\\AppData\\Local\\Programs\\Python\\Python312\\Lib\\site-packages\\autots\\models\\base.py:1025: RuntimeWarning: invalid value encountered in divide\n",
      "  smape_cons = (np.nansum(wsmape_df, axis=1) * 200) / np.count_nonzero(\n",
      "C:\\Users\\premkumar\\AppData\\Local\\Programs\\Python\\Python312\\Lib\\site-packages\\autots\\models\\base.py:1025: RuntimeWarning: invalid value encountered in divide\n",
      "  smape_cons = (np.nansum(wsmape_df, axis=1) * 200) / np.count_nonzero(\n",
      "C:\\Users\\premkumar\\AppData\\Local\\Programs\\Python\\Python312\\Lib\\site-packages\\autots\\models\\base.py:1025: RuntimeWarning: invalid value encountered in divide\n",
      "  smape_cons = (np.nansum(wsmape_df, axis=1) * 200) / np.count_nonzero(\n",
      "C:\\Users\\premkumar\\AppData\\Local\\Programs\\Python\\Python312\\Lib\\site-packages\\autots\\models\\base.py:1025: RuntimeWarning: invalid value encountered in divide\n",
      "  smape_cons = (np.nansum(wsmape_df, axis=1) * 200) / np.count_nonzero(\n"
     ]
    },
    {
     "name": "stdout",
     "output_type": "stream",
     "text": [
      "Model Number: 267 with model ConstantNaive in generation 1 of 5\n",
      "Model Number: 268 with model UnivariateMotif in generation 1 of 5\n",
      "Model Number: 269 with model SectionalMotif in generation 1 of 5\n",
      "Model Number: 270 with model MultivariateRegression in generation 1 of 5"
     ]
    },
    {
     "name": "stderr",
     "output_type": "stream",
     "text": [
      "C:\\Users\\premkumar\\AppData\\Local\\Programs\\Python\\Python312\\Lib\\site-packages\\autots\\models\\base.py:1025: RuntimeWarning: invalid value encountered in divide\n",
      "  smape_cons = (np.nansum(wsmape_df, axis=1) * 200) / np.count_nonzero(\n",
      "C:\\Users\\premkumar\\AppData\\Local\\Programs\\Python\\Python312\\Lib\\site-packages\\autots\\models\\base.py:1025: RuntimeWarning: invalid value encountered in divide\n",
      "  smape_cons = (np.nansum(wsmape_df, axis=1) * 200) / np.count_nonzero(\n",
      "C:\\Users\\premkumar\\AppData\\Local\\Programs\\Python\\Python312\\Lib\\site-packages\\autots\\models\\base.py:1025: RuntimeWarning: invalid value encountered in divide\n",
      "  smape_cons = (np.nansum(wsmape_df, axis=1) * 200) / np.count_nonzero(\n"
     ]
    },
    {
     "name": "stdout",
     "output_type": "stream",
     "text": [
      "\n"
     ]
    },
    {
     "name": "stderr",
     "output_type": "stream",
     "text": [
      "C:\\Users\\premkumar\\AppData\\Local\\Programs\\Python\\Python312\\Lib\\site-packages\\autots\\models\\base.py:1025: RuntimeWarning: invalid value encountered in divide\n",
      "  smape_cons = (np.nansum(wsmape_df, axis=1) * 200) / np.count_nonzero(\n"
     ]
    },
    {
     "name": "stdout",
     "output_type": "stream",
     "text": [
      "Model Number: 271 with model ARIMA in generation 1 of 5\n"
     ]
    },
    {
     "name": "stderr",
     "output_type": "stream",
     "text": [
      "C:\\Users\\premkumar\\AppData\\Local\\Programs\\Python\\Python312\\Lib\\site-packages\\autots\\models\\base.py:1025: RuntimeWarning: invalid value encountered in divide\n",
      "  smape_cons = (np.nansum(wsmape_df, axis=1) * 200) / np.count_nonzero(\n"
     ]
    },
    {
     "name": "stdout",
     "output_type": "stream",
     "text": [
      "Model Number: 272 with model GLM in generation 1 of 5\n",
      "Template Eval Error: ValueError('NaN, inf or invalid value detected in weights, estimation infeasible.') in model 272 in generation 1: GLM\n",
      "Model Number: 273 with model SectionalMotif in generation 1 of 5\n",
      "Model Number: 274 with model AverageValueNaive in generation 1 of 5\n",
      "Model Number: 275 with model Cassandra in generation 1 of 5\n"
     ]
    },
    {
     "name": "stderr",
     "output_type": "stream",
     "text": [
      "C:\\Users\\premkumar\\AppData\\Local\\Programs\\Python\\Python312\\Lib\\site-packages\\statsmodels\\genmod\\families\\links.py:527: RuntimeWarning: overflow encountered in exp\n",
      "  return np.exp(z)\n",
      "C:\\Users\\premkumar\\AppData\\Local\\Programs\\Python\\Python312\\Lib\\site-packages\\statsmodels\\genmod\\families\\family.py:445: RuntimeWarning: divide by zero encountered in divide\n",
      "  endog_mu = self._clean(endog / mu)\n",
      "C:\\Users\\premkumar\\AppData\\Local\\Programs\\Python\\Python312\\Lib\\site-packages\\statsmodels\\genmod\\families\\family.py:143: RuntimeWarning: invalid value encountered in multiply\n",
      "  return 1. / (self.link.deriv(mu)**2 * self.variance(mu))\n",
      "C:\\Users\\premkumar\\AppData\\Local\\Programs\\Python\\Python312\\Lib\\site-packages\\statsmodels\\genmod\\families\\family.py:143: RuntimeWarning: divide by zero encountered in divide\n",
      "  return 1. / (self.link.deriv(mu)**2 * self.variance(mu))\n",
      "C:\\Users\\premkumar\\AppData\\Local\\Programs\\Python\\Python312\\Lib\\site-packages\\statsmodels\\genmod\\generalized_linear_model.py:1328: RuntimeWarning: invalid value encountered in multiply\n",
      "  wlsendog = (lin_pred + self.family.link.deriv(mu) * (self.endog-mu)\n",
      "C:\\Users\\premkumar\\AppData\\Local\\Programs\\Python\\Python312\\Lib\\site-packages\\autots\\models\\base.py:1025: RuntimeWarning: invalid value encountered in divide\n",
      "  smape_cons = (np.nansum(wsmape_df, axis=1) * 200) / np.count_nonzero(\n",
      "C:\\Users\\premkumar\\AppData\\Local\\Programs\\Python\\Python312\\Lib\\site-packages\\autots\\models\\base.py:1025: RuntimeWarning: invalid value encountered in divide\n",
      "  smape_cons = (np.nansum(wsmape_df, axis=1) * 200) / np.count_nonzero(\n",
      "C:\\Users\\premkumar\\AppData\\Local\\Programs\\Python\\Python312\\Lib\\site-packages\\autots\\models\\base.py:1025: RuntimeWarning: invalid value encountered in divide\n",
      "  smape_cons = (np.nansum(wsmape_df, axis=1) * 200) / np.count_nonzero(\n"
     ]
    },
    {
     "name": "stdout",
     "output_type": "stream",
     "text": [
      "Model Number: 276 with model MultivariateMotif in generation 1 of 5\n",
      "Model Number: 277 with model UnobservedComponents in generation 1 of 5\n",
      "Model Number: 278 with model MultivariateMotif in generation 1 of 5\n",
      "Model Number: 279 with model UnivariateMotif in generation 1 of 5\n",
      "Model Number: 280 with model MultivariateRegression in generation 1 of 5\n",
      "Template Eval Error: ValueError(\"regression_type='User' but not future_regressor supplied.\") in model 280 in generation 1: MultivariateRegression\n",
      "Model Number: 281 with model LastValueNaive in generation 1 of 5\n",
      "Model Number: 282 with model SectionalMotif in generation 1 of 5\n",
      "Model Number: 283 with model LastValueNaive in generation 1 of 5\n",
      "Model Number: 284 with model NVAR in generation 1 of 5\n"
     ]
    },
    {
     "name": "stderr",
     "output_type": "stream",
     "text": [
      "C:\\Users\\premkumar\\AppData\\Local\\Programs\\Python\\Python312\\Lib\\site-packages\\autots\\models\\base.py:1025: RuntimeWarning: invalid value encountered in divide\n",
      "  smape_cons = (np.nansum(wsmape_df, axis=1) * 200) / np.count_nonzero(\n",
      "C:\\Users\\premkumar\\AppData\\Local\\Programs\\Python\\Python312\\Lib\\site-packages\\autots\\models\\base.py:1025: RuntimeWarning: invalid value encountered in divide\n",
      "  smape_cons = (np.nansum(wsmape_df, axis=1) * 200) / np.count_nonzero(\n",
      "C:\\Users\\premkumar\\AppData\\Local\\Programs\\Python\\Python312\\Lib\\site-packages\\autots\\models\\base.py:1025: RuntimeWarning: invalid value encountered in divide\n",
      "  smape_cons = (np.nansum(wsmape_df, axis=1) * 200) / np.count_nonzero(\n",
      "C:\\Users\\premkumar\\AppData\\Local\\Programs\\Python\\Python312\\Lib\\site-packages\\autots\\models\\base.py:1025: RuntimeWarning: invalid value encountered in divide\n",
      "  smape_cons = (np.nansum(wsmape_df, axis=1) * 200) / np.count_nonzero(\n",
      "C:\\Users\\premkumar\\AppData\\Local\\Programs\\Python\\Python312\\Lib\\site-packages\\autots\\models\\base.py:1025: RuntimeWarning: invalid value encountered in divide\n",
      "  smape_cons = (np.nansum(wsmape_df, axis=1) * 200) / np.count_nonzero(\n",
      "C:\\Users\\premkumar\\AppData\\Local\\Programs\\Python\\Python312\\Lib\\site-packages\\autots\\models\\base.py:1025: RuntimeWarning: invalid value encountered in divide\n",
      "  smape_cons = (np.nansum(wsmape_df, axis=1) * 200) / np.count_nonzero(\n",
      "C:\\Users\\premkumar\\AppData\\Local\\Programs\\Python\\Python312\\Lib\\site-packages\\autots\\models\\base.py:1025: RuntimeWarning: invalid value encountered in divide\n",
      "  smape_cons = (np.nansum(wsmape_df, axis=1) * 200) / np.count_nonzero(\n"
     ]
    },
    {
     "name": "stdout",
     "output_type": "stream",
     "text": [
      "Model Number: 285 with model MultivariateMotif in generation 1 of 5\n"
     ]
    },
    {
     "name": "stderr",
     "output_type": "stream",
     "text": [
      "C:\\Users\\premkumar\\AppData\\Local\\Programs\\Python\\Python312\\Lib\\site-packages\\autots\\models\\base.py:1025: RuntimeWarning: invalid value encountered in divide\n",
      "  smape_cons = (np.nansum(wsmape_df, axis=1) * 200) / np.count_nonzero(\n",
      "C:\\Users\\premkumar\\AppData\\Local\\Programs\\Python\\Python312\\Lib\\site-packages\\autots\\tools\\anomaly_utils.py:1115: FutureWarning: Downcasting object dtype arrays on .fillna, .ffill, .bfill is deprecated and will change in a future version. Call result.infer_objects(copy=False) instead. To opt-in to the future behavior, set `pd.set_option('future.no_silent_downcasting', True)`\n",
      "  result = result + temp.where(temp.isnull(), 1).fillna(0)\n",
      "C:\\Users\\premkumar\\AppData\\Local\\Programs\\Python\\Python312\\Lib\\site-packages\\autots\\tools\\anomaly_utils.py:1115: FutureWarning: Downcasting object dtype arrays on .fillna, .ffill, .bfill is deprecated and will change in a future version. Call result.infer_objects(copy=False) instead. To opt-in to the future behavior, set `pd.set_option('future.no_silent_downcasting', True)`\n",
      "  result = result + temp.where(temp.isnull(), 1).fillna(0)\n",
      "C:\\Users\\premkumar\\AppData\\Local\\Programs\\Python\\Python312\\Lib\\site-packages\\autots\\models\\base.py:1025: RuntimeWarning: invalid value encountered in divide\n",
      "  smape_cons = (np.nansum(wsmape_df, axis=1) * 200) / np.count_nonzero(\n"
     ]
    },
    {
     "name": "stdout",
     "output_type": "stream",
     "text": [
      "Model Number: 286 with model WindowRegression in generation 1 of 5\n",
      "Template Eval Error: ValueError(\"regression_type='User' but no future_regressor passed\") in model 286 in generation 1: WindowRegression\n",
      "Model Number: 287 with model ConstantNaive in generation 1 of 5\n",
      "Model Number: 288 with model MetricMotif in generation 1 of 5\n",
      "Template Eval Error: Exception(\"Transformer AlignLastValue failed on inverse from params ffill {'0': {'rows': 1, 'lag': 1, 'method': 'multiplicative', 'strength': 1.0, 'first_value_only': False, 'threshold': 10}, '1': {'lag': 7, 'fill': 'bfill'}, '2': {'low': 12, 'high': 28, 'K': 1, 'lanczos_factor': False, 'return_diff': False, 'on_transform': True, 'on_inverse': False}, '3': {'lag_1': 7, 'method': 'LastValue'}, '4': {'rows': 1, 'lag': 1, 'method': 'additive', 'strength': 1.0, 'first_value_only': True, 'threshold': 1}}\") in model 288 in generation 1: MetricMotif\n",
      "Model Number: 289 with model MetricMotif in generation 1 of 5\n",
      "Model Number: 290 with model SeasonalityMotif in generation 1 of 5\n",
      "Model Number: 291 with model MetricMotif in generation 1 of 5\n",
      "Model Number: 292 with model MultivariateMotif in generation 1 of 5\n",
      "Model Number: 293 with model UnobservedComponents in generation 1 of 5\n"
     ]
    },
    {
     "name": "stderr",
     "output_type": "stream",
     "text": [
      "C:\\Users\\premkumar\\AppData\\Local\\Programs\\Python\\Python312\\Lib\\site-packages\\autots\\models\\base.py:1025: RuntimeWarning: invalid value encountered in divide\n",
      "  smape_cons = (np.nansum(wsmape_df, axis=1) * 200) / np.count_nonzero(\n",
      "C:\\Users\\premkumar\\AppData\\Local\\Programs\\Python\\Python312\\Lib\\site-packages\\autots\\tools\\percentile.py:47: RuntimeWarning: All-NaN slice encountered\n",
      "  max_val = np.nanmax(arr)\n",
      "C:\\Users\\premkumar\\AppData\\Local\\Programs\\Python\\Python312\\Lib\\site-packages\\autots\\models\\base.py:1025: RuntimeWarning: invalid value encountered in divide\n",
      "  smape_cons = (np.nansum(wsmape_df, axis=1) * 200) / np.count_nonzero(\n",
      "C:\\Users\\premkumar\\AppData\\Local\\Programs\\Python\\Python312\\Lib\\site-packages\\autots\\models\\base.py:1025: RuntimeWarning: invalid value encountered in divide\n",
      "  smape_cons = (np.nansum(wsmape_df, axis=1) * 200) / np.count_nonzero(\n",
      "C:\\Users\\premkumar\\AppData\\Local\\Programs\\Python\\Python312\\Lib\\site-packages\\autots\\models\\base.py:1025: RuntimeWarning: invalid value encountered in divide\n",
      "  smape_cons = (np.nansum(wsmape_df, axis=1) * 200) / np.count_nonzero(\n",
      "C:\\Users\\premkumar\\AppData\\Local\\Programs\\Python\\Python312\\Lib\\site-packages\\autots\\models\\base.py:1025: RuntimeWarning: invalid value encountered in divide\n",
      "  smape_cons = (np.nansum(wsmape_df, axis=1) * 200) / np.count_nonzero(\n",
      "C:\\Users\\premkumar\\AppData\\Local\\Programs\\Python\\Python312\\Lib\\site-packages\\autots\\models\\base.py:1025: RuntimeWarning: invalid value encountered in divide\n",
      "  smape_cons = (np.nansum(wsmape_df, axis=1) * 200) / np.count_nonzero(\n"
     ]
    },
    {
     "name": "stdout",
     "output_type": "stream",
     "text": [
      "Model Number: 294 with model ARIMA in generation 1 of 5\n",
      "Model Number: 295 with model LastValueNaive in generation 1 of 5\n",
      "Model Number: 296 with model Cassandra in generation 1 of 5\n"
     ]
    },
    {
     "name": "stderr",
     "output_type": "stream",
     "text": [
      "C:\\Users\\premkumar\\AppData\\Local\\Programs\\Python\\Python312\\Lib\\site-packages\\autots\\models\\base.py:1025: RuntimeWarning: invalid value encountered in divide\n",
      "  smape_cons = (np.nansum(wsmape_df, axis=1) * 200) / np.count_nonzero(\n",
      "C:\\Users\\premkumar\\AppData\\Local\\Programs\\Python\\Python312\\Lib\\site-packages\\autots\\models\\base.py:1025: RuntimeWarning: invalid value encountered in divide\n",
      "  smape_cons = (np.nansum(wsmape_df, axis=1) * 200) / np.count_nonzero(\n"
     ]
    },
    {
     "name": "stdout",
     "output_type": "stream",
     "text": [
      "Model Number: 297 with model SectionalMotif in generation 1 of 5\n",
      "Model Number: 298 with model MetricMotif in generation 1 of 5\n",
      "Model Number: 299 with model DMD in generation 1 of 5\n"
     ]
    },
    {
     "name": "stderr",
     "output_type": "stream",
     "text": [
      "C:\\Users\\premkumar\\AppData\\Local\\Programs\\Python\\Python312\\Lib\\site-packages\\autots\\models\\base.py:1025: RuntimeWarning: invalid value encountered in divide\n",
      "  smape_cons = (np.nansum(wsmape_df, axis=1) * 200) / np.count_nonzero(\n",
      "C:\\Users\\premkumar\\AppData\\Local\\Programs\\Python\\Python312\\Lib\\site-packages\\autots\\models\\base.py:1025: RuntimeWarning: invalid value encountered in divide\n",
      "  smape_cons = (np.nansum(wsmape_df, axis=1) * 200) / np.count_nonzero(\n",
      "C:\\Users\\premkumar\\AppData\\Local\\Programs\\Python\\Python312\\Lib\\site-packages\\autots\\models\\base.py:1025: RuntimeWarning: invalid value encountered in divide\n",
      "  smape_cons = (np.nansum(wsmape_df, axis=1) * 200) / np.count_nonzero(\n"
     ]
    },
    {
     "name": "stdout",
     "output_type": "stream",
     "text": [
      "Model Number: 300 with model DMD in generation 1 of 5\n"
     ]
    },
    {
     "name": "stderr",
     "output_type": "stream",
     "text": [
      "C:\\Users\\premkumar\\AppData\\Local\\Programs\\Python\\Python312\\Lib\\site-packages\\autots\\models\\base.py:1025: RuntimeWarning: invalid value encountered in divide\n",
      "  smape_cons = (np.nansum(wsmape_df, axis=1) * 200) / np.count_nonzero(\n"
     ]
    },
    {
     "name": "stdout",
     "output_type": "stream",
     "text": [
      "Model Number: 301 with model UnobservedComponents in generation 1 of 5\n",
      "Template Eval Error: ValueError(\"regression_type='User' but no future_regressor supplied\") in model 301 in generation 1: UnobservedComponents\n",
      "Model Number: 302 with model ConstantNaive in generation 1 of 5\n",
      "Model Number: 303 with model AverageValueNaive in generation 1 of 5\n",
      "Model Number: 304 with model FFT in generation 1 of 5\n"
     ]
    },
    {
     "name": "stderr",
     "output_type": "stream",
     "text": [
      "C:\\Users\\premkumar\\AppData\\Local\\Programs\\Python\\Python312\\Lib\\site-packages\\autots\\models\\base.py:1025: RuntimeWarning: invalid value encountered in divide\n",
      "  smape_cons = (np.nansum(wsmape_df, axis=1) * 200) / np.count_nonzero(\n",
      "C:\\Users\\premkumar\\AppData\\Local\\Programs\\Python\\Python312\\Lib\\site-packages\\autots\\models\\base.py:1025: RuntimeWarning: invalid value encountered in divide\n",
      "  smape_cons = (np.nansum(wsmape_df, axis=1) * 200) / np.count_nonzero(\n",
      "C:\\Users\\premkumar\\AppData\\Local\\Programs\\Python\\Python312\\Lib\\site-packages\\autots\\tools\\transform.py:5472: FutureWarning: Downcasting object dtype arrays on .fillna, .ffill, .bfill is deprecated and will change in a future version. Call result.infer_objects(copy=False) instead. To opt-in to the future behavior, set `pd.set_option('future.no_silent_downcasting', True)`\n",
      "  df = df.fillna(0)\n",
      "C:\\Users\\premkumar\\AppData\\Local\\Programs\\Python\\Python312\\Lib\\site-packages\\autots\\tools\\transform.py:5472: FutureWarning: Downcasting object dtype arrays on .fillna, .ffill, .bfill is deprecated and will change in a future version. Call result.infer_objects(copy=False) instead. To opt-in to the future behavior, set `pd.set_option('future.no_silent_downcasting', True)`\n",
      "  df = df.fillna(0)\n",
      "C:\\Users\\premkumar\\AppData\\Local\\Programs\\Python\\Python312\\Lib\\site-packages\\autots\\models\\base.py:1025: RuntimeWarning: invalid value encountered in divide\n",
      "  smape_cons = (np.nansum(wsmape_df, axis=1) * 200) / np.count_nonzero(\n",
      "C:\\Users\\premkumar\\AppData\\Local\\Programs\\Python\\Python312\\Lib\\site-packages\\autots\\models\\base.py:1025: RuntimeWarning: invalid value encountered in divide\n",
      "  smape_cons = (np.nansum(wsmape_df, axis=1) * 200) / np.count_nonzero(\n"
     ]
    },
    {
     "name": "stdout",
     "output_type": "stream",
     "text": [
      "Model Number: 305 with model ARDL in generation 1 of 5\n"
     ]
    },
    {
     "name": "stderr",
     "output_type": "stream",
     "text": [
      "C:\\Users\\premkumar\\AppData\\Local\\Programs\\Python\\Python312\\Lib\\site-packages\\autots\\models\\base.py:1025: RuntimeWarning: invalid value encountered in divide\n",
      "  smape_cons = (np.nansum(wsmape_df, axis=1) * 200) / np.count_nonzero(\n"
     ]
    },
    {
     "name": "stdout",
     "output_type": "stream",
     "text": [
      "Model Number: 306 with model ARIMA in generation 1 of 5\n",
      "Model Number: 307 with model MultivariateMotif in generation 1 of 5\n",
      "Model Number: 308 with model SeasonalityMotif in generation 1 of 5\n",
      "Model Number: 309 with model UnobservedComponents in generation 1 of 5\n",
      "Template Eval Error: ValueError(\"regression_type='User' but no future_regressor supplied\") in model 309 in generation 1: UnobservedComponents\n",
      "Model Number: 310 with model AverageValueNaive in generation 1 of 5\n"
     ]
    },
    {
     "name": "stderr",
     "output_type": "stream",
     "text": [
      "C:\\Users\\premkumar\\AppData\\Local\\Programs\\Python\\Python312\\Lib\\site-packages\\autots\\models\\base.py:1025: RuntimeWarning: invalid value encountered in divide\n",
      "  smape_cons = (np.nansum(wsmape_df, axis=1) * 200) / np.count_nonzero(\n",
      "C:\\Users\\premkumar\\AppData\\Local\\Programs\\Python\\Python312\\Lib\\site-packages\\autots\\models\\base.py:1025: RuntimeWarning: invalid value encountered in divide\n",
      "  smape_cons = (np.nansum(wsmape_df, axis=1) * 200) / np.count_nonzero(\n",
      "C:\\Users\\premkumar\\AppData\\Local\\Programs\\Python\\Python312\\Lib\\site-packages\\autots\\models\\base.py:1025: RuntimeWarning: invalid value encountered in divide\n",
      "  smape_cons = (np.nansum(wsmape_df, axis=1) * 200) / np.count_nonzero(\n",
      "C:\\Users\\premkumar\\AppData\\Local\\Programs\\Python\\Python312\\Lib\\site-packages\\autots\\models\\base.py:1025: RuntimeWarning: invalid value encountered in divide\n",
      "  smape_cons = (np.nansum(wsmape_df, axis=1) * 200) / np.count_nonzero(\n"
     ]
    },
    {
     "name": "stdout",
     "output_type": "stream",
     "text": [
      "Model Number: 311 with model Theta in generation 1 of 5\n",
      "Model Number: 312 with model SeasonalityMotif in generation 1 of 5\n",
      "Model Number: 313 with model ConstantNaive in generation 1 of 5\n",
      "Model Number: 314 with model SeasonalNaive in generation 1 of 5\n",
      "Model Number: 315 with model AverageValueNaive in generation 1 of 5\n",
      "Model Number: 316 with model AverageValueNaive in generation 1 of 5\n",
      "Model Number: 317 with model UnivariateMotif in generation 1 of 5\n"
     ]
    },
    {
     "name": "stderr",
     "output_type": "stream",
     "text": [
      "C:\\Users\\premkumar\\AppData\\Local\\Programs\\Python\\Python312\\Lib\\site-packages\\autots\\models\\base.py:1025: RuntimeWarning: invalid value encountered in divide\n",
      "  smape_cons = (np.nansum(wsmape_df, axis=1) * 200) / np.count_nonzero(\n",
      "C:\\Users\\premkumar\\AppData\\Local\\Programs\\Python\\Python312\\Lib\\site-packages\\autots\\models\\base.py:1025: RuntimeWarning: invalid value encountered in divide\n",
      "  smape_cons = (np.nansum(wsmape_df, axis=1) * 200) / np.count_nonzero(\n",
      "C:\\Users\\premkumar\\AppData\\Local\\Programs\\Python\\Python312\\Lib\\site-packages\\autots\\models\\base.py:1025: RuntimeWarning: invalid value encountered in divide\n",
      "  smape_cons = (np.nansum(wsmape_df, axis=1) * 200) / np.count_nonzero(\n",
      "C:\\Users\\premkumar\\AppData\\Local\\Programs\\Python\\Python312\\Lib\\site-packages\\autots\\models\\base.py:1025: RuntimeWarning: invalid value encountered in divide\n",
      "  smape_cons = (np.nansum(wsmape_df, axis=1) * 200) / np.count_nonzero(\n",
      "C:\\Users\\premkumar\\AppData\\Local\\Programs\\Python\\Python312\\Lib\\site-packages\\autots\\models\\base.py:1025: RuntimeWarning: invalid value encountered in divide\n",
      "  smape_cons = (np.nansum(wsmape_df, axis=1) * 200) / np.count_nonzero(\n",
      "C:\\Users\\premkumar\\AppData\\Local\\Programs\\Python\\Python312\\Lib\\site-packages\\autots\\tools\\transform.py:5472: FutureWarning: Downcasting object dtype arrays on .fillna, .ffill, .bfill is deprecated and will change in a future version. Call result.infer_objects(copy=False) instead. To opt-in to the future behavior, set `pd.set_option('future.no_silent_downcasting', True)`\n",
      "  df = df.fillna(0)\n",
      "C:\\Users\\premkumar\\AppData\\Local\\Programs\\Python\\Python312\\Lib\\site-packages\\autots\\tools\\transform.py:5472: FutureWarning: Downcasting object dtype arrays on .fillna, .ffill, .bfill is deprecated and will change in a future version. Call result.infer_objects(copy=False) instead. To opt-in to the future behavior, set `pd.set_option('future.no_silent_downcasting', True)`\n",
      "  df = df.fillna(0)\n",
      "C:\\Users\\premkumar\\AppData\\Local\\Programs\\Python\\Python312\\Lib\\site-packages\\autots\\models\\base.py:1025: RuntimeWarning: invalid value encountered in divide\n",
      "  smape_cons = (np.nansum(wsmape_df, axis=1) * 200) / np.count_nonzero(\n",
      "C:\\Users\\premkumar\\AppData\\Local\\Programs\\Python\\Python312\\Lib\\site-packages\\autots\\models\\base.py:1025: RuntimeWarning: invalid value encountered in divide\n",
      "  smape_cons = (np.nansum(wsmape_df, axis=1) * 200) / np.count_nonzero(\n"
     ]
    },
    {
     "name": "stdout",
     "output_type": "stream",
     "text": [
      "Model Number: 318 with model MultivariateRegression in generation 1 of 5\n"
     ]
    },
    {
     "name": "stderr",
     "output_type": "stream",
     "text": [
      "C:\\Users\\premkumar\\AppData\\Local\\Programs\\Python\\Python312\\Lib\\site-packages\\autots\\models\\base.py:1025: RuntimeWarning: invalid value encountered in divide\n",
      "  smape_cons = (np.nansum(wsmape_df, axis=1) * 200) / np.count_nonzero(\n"
     ]
    },
    {
     "name": "stdout",
     "output_type": "stream",
     "text": [
      "Model Number: 319 with model Theta in generation 1 of 5\n"
     ]
    },
    {
     "name": "stderr",
     "output_type": "stream",
     "text": [
      "C:\\Users\\premkumar\\AppData\\Local\\Programs\\Python\\Python312\\Lib\\site-packages\\autots\\models\\base.py:1025: RuntimeWarning: invalid value encountered in divide\n",
      "  smape_cons = (np.nansum(wsmape_df, axis=1) * 200) / np.count_nonzero(\n"
     ]
    },
    {
     "name": "stdout",
     "output_type": "stream",
     "text": [
      "Model Number: 320 with model Theta in generation 1 of 5\n",
      "Model Number: 321 with model ConstantNaive in generation 1 of 5\n",
      "Model Number: 322 with model RRVAR in generation 1 of 5\n"
     ]
    },
    {
     "name": "stderr",
     "output_type": "stream",
     "text": [
      "C:\\Users\\premkumar\\AppData\\Local\\Programs\\Python\\Python312\\Lib\\site-packages\\autots\\models\\base.py:1025: RuntimeWarning: invalid value encountered in divide\n",
      "  smape_cons = (np.nansum(wsmape_df, axis=1) * 200) / np.count_nonzero(\n",
      "C:\\Users\\premkumar\\AppData\\Local\\Programs\\Python\\Python312\\Lib\\site-packages\\autots\\models\\base.py:1025: RuntimeWarning: invalid value encountered in divide\n",
      "  smape_cons = (np.nansum(wsmape_df, axis=1) * 200) / np.count_nonzero(\n",
      "C:\\Users\\premkumar\\AppData\\Local\\Programs\\Python\\Python312\\Lib\\site-packages\\autots\\models\\base.py:1025: RuntimeWarning: invalid value encountered in divide\n",
      "  smape_cons = (np.nansum(wsmape_df, axis=1) * 200) / np.count_nonzero(\n"
     ]
    },
    {
     "name": "stdout",
     "output_type": "stream",
     "text": [
      "Model Number: 323 with model ARDL in generation 1 of 5\n",
      "Model Number: 324 with model DatepartRegression in generation 1 of 5\n",
      "Template Eval Error: ValueError(\"regression_type='User' but no future_regressor passed\") in model 324 in generation 1: DatepartRegression\n",
      "Model Number: 325 with model SectionalMotif in generation 1 of 5\n",
      "Model Number: 326 with model DatepartRegression in generation 1 of 5\n"
     ]
    },
    {
     "name": "stderr",
     "output_type": "stream",
     "text": [
      "C:\\Users\\premkumar\\AppData\\Local\\Programs\\Python\\Python312\\Lib\\site-packages\\autots\\models\\base.py:1025: RuntimeWarning: invalid value encountered in divide\n",
      "  smape_cons = (np.nansum(wsmape_df, axis=1) * 200) / np.count_nonzero(\n",
      "C:\\Users\\premkumar\\AppData\\Local\\Programs\\Python\\Python312\\Lib\\site-packages\\autots\\models\\base.py:1025: RuntimeWarning: invalid value encountered in divide\n",
      "  smape_cons = (np.nansum(wsmape_df, axis=1) * 200) / np.count_nonzero(\n",
      "C:\\Users\\premkumar\\AppData\\Local\\Programs\\Python\\Python312\\Lib\\site-packages\\autots\\models\\base.py:1025: RuntimeWarning: invalid value encountered in divide\n",
      "  smape_cons = (np.nansum(wsmape_df, axis=1) * 200) / np.count_nonzero(\n"
     ]
    },
    {
     "name": "stdout",
     "output_type": "stream",
     "text": [
      "Model Number: 327 with model Cassandra in generation 1 of 5\n"
     ]
    },
    {
     "name": "stderr",
     "output_type": "stream",
     "text": [
      "C:\\Users\\premkumar\\AppData\\Local\\Programs\\Python\\Python312\\Lib\\site-packages\\numpy\\lib\\function_base.py:2897: RuntimeWarning: invalid value encountered in divide\n",
      "  c /= stddev[:, None]\n",
      "C:\\Users\\premkumar\\AppData\\Local\\Programs\\Python\\Python312\\Lib\\site-packages\\numpy\\lib\\function_base.py:2898: RuntimeWarning: invalid value encountered in divide\n",
      "  c /= stddev[None, :]\n",
      "C:\\Users\\premkumar\\AppData\\Local\\Programs\\Python\\Python312\\Lib\\site-packages\\autots\\models\\base.py:1025: RuntimeWarning: invalid value encountered in divide\n",
      "  smape_cons = (np.nansum(wsmape_df, axis=1) * 200) / np.count_nonzero(\n"
     ]
    },
    {
     "name": "stdout",
     "output_type": "stream",
     "text": [
      "Model Number: 328 with model UnobservedComponents in generation 1 of 5\n",
      "Model Number: 329 with model MetricMotif in generation 1 of 5\n",
      "Model Number: 330 with model MetricMotif in generation 1 of 5\n"
     ]
    },
    {
     "name": "stderr",
     "output_type": "stream",
     "text": [
      "C:\\Users\\premkumar\\AppData\\Local\\Programs\\Python\\Python312\\Lib\\site-packages\\autots\\models\\base.py:1025: RuntimeWarning: invalid value encountered in divide\n",
      "  smape_cons = (np.nansum(wsmape_df, axis=1) * 200) / np.count_nonzero(\n",
      "C:\\Users\\premkumar\\AppData\\Local\\Programs\\Python\\Python312\\Lib\\site-packages\\autots\\models\\base.py:1025: RuntimeWarning: invalid value encountered in divide\n",
      "  smape_cons = (np.nansum(wsmape_df, axis=1) * 200) / np.count_nonzero(\n",
      "C:\\Users\\premkumar\\AppData\\Local\\Programs\\Python\\Python312\\Lib\\site-packages\\sklearn\\linear_model\\_ridge.py:204: LinAlgWarning: Ill-conditioned matrix (rcond=6.76561e-26): result may not be accurate.\n",
      "  return linalg.solve(A, Xy, assume_a=\"pos\", overwrite_a=True).T\n",
      "C:\\Users\\premkumar\\AppData\\Local\\Programs\\Python\\Python312\\Lib\\site-packages\\autots\\models\\base.py:1025: RuntimeWarning: invalid value encountered in divide\n",
      "  smape_cons = (np.nansum(wsmape_df, axis=1) * 200) / np.count_nonzero(\n"
     ]
    },
    {
     "name": "stdout",
     "output_type": "stream",
     "text": [
      "Model Number: 331 with model MultivariateRegression in generation 1 of 5\n",
      "Model Number: 332 with model NVAR in generation 1 of 5\n",
      "Model Number: 333 with model AverageValueNaive in generation 1 of 5\n",
      "Model Number: 334 with model SectionalMotif in generation 1 of 5\n",
      "Model Number: 335 with model ConstantNaive in generation 1 of 5\n"
     ]
    },
    {
     "name": "stderr",
     "output_type": "stream",
     "text": [
      "C:\\Users\\premkumar\\AppData\\Local\\Programs\\Python\\Python312\\Lib\\site-packages\\autots\\models\\base.py:1025: RuntimeWarning: invalid value encountered in divide\n",
      "  smape_cons = (np.nansum(wsmape_df, axis=1) * 200) / np.count_nonzero(\n",
      "C:\\Users\\premkumar\\AppData\\Local\\Programs\\Python\\Python312\\Lib\\site-packages\\autots\\models\\base.py:1025: RuntimeWarning: invalid value encountered in divide\n",
      "  smape_cons = (np.nansum(wsmape_df, axis=1) * 200) / np.count_nonzero(\n",
      "C:\\Users\\premkumar\\AppData\\Local\\Programs\\Python\\Python312\\Lib\\site-packages\\autots\\models\\base.py:1025: RuntimeWarning: invalid value encountered in divide\n",
      "  smape_cons = (np.nansum(wsmape_df, axis=1) * 200) / np.count_nonzero(\n",
      "C:\\Users\\premkumar\\AppData\\Local\\Programs\\Python\\Python312\\Lib\\site-packages\\autots\\models\\base.py:1025: RuntimeWarning: invalid value encountered in divide\n",
      "  smape_cons = (np.nansum(wsmape_df, axis=1) * 200) / np.count_nonzero(\n",
      "C:\\Users\\premkumar\\AppData\\Local\\Programs\\Python\\Python312\\Lib\\site-packages\\autots\\models\\base.py:1025: RuntimeWarning: invalid value encountered in divide\n",
      "  smape_cons = (np.nansum(wsmape_df, axis=1) * 200) / np.count_nonzero(\n"
     ]
    },
    {
     "name": "stdout",
     "output_type": "stream",
     "text": [
      "Model Number: 336 with model MultivariateMotif in generation 1 of 5\n",
      "Model Number: 337 with model RRVAR in generation 1 of 5\n",
      "Model Number: 338 with model ARDL in generation 1 of 5\n",
      "Template Eval Error: ValueError(\"regression_type='User' but future_regressor not supplied\") in model 338 in generation 1: ARDL\n",
      "Model Number: 339 with model MultivariateMotif in generation 1 of 5\n"
     ]
    },
    {
     "name": "stderr",
     "output_type": "stream",
     "text": [
      "C:\\Users\\premkumar\\AppData\\Local\\Programs\\Python\\Python312\\Lib\\site-packages\\autots\\models\\base.py:1025: RuntimeWarning: invalid value encountered in divide\n",
      "  smape_cons = (np.nansum(wsmape_df, axis=1) * 200) / np.count_nonzero(\n",
      "C:\\Users\\premkumar\\AppData\\Local\\Programs\\Python\\Python312\\Lib\\site-packages\\autots\\models\\base.py:1025: RuntimeWarning: invalid value encountered in divide\n",
      "  smape_cons = (np.nansum(wsmape_df, axis=1) * 200) / np.count_nonzero(\n",
      "C:\\Users\\premkumar\\AppData\\Local\\Programs\\Python\\Python312\\Lib\\site-packages\\autots\\models\\base.py:1025: RuntimeWarning: invalid value encountered in divide\n",
      "  smape_cons = (np.nansum(wsmape_df, axis=1) * 200) / np.count_nonzero(\n"
     ]
    },
    {
     "name": "stdout",
     "output_type": "stream",
     "text": [
      "Model Number: 340 with model Cassandra in generation 1 of 5\n",
      "Model Number: 341 with model GLS in generation 1 of 5\n"
     ]
    },
    {
     "name": "stderr",
     "output_type": "stream",
     "text": [
      "C:\\Users\\premkumar\\AppData\\Local\\Programs\\Python\\Python312\\Lib\\site-packages\\autots\\models\\base.py:1025: RuntimeWarning: invalid value encountered in divide\n",
      "  smape_cons = (np.nansum(wsmape_df, axis=1) * 200) / np.count_nonzero(\n",
      "C:\\Users\\premkumar\\AppData\\Local\\Programs\\Python\\Python312\\Lib\\site-packages\\autots\\models\\base.py:1025: RuntimeWarning: invalid value encountered in divide\n",
      "  smape_cons = (np.nansum(wsmape_df, axis=1) * 200) / np.count_nonzero(\n"
     ]
    },
    {
     "name": "stdout",
     "output_type": "stream",
     "text": [
      "New Generation: 2 of 5\n",
      "Model Number: 342 with model UnobservedComponents in generation 2 of 5\n",
      "Model Number: 343 with model SectionalMotif in generation 2 of 5\n",
      "Template Eval Error: ValueError('Unknown Distance Metric: kulsinski') in model 343 in generation 2: SectionalMotif\n",
      "Model Number: 344 with model SectionalMotif in generation 2 of 5\n",
      "Model Number: 345 with model ETS in generation 2 of 5\n",
      "Model Number: 346 with model SectionalMotif in generation 2 of 5\n",
      "Template Eval Error: ValueError('Unknown Distance Metric: kulsinski') in model 346 in generation 2: SectionalMotif\n",
      "Model Number: 347 with model SectionalMotif in generation 2 of 5\n"
     ]
    },
    {
     "name": "stderr",
     "output_type": "stream",
     "text": [
      "C:\\Users\\premkumar\\AppData\\Local\\Programs\\Python\\Python312\\Lib\\site-packages\\autots\\models\\base.py:1025: RuntimeWarning: invalid value encountered in divide\n",
      "  smape_cons = (np.nansum(wsmape_df, axis=1) * 200) / np.count_nonzero(\n",
      "C:\\Users\\premkumar\\AppData\\Local\\Programs\\Python\\Python312\\Lib\\site-packages\\autots\\models\\base.py:1025: RuntimeWarning: invalid value encountered in divide\n",
      "  smape_cons = (np.nansum(wsmape_df, axis=1) * 200) / np.count_nonzero(\n",
      "C:\\Users\\premkumar\\AppData\\Local\\Programs\\Python\\Python312\\Lib\\site-packages\\autots\\models\\base.py:1025: RuntimeWarning: invalid value encountered in divide\n",
      "  smape_cons = (np.nansum(wsmape_df, axis=1) * 200) / np.count_nonzero(\n",
      "C:\\Users\\premkumar\\AppData\\Local\\Programs\\Python\\Python312\\Lib\\site-packages\\autots\\models\\base.py:1025: RuntimeWarning: invalid value encountered in divide\n",
      "  smape_cons = (np.nansum(wsmape_df, axis=1) * 200) / np.count_nonzero(\n"
     ]
    },
    {
     "name": "stdout",
     "output_type": "stream",
     "text": [
      "Model Number: 348 with model Cassandra in generation 2 of 5\n",
      "Model Number: 349 with model ConstantNaive in generation 2 of 5\n"
     ]
    },
    {
     "name": "stderr",
     "output_type": "stream",
     "text": [
      "C:\\Users\\premkumar\\AppData\\Local\\Programs\\Python\\Python312\\Lib\\site-packages\\autots\\models\\base.py:1025: RuntimeWarning: invalid value encountered in divide\n",
      "  smape_cons = (np.nansum(wsmape_df, axis=1) * 200) / np.count_nonzero(\n",
      "C:\\Users\\premkumar\\AppData\\Local\\Programs\\Python\\Python312\\Lib\\site-packages\\autots\\models\\base.py:1025: RuntimeWarning: invalid value encountered in divide\n",
      "  smape_cons = (np.nansum(wsmape_df, axis=1) * 200) / np.count_nonzero(\n"
     ]
    },
    {
     "name": "stdout",
     "output_type": "stream",
     "text": [
      "Model Number: 350 with model WindowRegression in generation 2 of 5\n",
      "Template Eval Error: ModuleNotFoundError(\"No module named 'lightgbm'\") in model 350 in generation 2: WindowRegression\n",
      "Model Number: 351 with model Theta in generation 2 of 5\n"
     ]
    },
    {
     "name": "stderr",
     "output_type": "stream",
     "text": [
      "C:\\Users\\premkumar\\AppData\\Local\\Programs\\Python\\Python312\\Lib\\site-packages\\autots\\models\\base.py:1025: RuntimeWarning: invalid value encountered in divide\n",
      "  smape_cons = (np.nansum(wsmape_df, axis=1) * 200) / np.count_nonzero(\n"
     ]
    },
    {
     "name": "stdout",
     "output_type": "stream",
     "text": [
      "Model Number: 352 with model ARIMA in generation 2 of 5\n",
      "Model Number: 353 with model LastValueNaive in generation 2 of 5\n"
     ]
    },
    {
     "name": "stderr",
     "output_type": "stream",
     "text": [
      "C:\\Users\\premkumar\\AppData\\Local\\Programs\\Python\\Python312\\Lib\\site-packages\\autots\\models\\base.py:1025: RuntimeWarning: invalid value encountered in divide\n",
      "  smape_cons = (np.nansum(wsmape_df, axis=1) * 200) / np.count_nonzero(\n",
      "C:\\Users\\premkumar\\AppData\\Local\\Programs\\Python\\Python312\\Lib\\site-packages\\autots\\models\\base.py:1025: RuntimeWarning: invalid value encountered in divide\n",
      "  smape_cons = (np.nansum(wsmape_df, axis=1) * 200) / np.count_nonzero(\n"
     ]
    },
    {
     "name": "stdout",
     "output_type": "stream",
     "text": [
      "Model Number: 354 with model Theta in generation 2 of 5\n"
     ]
    },
    {
     "name": "stderr",
     "output_type": "stream",
     "text": [
      "C:\\Users\\premkumar\\AppData\\Local\\Programs\\Python\\Python312\\Lib\\site-packages\\autots\\models\\base.py:1025: RuntimeWarning: invalid value encountered in divide\n",
      "  smape_cons = (np.nansum(wsmape_df, axis=1) * 200) / np.count_nonzero(\n"
     ]
    },
    {
     "name": "stdout",
     "output_type": "stream",
     "text": [
      "Model Number: 355 with model MultivariateRegression in generation 2 of 5\n",
      "Model Number: 356 with model ETS in generation 2 of 5\n",
      "Model Number: 357 with model MultivariateMotif in generation 2 of 5\n",
      "Model Number: 358 with model LastValueNaive in generation 2 of 5\n",
      "Model Number: 359 with model GLS in generation 2 of 5\n"
     ]
    },
    {
     "name": "stderr",
     "output_type": "stream",
     "text": [
      "C:\\Users\\premkumar\\AppData\\Local\\Programs\\Python\\Python312\\Lib\\site-packages\\autots\\models\\base.py:1025: RuntimeWarning: invalid value encountered in divide\n",
      "  smape_cons = (np.nansum(wsmape_df, axis=1) * 200) / np.count_nonzero(\n",
      "C:\\Users\\premkumar\\AppData\\Local\\Programs\\Python\\Python312\\Lib\\site-packages\\autots\\models\\base.py:1025: RuntimeWarning: invalid value encountered in divide\n",
      "  smape_cons = (np.nansum(wsmape_df, axis=1) * 200) / np.count_nonzero(\n",
      "C:\\Users\\premkumar\\AppData\\Local\\Programs\\Python\\Python312\\Lib\\site-packages\\autots\\models\\base.py:1025: RuntimeWarning: invalid value encountered in divide\n",
      "  smape_cons = (np.nansum(wsmape_df, axis=1) * 200) / np.count_nonzero(\n",
      "C:\\Users\\premkumar\\AppData\\Local\\Programs\\Python\\Python312\\Lib\\site-packages\\autots\\models\\base.py:1025: RuntimeWarning: invalid value encountered in divide\n",
      "  smape_cons = (np.nansum(wsmape_df, axis=1) * 200) / np.count_nonzero(\n",
      "C:\\Users\\premkumar\\AppData\\Local\\Programs\\Python\\Python312\\Lib\\site-packages\\autots\\models\\base.py:1025: RuntimeWarning: invalid value encountered in divide\n",
      "  smape_cons = (np.nansum(wsmape_df, axis=1) * 200) / np.count_nonzero(\n"
     ]
    },
    {
     "name": "stdout",
     "output_type": "stream",
     "text": [
      "Model Number: 360 with model AverageValueNaive in generation 2 of 5\n",
      "Model Number: 361 with model MetricMotif in generation 2 of 5\n",
      "Model Number: 362 with model GLS in generation 2 of 5\n",
      "Model Number: 363 with model MetricMotif in generation 2 of 5\n"
     ]
    },
    {
     "name": "stderr",
     "output_type": "stream",
     "text": [
      "C:\\Users\\premkumar\\AppData\\Local\\Programs\\Python\\Python312\\Lib\\site-packages\\autots\\models\\base.py:1025: RuntimeWarning: invalid value encountered in divide\n",
      "  smape_cons = (np.nansum(wsmape_df, axis=1) * 200) / np.count_nonzero(\n",
      "C:\\Users\\premkumar\\AppData\\Local\\Programs\\Python\\Python312\\Lib\\site-packages\\autots\\models\\base.py:1025: RuntimeWarning: invalid value encountered in divide\n",
      "  smape_cons = (np.nansum(wsmape_df, axis=1) * 200) / np.count_nonzero(\n",
      "C:\\Users\\premkumar\\AppData\\Local\\Programs\\Python\\Python312\\Lib\\site-packages\\autots\\models\\base.py:1025: RuntimeWarning: invalid value encountered in divide\n",
      "  smape_cons = (np.nansum(wsmape_df, axis=1) * 200) / np.count_nonzero(\n",
      "C:\\Users\\premkumar\\AppData\\Local\\Programs\\Python\\Python312\\Lib\\site-packages\\autots\\models\\base.py:1025: RuntimeWarning: invalid value encountered in divide\n",
      "  smape_cons = (np.nansum(wsmape_df, axis=1) * 200) / np.count_nonzero(\n"
     ]
    },
    {
     "name": "stdout",
     "output_type": "stream",
     "text": [
      "Model Number: 364 with model NVAR in generation 2 of 5\n",
      "Model Number: 365 with model ConstantNaive in generation 2 of 5\n",
      "Model Number: 366 with model WindowRegression in generation 2 of 5\n",
      "Template Eval Error: ValueError(\"regression_type='User' but no future_regressor passed\") in model 366 in generation 2: WindowRegression\n",
      "Model Number: 367 with model AverageValueNaive in generation 2 of 5\n"
     ]
    },
    {
     "name": "stderr",
     "output_type": "stream",
     "text": [
      "C:\\Users\\premkumar\\AppData\\Local\\Programs\\Python\\Python312\\Lib\\site-packages\\autots\\models\\base.py:1025: RuntimeWarning: invalid value encountered in divide\n",
      "  smape_cons = (np.nansum(wsmape_df, axis=1) * 200) / np.count_nonzero(\n",
      "C:\\Users\\premkumar\\AppData\\Local\\Programs\\Python\\Python312\\Lib\\site-packages\\autots\\models\\base.py:1025: RuntimeWarning: invalid value encountered in divide\n",
      "  smape_cons = (np.nansum(wsmape_df, axis=1) * 200) / np.count_nonzero(\n",
      "C:\\Users\\premkumar\\AppData\\Local\\Programs\\Python\\Python312\\Lib\\site-packages\\autots\\models\\base.py:1025: RuntimeWarning: invalid value encountered in divide\n",
      "  smape_cons = (np.nansum(wsmape_df, axis=1) * 200) / np.count_nonzero(\n"
     ]
    },
    {
     "name": "stdout",
     "output_type": "stream",
     "text": [
      "Model Number: 368 with model UnobservedComponents in generation 2 of 5\n",
      "Template Eval Error: LinAlgError('Singular matrix') in model 368 in generation 2: UnobservedComponents\n",
      "Model Number: 369 with model Cassandra in generation 2 of 5\n",
      "Template Eval Error: ModuleNotFoundError(\"No module named 'lightgbm'\") in model 369 in generation 2: Cassandra\n",
      "Model Number: 370 with model MultivariateRegression in generation 2 of 5\n",
      "Model Number: 371 with model NVAR in generation 2 of 5\n",
      "Model Number: 372 with model UnivariateMotif in generation 2 of 5\n",
      "Model Number: 373 with model UnivariateMotif in generation 2 of 5\n"
     ]
    },
    {
     "name": "stderr",
     "output_type": "stream",
     "text": [
      "C:\\Users\\premkumar\\AppData\\Local\\Programs\\Python\\Python312\\Lib\\site-packages\\autots\\models\\base.py:1025: RuntimeWarning: invalid value encountered in divide\n",
      "  smape_cons = (np.nansum(wsmape_df, axis=1) * 200) / np.count_nonzero(\n",
      "C:\\Users\\premkumar\\AppData\\Local\\Programs\\Python\\Python312\\Lib\\site-packages\\autots\\models\\base.py:1025: RuntimeWarning: invalid value encountered in divide\n",
      "  smape_cons = (np.nansum(wsmape_df, axis=1) * 200) / np.count_nonzero(\n",
      "C:\\Users\\premkumar\\AppData\\Local\\Programs\\Python\\Python312\\Lib\\site-packages\\autots\\models\\base.py:1025: RuntimeWarning: invalid value encountered in divide\n",
      "  smape_cons = (np.nansum(wsmape_df, axis=1) * 200) / np.count_nonzero(\n",
      "C:\\Users\\premkumar\\AppData\\Local\\Programs\\Python\\Python312\\Lib\\site-packages\\autots\\models\\base.py:1025: RuntimeWarning: invalid value encountered in divide\n",
      "  smape_cons = (np.nansum(wsmape_df, axis=1) * 200) / np.count_nonzero(\n"
     ]
    },
    {
     "name": "stdout",
     "output_type": "stream",
     "text": [
      "Model Number: 374 with model ARIMA in generation 2 of 5\n",
      "Model Number: 375 with model ConstantNaive in generation 2 of 5\n",
      "Model Number: 376 with model LastValueNaive in generation 2 of 5\n",
      "Model Number: 377 with model NVAR in generation 2 of 5\n"
     ]
    },
    {
     "name": "stderr",
     "output_type": "stream",
     "text": [
      "C:\\Users\\premkumar\\AppData\\Local\\Programs\\Python\\Python312\\Lib\\site-packages\\autots\\models\\base.py:1025: RuntimeWarning: invalid value encountered in divide\n",
      "  smape_cons = (np.nansum(wsmape_df, axis=1) * 200) / np.count_nonzero(\n",
      "C:\\Users\\premkumar\\AppData\\Local\\Programs\\Python\\Python312\\Lib\\site-packages\\autots\\models\\base.py:1025: RuntimeWarning: invalid value encountered in divide\n",
      "  smape_cons = (np.nansum(wsmape_df, axis=1) * 200) / np.count_nonzero(\n",
      "C:\\Users\\premkumar\\AppData\\Local\\Programs\\Python\\Python312\\Lib\\site-packages\\autots\\models\\base.py:1025: RuntimeWarning: invalid value encountered in divide\n",
      "  smape_cons = (np.nansum(wsmape_df, axis=1) * 200) / np.count_nonzero(\n",
      "C:\\Users\\premkumar\\AppData\\Local\\Programs\\Python\\Python312\\Lib\\site-packages\\autots\\models\\base.py:1025: RuntimeWarning: invalid value encountered in divide\n",
      "  smape_cons = (np.nansum(wsmape_df, axis=1) * 200) / np.count_nonzero(\n"
     ]
    },
    {
     "name": "stdout",
     "output_type": "stream",
     "text": [
      "Model Number: 378 with model Cassandra in generation 2 of 5\n",
      "Template Eval Error: ModuleNotFoundError(\"No module named 'lightgbm'\") in model 378 in generation 2: Cassandra\n",
      "Model Number: 379 with model Cassandra in generation 2 of 5\n",
      "Template Eval Error: AttributeError(\"'NoneType' object has no attribute 'scores'\") in model 379 in generation 2: Cassandra\n",
      "Model Number: 380 with model ARIMA in generation 2 of 5\n",
      "Model Number: 381 with model GLS in generation 2 of 5\n",
      "Model Number: 382 with model ConstantNaive in generation 2 of 5\n",
      "Model Number: 383 with model ARIMA in generation 2 of 5\n"
     ]
    },
    {
     "name": "stderr",
     "output_type": "stream",
     "text": [
      "C:\\Users\\premkumar\\AppData\\Local\\Programs\\Python\\Python312\\Lib\\site-packages\\autots\\models\\base.py:1025: RuntimeWarning: invalid value encountered in divide\n",
      "  smape_cons = (np.nansum(wsmape_df, axis=1) * 200) / np.count_nonzero(\n",
      "C:\\Users\\premkumar\\AppData\\Local\\Programs\\Python\\Python312\\Lib\\site-packages\\autots\\models\\base.py:1025: RuntimeWarning: invalid value encountered in divide\n",
      "  smape_cons = (np.nansum(wsmape_df, axis=1) * 200) / np.count_nonzero(\n",
      "C:\\Users\\premkumar\\AppData\\Local\\Programs\\Python\\Python312\\Lib\\site-packages\\autots\\models\\base.py:1025: RuntimeWarning: invalid value encountered in divide\n",
      "  smape_cons = (np.nansum(wsmape_df, axis=1) * 200) / np.count_nonzero(\n"
     ]
    },
    {
     "name": "stdout",
     "output_type": "stream",
     "text": [
      "Model Number: 384 with model MultivariateMotif in generation 2 of 5\n",
      "Model Number: 385 with model GLS in generation 2 of 5\n"
     ]
    },
    {
     "name": "stderr",
     "output_type": "stream",
     "text": [
      "C:\\Users\\premkumar\\AppData\\Local\\Programs\\Python\\Python312\\Lib\\site-packages\\autots\\models\\base.py:1025: RuntimeWarning: invalid value encountered in divide\n",
      "  smape_cons = (np.nansum(wsmape_df, axis=1) * 200) / np.count_nonzero(\n",
      "C:\\Users\\premkumar\\AppData\\Local\\Programs\\Python\\Python312\\Lib\\site-packages\\autots\\models\\base.py:1025: RuntimeWarning: invalid value encountered in divide\n",
      "  smape_cons = (np.nansum(wsmape_df, axis=1) * 200) / np.count_nonzero(\n"
     ]
    },
    {
     "name": "stdout",
     "output_type": "stream",
     "text": [
      "Model Number: 386 with model SeasonalityMotif in generation 2 of 5\n",
      "Model Number: 387 with model MetricMotif in generation 2 of 5\n",
      "Model Number: 388 with model DMD in generation 2 of 5\n",
      "Model Number: 389 with model SectionalMotif in generation 2 of 5\n"
     ]
    },
    {
     "name": "stderr",
     "output_type": "stream",
     "text": [
      "C:\\Users\\premkumar\\AppData\\Local\\Programs\\Python\\Python312\\Lib\\site-packages\\autots\\models\\base.py:1025: RuntimeWarning: invalid value encountered in divide\n",
      "  smape_cons = (np.nansum(wsmape_df, axis=1) * 200) / np.count_nonzero(\n",
      "C:\\Users\\premkumar\\AppData\\Local\\Programs\\Python\\Python312\\Lib\\site-packages\\autots\\models\\base.py:1025: RuntimeWarning: invalid value encountered in divide\n",
      "  smape_cons = (np.nansum(wsmape_df, axis=1) * 200) / np.count_nonzero(\n",
      "C:\\Users\\premkumar\\AppData\\Local\\Programs\\Python\\Python312\\Lib\\site-packages\\autots\\models\\base.py:1025: RuntimeWarning: invalid value encountered in divide\n",
      "  smape_cons = (np.nansum(wsmape_df, axis=1) * 200) / np.count_nonzero(\n",
      "C:\\Users\\premkumar\\AppData\\Local\\Programs\\Python\\Python312\\Lib\\site-packages\\autots\\models\\base.py:1025: RuntimeWarning: invalid value encountered in divide\n",
      "  smape_cons = (np.nansum(wsmape_df, axis=1) * 200) / np.count_nonzero(\n",
      "C:\\Users\\premkumar\\AppData\\Local\\Programs\\Python\\Python312\\Lib\\site-packages\\autots\\models\\base.py:1025: RuntimeWarning: invalid value encountered in divide\n",
      "  smape_cons = (np.nansum(wsmape_df, axis=1) * 200) / np.count_nonzero(\n"
     ]
    },
    {
     "name": "stdout",
     "output_type": "stream",
     "text": [
      "Model Number: 390 with model Cassandra in generation 2 of 5\n",
      "Model Number: 391 with model MultivariateRegression in generation 2 of 5\n"
     ]
    },
    {
     "name": "stderr",
     "output_type": "stream",
     "text": [
      "C:\\Users\\premkumar\\AppData\\Local\\Programs\\Python\\Python312\\Lib\\site-packages\\autots\\models\\base.py:1025: RuntimeWarning: invalid value encountered in divide\n",
      "  smape_cons = (np.nansum(wsmape_df, axis=1) * 200) / np.count_nonzero(\n"
     ]
    },
    {
     "name": "stdout",
     "output_type": "stream",
     "text": [
      "Model Number: 392 with model FFT in generation 2 of 5\n",
      "Model Number: 393 with model AverageValueNaive in generation 2 of 5\n"
     ]
    },
    {
     "name": "stderr",
     "output_type": "stream",
     "text": [
      "C:\\Users\\premkumar\\AppData\\Local\\Programs\\Python\\Python312\\Lib\\site-packages\\autots\\models\\base.py:1025: RuntimeWarning: invalid value encountered in divide\n",
      "  smape_cons = (np.nansum(wsmape_df, axis=1) * 200) / np.count_nonzero(\n",
      "C:\\Users\\premkumar\\AppData\\Local\\Programs\\Python\\Python312\\Lib\\site-packages\\autots\\models\\base.py:1025: RuntimeWarning: invalid value encountered in divide\n",
      "  smape_cons = (np.nansum(wsmape_df, axis=1) * 200) / np.count_nonzero(\n"
     ]
    },
    {
     "name": "stdout",
     "output_type": "stream",
     "text": [
      "Model Number: 394 with model NVAR in generation 2 of 5\n",
      "Model Number: 395 with model ConstantNaive in generation 2 of 5\n",
      "Model Number: 396 with model ARIMA in generation 2 of 5\n"
     ]
    },
    {
     "name": "stderr",
     "output_type": "stream",
     "text": [
      "C:\\Users\\premkumar\\AppData\\Local\\Programs\\Python\\Python312\\Lib\\site-packages\\autots\\models\\base.py:1025: RuntimeWarning: invalid value encountered in divide\n",
      "  smape_cons = (np.nansum(wsmape_df, axis=1) * 200) / np.count_nonzero(\n",
      "C:\\Users\\premkumar\\AppData\\Local\\Programs\\Python\\Python312\\Lib\\site-packages\\autots\\models\\base.py:1025: RuntimeWarning: invalid value encountered in divide\n",
      "  smape_cons = (np.nansum(wsmape_df, axis=1) * 200) / np.count_nonzero(\n",
      "C:\\Users\\premkumar\\AppData\\Local\\Programs\\Python\\Python312\\Lib\\site-packages\\autots\\models\\base.py:1025: RuntimeWarning: invalid value encountered in divide\n",
      "  smape_cons = (np.nansum(wsmape_df, axis=1) * 200) / np.count_nonzero(\n",
      "C:\\Users\\premkumar\\AppData\\Local\\Programs\\Python\\Python312\\Lib\\site-packages\\autots\\models\\base.py:1025: RuntimeWarning: invalid value encountered in divide\n",
      "  smape_cons = (np.nansum(wsmape_df, axis=1) * 200) / np.count_nonzero(\n"
     ]
    },
    {
     "name": "stdout",
     "output_type": "stream",
     "text": [
      "Model Number: 397 with model RRVAR in generation 2 of 5\n"
     ]
    },
    {
     "name": "stderr",
     "output_type": "stream",
     "text": [
      "C:\\Users\\premkumar\\AppData\\Local\\Programs\\Python\\Python312\\Lib\\site-packages\\autots\\models\\base.py:1025: RuntimeWarning: invalid value encountered in divide\n",
      "  smape_cons = (np.nansum(wsmape_df, axis=1) * 200) / np.count_nonzero(\n"
     ]
    },
    {
     "name": "stdout",
     "output_type": "stream",
     "text": [
      "Model Number: 398 with model RRVAR in generation 2 of 5\n",
      "Model Number: 399 with model FFT in generation 2 of 5\n",
      "Model Number: 400 with model SectionalMotif in generation 2 of 5\n",
      "Model Number: 401 with model AverageValueNaive in generation 2 of 5\n"
     ]
    },
    {
     "name": "stderr",
     "output_type": "stream",
     "text": [
      "C:\\Users\\premkumar\\AppData\\Local\\Programs\\Python\\Python312\\Lib\\site-packages\\autots\\models\\base.py:1025: RuntimeWarning: invalid value encountered in divide\n",
      "  smape_cons = (np.nansum(wsmape_df, axis=1) * 200) / np.count_nonzero(\n",
      "C:\\Users\\premkumar\\AppData\\Local\\Programs\\Python\\Python312\\Lib\\site-packages\\autots\\models\\base.py:1025: RuntimeWarning: invalid value encountered in divide\n",
      "  smape_cons = (np.nansum(wsmape_df, axis=1) * 200) / np.count_nonzero(\n",
      "C:\\Users\\premkumar\\AppData\\Local\\Programs\\Python\\Python312\\Lib\\site-packages\\autots\\models\\base.py:1025: RuntimeWarning: invalid value encountered in divide\n",
      "  smape_cons = (np.nansum(wsmape_df, axis=1) * 200) / np.count_nonzero(\n",
      "C:\\Users\\premkumar\\AppData\\Local\\Programs\\Python\\Python312\\Lib\\site-packages\\autots\\models\\base.py:1025: RuntimeWarning: invalid value encountered in divide\n",
      "  smape_cons = (np.nansum(wsmape_df, axis=1) * 200) / np.count_nonzero(\n"
     ]
    },
    {
     "name": "stdout",
     "output_type": "stream",
     "text": [
      "Model Number: 402 with model UnobservedComponents in generation 2 of 5\n",
      "Model Number: 403 with model NVAR in generation 2 of 5\n",
      "Model Number: 404 with model LastValueNaive in generation 2 of 5\n",
      "Model Number: 405 with model SectionalMotif in generation 2 of 5\n"
     ]
    },
    {
     "name": "stderr",
     "output_type": "stream",
     "text": [
      "C:\\Users\\premkumar\\AppData\\Local\\Programs\\Python\\Python312\\Lib\\site-packages\\autots\\models\\base.py:1025: RuntimeWarning: invalid value encountered in divide\n",
      "  smape_cons = (np.nansum(wsmape_df, axis=1) * 200) / np.count_nonzero(\n",
      "C:\\Users\\premkumar\\AppData\\Local\\Programs\\Python\\Python312\\Lib\\site-packages\\autots\\models\\base.py:1025: RuntimeWarning: invalid value encountered in divide\n",
      "  smape_cons = (np.nansum(wsmape_df, axis=1) * 200) / np.count_nonzero(\n",
      "C:\\Users\\premkumar\\AppData\\Local\\Programs\\Python\\Python312\\Lib\\site-packages\\autots\\models\\base.py:1025: RuntimeWarning: invalid value encountered in divide\n",
      "  smape_cons = (np.nansum(wsmape_df, axis=1) * 200) / np.count_nonzero(\n",
      "C:\\Users\\premkumar\\AppData\\Local\\Programs\\Python\\Python312\\Lib\\site-packages\\autots\\models\\base.py:1025: RuntimeWarning: invalid value encountered in divide\n",
      "  smape_cons = (np.nansum(wsmape_df, axis=1) * 200) / np.count_nonzero(\n"
     ]
    },
    {
     "name": "stdout",
     "output_type": "stream",
     "text": [
      "Model Number: 406 with model ARIMA in generation 2 of 5\n",
      "Model Number: 407 with model MetricMotif in generation 2 of 5\n",
      "Model Number: 408 with model UnivariateMotif in generation 2 of 5\n",
      "Model Number: 409 with model SectionalMotif in generation 2 of 5\n",
      "Model Number: 410 with model SectionalMotif in generation 2 of 5\n",
      "Model Number: 411 with model SeasonalityMotif in generation 2 of 5\n",
      "Model Number: 412 with model ConstantNaive in generation 2 of 5\n"
     ]
    },
    {
     "name": "stderr",
     "output_type": "stream",
     "text": [
      "C:\\Users\\premkumar\\AppData\\Local\\Programs\\Python\\Python312\\Lib\\site-packages\\autots\\models\\base.py:1025: RuntimeWarning: invalid value encountered in divide\n",
      "  smape_cons = (np.nansum(wsmape_df, axis=1) * 200) / np.count_nonzero(\n",
      "C:\\Users\\premkumar\\AppData\\Local\\Programs\\Python\\Python312\\Lib\\site-packages\\autots\\models\\base.py:1025: RuntimeWarning: invalid value encountered in divide\n",
      "  smape_cons = (np.nansum(wsmape_df, axis=1) * 200) / np.count_nonzero(\n",
      "C:\\Users\\premkumar\\AppData\\Local\\Programs\\Python\\Python312\\Lib\\site-packages\\autots\\models\\base.py:1025: RuntimeWarning: invalid value encountered in divide\n",
      "  smape_cons = (np.nansum(wsmape_df, axis=1) * 200) / np.count_nonzero(\n",
      "C:\\Users\\premkumar\\AppData\\Local\\Programs\\Python\\Python312\\Lib\\site-packages\\autots\\models\\base.py:1025: RuntimeWarning: invalid value encountered in divide\n",
      "  smape_cons = (np.nansum(wsmape_df, axis=1) * 200) / np.count_nonzero(\n",
      "C:\\Users\\premkumar\\AppData\\Local\\Programs\\Python\\Python312\\Lib\\site-packages\\autots\\models\\base.py:1025: RuntimeWarning: invalid value encountered in divide\n",
      "  smape_cons = (np.nansum(wsmape_df, axis=1) * 200) / np.count_nonzero(\n",
      "C:\\Users\\premkumar\\AppData\\Local\\Programs\\Python\\Python312\\Lib\\site-packages\\autots\\models\\base.py:1025: RuntimeWarning: invalid value encountered in divide\n",
      "  smape_cons = (np.nansum(wsmape_df, axis=1) * 200) / np.count_nonzero(\n"
     ]
    },
    {
     "name": "stdout",
     "output_type": "stream",
     "text": [
      "Model Number: 413 with model AverageValueNaive in generation 2 of 5\n",
      "Template Eval Error: Exception(\"Transformer AlignLastValue failed on inverse from params rolling_mean {'0': {'rows': 1, 'lag': 1, 'method': 'additive', 'strength': 1.0, 'first_value_only': False, 'threshold': None}, '1': {'rows': 7, 'lag': 7, 'method': 'additive', 'strength': 1.0, 'first_value_only': True, 'threshold': 10}, '2': {'model': 'Linear', 'phi': 1, 'window': None, 'transform_dict': {'fillna': None, 'transformations': {'0': 'bkfilter'}, 'transformation_params': {'0': {}}}}}\") in model 413 in generation 2: AverageValueNaive\n",
      "Model Number: 414 with model MultivariateRegression in generation 2 of 5\n"
     ]
    },
    {
     "name": "stderr",
     "output_type": "stream",
     "text": [
      "C:\\Users\\premkumar\\AppData\\Local\\Programs\\Python\\Python312\\Lib\\site-packages\\autots\\models\\base.py:1025: RuntimeWarning: invalid value encountered in divide\n",
      "  smape_cons = (np.nansum(wsmape_df, axis=1) * 200) / np.count_nonzero(\n"
     ]
    },
    {
     "name": "stdout",
     "output_type": "stream",
     "text": [
      "Model Number: 415 with model LastValueNaive in generation 2 of 5\n",
      "Model Number: 416 with model DMD in generation 2 of 5\n"
     ]
    },
    {
     "name": "stderr",
     "output_type": "stream",
     "text": [
      "C:\\Users\\premkumar\\AppData\\Local\\Programs\\Python\\Python312\\Lib\\site-packages\\autots\\models\\base.py:1025: RuntimeWarning: invalid value encountered in divide\n",
      "  smape_cons = (np.nansum(wsmape_df, axis=1) * 200) / np.count_nonzero(\n",
      "C:\\Users\\premkumar\\AppData\\Local\\Programs\\Python\\Python312\\Lib\\site-packages\\autots\\models\\base.py:1025: RuntimeWarning: invalid value encountered in divide\n",
      "  smape_cons = (np.nansum(wsmape_df, axis=1) * 200) / np.count_nonzero(\n",
      "C:\\Users\\premkumar\\AppData\\Local\\Programs\\Python\\Python312\\Lib\\site-packages\\autots\\models\\base.py:1025: RuntimeWarning: invalid value encountered in divide\n",
      "  smape_cons = (np.nansum(wsmape_df, axis=1) * 200) / np.count_nonzero(\n"
     ]
    },
    {
     "name": "stdout",
     "output_type": "stream",
     "text": [
      "Model Number: 417 with model MultivariateRegression in generation 2 of 5\n",
      "Model Number: 418 with model UnivariateMotif in generation 2 of 5\n"
     ]
    },
    {
     "name": "stderr",
     "output_type": "stream",
     "text": [
      "C:\\Users\\premkumar\\AppData\\Local\\Programs\\Python\\Python312\\Lib\\site-packages\\autots\\tools\\transform.py:5472: FutureWarning: Downcasting object dtype arrays on .fillna, .ffill, .bfill is deprecated and will change in a future version. Call result.infer_objects(copy=False) instead. To opt-in to the future behavior, set `pd.set_option('future.no_silent_downcasting', True)`\n",
      "  df = df.fillna(0)\n",
      "C:\\Users\\premkumar\\AppData\\Local\\Programs\\Python\\Python312\\Lib\\site-packages\\autots\\tools\\transform.py:5472: FutureWarning: Downcasting object dtype arrays on .fillna, .ffill, .bfill is deprecated and will change in a future version. Call result.infer_objects(copy=False) instead. To opt-in to the future behavior, set `pd.set_option('future.no_silent_downcasting', True)`\n",
      "  df = df.fillna(0)\n",
      "C:\\Users\\premkumar\\AppData\\Local\\Programs\\Python\\Python312\\Lib\\site-packages\\autots\\models\\base.py:1025: RuntimeWarning: invalid value encountered in divide\n",
      "  smape_cons = (np.nansum(wsmape_df, axis=1) * 200) / np.count_nonzero(\n",
      "C:\\Users\\premkumar\\AppData\\Local\\Programs\\Python\\Python312\\Lib\\site-packages\\autots\\models\\base.py:1025: RuntimeWarning: invalid value encountered in divide\n",
      "  smape_cons = (np.nansum(wsmape_df, axis=1) * 200) / np.count_nonzero(\n"
     ]
    },
    {
     "name": "stdout",
     "output_type": "stream",
     "text": [
      "Model Number: 419 with model Cassandra in generation 2 of 5\n",
      "Model Number: 420 with model UnivariateMotif in generation 2 of 5\n",
      "Model Number: 421 with model GLS in generation 2 of 5\n",
      "Model Number: 422 with model LastValueNaive in generation 2 of 5\n"
     ]
    },
    {
     "name": "stderr",
     "output_type": "stream",
     "text": [
      "C:\\Users\\premkumar\\AppData\\Local\\Programs\\Python\\Python312\\Lib\\site-packages\\autots\\models\\base.py:1025: RuntimeWarning: invalid value encountered in divide\n",
      "  smape_cons = (np.nansum(wsmape_df, axis=1) * 200) / np.count_nonzero(\n",
      "C:\\Users\\premkumar\\AppData\\Local\\Programs\\Python\\Python312\\Lib\\site-packages\\autots\\models\\base.py:1025: RuntimeWarning: invalid value encountered in divide\n",
      "  smape_cons = (np.nansum(wsmape_df, axis=1) * 200) / np.count_nonzero(\n",
      "C:\\Users\\premkumar\\AppData\\Local\\Programs\\Python\\Python312\\Lib\\site-packages\\autots\\models\\base.py:1025: RuntimeWarning: invalid value encountered in divide\n",
      "  smape_cons = (np.nansum(wsmape_df, axis=1) * 200) / np.count_nonzero(\n",
      "C:\\Users\\premkumar\\AppData\\Local\\Programs\\Python\\Python312\\Lib\\site-packages\\autots\\models\\base.py:1025: RuntimeWarning: invalid value encountered in divide\n",
      "  smape_cons = (np.nansum(wsmape_df, axis=1) * 200) / np.count_nonzero(\n"
     ]
    },
    {
     "name": "stdout",
     "output_type": "stream",
     "text": [
      "Model Number: 423 with model MultivariateRegression in generation 2 of 5\n",
      "Model Number: 424 with model UnivariateMotif in generation 2 of 5\n"
     ]
    },
    {
     "name": "stderr",
     "output_type": "stream",
     "text": [
      "C:\\Users\\premkumar\\AppData\\Local\\Programs\\Python\\Python312\\Lib\\site-packages\\autots\\models\\base.py:1025: RuntimeWarning: invalid value encountered in divide\n",
      "  smape_cons = (np.nansum(wsmape_df, axis=1) * 200) / np.count_nonzero(\n",
      "C:\\Users\\premkumar\\AppData\\Local\\Programs\\Python\\Python312\\Lib\\site-packages\\autots\\models\\base.py:1025: RuntimeWarning: invalid value encountered in divide\n",
      "  smape_cons = (np.nansum(wsmape_df, axis=1) * 200) / np.count_nonzero(\n"
     ]
    },
    {
     "name": "stdout",
     "output_type": "stream",
     "text": [
      "Model Number: 425 with model Theta in generation 2 of 5\n"
     ]
    },
    {
     "name": "stderr",
     "output_type": "stream",
     "text": [
      "C:\\Users\\premkumar\\AppData\\Local\\Programs\\Python\\Python312\\Lib\\site-packages\\autots\\models\\base.py:1025: RuntimeWarning: invalid value encountered in divide\n",
      "  smape_cons = (np.nansum(wsmape_df, axis=1) * 200) / np.count_nonzero(\n"
     ]
    },
    {
     "name": "stdout",
     "output_type": "stream",
     "text": [
      "Model Number: 426 with model Theta in generation 2 of 5\n"
     ]
    },
    {
     "name": "stderr",
     "output_type": "stream",
     "text": [
      "C:\\Users\\premkumar\\AppData\\Local\\Programs\\Python\\Python312\\Lib\\site-packages\\autots\\models\\base.py:1025: RuntimeWarning: invalid value encountered in divide\n",
      "  smape_cons = (np.nansum(wsmape_df, axis=1) * 200) / np.count_nonzero(\n"
     ]
    },
    {
     "name": "stdout",
     "output_type": "stream",
     "text": [
      "Model Number: 427 with model MultivariateRegression in generation 2 of 5\n",
      "Model Number: 428 with model SectionalMotif in generation 2 of 5\n",
      "Model Number: 429 with model UnivariateMotif in generation 2 of 5\n",
      "Model Number: 430 with model UnobservedComponents in generation 2 of 5\n",
      "Template Eval Error: ValueError(\"regression_type='User' but no future_regressor supplied\") in model 430 in generation 2: UnobservedComponents\n",
      "Model Number: 431 with model DatepartRegression in generation 2 of 5\n",
      "Model Number: 432 with model SectionalMotif in generation 2 of 5\n"
     ]
    },
    {
     "name": "stderr",
     "output_type": "stream",
     "text": [
      "C:\\Users\\premkumar\\AppData\\Local\\Programs\\Python\\Python312\\Lib\\site-packages\\autots\\models\\base.py:1025: RuntimeWarning: invalid value encountered in divide\n",
      "  smape_cons = (np.nansum(wsmape_df, axis=1) * 200) / np.count_nonzero(\n",
      "C:\\Users\\premkumar\\AppData\\Local\\Programs\\Python\\Python312\\Lib\\site-packages\\autots\\models\\base.py:1025: RuntimeWarning: invalid value encountered in divide\n",
      "  smape_cons = (np.nansum(wsmape_df, axis=1) * 200) / np.count_nonzero(\n",
      "C:\\Users\\premkumar\\AppData\\Local\\Programs\\Python\\Python312\\Lib\\site-packages\\autots\\models\\base.py:1025: RuntimeWarning: invalid value encountered in divide\n",
      "  smape_cons = (np.nansum(wsmape_df, axis=1) * 200) / np.count_nonzero(\n",
      "C:\\Users\\premkumar\\AppData\\Local\\Programs\\Python\\Python312\\Lib\\site-packages\\autots\\models\\base.py:1025: RuntimeWarning: invalid value encountered in divide\n",
      "  smape_cons = (np.nansum(wsmape_df, axis=1) * 200) / np.count_nonzero(\n",
      "C:\\Users\\premkumar\\AppData\\Local\\Programs\\Python\\Python312\\Lib\\site-packages\\autots\\models\\base.py:1025: RuntimeWarning: invalid value encountered in divide\n",
      "  smape_cons = (np.nansum(wsmape_df, axis=1) * 200) / np.count_nonzero(\n"
     ]
    },
    {
     "name": "stdout",
     "output_type": "stream",
     "text": [
      "Model Number: 433 with model MultivariateMotif in generation 2 of 5\n"
     ]
    },
    {
     "name": "stderr",
     "output_type": "stream",
     "text": [
      "C:\\Users\\premkumar\\AppData\\Local\\Programs\\Python\\Python312\\Lib\\site-packages\\autots\\models\\base.py:1025: RuntimeWarning: invalid value encountered in divide\n",
      "  smape_cons = (np.nansum(wsmape_df, axis=1) * 200) / np.count_nonzero(\n"
     ]
    },
    {
     "name": "stdout",
     "output_type": "stream",
     "text": [
      "Model Number: 434 with model Cassandra in generation 2 of 5\n",
      "Model Number: 435 with model SeasonalNaive in generation 2 of 5\n"
     ]
    },
    {
     "name": "stderr",
     "output_type": "stream",
     "text": [
      "C:\\Users\\premkumar\\AppData\\Local\\Programs\\Python\\Python312\\Lib\\site-packages\\autots\\models\\base.py:1025: RuntimeWarning: invalid value encountered in divide\n",
      "  smape_cons = (np.nansum(wsmape_df, axis=1) * 200) / np.count_nonzero(\n",
      "C:\\Users\\premkumar\\AppData\\Local\\Programs\\Python\\Python312\\Lib\\site-packages\\autots\\models\\base.py:1025: RuntimeWarning: invalid value encountered in divide\n",
      "  smape_cons = (np.nansum(wsmape_df, axis=1) * 200) / np.count_nonzero(\n"
     ]
    },
    {
     "name": "stdout",
     "output_type": "stream",
     "text": [
      "Model Number: 436 with model Theta in generation 2 of 5\n",
      "Model Number: 437 with model UnivariateMotif in generation 2 of 5\n",
      "Model Number: 438 with model DMD in generation 2 of 5\n",
      "Model Number: 439 with model NVAR in generation 2 of 5\n"
     ]
    },
    {
     "name": "stderr",
     "output_type": "stream",
     "text": [
      "C:\\Users\\premkumar\\AppData\\Local\\Programs\\Python\\Python312\\Lib\\site-packages\\autots\\models\\base.py:1025: RuntimeWarning: invalid value encountered in divide\n",
      "  smape_cons = (np.nansum(wsmape_df, axis=1) * 200) / np.count_nonzero(\n",
      "C:\\Users\\premkumar\\AppData\\Local\\Programs\\Python\\Python312\\Lib\\site-packages\\autots\\models\\base.py:1025: RuntimeWarning: invalid value encountered in divide\n",
      "  smape_cons = (np.nansum(wsmape_df, axis=1) * 200) / np.count_nonzero(\n",
      "C:\\Users\\premkumar\\AppData\\Local\\Programs\\Python\\Python312\\Lib\\site-packages\\autots\\models\\base.py:1025: RuntimeWarning: invalid value encountered in divide\n",
      "  smape_cons = (np.nansum(wsmape_df, axis=1) * 200) / np.count_nonzero(\n",
      "C:\\Users\\premkumar\\AppData\\Local\\Programs\\Python\\Python312\\Lib\\site-packages\\autots\\models\\base.py:1025: RuntimeWarning: invalid value encountered in divide\n",
      "  smape_cons = (np.nansum(wsmape_df, axis=1) * 200) / np.count_nonzero(\n"
     ]
    },
    {
     "name": "stdout",
     "output_type": "stream",
     "text": [
      "Model Number: 440 with model UnobservedComponents in generation 2 of 5\n"
     ]
    },
    {
     "name": "stderr",
     "output_type": "stream",
     "text": [
      "C:\\Users\\premkumar\\AppData\\Local\\Programs\\Python\\Python312\\Lib\\site-packages\\autots\\models\\base.py:1025: RuntimeWarning: invalid value encountered in divide\n",
      "  smape_cons = (np.nansum(wsmape_df, axis=1) * 200) / np.count_nonzero(\n"
     ]
    },
    {
     "name": "stdout",
     "output_type": "stream",
     "text": [
      "Model Number: 441 with model ARIMA in generation 2 of 5\n",
      "Model Number: 442 with model AverageValueNaive in generation 2 of 5\n",
      "Model Number: 443 with model UnivariateMotif in generation 2 of 5\n",
      "Model Number: 444 with model MultivariateMotif in generation 2 of 5\n"
     ]
    },
    {
     "name": "stderr",
     "output_type": "stream",
     "text": [
      "C:\\Users\\premkumar\\AppData\\Local\\Programs\\Python\\Python312\\Lib\\site-packages\\autots\\models\\base.py:1025: RuntimeWarning: invalid value encountered in divide\n",
      "  smape_cons = (np.nansum(wsmape_df, axis=1) * 200) / np.count_nonzero(\n",
      "C:\\Users\\premkumar\\AppData\\Local\\Programs\\Python\\Python312\\Lib\\site-packages\\autots\\models\\base.py:1025: RuntimeWarning: invalid value encountered in divide\n",
      "  smape_cons = (np.nansum(wsmape_df, axis=1) * 200) / np.count_nonzero(\n",
      "C:\\Users\\premkumar\\AppData\\Local\\Programs\\Python\\Python312\\Lib\\site-packages\\autots\\models\\base.py:1025: RuntimeWarning: invalid value encountered in divide\n",
      "  smape_cons = (np.nansum(wsmape_df, axis=1) * 200) / np.count_nonzero(\n",
      "C:\\Users\\premkumar\\AppData\\Local\\Programs\\Python\\Python312\\Lib\\site-packages\\autots\\models\\base.py:1025: RuntimeWarning: invalid value encountered in divide\n",
      "  smape_cons = (np.nansum(wsmape_df, axis=1) * 200) / np.count_nonzero(\n"
     ]
    },
    {
     "name": "stdout",
     "output_type": "stream",
     "text": [
      "Model Number: 445 with model ARIMA in generation 2 of 5\n",
      "Model Number: 446 with model MultivariateMotif in generation 2 of 5\n",
      "Model Number: 447 with model MultivariateMotif in generation 2 of 5\n",
      "Model Number: 448 with model NVAR in generation 2 of 5\n"
     ]
    },
    {
     "name": "stderr",
     "output_type": "stream",
     "text": [
      "C:\\Users\\premkumar\\AppData\\Local\\Programs\\Python\\Python312\\Lib\\site-packages\\autots\\models\\base.py:1025: RuntimeWarning: invalid value encountered in divide\n",
      "  smape_cons = (np.nansum(wsmape_df, axis=1) * 200) / np.count_nonzero(\n",
      "C:\\Users\\premkumar\\AppData\\Local\\Programs\\Python\\Python312\\Lib\\site-packages\\autots\\models\\base.py:1025: RuntimeWarning: invalid value encountered in divide\n",
      "  smape_cons = (np.nansum(wsmape_df, axis=1) * 200) / np.count_nonzero(\n",
      "C:\\Users\\premkumar\\AppData\\Local\\Programs\\Python\\Python312\\Lib\\site-packages\\autots\\models\\base.py:1025: RuntimeWarning: invalid value encountered in divide\n",
      "  smape_cons = (np.nansum(wsmape_df, axis=1) * 200) / np.count_nonzero(\n",
      "C:\\Users\\premkumar\\AppData\\Local\\Programs\\Python\\Python312\\Lib\\site-packages\\autots\\tools\\transform.py:5472: FutureWarning: Downcasting object dtype arrays on .fillna, .ffill, .bfill is deprecated and will change in a future version. Call result.infer_objects(copy=False) instead. To opt-in to the future behavior, set `pd.set_option('future.no_silent_downcasting', True)`\n",
      "  df = df.fillna(0)\n",
      "C:\\Users\\premkumar\\AppData\\Local\\Programs\\Python\\Python312\\Lib\\site-packages\\autots\\tools\\transform.py:5472: FutureWarning: Downcasting object dtype arrays on .fillna, .ffill, .bfill is deprecated and will change in a future version. Call result.infer_objects(copy=False) instead. To opt-in to the future behavior, set `pd.set_option('future.no_silent_downcasting', True)`\n",
      "  df = df.fillna(0)\n",
      "C:\\Users\\premkumar\\AppData\\Local\\Programs\\Python\\Python312\\Lib\\site-packages\\autots\\models\\base.py:1025: RuntimeWarning: invalid value encountered in divide\n",
      "  smape_cons = (np.nansum(wsmape_df, axis=1) * 200) / np.count_nonzero(\n"
     ]
    },
    {
     "name": "stdout",
     "output_type": "stream",
     "text": [
      "Model Number: 449 with model Theta in generation 2 of 5\n",
      "Model Number: 450 with model ARDL in generation 2 of 5\n",
      "Template Eval Error: ValueError(\"regression_type='User' but future_regressor not supplied\") in model 450 in generation 2: ARDL\n",
      "Model Number: 451 with model DMD in generation 2 of 5\n",
      "Model Number: 452 with model UnobservedComponents in generation 2 of 5\n",
      "Model Number: 453 with model LastValueNaive in generation 2 of 5\n"
     ]
    },
    {
     "name": "stderr",
     "output_type": "stream",
     "text": [
      "C:\\Users\\premkumar\\AppData\\Local\\Programs\\Python\\Python312\\Lib\\site-packages\\autots\\models\\base.py:1025: RuntimeWarning: invalid value encountered in divide\n",
      "  smape_cons = (np.nansum(wsmape_df, axis=1) * 200) / np.count_nonzero(\n",
      "C:\\Users\\premkumar\\AppData\\Local\\Programs\\Python\\Python312\\Lib\\site-packages\\autots\\models\\base.py:1025: RuntimeWarning: invalid value encountered in divide\n",
      "  smape_cons = (np.nansum(wsmape_df, axis=1) * 200) / np.count_nonzero(\n",
      "C:\\Users\\premkumar\\AppData\\Local\\Programs\\Python\\Python312\\Lib\\site-packages\\autots\\models\\base.py:1025: RuntimeWarning: invalid value encountered in divide\n",
      "  smape_cons = (np.nansum(wsmape_df, axis=1) * 200) / np.count_nonzero(\n"
     ]
    },
    {
     "name": "stdout",
     "output_type": "stream",
     "text": [
      "Model Number: 454 with model GLM in generation 2 of 5\n",
      "Model Number: 455 with model AverageValueNaive in generation 2 of 5\n"
     ]
    },
    {
     "name": "stderr",
     "output_type": "stream",
     "text": [
      "C:\\Users\\premkumar\\AppData\\Local\\Programs\\Python\\Python312\\Lib\\site-packages\\autots\\models\\base.py:1025: RuntimeWarning: invalid value encountered in divide\n",
      "  smape_cons = (np.nansum(wsmape_df, axis=1) * 200) / np.count_nonzero(\n",
      "C:\\Users\\premkumar\\AppData\\Local\\Programs\\Python\\Python312\\Lib\\site-packages\\statsmodels\\genmod\\families\\links.py:198: RuntimeWarning: overflow encountered in exp\n",
      "  t = np.exp(-z)\n",
      "C:\\Users\\premkumar\\AppData\\Local\\Programs\\Python\\Python312\\Lib\\site-packages\\autots\\models\\base.py:1025: RuntimeWarning: invalid value encountered in divide\n",
      "  smape_cons = (np.nansum(wsmape_df, axis=1) * 200) / np.count_nonzero(\n"
     ]
    },
    {
     "name": "stdout",
     "output_type": "stream",
     "text": [
      "Model Number: 456 with model DatepartRegression in generation 2 of 5\n"
     ]
    },
    {
     "name": "stderr",
     "output_type": "stream",
     "text": [
      "C:\\Users\\premkumar\\AppData\\Local\\Programs\\Python\\Python312\\Lib\\site-packages\\autots\\models\\base.py:1025: RuntimeWarning: invalid value encountered in divide\n",
      "  smape_cons = (np.nansum(wsmape_df, axis=1) * 200) / np.count_nonzero(\n",
      "C:\\Users\\premkumar\\AppData\\Local\\Programs\\Python\\Python312\\Lib\\site-packages\\sklearn\\neighbors\\_regression.py:505: UserWarning: One or more samples have no neighbors within specified radius; predicting NaN.\n",
      "  warnings.warn(empty_warning_msg)\n"
     ]
    },
    {
     "name": "stdout",
     "output_type": "stream",
     "text": [
      "Template Eval Error: ValueError('Model DatepartRegression returned NaN for one or more series. fail_on_forecast_nan=True') in model 456 in generation 2: DatepartRegression\n",
      "Model Number: 457 with model UnobservedComponents in generation 2 of 5\n",
      "Model Number: 458 with model GLS in generation 2 of 5\n",
      "Model Number: 459 with model AverageValueNaive in generation 2 of 5\n",
      "Model Number: 460 with model UnobservedComponents in generation 2 of 5\n"
     ]
    },
    {
     "name": "stderr",
     "output_type": "stream",
     "text": [
      "C:\\Users\\premkumar\\AppData\\Local\\Programs\\Python\\Python312\\Lib\\site-packages\\autots\\models\\base.py:1025: RuntimeWarning: invalid value encountered in divide\n",
      "  smape_cons = (np.nansum(wsmape_df, axis=1) * 200) / np.count_nonzero(\n",
      "C:\\Users\\premkumar\\AppData\\Local\\Programs\\Python\\Python312\\Lib\\site-packages\\autots\\models\\base.py:1025: RuntimeWarning: invalid value encountered in divide\n",
      "  smape_cons = (np.nansum(wsmape_df, axis=1) * 200) / np.count_nonzero(\n",
      "C:\\Users\\premkumar\\AppData\\Local\\Programs\\Python\\Python312\\Lib\\site-packages\\autots\\models\\base.py:1025: RuntimeWarning: invalid value encountered in divide\n",
      "  smape_cons = (np.nansum(wsmape_df, axis=1) * 200) / np.count_nonzero(\n"
     ]
    },
    {
     "name": "stdout",
     "output_type": "stream",
     "text": [
      "Model Number: 461 with model SeasonalityMotif in generation 2 of 5\n",
      "Model Number: 462 with model AverageValueNaive in generation 2 of 5\n",
      "Model Number: 463 with model AverageValueNaive in generation 2 of 5\n",
      "Model Number: 464 with model MultivariateRegression in generation 2 of 5"
     ]
    },
    {
     "name": "stderr",
     "output_type": "stream",
     "text": [
      "C:\\Users\\premkumar\\AppData\\Local\\Programs\\Python\\Python312\\Lib\\site-packages\\autots\\models\\base.py:1025: RuntimeWarning: invalid value encountered in divide\n",
      "  smape_cons = (np.nansum(wsmape_df, axis=1) * 200) / np.count_nonzero(\n",
      "C:\\Users\\premkumar\\AppData\\Local\\Programs\\Python\\Python312\\Lib\\site-packages\\autots\\models\\base.py:1025: RuntimeWarning: invalid value encountered in divide\n",
      "  smape_cons = (np.nansum(wsmape_df, axis=1) * 200) / np.count_nonzero(\n",
      "C:\\Users\\premkumar\\AppData\\Local\\Programs\\Python\\Python312\\Lib\\site-packages\\autots\\models\\base.py:1025: RuntimeWarning: invalid value encountered in divide\n",
      "  smape_cons = (np.nansum(wsmape_df, axis=1) * 200) / np.count_nonzero(\n",
      "C:\\Users\\premkumar\\AppData\\Local\\Programs\\Python\\Python312\\Lib\\site-packages\\autots\\models\\base.py:1025: RuntimeWarning: invalid value encountered in divide\n",
      "  smape_cons = (np.nansum(wsmape_df, axis=1) * 200) / np.count_nonzero(\n"
     ]
    },
    {
     "name": "stdout",
     "output_type": "stream",
     "text": [
      "\n"
     ]
    },
    {
     "name": "stderr",
     "output_type": "stream",
     "text": [
      "C:\\Users\\premkumar\\AppData\\Local\\Programs\\Python\\Python312\\Lib\\site-packages\\autots\\models\\base.py:1025: RuntimeWarning: invalid value encountered in divide\n",
      "  smape_cons = (np.nansum(wsmape_df, axis=1) * 200) / np.count_nonzero(\n"
     ]
    },
    {
     "name": "stdout",
     "output_type": "stream",
     "text": [
      "Model Number: 465 with model ARIMA in generation 2 of 5\n"
     ]
    },
    {
     "name": "stderr",
     "output_type": "stream",
     "text": [
      "C:\\Users\\premkumar\\AppData\\Local\\Programs\\Python\\Python312\\Lib\\site-packages\\autots\\models\\base.py:1025: RuntimeWarning: invalid value encountered in divide\n",
      "  smape_cons = (np.nansum(wsmape_df, axis=1) * 200) / np.count_nonzero(\n"
     ]
    },
    {
     "name": "stdout",
     "output_type": "stream",
     "text": [
      "Model Number: 466 with model Theta in generation 2 of 5\n",
      "Model Number: 467 with model UnivariateMotif in generation 2 of 5\n"
     ]
    },
    {
     "name": "stderr",
     "output_type": "stream",
     "text": [
      "C:\\Users\\premkumar\\AppData\\Local\\Programs\\Python\\Python312\\Lib\\site-packages\\autots\\models\\base.py:1025: RuntimeWarning: invalid value encountered in divide\n",
      "  smape_cons = (np.nansum(wsmape_df, axis=1) * 200) / np.count_nonzero(\n",
      "C:\\Users\\premkumar\\AppData\\Local\\Programs\\Python\\Python312\\Lib\\site-packages\\autots\\models\\base.py:1025: RuntimeWarning: invalid value encountered in divide\n",
      "  smape_cons = (np.nansum(wsmape_df, axis=1) * 200) / np.count_nonzero(\n"
     ]
    },
    {
     "name": "stdout",
     "output_type": "stream",
     "text": [
      "Model Number: 468 with model MultivariateMotif in generation 2 of 5\n"
     ]
    },
    {
     "name": "stderr",
     "output_type": "stream",
     "text": [
      "C:\\Users\\premkumar\\AppData\\Local\\Programs\\Python\\Python312\\Lib\\site-packages\\autots\\models\\base.py:1025: RuntimeWarning: invalid value encountered in divide\n",
      "  smape_cons = (np.nansum(wsmape_df, axis=1) * 200) / np.count_nonzero(\n"
     ]
    },
    {
     "name": "stdout",
     "output_type": "stream",
     "text": [
      "Model Number: 469 with model UnobservedComponents in generation 2 of 5\n",
      "Template Eval Error: LinAlgError('Singular matrix') in model 469 in generation 2: UnobservedComponents\n",
      "Model Number: 470 with model DMD in generation 2 of 5\n",
      "Model Number: 471 with model MultivariateMotif in generation 2 of 5\n",
      "Model Number: 472 with model MetricMotif in generation 2 of 5\n",
      "Model Number: 473 with model RRVAR in generation 2 of 5\n",
      "Model Number: 474 with model SeasonalNaive in generation 2 of 5\n"
     ]
    },
    {
     "name": "stderr",
     "output_type": "stream",
     "text": [
      "C:\\Users\\premkumar\\AppData\\Local\\Programs\\Python\\Python312\\Lib\\site-packages\\autots\\models\\base.py:1025: RuntimeWarning: invalid value encountered in divide\n",
      "  smape_cons = (np.nansum(wsmape_df, axis=1) * 200) / np.count_nonzero(\n",
      "C:\\Users\\premkumar\\AppData\\Local\\Programs\\Python\\Python312\\Lib\\site-packages\\autots\\models\\base.py:1025: RuntimeWarning: invalid value encountered in divide\n",
      "  smape_cons = (np.nansum(wsmape_df, axis=1) * 200) / np.count_nonzero(\n",
      "C:\\Users\\premkumar\\AppData\\Local\\Programs\\Python\\Python312\\Lib\\site-packages\\autots\\models\\base.py:1025: RuntimeWarning: invalid value encountered in divide\n",
      "  smape_cons = (np.nansum(wsmape_df, axis=1) * 200) / np.count_nonzero(\n",
      "C:\\Users\\premkumar\\AppData\\Local\\Programs\\Python\\Python312\\Lib\\site-packages\\autots\\models\\base.py:1025: RuntimeWarning: invalid value encountered in divide\n",
      "  smape_cons = (np.nansum(wsmape_df, axis=1) * 200) / np.count_nonzero(\n",
      "C:\\Users\\premkumar\\AppData\\Local\\Programs\\Python\\Python312\\Lib\\site-packages\\autots\\models\\base.py:1025: RuntimeWarning: invalid value encountered in divide\n",
      "  smape_cons = (np.nansum(wsmape_df, axis=1) * 200) / np.count_nonzero(\n"
     ]
    },
    {
     "name": "stdout",
     "output_type": "stream",
     "text": [
      "Model Number: 475 with model ARIMA in generation 2 of 5\n",
      "Model Number: 476 with model MetricMotif in generation 2 of 5\n",
      "Model Number: 477 with model SectionalMotif in generation 2 of 5\n",
      "Model Number: 478 with model MultivariateMotif in generation 2 of 5\n",
      "Model Number: 479 with model AverageValueNaive in generation 2 of 5\n"
     ]
    },
    {
     "name": "stderr",
     "output_type": "stream",
     "text": [
      "C:\\Users\\premkumar\\AppData\\Local\\Programs\\Python\\Python312\\Lib\\site-packages\\autots\\models\\base.py:1025: RuntimeWarning: invalid value encountered in divide\n",
      "  smape_cons = (np.nansum(wsmape_df, axis=1) * 200) / np.count_nonzero(\n",
      "C:\\Users\\premkumar\\AppData\\Local\\Programs\\Python\\Python312\\Lib\\site-packages\\autots\\models\\base.py:1025: RuntimeWarning: invalid value encountered in divide\n",
      "  smape_cons = (np.nansum(wsmape_df, axis=1) * 200) / np.count_nonzero(\n",
      "C:\\Users\\premkumar\\AppData\\Local\\Programs\\Python\\Python312\\Lib\\site-packages\\autots\\models\\base.py:1025: RuntimeWarning: invalid value encountered in divide\n",
      "  smape_cons = (np.nansum(wsmape_df, axis=1) * 200) / np.count_nonzero(\n",
      "C:\\Users\\premkumar\\AppData\\Local\\Programs\\Python\\Python312\\Lib\\site-packages\\autots\\models\\base.py:1025: RuntimeWarning: invalid value encountered in divide\n",
      "  smape_cons = (np.nansum(wsmape_df, axis=1) * 200) / np.count_nonzero(\n"
     ]
    },
    {
     "name": "stdout",
     "output_type": "stream",
     "text": [
      "Model Number: 480 with model WindowRegression in generation 2 of 5\n",
      "Model Number: 481 with model DMD in generation 2 of 5\n",
      "ECR rank is 0\n"
     ]
    },
    {
     "name": "stderr",
     "output_type": "stream",
     "text": [
      "C:\\Users\\premkumar\\AppData\\Local\\Programs\\Python\\Python312\\Lib\\site-packages\\autots\\models\\base.py:1025: RuntimeWarning: invalid value encountered in divide\n",
      "  smape_cons = (np.nansum(wsmape_df, axis=1) * 200) / np.count_nonzero(\n",
      "C:\\Users\\premkumar\\AppData\\Local\\Programs\\Python\\Python312\\Lib\\site-packages\\autots\\models\\base.py:1025: RuntimeWarning: invalid value encountered in divide\n",
      "  smape_cons = (np.nansum(wsmape_df, axis=1) * 200) / np.count_nonzero(\n",
      "C:\\Users\\premkumar\\AppData\\Local\\Programs\\Python\\Python312\\Lib\\site-packages\\autots\\models\\base.py:1025: RuntimeWarning: invalid value encountered in divide\n",
      "  smape_cons = (np.nansum(wsmape_df, axis=1) * 200) / np.count_nonzero(\n"
     ]
    },
    {
     "name": "stdout",
     "output_type": "stream",
     "text": [
      "New Generation: 3 of 5\n",
      "Model Number: 482 with model ARIMA in generation 3 of 5\n",
      "Template Eval Error: ValueError(\"regression_type='User' but future_regressor not supplied\") in model 482 in generation 3: ARIMA\n",
      "Model Number: 483 with model UnivariateMotif in generation 3 of 5\n",
      "Model Number: 484 with model LastValueNaive in generation 3 of 5\n",
      "Model Number: 485 with model UnobservedComponents in generation 3 of 5\n"
     ]
    },
    {
     "name": "stderr",
     "output_type": "stream",
     "text": [
      "C:\\Users\\premkumar\\AppData\\Local\\Programs\\Python\\Python312\\Lib\\site-packages\\autots\\models\\base.py:1025: RuntimeWarning: invalid value encountered in divide\n",
      "  smape_cons = (np.nansum(wsmape_df, axis=1) * 200) / np.count_nonzero(\n",
      "C:\\Users\\premkumar\\AppData\\Local\\Programs\\Python\\Python312\\Lib\\site-packages\\autots\\models\\base.py:1025: RuntimeWarning: invalid value encountered in divide\n",
      "  smape_cons = (np.nansum(wsmape_df, axis=1) * 200) / np.count_nonzero(\n"
     ]
    },
    {
     "name": "stdout",
     "output_type": "stream",
     "text": [
      "Model Number: 486 with model LastValueNaive in generation 3 of 5\n",
      "Model Number: 487 with model LastValueNaive in generation 3 of 5\n",
      "Model Number: 488 with model GLS in generation 3 of 5\n",
      "Model Number: 489 with model SeasonalNaive in generation 3 of 5\n"
     ]
    },
    {
     "name": "stderr",
     "output_type": "stream",
     "text": [
      "C:\\Users\\premkumar\\AppData\\Local\\Programs\\Python\\Python312\\Lib\\site-packages\\autots\\models\\base.py:1025: RuntimeWarning: invalid value encountered in divide\n",
      "  smape_cons = (np.nansum(wsmape_df, axis=1) * 200) / np.count_nonzero(\n",
      "C:\\Users\\premkumar\\AppData\\Local\\Programs\\Python\\Python312\\Lib\\site-packages\\autots\\models\\base.py:1025: RuntimeWarning: invalid value encountered in divide\n",
      "  smape_cons = (np.nansum(wsmape_df, axis=1) * 200) / np.count_nonzero(\n",
      "C:\\Users\\premkumar\\AppData\\Local\\Programs\\Python\\Python312\\Lib\\site-packages\\autots\\models\\base.py:1025: RuntimeWarning: invalid value encountered in divide\n",
      "  smape_cons = (np.nansum(wsmape_df, axis=1) * 200) / np.count_nonzero(\n",
      "C:\\Users\\premkumar\\AppData\\Local\\Programs\\Python\\Python312\\Lib\\site-packages\\autots\\models\\base.py:1025: RuntimeWarning: invalid value encountered in divide\n",
      "  smape_cons = (np.nansum(wsmape_df, axis=1) * 200) / np.count_nonzero(\n",
      "C:\\Users\\premkumar\\AppData\\Local\\Programs\\Python\\Python312\\Lib\\site-packages\\autots\\models\\base.py:1025: RuntimeWarning: invalid value encountered in divide\n",
      "  smape_cons = (np.nansum(wsmape_df, axis=1) * 200) / np.count_nonzero(\n"
     ]
    },
    {
     "name": "stdout",
     "output_type": "stream",
     "text": [
      "Model Number: 490 with model MultivariateRegression in generation 3 of 5\n",
      "Model Number: 491 with model MultivariateMotif in generation 3 of 5\n",
      "Model Number: 492 with model NVAR in generation 3 of 5\n",
      "Model Number: 493 with model LastValueNaive in generation 3 of 5\n"
     ]
    },
    {
     "name": "stderr",
     "output_type": "stream",
     "text": [
      "C:\\Users\\premkumar\\AppData\\Local\\Programs\\Python\\Python312\\Lib\\site-packages\\autots\\models\\base.py:1025: RuntimeWarning: invalid value encountered in divide\n",
      "  smape_cons = (np.nansum(wsmape_df, axis=1) * 200) / np.count_nonzero(\n",
      "C:\\Users\\premkumar\\AppData\\Local\\Programs\\Python\\Python312\\Lib\\site-packages\\autots\\models\\base.py:1025: RuntimeWarning: invalid value encountered in divide\n",
      "  smape_cons = (np.nansum(wsmape_df, axis=1) * 200) / np.count_nonzero(\n",
      "C:\\Users\\premkumar\\AppData\\Local\\Programs\\Python\\Python312\\Lib\\site-packages\\autots\\models\\base.py:1025: RuntimeWarning: invalid value encountered in divide\n",
      "  smape_cons = (np.nansum(wsmape_df, axis=1) * 200) / np.count_nonzero(\n",
      "C:\\Users\\premkumar\\AppData\\Local\\Programs\\Python\\Python312\\Lib\\site-packages\\autots\\models\\base.py:1025: RuntimeWarning: invalid value encountered in divide\n",
      "  smape_cons = (np.nansum(wsmape_df, axis=1) * 200) / np.count_nonzero(\n"
     ]
    },
    {
     "name": "stdout",
     "output_type": "stream",
     "text": [
      "Model Number: 494 with model Cassandra in generation 3 of 5\n",
      "Model Number: 495 with model SectionalMotif in generation 3 of 5\n",
      "Model Number: 496 with model ConstantNaive in generation 3 of 5\n",
      "Template Eval Error: ValueError(\"Model returned NaN due to a preprocessing transformer {'fillna': 'rolling_mean', 'transformations': {'0': 'bkfilter', '1': 'AlignLastValue', '2': 'bkfilter', '3': 'ScipyFilter'}, 'transformation_params': {'0': {}, '1': {'rows': 7, 'lag': 1, 'method': 'multiplicative', 'strength': 0.5, 'first_value_only': False, 'threshold': 10}, '2': {}, '3': {'method': 'savgol_filter', 'method_args': {'window_length': 7, 'polyorder': 1, 'deriv': 1, 'mode': 'nearest'}}}}. fail_on_forecast_nan=True\") in model 496 in generation 3: ConstantNaive\n",
      "Model Number: 497 with model DMD in generation 3 of 5\n",
      "Model Number: 498 with model MetricMotif in generation 3 of 5\n",
      "Model Number: 499 with model ETS in generation 3 of 5\n"
     ]
    },
    {
     "name": "stderr",
     "output_type": "stream",
     "text": [
      "C:\\Users\\premkumar\\AppData\\Local\\Programs\\Python\\Python312\\Lib\\site-packages\\autots\\models\\base.py:1025: RuntimeWarning: invalid value encountered in divide\n",
      "  smape_cons = (np.nansum(wsmape_df, axis=1) * 200) / np.count_nonzero(\n",
      "C:\\Users\\premkumar\\AppData\\Local\\Programs\\Python\\Python312\\Lib\\site-packages\\autots\\models\\base.py:1025: RuntimeWarning: invalid value encountered in divide\n",
      "  smape_cons = (np.nansum(wsmape_df, axis=1) * 200) / np.count_nonzero(\n",
      "C:\\Users\\premkumar\\AppData\\Local\\Programs\\Python\\Python312\\Lib\\site-packages\\autots\\tools\\transform.py:5472: FutureWarning: Downcasting object dtype arrays on .fillna, .ffill, .bfill is deprecated and will change in a future version. Call result.infer_objects(copy=False) instead. To opt-in to the future behavior, set `pd.set_option('future.no_silent_downcasting', True)`\n",
      "  df = df.fillna(0)\n",
      "C:\\Users\\premkumar\\AppData\\Local\\Programs\\Python\\Python312\\Lib\\site-packages\\autots\\tools\\transform.py:5472: FutureWarning: Downcasting object dtype arrays on .fillna, .ffill, .bfill is deprecated and will change in a future version. Call result.infer_objects(copy=False) instead. To opt-in to the future behavior, set `pd.set_option('future.no_silent_downcasting', True)`\n",
      "  df = df.fillna(0)\n",
      "C:\\Users\\premkumar\\AppData\\Local\\Programs\\Python\\Python312\\Lib\\site-packages\\autots\\models\\base.py:1025: RuntimeWarning: invalid value encountered in divide\n",
      "  smape_cons = (np.nansum(wsmape_df, axis=1) * 200) / np.count_nonzero(\n",
      "C:\\Users\\premkumar\\AppData\\Local\\Programs\\Python\\Python312\\Lib\\site-packages\\autots\\models\\base.py:1025: RuntimeWarning: invalid value encountered in divide\n",
      "  smape_cons = (np.nansum(wsmape_df, axis=1) * 200) / np.count_nonzero(\n"
     ]
    },
    {
     "name": "stdout",
     "output_type": "stream",
     "text": [
      "Model Number: 500 with model MultivariateMotif in generation 3 of 5\n"
     ]
    },
    {
     "name": "stderr",
     "output_type": "stream",
     "text": [
      "C:\\Users\\premkumar\\AppData\\Local\\Programs\\Python\\Python312\\Lib\\site-packages\\autots\\models\\base.py:1025: RuntimeWarning: invalid value encountered in divide\n",
      "  smape_cons = (np.nansum(wsmape_df, axis=1) * 200) / np.count_nonzero(\n"
     ]
    },
    {
     "name": "stdout",
     "output_type": "stream",
     "text": [
      "Model Number: 501 with model UnivariateMotif in generation 3 of 5\n",
      "Model Number: 502 with model Cassandra in generation 3 of 5\n"
     ]
    },
    {
     "name": "stderr",
     "output_type": "stream",
     "text": [
      "C:\\Users\\premkumar\\AppData\\Local\\Programs\\Python\\Python312\\Lib\\site-packages\\autots\\models\\base.py:1025: RuntimeWarning: invalid value encountered in divide\n",
      "  smape_cons = (np.nansum(wsmape_df, axis=1) * 200) / np.count_nonzero(\n",
      "C:\\Users\\premkumar\\AppData\\Local\\Programs\\Python\\Python312\\Lib\\site-packages\\autots\\models\\base.py:1025: RuntimeWarning: invalid value encountered in divide\n",
      "  smape_cons = (np.nansum(wsmape_df, axis=1) * 200) / np.count_nonzero(\n",
      "C:\\Users\\premkumar\\AppData\\Local\\Programs\\Python\\Python312\\Lib\\site-packages\\autots\\models\\base.py:1025: RuntimeWarning: invalid value encountered in divide\n",
      "  smape_cons = (np.nansum(wsmape_df, axis=1) * 200) / np.count_nonzero(\n"
     ]
    },
    {
     "name": "stdout",
     "output_type": "stream",
     "text": [
      "Model Number: 503 with model NVAR in generation 3 of 5\n",
      "Model Number: 504 with model GLM in generation 3 of 5\n",
      "Model Number: 505 with model GLS in generation 3 of 5\n",
      "Model Number: 506 with model SeasonalityMotif in generation 3 of 5\n",
      "Model Number: 507 with model Theta in generation 3 of 5\n"
     ]
    },
    {
     "name": "stderr",
     "output_type": "stream",
     "text": [
      "C:\\Users\\premkumar\\AppData\\Local\\Programs\\Python\\Python312\\Lib\\site-packages\\autots\\models\\base.py:1025: RuntimeWarning: invalid value encountered in divide\n",
      "  smape_cons = (np.nansum(wsmape_df, axis=1) * 200) / np.count_nonzero(\n",
      "C:\\Users\\premkumar\\AppData\\Local\\Programs\\Python\\Python312\\Lib\\site-packages\\autots\\models\\base.py:1025: RuntimeWarning: invalid value encountered in divide\n",
      "  smape_cons = (np.nansum(wsmape_df, axis=1) * 200) / np.count_nonzero(\n",
      "C:\\Users\\premkumar\\AppData\\Local\\Programs\\Python\\Python312\\Lib\\site-packages\\autots\\models\\base.py:1025: RuntimeWarning: invalid value encountered in divide\n",
      "  smape_cons = (np.nansum(wsmape_df, axis=1) * 200) / np.count_nonzero(\n",
      "C:\\Users\\premkumar\\AppData\\Local\\Programs\\Python\\Python312\\Lib\\site-packages\\autots\\models\\base.py:1025: RuntimeWarning: invalid value encountered in divide\n",
      "  smape_cons = (np.nansum(wsmape_df, axis=1) * 200) / np.count_nonzero(\n",
      "C:\\Users\\premkumar\\AppData\\Local\\Programs\\Python\\Python312\\Lib\\site-packages\\autots\\models\\base.py:1025: RuntimeWarning: invalid value encountered in divide\n",
      "  smape_cons = (np.nansum(wsmape_df, axis=1) * 200) / np.count_nonzero(\n"
     ]
    },
    {
     "name": "stdout",
     "output_type": "stream",
     "text": [
      "Model Number: 508 with model Theta in generation 3 of 5\n",
      "Model Number: 509 with model NVAR in generation 3 of 5\n",
      "Model Number: 510 with model SectionalMotif in generation 3 of 5\n",
      "Model Number: 511 with model UnivariateMotif in generation 3 of 5\n",
      "Model Number: 512 with model NVAR in generation 3 of 5\n"
     ]
    },
    {
     "name": "stderr",
     "output_type": "stream",
     "text": [
      "C:\\Users\\premkumar\\AppData\\Local\\Programs\\Python\\Python312\\Lib\\site-packages\\autots\\models\\base.py:1025: RuntimeWarning: invalid value encountered in divide\n",
      "  smape_cons = (np.nansum(wsmape_df, axis=1) * 200) / np.count_nonzero(\n",
      "C:\\Users\\premkumar\\AppData\\Local\\Programs\\Python\\Python312\\Lib\\site-packages\\autots\\models\\base.py:1025: RuntimeWarning: invalid value encountered in divide\n",
      "  smape_cons = (np.nansum(wsmape_df, axis=1) * 200) / np.count_nonzero(\n",
      "C:\\Users\\premkumar\\AppData\\Local\\Programs\\Python\\Python312\\Lib\\site-packages\\autots\\models\\base.py:1025: RuntimeWarning: invalid value encountered in divide\n",
      "  smape_cons = (np.nansum(wsmape_df, axis=1) * 200) / np.count_nonzero(\n",
      "C:\\Users\\premkumar\\AppData\\Local\\Programs\\Python\\Python312\\Lib\\site-packages\\autots\\models\\base.py:1025: RuntimeWarning: invalid value encountered in divide\n",
      "  smape_cons = (np.nansum(wsmape_df, axis=1) * 200) / np.count_nonzero(\n",
      "C:\\Users\\premkumar\\AppData\\Local\\Programs\\Python\\Python312\\Lib\\site-packages\\autots\\models\\base.py:1025: RuntimeWarning: invalid value encountered in divide\n",
      "  smape_cons = (np.nansum(wsmape_df, axis=1) * 200) / np.count_nonzero(\n"
     ]
    },
    {
     "name": "stdout",
     "output_type": "stream",
     "text": [
      "Model Number: 513 with model ARIMA in generation 3 of 5\n",
      "Model Number: 514 with model SeasonalityMotif in generation 3 of 5\n",
      "Model Number: 515 with model DMD in generation 3 of 5\n"
     ]
    },
    {
     "name": "stderr",
     "output_type": "stream",
     "text": [
      "C:\\Users\\premkumar\\AppData\\Local\\Programs\\Python\\Python312\\Lib\\site-packages\\autots\\models\\base.py:1025: RuntimeWarning: invalid value encountered in divide\n",
      "  smape_cons = (np.nansum(wsmape_df, axis=1) * 200) / np.count_nonzero(\n",
      "C:\\Users\\premkumar\\AppData\\Local\\Programs\\Python\\Python312\\Lib\\site-packages\\autots\\models\\base.py:1025: RuntimeWarning: invalid value encountered in divide\n",
      "  smape_cons = (np.nansum(wsmape_df, axis=1) * 200) / np.count_nonzero(\n",
      "C:\\Users\\premkumar\\AppData\\Local\\Programs\\Python\\Python312\\Lib\\site-packages\\autots\\models\\base.py:1025: RuntimeWarning: invalid value encountered in divide\n",
      "  smape_cons = (np.nansum(wsmape_df, axis=1) * 200) / np.count_nonzero(\n"
     ]
    },
    {
     "name": "stdout",
     "output_type": "stream",
     "text": [
      "Model Number: 516 with model UnobservedComponents in generation 3 of 5\n",
      "Model Number: 517 with model SeasonalityMotif in generation 3 of 5\n",
      "Model Number: 518 with model AverageValueNaive in generation 3 of 5\n",
      "Model Number: 519 with model AverageValueNaive in generation 3 of 5\n",
      "Model Number: 520 with model MetricMotif in generation 3 of 5\n",
      "Model Number: 521 with model ETS in generation 3 of 5\n"
     ]
    },
    {
     "name": "stderr",
     "output_type": "stream",
     "text": [
      "C:\\Users\\premkumar\\AppData\\Local\\Programs\\Python\\Python312\\Lib\\site-packages\\autots\\models\\base.py:1025: RuntimeWarning: invalid value encountered in divide\n",
      "  smape_cons = (np.nansum(wsmape_df, axis=1) * 200) / np.count_nonzero(\n",
      "C:\\Users\\premkumar\\AppData\\Local\\Programs\\Python\\Python312\\Lib\\site-packages\\autots\\models\\base.py:1025: RuntimeWarning: invalid value encountered in divide\n",
      "  smape_cons = (np.nansum(wsmape_df, axis=1) * 200) / np.count_nonzero(\n",
      "C:\\Users\\premkumar\\AppData\\Local\\Programs\\Python\\Python312\\Lib\\site-packages\\autots\\models\\base.py:1025: RuntimeWarning: invalid value encountered in divide\n",
      "  smape_cons = (np.nansum(wsmape_df, axis=1) * 200) / np.count_nonzero(\n",
      "C:\\Users\\premkumar\\AppData\\Local\\Programs\\Python\\Python312\\Lib\\site-packages\\autots\\models\\base.py:1025: RuntimeWarning: invalid value encountered in divide\n",
      "  smape_cons = (np.nansum(wsmape_df, axis=1) * 200) / np.count_nonzero(\n",
      "C:\\Users\\premkumar\\AppData\\Local\\Programs\\Python\\Python312\\Lib\\site-packages\\autots\\models\\base.py:1025: RuntimeWarning: invalid value encountered in divide\n",
      "  smape_cons = (np.nansum(wsmape_df, axis=1) * 200) / np.count_nonzero(\n"
     ]
    },
    {
     "name": "stdout",
     "output_type": "stream",
     "text": [
      "Model Number: 522 with model SectionalMotif in generation 3 of 5\n",
      "Model Number: 523 with model NVAR in generation 3 of 5\n",
      "Model Number: 524 with model DMD in generation 3 of 5\n",
      "Model Number: 525 with model UnobservedComponents in generation 3 of 5\n"
     ]
    },
    {
     "name": "stderr",
     "output_type": "stream",
     "text": [
      "C:\\Users\\premkumar\\AppData\\Local\\Programs\\Python\\Python312\\Lib\\site-packages\\autots\\models\\base.py:1025: RuntimeWarning: invalid value encountered in divide\n",
      "  smape_cons = (np.nansum(wsmape_df, axis=1) * 200) / np.count_nonzero(\n",
      "C:\\Users\\premkumar\\AppData\\Local\\Programs\\Python\\Python312\\Lib\\site-packages\\autots\\models\\base.py:1025: RuntimeWarning: invalid value encountered in divide\n",
      "  smape_cons = (np.nansum(wsmape_df, axis=1) * 200) / np.count_nonzero(\n",
      "C:\\Users\\premkumar\\AppData\\Local\\Programs\\Python\\Python312\\Lib\\site-packages\\autots\\models\\base.py:1025: RuntimeWarning: invalid value encountered in divide\n",
      "  smape_cons = (np.nansum(wsmape_df, axis=1) * 200) / np.count_nonzero(\n",
      "C:\\Users\\premkumar\\AppData\\Local\\Programs\\Python\\Python312\\Lib\\site-packages\\autots\\models\\base.py:1025: RuntimeWarning: invalid value encountered in divide\n",
      "  smape_cons = (np.nansum(wsmape_df, axis=1) * 200) / np.count_nonzero(\n"
     ]
    },
    {
     "name": "stdout",
     "output_type": "stream",
     "text": [
      "Template Eval Error: Exception(\"Transformer AlignLastValue failed on inverse from params fake_date {'0': {}, '1': {'lag_1': 7, 'method': 5}, '2': {'rows': 1, 'lag': 1, 'method': 'additive', 'strength': 0.5, 'first_value_only': True, 'threshold': 10}, '3': {}}\") in model 525 in generation 3: UnobservedComponents\n",
      "Model Number: 526 with model NVAR in generation 3 of 5\n"
     ]
    },
    {
     "name": "stderr",
     "output_type": "stream",
     "text": [
      "C:\\Users\\premkumar\\AppData\\Local\\Programs\\Python\\Python312\\Lib\\site-packages\\autots\\models\\base.py:1025: RuntimeWarning: invalid value encountered in divide\n",
      "  smape_cons = (np.nansum(wsmape_df, axis=1) * 200) / np.count_nonzero(\n"
     ]
    },
    {
     "name": "stdout",
     "output_type": "stream",
     "text": [
      "Model Number: 527 with model MultivariateRegression in generation 3 of 5\n",
      "Model Number: 528 with model GLM in generation 3 of 5\n",
      "Model Number: 529 with model AverageValueNaive in generation 3 of 5\n",
      "Model Number: 530 with model SeasonalNaive in generation 3 of 5\n"
     ]
    },
    {
     "name": "stderr",
     "output_type": "stream",
     "text": [
      "C:\\Users\\premkumar\\AppData\\Local\\Programs\\Python\\Python312\\Lib\\site-packages\\autots\\models\\base.py:1025: RuntimeWarning: invalid value encountered in divide\n",
      "  smape_cons = (np.nansum(wsmape_df, axis=1) * 200) / np.count_nonzero(\n",
      "C:\\Users\\premkumar\\AppData\\Local\\Programs\\Python\\Python312\\Lib\\site-packages\\autots\\models\\base.py:1025: RuntimeWarning: invalid value encountered in divide\n",
      "  smape_cons = (np.nansum(wsmape_df, axis=1) * 200) / np.count_nonzero(\n",
      "C:\\Users\\premkumar\\AppData\\Local\\Programs\\Python\\Python312\\Lib\\site-packages\\autots\\models\\base.py:1025: RuntimeWarning: invalid value encountered in divide\n",
      "  smape_cons = (np.nansum(wsmape_df, axis=1) * 200) / np.count_nonzero(\n",
      "C:\\Users\\premkumar\\AppData\\Local\\Programs\\Python\\Python312\\Lib\\site-packages\\autots\\models\\base.py:1025: RuntimeWarning: invalid value encountered in divide\n",
      "  smape_cons = (np.nansum(wsmape_df, axis=1) * 200) / np.count_nonzero(\n"
     ]
    },
    {
     "name": "stdout",
     "output_type": "stream",
     "text": [
      "Model Number: 531 with model UnobservedComponents in generation 3 of 5\n",
      "Model Number: 532 with model ARDL in generation 3 of 5\n"
     ]
    },
    {
     "name": "stderr",
     "output_type": "stream",
     "text": [
      "C:\\Users\\premkumar\\AppData\\Local\\Programs\\Python\\Python312\\Lib\\site-packages\\autots\\models\\base.py:1025: RuntimeWarning: invalid value encountered in divide\n",
      "  smape_cons = (np.nansum(wsmape_df, axis=1) * 200) / np.count_nonzero(\n",
      "C:\\Users\\premkumar\\AppData\\Local\\Programs\\Python\\Python312\\Lib\\site-packages\\autots\\models\\base.py:1025: RuntimeWarning: invalid value encountered in divide\n",
      "  smape_cons = (np.nansum(wsmape_df, axis=1) * 200) / np.count_nonzero(\n"
     ]
    },
    {
     "name": "stdout",
     "output_type": "stream",
     "text": [
      "Model Number: 533 with model ARIMA in generation 3 of 5\n",
      "Model Number: 534 with model MultivariateMotif in generation 3 of 5\n",
      "Model Number: 535 with model MetricMotif in generation 3 of 5\n",
      "Model Number: 536 with model SeasonalNaive in generation 3 of 5\n",
      "Model Number: 537 with model ConstantNaive in generation 3 of 5\n",
      "Model Number: 538 with model SeasonalityMotif in generation 3 of 5\n"
     ]
    },
    {
     "name": "stderr",
     "output_type": "stream",
     "text": [
      "C:\\Users\\premkumar\\AppData\\Local\\Programs\\Python\\Python312\\Lib\\site-packages\\autots\\models\\base.py:1025: RuntimeWarning: invalid value encountered in divide\n",
      "  smape_cons = (np.nansum(wsmape_df, axis=1) * 200) / np.count_nonzero(\n",
      "C:\\Users\\premkumar\\AppData\\Local\\Programs\\Python\\Python312\\Lib\\site-packages\\autots\\models\\base.py:1025: RuntimeWarning: invalid value encountered in divide\n",
      "  smape_cons = (np.nansum(wsmape_df, axis=1) * 200) / np.count_nonzero(\n",
      "C:\\Users\\premkumar\\AppData\\Local\\Programs\\Python\\Python312\\Lib\\site-packages\\sklearn\\linear_model\\_ridge.py:204: LinAlgWarning: Ill-conditioned matrix (rcond=6.76561e-26): result may not be accurate.\n",
      "  return linalg.solve(A, Xy, assume_a=\"pos\", overwrite_a=True).T\n",
      "C:\\Users\\premkumar\\AppData\\Local\\Programs\\Python\\Python312\\Lib\\site-packages\\autots\\models\\base.py:1025: RuntimeWarning: invalid value encountered in divide\n",
      "  smape_cons = (np.nansum(wsmape_df, axis=1) * 200) / np.count_nonzero(\n",
      "C:\\Users\\premkumar\\AppData\\Local\\Programs\\Python\\Python312\\Lib\\site-packages\\autots\\models\\base.py:1025: RuntimeWarning: invalid value encountered in divide\n",
      "  smape_cons = (np.nansum(wsmape_df, axis=1) * 200) / np.count_nonzero(\n",
      "C:\\Users\\premkumar\\AppData\\Local\\Programs\\Python\\Python312\\Lib\\site-packages\\autots\\models\\base.py:1025: RuntimeWarning: invalid value encountered in divide\n",
      "  smape_cons = (np.nansum(wsmape_df, axis=1) * 200) / np.count_nonzero(\n"
     ]
    },
    {
     "name": "stdout",
     "output_type": "stream",
     "text": [
      "Model Number: 539 with model GLS in generation 3 of 5\n",
      "Model Number: 540 with model UnivariateMotif in generation 3 of 5\n",
      "Model Number: 541 with model SectionalMotif in generation 3 of 5\n",
      "Model Number: 542 with model SectionalMotif in generation 3 of 5\n",
      "Model Number: 543 with model UnobservedComponents in generation 3 of 5\n"
     ]
    },
    {
     "name": "stderr",
     "output_type": "stream",
     "text": [
      "C:\\Users\\premkumar\\AppData\\Local\\Programs\\Python\\Python312\\Lib\\site-packages\\autots\\models\\base.py:1025: RuntimeWarning: invalid value encountered in divide\n",
      "  smape_cons = (np.nansum(wsmape_df, axis=1) * 200) / np.count_nonzero(\n",
      "C:\\Users\\premkumar\\AppData\\Local\\Programs\\Python\\Python312\\Lib\\site-packages\\autots\\models\\base.py:1025: RuntimeWarning: invalid value encountered in divide\n",
      "  smape_cons = (np.nansum(wsmape_df, axis=1) * 200) / np.count_nonzero(\n",
      "C:\\Users\\premkumar\\AppData\\Local\\Programs\\Python\\Python312\\Lib\\site-packages\\autots\\models\\base.py:1025: RuntimeWarning: invalid value encountered in divide\n",
      "  smape_cons = (np.nansum(wsmape_df, axis=1) * 200) / np.count_nonzero(\n",
      "C:\\Users\\premkumar\\AppData\\Local\\Programs\\Python\\Python312\\Lib\\site-packages\\autots\\models\\base.py:1025: RuntimeWarning: invalid value encountered in divide\n",
      "  smape_cons = (np.nansum(wsmape_df, axis=1) * 200) / np.count_nonzero(\n",
      "C:\\Users\\premkumar\\AppData\\Local\\Programs\\Python\\Python312\\Lib\\site-packages\\autots\\models\\base.py:1025: RuntimeWarning: invalid value encountered in divide\n",
      "  smape_cons = (np.nansum(wsmape_df, axis=1) * 200) / np.count_nonzero(\n"
     ]
    },
    {
     "name": "stdout",
     "output_type": "stream",
     "text": [
      "Model Number: 544 with model RRVAR in generation 3 of 5\n",
      "Model Number: 545 with model SectionalMotif in generation 3 of 5\n"
     ]
    },
    {
     "name": "stderr",
     "output_type": "stream",
     "text": [
      "C:\\Users\\premkumar\\AppData\\Local\\Programs\\Python\\Python312\\Lib\\site-packages\\autots\\models\\base.py:1025: RuntimeWarning: invalid value encountered in divide\n",
      "  smape_cons = (np.nansum(wsmape_df, axis=1) * 200) / np.count_nonzero(\n",
      "C:\\Users\\premkumar\\AppData\\Local\\Programs\\Python\\Python312\\Lib\\site-packages\\autots\\models\\base.py:1025: RuntimeWarning: invalid value encountered in divide\n",
      "  smape_cons = (np.nansum(wsmape_df, axis=1) * 200) / np.count_nonzero(\n",
      "C:\\Users\\premkumar\\AppData\\Local\\Programs\\Python\\Python312\\Lib\\site-packages\\autots\\models\\base.py:1025: RuntimeWarning: invalid value encountered in divide\n",
      "  smape_cons = (np.nansum(wsmape_df, axis=1) * 200) / np.count_nonzero(\n"
     ]
    },
    {
     "name": "stdout",
     "output_type": "stream",
     "text": [
      "Model Number: 546 with model ARIMA in generation 3 of 5\n",
      "Template Eval Error: ValueError(\"regression_type='User' but future_regressor not supplied\") in model 546 in generation 3: ARIMA\n",
      "Model Number: 547 with model SectionalMotif in generation 3 of 5\n",
      "Model Number: 548 with model LastValueNaive in generation 3 of 5\n",
      "Model Number: 549 with model UnobservedComponents in generation 3 of 5\n"
     ]
    },
    {
     "name": "stderr",
     "output_type": "stream",
     "text": [
      "C:\\Users\\premkumar\\AppData\\Local\\Programs\\Python\\Python312\\Lib\\site-packages\\autots\\models\\base.py:1025: RuntimeWarning: invalid value encountered in divide\n",
      "  smape_cons = (np.nansum(wsmape_df, axis=1) * 200) / np.count_nonzero(\n",
      "C:\\Users\\premkumar\\AppData\\Local\\Programs\\Python\\Python312\\Lib\\site-packages\\autots\\models\\base.py:1025: RuntimeWarning: invalid value encountered in divide\n",
      "  smape_cons = (np.nansum(wsmape_df, axis=1) * 200) / np.count_nonzero(\n",
      "C:\\Users\\premkumar\\AppData\\Local\\Programs\\Python\\Python312\\Lib\\site-packages\\autots\\models\\base.py:1025: RuntimeWarning: invalid value encountered in divide\n",
      "  smape_cons = (np.nansum(wsmape_df, axis=1) * 200) / np.count_nonzero(\n"
     ]
    },
    {
     "name": "stdout",
     "output_type": "stream",
     "text": [
      "Model Number: 550 with model ARDL in generation 3 of 5\n"
     ]
    },
    {
     "name": "stderr",
     "output_type": "stream",
     "text": [
      "C:\\Users\\premkumar\\AppData\\Local\\Programs\\Python\\Python312\\Lib\\site-packages\\autots\\models\\base.py:1025: RuntimeWarning: invalid value encountered in divide\n",
      "  smape_cons = (np.nansum(wsmape_df, axis=1) * 200) / np.count_nonzero(\n"
     ]
    },
    {
     "name": "stdout",
     "output_type": "stream",
     "text": [
      "Model Number: 551 with model Theta in generation 3 of 5\n",
      "Template Eval Error: Exception(\"Transformer AlignLastValue failed on inverse from params ffill {'0': {'rows': 1, 'lag': 1, 'method': 'additive', 'strength': 1.0, 'first_value_only': True, 'threshold': 1}, '1': {}, '2': {'discretization': 'upper', 'n_bins': 10}}\") in model 551 in generation 3: Theta\n",
      "Model Number: 552 with model DMD in generation 3 of 5\n",
      "Model Number: 553 with model AverageValueNaive in generation 3 of 5\n",
      "Model Number: 554 with model WindowRegression in generation 3 of 5\n",
      "Model Number: 555 with model NVAR in generation 3 of 5\n",
      "Model Number: 556 with model ARDL in generation 3 of 5\n"
     ]
    },
    {
     "name": "stderr",
     "output_type": "stream",
     "text": [
      "C:\\Users\\premkumar\\AppData\\Local\\Programs\\Python\\Python312\\Lib\\site-packages\\autots\\models\\base.py:1025: RuntimeWarning: invalid value encountered in divide\n",
      "  smape_cons = (np.nansum(wsmape_df, axis=1) * 200) / np.count_nonzero(\n",
      "C:\\Users\\premkumar\\AppData\\Local\\Programs\\Python\\Python312\\Lib\\site-packages\\autots\\models\\base.py:1025: RuntimeWarning: invalid value encountered in divide\n",
      "  smape_cons = (np.nansum(wsmape_df, axis=1) * 200) / np.count_nonzero(\n",
      "C:\\Users\\premkumar\\AppData\\Local\\Programs\\Python\\Python312\\Lib\\site-packages\\sklearn\\linear_model\\_coordinate_descent.py:678: ConvergenceWarning: Objective did not converge. You might want to increase the number of iterations, check the scale of the features or consider increasing regularisation. Duality gap: 7.083e+03, tolerance: 9.312e+02\n",
      "  model = cd_fast.enet_coordinate_descent(\n",
      "C:\\Users\\premkumar\\AppData\\Local\\Programs\\Python\\Python312\\Lib\\site-packages\\autots\\models\\base.py:1025: RuntimeWarning: invalid value encountered in divide\n",
      "  smape_cons = (np.nansum(wsmape_df, axis=1) * 200) / np.count_nonzero(\n",
      "C:\\Users\\premkumar\\AppData\\Local\\Programs\\Python\\Python312\\Lib\\site-packages\\autots\\models\\base.py:1025: RuntimeWarning: invalid value encountered in divide\n",
      "  smape_cons = (np.nansum(wsmape_df, axis=1) * 200) / np.count_nonzero(\n"
     ]
    },
    {
     "name": "stdout",
     "output_type": "stream",
     "text": [
      "Model Number: 557 with model SeasonalityMotif in generation 3 of 5\n",
      "Model Number: 558 with model Cassandra in generation 3 of 5\n"
     ]
    },
    {
     "name": "stderr",
     "output_type": "stream",
     "text": [
      "C:\\Users\\premkumar\\AppData\\Local\\Programs\\Python\\Python312\\Lib\\site-packages\\autots\\models\\base.py:1025: RuntimeWarning: invalid value encountered in divide\n",
      "  smape_cons = (np.nansum(wsmape_df, axis=1) * 200) / np.count_nonzero(\n",
      "C:\\Users\\premkumar\\AppData\\Local\\Programs\\Python\\Python312\\Lib\\site-packages\\autots\\models\\base.py:1025: RuntimeWarning: invalid value encountered in divide\n",
      "  smape_cons = (np.nansum(wsmape_df, axis=1) * 200) / np.count_nonzero(\n"
     ]
    },
    {
     "name": "stdout",
     "output_type": "stream",
     "text": [
      "Model Number: 559 with model NVAR in generation 3 of 5\n"
     ]
    },
    {
     "name": "stderr",
     "output_type": "stream",
     "text": [
      "C:\\Users\\premkumar\\AppData\\Local\\Programs\\Python\\Python312\\Lib\\site-packages\\autots\\models\\base.py:1025: RuntimeWarning: invalid value encountered in divide\n",
      "  smape_cons = (np.nansum(wsmape_df, axis=1) * 200) / np.count_nonzero(\n",
      "C:\\Users\\premkumar\\AppData\\Local\\Programs\\Python\\Python312\\Lib\\site-packages\\autots\\models\\base.py:1025: RuntimeWarning: invalid value encountered in divide\n",
      "  smape_cons = (np.nansum(wsmape_df, axis=1) * 200) / np.count_nonzero(\n"
     ]
    },
    {
     "name": "stdout",
     "output_type": "stream",
     "text": [
      "Model Number: 560 with model ARIMA in generation 3 of 5\n"
     ]
    },
    {
     "name": "stderr",
     "output_type": "stream",
     "text": [
      "C:\\Users\\premkumar\\AppData\\Local\\Programs\\Python\\Python312\\Lib\\site-packages\\autots\\models\\base.py:1025: RuntimeWarning: invalid value encountered in divide\n",
      "  smape_cons = (np.nansum(wsmape_df, axis=1) * 200) / np.count_nonzero(\n"
     ]
    },
    {
     "name": "stdout",
     "output_type": "stream",
     "text": [
      "Model Number: 561 with model Theta in generation 3 of 5\n",
      "Model Number: 562 with model MultivariateMotif in generation 3 of 5\n",
      "Model Number: 563 with model SeasonalityMotif in generation 3 of 5\n"
     ]
    },
    {
     "name": "stderr",
     "output_type": "stream",
     "text": [
      "C:\\Users\\premkumar\\AppData\\Local\\Programs\\Python\\Python312\\Lib\\site-packages\\autots\\models\\base.py:1025: RuntimeWarning: invalid value encountered in divide\n",
      "  smape_cons = (np.nansum(wsmape_df, axis=1) * 200) / np.count_nonzero(\n",
      "C:\\Users\\premkumar\\AppData\\Local\\Programs\\Python\\Python312\\Lib\\site-packages\\sklearn\\linear_model\\_ridge.py:204: LinAlgWarning: Ill-conditioned matrix (rcond=6.76561e-26): result may not be accurate.\n",
      "  return linalg.solve(A, Xy, assume_a=\"pos\", overwrite_a=True).T\n",
      "C:\\Users\\premkumar\\AppData\\Local\\Programs\\Python\\Python312\\Lib\\site-packages\\autots\\models\\base.py:1025: RuntimeWarning: invalid value encountered in divide\n",
      "  smape_cons = (np.nansum(wsmape_df, axis=1) * 200) / np.count_nonzero(\n",
      "C:\\Users\\premkumar\\AppData\\Local\\Programs\\Python\\Python312\\Lib\\site-packages\\autots\\models\\base.py:1025: RuntimeWarning: invalid value encountered in divide\n",
      "  smape_cons = (np.nansum(wsmape_df, axis=1) * 200) / np.count_nonzero(\n"
     ]
    },
    {
     "name": "stdout",
     "output_type": "stream",
     "text": [
      "Model Number: 564 with model DMD in generation 3 of 5\n",
      "Model Number: 565 with model UnivariateMotif in generation 3 of 5\n",
      "Model Number: 566 with model MultivariateMotif in generation 3 of 5\n"
     ]
    },
    {
     "name": "stderr",
     "output_type": "stream",
     "text": [
      "C:\\Users\\premkumar\\AppData\\Local\\Programs\\Python\\Python312\\Lib\\site-packages\\autots\\models\\base.py:1025: RuntimeWarning: invalid value encountered in divide\n",
      "  smape_cons = (np.nansum(wsmape_df, axis=1) * 200) / np.count_nonzero(\n",
      "C:\\Users\\premkumar\\AppData\\Local\\Programs\\Python\\Python312\\Lib\\site-packages\\autots\\models\\base.py:1025: RuntimeWarning: invalid value encountered in divide\n",
      "  smape_cons = (np.nansum(wsmape_df, axis=1) * 200) / np.count_nonzero(\n",
      "C:\\Users\\premkumar\\AppData\\Local\\Programs\\Python\\Python312\\Lib\\site-packages\\autots\\models\\base.py:1025: RuntimeWarning: invalid value encountered in divide\n",
      "  smape_cons = (np.nansum(wsmape_df, axis=1) * 200) / np.count_nonzero(\n"
     ]
    },
    {
     "name": "stdout",
     "output_type": "stream",
     "text": [
      "Model Number: 567 with model MetricMotif in generation 3 of 5\n",
      "Model Number: 568 with model ETS in generation 3 of 5\n"
     ]
    },
    {
     "name": "stderr",
     "output_type": "stream",
     "text": [
      "C:\\Users\\premkumar\\AppData\\Local\\Programs\\Python\\Python312\\Lib\\site-packages\\autots\\models\\base.py:1025: RuntimeWarning: invalid value encountered in divide\n",
      "  smape_cons = (np.nansum(wsmape_df, axis=1) * 200) / np.count_nonzero(\n",
      "C:\\Users\\premkumar\\AppData\\Local\\Programs\\Python\\Python312\\Lib\\site-packages\\autots\\models\\base.py:1025: RuntimeWarning: invalid value encountered in divide\n",
      "  smape_cons = (np.nansum(wsmape_df, axis=1) * 200) / np.count_nonzero(\n"
     ]
    },
    {
     "name": "stdout",
     "output_type": "stream",
     "text": [
      "Model Number: 569 with model UnobservedComponents in generation 3 of 5\n",
      "Model Number: 570 with model AverageValueNaive in generation 3 of 5\n"
     ]
    },
    {
     "name": "stderr",
     "output_type": "stream",
     "text": [
      "C:\\Users\\premkumar\\AppData\\Local\\Programs\\Python\\Python312\\Lib\\site-packages\\autots\\models\\base.py:1025: RuntimeWarning: invalid value encountered in divide\n",
      "  smape_cons = (np.nansum(wsmape_df, axis=1) * 200) / np.count_nonzero(\n",
      "C:\\Users\\premkumar\\AppData\\Local\\Programs\\Python\\Python312\\Lib\\site-packages\\autots\\models\\base.py:1025: RuntimeWarning: invalid value encountered in divide\n",
      "  smape_cons = (np.nansum(wsmape_df, axis=1) * 200) / np.count_nonzero(\n"
     ]
    },
    {
     "name": "stdout",
     "output_type": "stream",
     "text": [
      "Model Number: 571 with model UnivariateMotif in generation 3 of 5\n",
      "Model Number: 572 with model FFT in generation 3 of 5\n",
      "Model Number: 573 with model UnivariateMotif in generation 3 of 5\n",
      "Model Number: 574 with model LastValueNaive in generation 3 of 5\n"
     ]
    },
    {
     "name": "stderr",
     "output_type": "stream",
     "text": [
      "C:\\Users\\premkumar\\AppData\\Local\\Programs\\Python\\Python312\\Lib\\site-packages\\autots\\tools\\transform.py:5472: FutureWarning: Downcasting object dtype arrays on .fillna, .ffill, .bfill is deprecated and will change in a future version. Call result.infer_objects(copy=False) instead. To opt-in to the future behavior, set `pd.set_option('future.no_silent_downcasting', True)`\n",
      "  df = df.fillna(0)\n",
      "C:\\Users\\premkumar\\AppData\\Local\\Programs\\Python\\Python312\\Lib\\site-packages\\autots\\tools\\transform.py:5472: FutureWarning: Downcasting object dtype arrays on .fillna, .ffill, .bfill is deprecated and will change in a future version. Call result.infer_objects(copy=False) instead. To opt-in to the future behavior, set `pd.set_option('future.no_silent_downcasting', True)`\n",
      "  df = df.fillna(0)\n",
      "C:\\Users\\premkumar\\AppData\\Local\\Programs\\Python\\Python312\\Lib\\site-packages\\autots\\models\\base.py:1025: RuntimeWarning: invalid value encountered in divide\n",
      "  smape_cons = (np.nansum(wsmape_df, axis=1) * 200) / np.count_nonzero(\n",
      "C:\\Users\\premkumar\\AppData\\Local\\Programs\\Python\\Python312\\Lib\\site-packages\\autots\\models\\base.py:1025: RuntimeWarning: invalid value encountered in divide\n",
      "  smape_cons = (np.nansum(wsmape_df, axis=1) * 200) / np.count_nonzero(\n",
      "C:\\Users\\premkumar\\AppData\\Local\\Programs\\Python\\Python312\\Lib\\site-packages\\autots\\models\\base.py:1025: RuntimeWarning: invalid value encountered in divide\n",
      "  smape_cons = (np.nansum(wsmape_df, axis=1) * 200) / np.count_nonzero(\n",
      "C:\\Users\\premkumar\\AppData\\Local\\Programs\\Python\\Python312\\Lib\\site-packages\\autots\\models\\base.py:1025: RuntimeWarning: invalid value encountered in divide\n",
      "  smape_cons = (np.nansum(wsmape_df, axis=1) * 200) / np.count_nonzero(\n"
     ]
    },
    {
     "name": "stdout",
     "output_type": "stream",
     "text": [
      "Model Number: 575 with model MetricMotif in generation 3 of 5\n",
      "Model Number: 576 with model UnivariateMotif in generation 3 of 5\n",
      "Model Number: 577 with model MultivariateMotif in generation 3 of 5\n",
      "Model Number: 578 with model NVAR in generation 3 of 5\n",
      "Model Number: 579 with model MetricMotif in generation 3 of 5\n",
      "Model Number: 580 with model SectionalMotif in generation 3 of 5\n",
      "Model Number: 581 with model MultivariateMotif in generation 3 of 5\n",
      "Model Number: 582 with model MetricMotif in generation 3 of 5\n"
     ]
    },
    {
     "name": "stderr",
     "output_type": "stream",
     "text": [
      "C:\\Users\\premkumar\\AppData\\Local\\Programs\\Python\\Python312\\Lib\\site-packages\\autots\\models\\base.py:1025: RuntimeWarning: invalid value encountered in divide\n",
      "  smape_cons = (np.nansum(wsmape_df, axis=1) * 200) / np.count_nonzero(\n",
      "C:\\Users\\premkumar\\AppData\\Local\\Programs\\Python\\Python312\\Lib\\site-packages\\autots\\models\\base.py:1025: RuntimeWarning: invalid value encountered in divide\n",
      "  smape_cons = (np.nansum(wsmape_df, axis=1) * 200) / np.count_nonzero(\n",
      "C:\\Users\\premkumar\\AppData\\Local\\Programs\\Python\\Python312\\Lib\\site-packages\\autots\\models\\base.py:1025: RuntimeWarning: invalid value encountered in divide\n",
      "  smape_cons = (np.nansum(wsmape_df, axis=1) * 200) / np.count_nonzero(\n",
      "C:\\Users\\premkumar\\AppData\\Local\\Programs\\Python\\Python312\\Lib\\site-packages\\autots\\models\\base.py:1025: RuntimeWarning: invalid value encountered in divide\n",
      "  smape_cons = (np.nansum(wsmape_df, axis=1) * 200) / np.count_nonzero(\n",
      "C:\\Users\\premkumar\\AppData\\Local\\Programs\\Python\\Python312\\Lib\\site-packages\\autots\\models\\base.py:1025: RuntimeWarning: invalid value encountered in divide\n",
      "  smape_cons = (np.nansum(wsmape_df, axis=1) * 200) / np.count_nonzero(\n",
      "C:\\Users\\premkumar\\AppData\\Local\\Programs\\Python\\Python312\\Lib\\site-packages\\autots\\models\\base.py:1025: RuntimeWarning: invalid value encountered in divide\n",
      "  smape_cons = (np.nansum(wsmape_df, axis=1) * 200) / np.count_nonzero(\n",
      "C:\\Users\\premkumar\\AppData\\Local\\Programs\\Python\\Python312\\Lib\\site-packages\\autots\\models\\base.py:1025: RuntimeWarning: invalid value encountered in divide\n",
      "  smape_cons = (np.nansum(wsmape_df, axis=1) * 200) / np.count_nonzero(\n"
     ]
    },
    {
     "name": "stdout",
     "output_type": "stream",
     "text": [
      "Model Number: 583 with model DatepartRegression in generation 3 of 5\n"
     ]
    },
    {
     "name": "stderr",
     "output_type": "stream",
     "text": [
      "C:\\Users\\premkumar\\AppData\\Local\\Programs\\Python\\Python312\\Lib\\site-packages\\autots\\models\\base.py:1025: RuntimeWarning: invalid value encountered in divide\n",
      "  smape_cons = (np.nansum(wsmape_df, axis=1) * 200) / np.count_nonzero(\n",
      "C:\\Users\\premkumar\\AppData\\Local\\Programs\\Python\\Python312\\Lib\\site-packages\\autots\\models\\base.py:1025: RuntimeWarning: invalid value encountered in divide\n",
      "  smape_cons = (np.nansum(wsmape_df, axis=1) * 200) / np.count_nonzero(\n"
     ]
    },
    {
     "name": "stdout",
     "output_type": "stream",
     "text": [
      "Model Number: 584 with model WindowRegression in generation 3 of 5\n"
     ]
    },
    {
     "name": "stderr",
     "output_type": "stream",
     "text": [
      "C:\\Users\\premkumar\\AppData\\Local\\Programs\\Python\\Python312\\Lib\\site-packages\\autots\\models\\base.py:1025: RuntimeWarning: invalid value encountered in divide\n",
      "  smape_cons = (np.nansum(wsmape_df, axis=1) * 200) / np.count_nonzero(\n"
     ]
    },
    {
     "name": "stdout",
     "output_type": "stream",
     "text": [
      "Model Number: 585 with model ARIMA in generation 3 of 5\n",
      "Model Number: 586 with model MultivariateMotif in generation 3 of 5\n"
     ]
    },
    {
     "name": "stderr",
     "output_type": "stream",
     "text": [
      "C:\\Users\\premkumar\\AppData\\Local\\Programs\\Python\\Python312\\Lib\\site-packages\\autots\\models\\base.py:1025: RuntimeWarning: invalid value encountered in divide\n",
      "  smape_cons = (np.nansum(wsmape_df, axis=1) * 200) / np.count_nonzero(\n",
      "C:\\Users\\premkumar\\AppData\\Local\\Programs\\Python\\Python312\\Lib\\site-packages\\autots\\models\\base.py:1025: RuntimeWarning: invalid value encountered in divide\n",
      "  smape_cons = (np.nansum(wsmape_df, axis=1) * 200) / np.count_nonzero(\n"
     ]
    },
    {
     "name": "stdout",
     "output_type": "stream",
     "text": [
      "Model Number: 587 with model MultivariateMotif in generation 3 of 5\n",
      "Model Number: 588 with model NVAR in generation 3 of 5\n",
      "Model Number: 589 with model MetricMotif in generation 3 of 5\n",
      "Model Number: 590 with model MultivariateMotif in generation 3 of 5\n",
      "Model Number: 591 with model SectionalMotif in generation 3 of 5\n"
     ]
    },
    {
     "name": "stderr",
     "output_type": "stream",
     "text": [
      "C:\\Users\\premkumar\\AppData\\Local\\Programs\\Python\\Python312\\Lib\\site-packages\\autots\\models\\base.py:1025: RuntimeWarning: invalid value encountered in divide\n",
      "  smape_cons = (np.nansum(wsmape_df, axis=1) * 200) / np.count_nonzero(\n",
      "C:\\Users\\premkumar\\AppData\\Local\\Programs\\Python\\Python312\\Lib\\site-packages\\autots\\models\\base.py:1025: RuntimeWarning: invalid value encountered in divide\n",
      "  smape_cons = (np.nansum(wsmape_df, axis=1) * 200) / np.count_nonzero(\n",
      "C:\\Users\\premkumar\\AppData\\Local\\Programs\\Python\\Python312\\Lib\\site-packages\\autots\\models\\base.py:1025: RuntimeWarning: invalid value encountered in divide\n",
      "  smape_cons = (np.nansum(wsmape_df, axis=1) * 200) / np.count_nonzero(\n",
      "C:\\Users\\premkumar\\AppData\\Local\\Programs\\Python\\Python312\\Lib\\site-packages\\autots\\models\\base.py:1025: RuntimeWarning: invalid value encountered in divide\n",
      "  smape_cons = (np.nansum(wsmape_df, axis=1) * 200) / np.count_nonzero(\n"
     ]
    },
    {
     "name": "stdout",
     "output_type": "stream",
     "text": [
      "Model Number: 592 with model MultivariateMotif in generation 3 of 5\n",
      "Model Number: 593 with model Theta in generation 3 of 5\n"
     ]
    },
    {
     "name": "stderr",
     "output_type": "stream",
     "text": [
      "C:\\Users\\premkumar\\AppData\\Local\\Programs\\Python\\Python312\\Lib\\site-packages\\autots\\models\\base.py:1025: RuntimeWarning: invalid value encountered in divide\n",
      "  smape_cons = (np.nansum(wsmape_df, axis=1) * 200) / np.count_nonzero(\n",
      "C:\\Users\\premkumar\\AppData\\Local\\Programs\\Python\\Python312\\Lib\\site-packages\\autots\\models\\base.py:1025: RuntimeWarning: invalid value encountered in divide\n",
      "  smape_cons = (np.nansum(wsmape_df, axis=1) * 200) / np.count_nonzero(\n",
      "C:\\Users\\premkumar\\AppData\\Local\\Programs\\Python\\Python312\\Lib\\site-packages\\autots\\models\\base.py:1025: RuntimeWarning: invalid value encountered in divide\n",
      "  smape_cons = (np.nansum(wsmape_df, axis=1) * 200) / np.count_nonzero(\n"
     ]
    },
    {
     "name": "stdout",
     "output_type": "stream",
     "text": [
      "Model Number: 594 with model UnobservedComponents in generation 3 of 5\n",
      "Template Eval Error: LinAlgError('Singular matrix') in model 594 in generation 3: UnobservedComponents\n",
      "Model Number: 595 with model Theta in generation 3 of 5\n",
      "Model Number: 596 with model AverageValueNaive in generation 3 of 5\n",
      "Model Number: 597 with model MetricMotif in generation 3 of 5\n",
      "Model Number: 598 with model NVAR in generation 3 of 5\n",
      "Model Number: 599 with model SeasonalityMotif in generation 3 of 5\n",
      "Model Number: 600 with model LastValueNaive in generation 3 of 5\n"
     ]
    },
    {
     "name": "stderr",
     "output_type": "stream",
     "text": [
      "C:\\Users\\premkumar\\AppData\\Local\\Programs\\Python\\Python312\\Lib\\site-packages\\autots\\models\\base.py:1025: RuntimeWarning: invalid value encountered in divide\n",
      "  smape_cons = (np.nansum(wsmape_df, axis=1) * 200) / np.count_nonzero(\n",
      "C:\\Users\\premkumar\\AppData\\Local\\Programs\\Python\\Python312\\Lib\\site-packages\\autots\\models\\base.py:1025: RuntimeWarning: invalid value encountered in divide\n",
      "  smape_cons = (np.nansum(wsmape_df, axis=1) * 200) / np.count_nonzero(\n",
      "C:\\Users\\premkumar\\AppData\\Local\\Programs\\Python\\Python312\\Lib\\site-packages\\autots\\models\\base.py:1025: RuntimeWarning: invalid value encountered in divide\n",
      "  smape_cons = (np.nansum(wsmape_df, axis=1) * 200) / np.count_nonzero(\n",
      "C:\\Users\\premkumar\\AppData\\Local\\Programs\\Python\\Python312\\Lib\\site-packages\\autots\\models\\base.py:1025: RuntimeWarning: invalid value encountered in divide\n",
      "  smape_cons = (np.nansum(wsmape_df, axis=1) * 200) / np.count_nonzero(\n",
      "C:\\Users\\premkumar\\AppData\\Local\\Programs\\Python\\Python312\\Lib\\site-packages\\autots\\models\\base.py:1025: RuntimeWarning: invalid value encountered in divide\n",
      "  smape_cons = (np.nansum(wsmape_df, axis=1) * 200) / np.count_nonzero(\n",
      "C:\\Users\\premkumar\\AppData\\Local\\Programs\\Python\\Python312\\Lib\\site-packages\\autots\\models\\base.py:1025: RuntimeWarning: invalid value encountered in divide\n",
      "  smape_cons = (np.nansum(wsmape_df, axis=1) * 200) / np.count_nonzero(\n"
     ]
    },
    {
     "name": "stdout",
     "output_type": "stream",
     "text": [
      "Model Number: 601 with model MetricMotif in generation 3 of 5\n",
      "Model Number: 602 with model UnobservedComponents in generation 3 of 5\n",
      "Model Number: 603 with model MultivariateMotif in generation 3 of 5\n",
      "Model Number: 604 with model SeasonalityMotif in generation 3 of 5\n",
      "Model Number: 605 with model SeasonalityMotif in generation 3 of 5\n"
     ]
    },
    {
     "name": "stderr",
     "output_type": "stream",
     "text": [
      "C:\\Users\\premkumar\\AppData\\Local\\Programs\\Python\\Python312\\Lib\\site-packages\\autots\\models\\base.py:1025: RuntimeWarning: invalid value encountered in divide\n",
      "  smape_cons = (np.nansum(wsmape_df, axis=1) * 200) / np.count_nonzero(\n",
      "C:\\Users\\premkumar\\AppData\\Local\\Programs\\Python\\Python312\\Lib\\site-packages\\autots\\models\\base.py:1025: RuntimeWarning: invalid value encountered in divide\n",
      "  smape_cons = (np.nansum(wsmape_df, axis=1) * 200) / np.count_nonzero(\n",
      "C:\\Users\\premkumar\\AppData\\Local\\Programs\\Python\\Python312\\Lib\\site-packages\\autots\\models\\base.py:1025: RuntimeWarning: invalid value encountered in divide\n",
      "  smape_cons = (np.nansum(wsmape_df, axis=1) * 200) / np.count_nonzero(\n",
      "C:\\Users\\premkumar\\AppData\\Local\\Programs\\Python\\Python312\\Lib\\site-packages\\autots\\models\\base.py:1025: RuntimeWarning: invalid value encountered in divide\n",
      "  smape_cons = (np.nansum(wsmape_df, axis=1) * 200) / np.count_nonzero(\n",
      "C:\\Users\\premkumar\\AppData\\Local\\Programs\\Python\\Python312\\Lib\\site-packages\\autots\\models\\base.py:1025: RuntimeWarning: invalid value encountered in divide\n",
      "  smape_cons = (np.nansum(wsmape_df, axis=1) * 200) / np.count_nonzero(\n"
     ]
    },
    {
     "name": "stdout",
     "output_type": "stream",
     "text": [
      "Model Number: 606 with model ARDL in generation 3 of 5\n"
     ]
    },
    {
     "name": "stderr",
     "output_type": "stream",
     "text": [
      "C:\\Users\\premkumar\\AppData\\Local\\Programs\\Python\\Python312\\Lib\\site-packages\\autots\\models\\base.py:1025: RuntimeWarning: invalid value encountered in divide\n",
      "  smape_cons = (np.nansum(wsmape_df, axis=1) * 200) / np.count_nonzero(\n"
     ]
    },
    {
     "name": "stdout",
     "output_type": "stream",
     "text": [
      "Model Number: 607 with model DatepartRegression in generation 3 of 5\n",
      "Epoch 1/50\n"
     ]
    },
    {
     "name": "stderr",
     "output_type": "stream",
     "text": [
      "C:\\Users\\premkumar\\AppData\\Local\\Programs\\Python\\Python312\\Lib\\site-packages\\keras\\src\\layers\\rnn\\rnn.py:204: UserWarning: Do not pass an `input_shape`/`input_dim` argument to a layer. When using Sequential models, prefer using an `Input(shape)` object as the first layer in the model instead.\n",
      "  super().__init__(**kwargs)\n"
     ]
    },
    {
     "name": "stdout",
     "output_type": "stream",
     "text": [
      "Template Eval Error: InvalidArgumentError() in model 607 in generation 3: DatepartRegression\n",
      "Model Number: 608 with model AverageValueNaive in generation 3 of 5\n",
      "Model Number: 609 with model Cassandra in generation 3 of 5\n"
     ]
    },
    {
     "name": "stderr",
     "output_type": "stream",
     "text": [
      "C:\\Users\\premkumar\\AppData\\Local\\Programs\\Python\\Python312\\Lib\\site-packages\\autots\\models\\base.py:1025: RuntimeWarning: invalid value encountered in divide\n",
      "  smape_cons = (np.nansum(wsmape_df, axis=1) * 200) / np.count_nonzero(\n"
     ]
    },
    {
     "name": "stdout",
     "output_type": "stream",
     "text": [
      "Model Number: 610 with model MultivariateMotif in generation 3 of 5\n",
      "Template Eval Error: Exception(\"Transformer AlignLastValue failed on inverse from params akima {'0': {'rows': 7, 'lag': 1, 'method': 'additive', 'strength': 1.0, 'first_value_only': True, 'threshold': 1}}\") in model 610 in generation 3: MultivariateMotif\n",
      "Model Number: 611 with model Cassandra in generation 3 of 5\n"
     ]
    },
    {
     "name": "stderr",
     "output_type": "stream",
     "text": [
      "C:\\Users\\premkumar\\AppData\\Local\\Programs\\Python\\Python312\\Lib\\site-packages\\autots\\models\\base.py:1025: RuntimeWarning: invalid value encountered in divide\n",
      "  smape_cons = (np.nansum(wsmape_df, axis=1) * 200) / np.count_nonzero(\n"
     ]
    },
    {
     "name": "stdout",
     "output_type": "stream",
     "text": [
      "Model Number: 612 with model ConstantNaive in generation 3 of 5\n",
      "Model Number: 613 with model LastValueNaive in generation 3 of 5\n",
      "Model Number: 614 with model GLS in generation 3 of 5\n"
     ]
    },
    {
     "name": "stderr",
     "output_type": "stream",
     "text": [
      "C:\\Users\\premkumar\\AppData\\Local\\Programs\\Python\\Python312\\Lib\\site-packages\\autots\\models\\base.py:1025: RuntimeWarning: invalid value encountered in divide\n",
      "  smape_cons = (np.nansum(wsmape_df, axis=1) * 200) / np.count_nonzero(\n",
      "C:\\Users\\premkumar\\AppData\\Local\\Programs\\Python\\Python312\\Lib\\site-packages\\autots\\models\\base.py:1025: RuntimeWarning: invalid value encountered in divide\n",
      "  smape_cons = (np.nansum(wsmape_df, axis=1) * 200) / np.count_nonzero(\n",
      "C:\\Users\\premkumar\\AppData\\Local\\Programs\\Python\\Python312\\Lib\\site-packages\\autots\\models\\base.py:1025: RuntimeWarning: invalid value encountered in divide\n",
      "  smape_cons = (np.nansum(wsmape_df, axis=1) * 200) / np.count_nonzero(\n",
      "C:\\Users\\premkumar\\AppData\\Local\\Programs\\Python\\Python312\\Lib\\site-packages\\autots\\models\\base.py:1025: RuntimeWarning: invalid value encountered in divide\n",
      "  smape_cons = (np.nansum(wsmape_df, axis=1) * 200) / np.count_nonzero(\n"
     ]
    },
    {
     "name": "stdout",
     "output_type": "stream",
     "text": [
      "Model Number: 615 with model Theta in generation 3 of 5\n",
      "Model Number: 616 with model GLM in generation 3 of 5\n",
      "Model Number: 617 with model AverageValueNaive in generation 3 of 5\n"
     ]
    },
    {
     "name": "stderr",
     "output_type": "stream",
     "text": [
      "C:\\Users\\premkumar\\AppData\\Local\\Programs\\Python\\Python312\\Lib\\site-packages\\autots\\models\\base.py:1025: RuntimeWarning: invalid value encountered in divide\n",
      "  smape_cons = (np.nansum(wsmape_df, axis=1) * 200) / np.count_nonzero(\n",
      "C:\\Users\\premkumar\\AppData\\Local\\Programs\\Python\\Python312\\Lib\\site-packages\\autots\\models\\base.py:1025: RuntimeWarning: invalid value encountered in divide\n",
      "  smape_cons = (np.nansum(wsmape_df, axis=1) * 200) / np.count_nonzero(\n",
      "C:\\Users\\premkumar\\AppData\\Local\\Programs\\Python\\Python312\\Lib\\site-packages\\autots\\models\\base.py:1025: RuntimeWarning: invalid value encountered in divide\n",
      "  smape_cons = (np.nansum(wsmape_df, axis=1) * 200) / np.count_nonzero(\n"
     ]
    },
    {
     "name": "stdout",
     "output_type": "stream",
     "text": [
      "Model Number: 618 with model MetricMotif in generation 3 of 5\n",
      "Model Number: 619 with model Cassandra in generation 3 of 5\n"
     ]
    },
    {
     "name": "stderr",
     "output_type": "stream",
     "text": [
      "C:\\Users\\premkumar\\AppData\\Local\\Programs\\Python\\Python312\\Lib\\site-packages\\autots\\models\\base.py:1025: RuntimeWarning: invalid value encountered in divide\n",
      "  smape_cons = (np.nansum(wsmape_df, axis=1) * 200) / np.count_nonzero(\n",
      "C:\\Users\\premkumar\\AppData\\Local\\Programs\\Python\\Python312\\Lib\\site-packages\\autots\\models\\base.py:1025: RuntimeWarning: invalid value encountered in divide\n",
      "  smape_cons = (np.nansum(wsmape_df, axis=1) * 200) / np.count_nonzero(\n"
     ]
    },
    {
     "name": "stdout",
     "output_type": "stream",
     "text": [
      "Model Number: 620 with model UnivariateMotif in generation 3 of 5\n",
      "Template Eval Error: Exception(\"Transformer AlignLastValue failed on inverse from params zero {'0': {'method': 'clip', 'std_threshold': 2, 'fillna': None}, '1': {'rows': 1, 'lag': 1, 'method': 'additive', 'strength': 0.5, 'first_value_only': True, 'threshold': None}, '2': {'lag_1': 12, 'method': 'LastValue'}, '3': {}, '4': {}}\") in model 620 in generation 3: UnivariateMotif\n",
      "Model Number: 621 with model WindowRegression in generation 3 of 5\n",
      "New Generation: 4 of 5\n"
     ]
    },
    {
     "name": "stderr",
     "output_type": "stream",
     "text": [
      "C:\\Users\\premkumar\\AppData\\Local\\Programs\\Python\\Python312\\Lib\\site-packages\\autots\\models\\base.py:1025: RuntimeWarning: invalid value encountered in divide\n",
      "  smape_cons = (np.nansum(wsmape_df, axis=1) * 200) / np.count_nonzero(\n"
     ]
    },
    {
     "name": "stdout",
     "output_type": "stream",
     "text": [
      "Model Number: 622 with model GLS in generation 4 of 5\n",
      "Model Number: 623 with model ARIMA in generation 4 of 5\n"
     ]
    },
    {
     "name": "stderr",
     "output_type": "stream",
     "text": [
      "C:\\Users\\premkumar\\AppData\\Local\\Programs\\Python\\Python312\\Lib\\site-packages\\autots\\models\\base.py:1025: RuntimeWarning: invalid value encountered in divide\n",
      "  smape_cons = (np.nansum(wsmape_df, axis=1) * 200) / np.count_nonzero(\n"
     ]
    },
    {
     "name": "stdout",
     "output_type": "stream",
     "text": [
      "Model Number: 624 with model NVAR in generation 4 of 5\n",
      "Model Number: 625 with model WindowRegression in generation 4 of 5\n",
      "Model Number: 626 with model DMD in generation 4 of 5\n"
     ]
    },
    {
     "name": "stderr",
     "output_type": "stream",
     "text": [
      "C:\\Users\\premkumar\\AppData\\Local\\Programs\\Python\\Python312\\Lib\\site-packages\\autots\\models\\base.py:1025: RuntimeWarning: invalid value encountered in divide\n",
      "  smape_cons = (np.nansum(wsmape_df, axis=1) * 200) / np.count_nonzero(\n",
      "C:\\Users\\premkumar\\AppData\\Local\\Programs\\Python\\Python312\\Lib\\site-packages\\autots\\models\\base.py:1025: RuntimeWarning: invalid value encountered in divide\n",
      "  smape_cons = (np.nansum(wsmape_df, axis=1) * 200) / np.count_nonzero(\n",
      "C:\\Users\\premkumar\\AppData\\Local\\Programs\\Python\\Python312\\Lib\\site-packages\\autots\\models\\base.py:1025: RuntimeWarning: invalid value encountered in divide\n",
      "  smape_cons = (np.nansum(wsmape_df, axis=1) * 200) / np.count_nonzero(\n"
     ]
    },
    {
     "name": "stdout",
     "output_type": "stream",
     "text": [
      "Model Number: 627 with model GLS in generation 4 of 5\n"
     ]
    },
    {
     "name": "stderr",
     "output_type": "stream",
     "text": [
      "C:\\Users\\premkumar\\AppData\\Local\\Programs\\Python\\Python312\\Lib\\site-packages\\autots\\models\\base.py:1025: RuntimeWarning: invalid value encountered in divide\n",
      "  smape_cons = (np.nansum(wsmape_df, axis=1) * 200) / np.count_nonzero(\n"
     ]
    },
    {
     "name": "stdout",
     "output_type": "stream",
     "text": [
      "Model Number: 628 with model MultivariateMotif in generation 4 of 5\n",
      "Model Number: 629 with model FFT in generation 4 of 5\n",
      "Model Number: 630 with model SectionalMotif in generation 4 of 5\n",
      "Model Number: 631 with model DMD in generation 4 of 5\n"
     ]
    },
    {
     "name": "stderr",
     "output_type": "stream",
     "text": [
      "C:\\Users\\premkumar\\AppData\\Local\\Programs\\Python\\Python312\\Lib\\site-packages\\autots\\models\\base.py:1025: RuntimeWarning: invalid value encountered in divide\n",
      "  smape_cons = (np.nansum(wsmape_df, axis=1) * 200) / np.count_nonzero(\n",
      "C:\\Users\\premkumar\\AppData\\Local\\Programs\\Python\\Python312\\Lib\\site-packages\\autots\\models\\base.py:1025: RuntimeWarning: invalid value encountered in divide\n",
      "  smape_cons = (np.nansum(wsmape_df, axis=1) * 200) / np.count_nonzero(\n",
      "C:\\Users\\premkumar\\AppData\\Local\\Programs\\Python\\Python312\\Lib\\site-packages\\autots\\models\\base.py:1025: RuntimeWarning: invalid value encountered in divide\n",
      "  smape_cons = (np.nansum(wsmape_df, axis=1) * 200) / np.count_nonzero(\n",
      "C:\\Users\\premkumar\\AppData\\Local\\Programs\\Python\\Python312\\Lib\\site-packages\\autots\\models\\base.py:1025: RuntimeWarning: invalid value encountered in divide\n",
      "  smape_cons = (np.nansum(wsmape_df, axis=1) * 200) / np.count_nonzero(\n",
      "C:\\Users\\premkumar\\AppData\\Local\\Programs\\Python\\Python312\\Lib\\site-packages\\autots\\tools\\transform.py:5472: FutureWarning: Downcasting object dtype arrays on .fillna, .ffill, .bfill is deprecated and will change in a future version. Call result.infer_objects(copy=False) instead. To opt-in to the future behavior, set `pd.set_option('future.no_silent_downcasting', True)`\n",
      "  df = df.fillna(0)\n",
      "C:\\Users\\premkumar\\AppData\\Local\\Programs\\Python\\Python312\\Lib\\site-packages\\autots\\tools\\transform.py:5472: FutureWarning: Downcasting object dtype arrays on .fillna, .ffill, .bfill is deprecated and will change in a future version. Call result.infer_objects(copy=False) instead. To opt-in to the future behavior, set `pd.set_option('future.no_silent_downcasting', True)`\n",
      "  df = df.fillna(0)\n",
      "C:\\Users\\premkumar\\AppData\\Local\\Programs\\Python\\Python312\\Lib\\site-packages\\autots\\models\\base.py:1025: RuntimeWarning: invalid value encountered in divide\n",
      "  smape_cons = (np.nansum(wsmape_df, axis=1) * 200) / np.count_nonzero(\n"
     ]
    },
    {
     "name": "stdout",
     "output_type": "stream",
     "text": [
      "Model Number: 632 with model MetricMotif in generation 4 of 5\n",
      "Model Number: 633 with model ARIMA in generation 4 of 5\n"
     ]
    },
    {
     "name": "stderr",
     "output_type": "stream",
     "text": [
      "C:\\Users\\premkumar\\AppData\\Local\\Programs\\Python\\Python312\\Lib\\site-packages\\autots\\models\\base.py:1025: RuntimeWarning: invalid value encountered in divide\n",
      "  smape_cons = (np.nansum(wsmape_df, axis=1) * 200) / np.count_nonzero(\n",
      "C:\\Users\\premkumar\\AppData\\Local\\Programs\\Python\\Python312\\Lib\\site-packages\\autots\\models\\base.py:1025: RuntimeWarning: invalid value encountered in divide\n",
      "  smape_cons = (np.nansum(wsmape_df, axis=1) * 200) / np.count_nonzero(\n"
     ]
    },
    {
     "name": "stdout",
     "output_type": "stream",
     "text": [
      "Model Number: 634 with model Cassandra in generation 4 of 5\n"
     ]
    },
    {
     "name": "stderr",
     "output_type": "stream",
     "text": [
      "C:\\Users\\premkumar\\AppData\\Local\\Programs\\Python\\Python312\\Lib\\site-packages\\autots\\models\\base.py:1025: RuntimeWarning: invalid value encountered in divide\n",
      "  smape_cons = (np.nansum(wsmape_df, axis=1) * 200) / np.count_nonzero(\n"
     ]
    },
    {
     "name": "stdout",
     "output_type": "stream",
     "text": [
      "Model Number: 635 with model MultivariateRegression in generation 4 of 5\n",
      "Model Number: 636 with model ETS in generation 4 of 5\n",
      "Model Number: 637 with model AverageValueNaive in generation 4 of 5\n",
      "Model Number: 638 with model MetricMotif in generation 4 of 5\n"
     ]
    },
    {
     "name": "stderr",
     "output_type": "stream",
     "text": [
      "C:\\Users\\premkumar\\AppData\\Local\\Programs\\Python\\Python312\\Lib\\site-packages\\autots\\models\\base.py:1025: RuntimeWarning: invalid value encountered in divide\n",
      "  smape_cons = (np.nansum(wsmape_df, axis=1) * 200) / np.count_nonzero(\n",
      "C:\\Users\\premkumar\\AppData\\Local\\Programs\\Python\\Python312\\Lib\\site-packages\\autots\\models\\base.py:1025: RuntimeWarning: invalid value encountered in divide\n",
      "  smape_cons = (np.nansum(wsmape_df, axis=1) * 200) / np.count_nonzero(\n",
      "C:\\Users\\premkumar\\AppData\\Local\\Programs\\Python\\Python312\\Lib\\site-packages\\autots\\models\\base.py:1025: RuntimeWarning: invalid value encountered in divide\n",
      "  smape_cons = (np.nansum(wsmape_df, axis=1) * 200) / np.count_nonzero(\n",
      "C:\\Users\\premkumar\\AppData\\Local\\Programs\\Python\\Python312\\Lib\\site-packages\\sklearn\\linear_model\\_ridge.py:204: LinAlgWarning: Ill-conditioned matrix (rcond=6.76561e-26): result may not be accurate.\n",
      "  return linalg.solve(A, Xy, assume_a=\"pos\", overwrite_a=True).T\n",
      "C:\\Users\\premkumar\\AppData\\Local\\Programs\\Python\\Python312\\Lib\\site-packages\\autots\\models\\base.py:1025: RuntimeWarning: invalid value encountered in divide\n",
      "  smape_cons = (np.nansum(wsmape_df, axis=1) * 200) / np.count_nonzero(\n"
     ]
    },
    {
     "name": "stdout",
     "output_type": "stream",
     "text": [
      "Model Number: 639 with model ARIMA in generation 4 of 5\n",
      "Model Number: 640 with model NVAR in generation 4 of 5\n",
      "Model Number: 641 with model Cassandra in generation 4 of 5\n"
     ]
    },
    {
     "name": "stderr",
     "output_type": "stream",
     "text": [
      "C:\\Users\\premkumar\\AppData\\Local\\Programs\\Python\\Python312\\Lib\\site-packages\\autots\\models\\base.py:1025: RuntimeWarning: invalid value encountered in divide\n",
      "  smape_cons = (np.nansum(wsmape_df, axis=1) * 200) / np.count_nonzero(\n",
      "C:\\Users\\premkumar\\AppData\\Local\\Programs\\Python\\Python312\\Lib\\site-packages\\autots\\models\\base.py:1025: RuntimeWarning: invalid value encountered in divide\n",
      "  smape_cons = (np.nansum(wsmape_df, axis=1) * 200) / np.count_nonzero(\n"
     ]
    },
    {
     "name": "stdout",
     "output_type": "stream",
     "text": [
      "Model Number: 642 with model MetricMotif in generation 4 of 5\n",
      "Model Number: 643 with model ConstantNaive in generation 4 of 5\n",
      "Model Number: 644 with model MultivariateMotif in generation 4 of 5\n",
      "Model Number: 645 with model AverageValueNaive in generation 4 of 5\n"
     ]
    },
    {
     "name": "stderr",
     "output_type": "stream",
     "text": [
      "C:\\Users\\premkumar\\AppData\\Local\\Programs\\Python\\Python312\\Lib\\site-packages\\autots\\models\\base.py:1025: RuntimeWarning: invalid value encountered in divide\n",
      "  smape_cons = (np.nansum(wsmape_df, axis=1) * 200) / np.count_nonzero(\n",
      "C:\\Users\\premkumar\\AppData\\Local\\Programs\\Python\\Python312\\Lib\\site-packages\\autots\\models\\base.py:1025: RuntimeWarning: invalid value encountered in divide\n",
      "  smape_cons = (np.nansum(wsmape_df, axis=1) * 200) / np.count_nonzero(\n",
      "C:\\Users\\premkumar\\AppData\\Local\\Programs\\Python\\Python312\\Lib\\site-packages\\autots\\models\\base.py:1025: RuntimeWarning: invalid value encountered in divide\n",
      "  smape_cons = (np.nansum(wsmape_df, axis=1) * 200) / np.count_nonzero(\n",
      "C:\\Users\\premkumar\\AppData\\Local\\Programs\\Python\\Python312\\Lib\\site-packages\\autots\\models\\base.py:1025: RuntimeWarning: invalid value encountered in divide\n",
      "  smape_cons = (np.nansum(wsmape_df, axis=1) * 200) / np.count_nonzero(\n"
     ]
    },
    {
     "name": "stdout",
     "output_type": "stream",
     "text": [
      "Model Number: 646 with model FFT in generation 4 of 5\n",
      "Model Number: 647 with model ARDL in generation 4 of 5\n",
      "Model Number: 648 with model UnivariateMotif in generation 4 of 5\n",
      "Model Number: 649 with model AverageValueNaive in generation 4 of 5\n",
      "Model Number: 650 with model DatepartRegression in generation 4 of 5\n",
      "Model Number: 651 with model MultivariateMotif in generation 4 of 5\n"
     ]
    },
    {
     "name": "stderr",
     "output_type": "stream",
     "text": [
      "C:\\Users\\premkumar\\AppData\\Local\\Programs\\Python\\Python312\\Lib\\site-packages\\autots\\models\\base.py:1025: RuntimeWarning: invalid value encountered in divide\n",
      "  smape_cons = (np.nansum(wsmape_df, axis=1) * 200) / np.count_nonzero(\n",
      "C:\\Users\\premkumar\\AppData\\Local\\Programs\\Python\\Python312\\Lib\\site-packages\\autots\\models\\base.py:1025: RuntimeWarning: invalid value encountered in divide\n",
      "  smape_cons = (np.nansum(wsmape_df, axis=1) * 200) / np.count_nonzero(\n",
      "C:\\Users\\premkumar\\AppData\\Local\\Programs\\Python\\Python312\\Lib\\site-packages\\autots\\models\\base.py:1025: RuntimeWarning: invalid value encountered in divide\n",
      "  smape_cons = (np.nansum(wsmape_df, axis=1) * 200) / np.count_nonzero(\n",
      "C:\\Users\\premkumar\\AppData\\Local\\Programs\\Python\\Python312\\Lib\\site-packages\\autots\\models\\base.py:1025: RuntimeWarning: invalid value encountered in divide\n",
      "  smape_cons = (np.nansum(wsmape_df, axis=1) * 200) / np.count_nonzero(\n",
      "C:\\Users\\premkumar\\AppData\\Local\\Programs\\Python\\Python312\\Lib\\site-packages\\autots\\models\\base.py:1025: RuntimeWarning: invalid value encountered in divide\n",
      "  smape_cons = (np.nansum(wsmape_df, axis=1) * 200) / np.count_nonzero(\n",
      "C:\\Users\\premkumar\\AppData\\Local\\Programs\\Python\\Python312\\Lib\\site-packages\\autots\\models\\base.py:1025: RuntimeWarning: invalid value encountered in divide\n",
      "  smape_cons = (np.nansum(wsmape_df, axis=1) * 200) / np.count_nonzero(\n",
      "C:\\Users\\premkumar\\AppData\\Local\\Programs\\Python\\Python312\\Lib\\site-packages\\autots\\models\\base.py:1025: RuntimeWarning: invalid value encountered in divide\n",
      "  smape_cons = (np.nansum(wsmape_df, axis=1) * 200) / np.count_nonzero(\n"
     ]
    },
    {
     "name": "stdout",
     "output_type": "stream",
     "text": [
      "Model Number: 652 with model ARIMA in generation 4 of 5\n"
     ]
    },
    {
     "name": "stderr",
     "output_type": "stream",
     "text": [
      "C:\\Users\\premkumar\\AppData\\Local\\Programs\\Python\\Python312\\Lib\\site-packages\\autots\\models\\base.py:1025: RuntimeWarning: invalid value encountered in divide\n",
      "  smape_cons = (np.nansum(wsmape_df, axis=1) * 200) / np.count_nonzero(\n"
     ]
    },
    {
     "name": "stdout",
     "output_type": "stream",
     "text": [
      "Model Number: 653 with model MultivariateRegression in generation 4 of 5\n",
      "Model Number: 654 with model UnivariateMotif in generation 4 of 5\n",
      "Model Number: 655 with model Cassandra in generation 4 of 5\n",
      "Template Eval Error: ValueError('Only gave one variable to VAR') in model 655 in generation 4: Cassandra\n",
      "Model Number: 656 with model DMD in generation 4 of 5\n",
      "Model Number: 657 with model SectionalMotif in generation 4 of 5\n",
      "Model Number: 658 with model GLS in generation 4 of 5\n",
      "Model Number: 659 with model UnivariateMotif in generation 4 of 5\n",
      "Model Number: 660 with model SectionalMotif in generation 4 of 5"
     ]
    },
    {
     "name": "stderr",
     "output_type": "stream",
     "text": [
      "C:\\Users\\premkumar\\AppData\\Local\\Programs\\Python\\Python312\\Lib\\site-packages\\autots\\models\\base.py:1025: RuntimeWarning: invalid value encountered in divide\n",
      "  smape_cons = (np.nansum(wsmape_df, axis=1) * 200) / np.count_nonzero(\n",
      "C:\\Users\\premkumar\\AppData\\Local\\Programs\\Python\\Python312\\Lib\\site-packages\\autots\\models\\base.py:1025: RuntimeWarning: invalid value encountered in divide\n",
      "  smape_cons = (np.nansum(wsmape_df, axis=1) * 200) / np.count_nonzero(\n",
      "C:\\Users\\premkumar\\AppData\\Local\\Programs\\Python\\Python312\\Lib\\site-packages\\autots\\models\\base.py:1025: RuntimeWarning: invalid value encountered in divide\n",
      "  smape_cons = (np.nansum(wsmape_df, axis=1) * 200) / np.count_nonzero(\n",
      "C:\\Users\\premkumar\\AppData\\Local\\Programs\\Python\\Python312\\Lib\\site-packages\\autots\\models\\base.py:1025: RuntimeWarning: invalid value encountered in divide\n",
      "  smape_cons = (np.nansum(wsmape_df, axis=1) * 200) / np.count_nonzero(\n",
      "C:\\Users\\premkumar\\AppData\\Local\\Programs\\Python\\Python312\\Lib\\site-packages\\autots\\models\\base.py:1025: RuntimeWarning: invalid value encountered in divide\n",
      "  smape_cons = (np.nansum(wsmape_df, axis=1) * 200) / np.count_nonzero(\n",
      "C:\\Users\\premkumar\\AppData\\Local\\Programs\\Python\\Python312\\Lib\\site-packages\\autots\\models\\base.py:1025: RuntimeWarning: invalid value encountered in divide\n",
      "  smape_cons = (np.nansum(wsmape_df, axis=1) * 200) / np.count_nonzero(\n"
     ]
    },
    {
     "name": "stdout",
     "output_type": "stream",
     "text": [
      "\n",
      "Model Number: 661 with model AverageValueNaive in generation 4 of 5\n",
      "Model Number: 662 with model DMD in generation 4 of 5\n",
      "Model Number: 663 with model MultivariateRegression in generation 4 of 5\n"
     ]
    },
    {
     "name": "stderr",
     "output_type": "stream",
     "text": [
      "C:\\Users\\premkumar\\AppData\\Local\\Programs\\Python\\Python312\\Lib\\site-packages\\autots\\models\\base.py:1025: RuntimeWarning: invalid value encountered in divide\n",
      "  smape_cons = (np.nansum(wsmape_df, axis=1) * 200) / np.count_nonzero(\n",
      "C:\\Users\\premkumar\\AppData\\Local\\Programs\\Python\\Python312\\Lib\\site-packages\\autots\\models\\base.py:1025: RuntimeWarning: invalid value encountered in divide\n",
      "  smape_cons = (np.nansum(wsmape_df, axis=1) * 200) / np.count_nonzero(\n",
      "C:\\Users\\premkumar\\AppData\\Local\\Programs\\Python\\Python312\\Lib\\site-packages\\autots\\models\\base.py:1025: RuntimeWarning: invalid value encountered in divide\n",
      "  smape_cons = (np.nansum(wsmape_df, axis=1) * 200) / np.count_nonzero(\n"
     ]
    },
    {
     "name": "stdout",
     "output_type": "stream",
     "text": [
      "Model Number: 664 with model MetricMotif in generation 4 of 5\n",
      "Model Number: 665 with model NVAR in generation 4 of 5\n",
      "Model Number: 666 with model MetricMotif in generation 4 of 5\n",
      "Model Number: 667 with model SeasonalityMotif in generation 4 of 5\n",
      "Model Number: 668 with model MetricMotif in generation 4 of 5\n",
      "Template Eval Error: ZeroDivisionError(\"Weights sum to zero, can't be normalized\") in model 668 in generation 4: MetricMotif\n",
      "Model Number: 669 with model LastValueNaive in generation 4 of 5\n"
     ]
    },
    {
     "name": "stderr",
     "output_type": "stream",
     "text": [
      "C:\\Users\\premkumar\\AppData\\Local\\Programs\\Python\\Python312\\Lib\\site-packages\\autots\\models\\base.py:1025: RuntimeWarning: invalid value encountered in divide\n",
      "  smape_cons = (np.nansum(wsmape_df, axis=1) * 200) / np.count_nonzero(\n",
      "C:\\Users\\premkumar\\AppData\\Local\\Programs\\Python\\Python312\\Lib\\site-packages\\autots\\models\\base.py:1025: RuntimeWarning: invalid value encountered in divide\n",
      "  smape_cons = (np.nansum(wsmape_df, axis=1) * 200) / np.count_nonzero(\n",
      "C:\\Users\\premkumar\\AppData\\Local\\Programs\\Python\\Python312\\Lib\\site-packages\\autots\\models\\base.py:1025: RuntimeWarning: invalid value encountered in divide\n",
      "  smape_cons = (np.nansum(wsmape_df, axis=1) * 200) / np.count_nonzero(\n",
      "C:\\Users\\premkumar\\AppData\\Local\\Programs\\Python\\Python312\\Lib\\site-packages\\autots\\models\\base.py:1025: RuntimeWarning: invalid value encountered in divide\n",
      "  smape_cons = (np.nansum(wsmape_df, axis=1) * 200) / np.count_nonzero(\n",
      "C:\\Users\\premkumar\\AppData\\Local\\Programs\\Python\\Python312\\Lib\\site-packages\\autots\\models\\base.py:1025: RuntimeWarning: invalid value encountered in divide\n",
      "  smape_cons = (np.nansum(wsmape_df, axis=1) * 200) / np.count_nonzero(\n",
      "C:\\Users\\premkumar\\AppData\\Local\\Programs\\Python\\Python312\\Lib\\site-packages\\sklearn\\linear_model\\_ridge.py:204: LinAlgWarning: Ill-conditioned matrix (rcond=6.76561e-26): result may not be accurate.\n",
      "  return linalg.solve(A, Xy, assume_a=\"pos\", overwrite_a=True).T\n"
     ]
    },
    {
     "name": "stdout",
     "output_type": "stream",
     "text": [
      "Model Number: 670 with model AverageValueNaive in generation 4 of 5\n",
      "Model Number: 671 with model DMD in generation 4 of 5\n",
      "Model Number: 672 with model MultivariateRegression in generation 4 of 5\n"
     ]
    },
    {
     "name": "stderr",
     "output_type": "stream",
     "text": [
      "C:\\Users\\premkumar\\AppData\\Local\\Programs\\Python\\Python312\\Lib\\site-packages\\autots\\models\\base.py:1025: RuntimeWarning: invalid value encountered in divide\n",
      "  smape_cons = (np.nansum(wsmape_df, axis=1) * 200) / np.count_nonzero(\n",
      "C:\\Users\\premkumar\\AppData\\Local\\Programs\\Python\\Python312\\Lib\\site-packages\\autots\\models\\base.py:1025: RuntimeWarning: invalid value encountered in divide\n",
      "  smape_cons = (np.nansum(wsmape_df, axis=1) * 200) / np.count_nonzero(\n",
      "C:\\Users\\premkumar\\AppData\\Local\\Programs\\Python\\Python312\\Lib\\site-packages\\autots\\models\\base.py:1025: RuntimeWarning: invalid value encountered in divide\n",
      "  smape_cons = (np.nansum(wsmape_df, axis=1) * 200) / np.count_nonzero(\n"
     ]
    },
    {
     "name": "stdout",
     "output_type": "stream",
     "text": [
      "Model Number: 673 with model Cassandra in generation 4 of 5\n",
      "Template Eval Error: Exception(\"Transformer PCA failed on fit from params None {'0': {'whiten': False}, '1': {'rows': 4, 'lag': 1, 'method': 'additive', 'strength': 1.0, 'first_value_only': False, 'threshold': 10}, '2': {'method': 'clip', 'std_threshold': 4, 'fillna': None}}\") in model 673 in generation 4: Cassandra\n",
      "Model Number: 674 with model AverageValueNaive in generation 4 of 5\n",
      "Model Number: 675 with model Cassandra in generation 4 of 5\n"
     ]
    },
    {
     "name": "stderr",
     "output_type": "stream",
     "text": [
      "C:\\Users\\premkumar\\AppData\\Local\\Programs\\Python\\Python312\\Lib\\site-packages\\autots\\models\\base.py:1025: RuntimeWarning: invalid value encountered in divide\n",
      "  smape_cons = (np.nansum(wsmape_df, axis=1) * 200) / np.count_nonzero(\n",
      "C:\\Users\\premkumar\\AppData\\Local\\Programs\\Python\\Python312\\Lib\\site-packages\\autots\\models\\base.py:1025: RuntimeWarning: invalid value encountered in divide\n",
      "  smape_cons = (np.nansum(wsmape_df, axis=1) * 200) / np.count_nonzero(\n"
     ]
    },
    {
     "name": "stdout",
     "output_type": "stream",
     "text": [
      "Model Number: 676 with model LastValueNaive in generation 4 of 5\n",
      "Model Number: 677 with model UnobservedComponents in generation 4 of 5\n",
      "Template Eval Error: ValueError(\"regression_type='User' but no future_regressor supplied\") in model 677 in generation 4: UnobservedComponents\n",
      "Model Number: 678 with model LastValueNaive in generation 4 of 5\n",
      "Model Number: 679 with model UnivariateMotif in generation 4 of 5\n",
      "Model Number: 680 with model MultivariateMotif in generation 4 of 5\n",
      "Model Number: 681 with model SectionalMotif in generation 4 of 5\n"
     ]
    },
    {
     "name": "stderr",
     "output_type": "stream",
     "text": [
      "C:\\Users\\premkumar\\AppData\\Local\\Programs\\Python\\Python312\\Lib\\site-packages\\autots\\models\\base.py:1025: RuntimeWarning: invalid value encountered in divide\n",
      "  smape_cons = (np.nansum(wsmape_df, axis=1) * 200) / np.count_nonzero(\n",
      "C:\\Users\\premkumar\\AppData\\Local\\Programs\\Python\\Python312\\Lib\\site-packages\\autots\\models\\base.py:1025: RuntimeWarning: invalid value encountered in divide\n",
      "  smape_cons = (np.nansum(wsmape_df, axis=1) * 200) / np.count_nonzero(\n",
      "C:\\Users\\premkumar\\AppData\\Local\\Programs\\Python\\Python312\\Lib\\site-packages\\autots\\models\\base.py:1025: RuntimeWarning: invalid value encountered in divide\n",
      "  smape_cons = (np.nansum(wsmape_df, axis=1) * 200) / np.count_nonzero(\n",
      "C:\\Users\\premkumar\\AppData\\Local\\Programs\\Python\\Python312\\Lib\\site-packages\\autots\\models\\base.py:1025: RuntimeWarning: invalid value encountered in divide\n",
      "  smape_cons = (np.nansum(wsmape_df, axis=1) * 200) / np.count_nonzero(\n",
      "C:\\Users\\premkumar\\AppData\\Local\\Programs\\Python\\Python312\\Lib\\site-packages\\autots\\models\\base.py:1025: RuntimeWarning: invalid value encountered in divide\n",
      "  smape_cons = (np.nansum(wsmape_df, axis=1) * 200) / np.count_nonzero(\n"
     ]
    },
    {
     "name": "stdout",
     "output_type": "stream",
     "text": [
      "Model Number: 682 with model Cassandra in generation 4 of 5\n"
     ]
    },
    {
     "name": "stderr",
     "output_type": "stream",
     "text": [
      "C:\\Users\\premkumar\\AppData\\Local\\Programs\\Python\\Python312\\Lib\\site-packages\\autots\\models\\base.py:1025: RuntimeWarning: invalid value encountered in divide\n",
      "  smape_cons = (np.nansum(wsmape_df, axis=1) * 200) / np.count_nonzero(\n",
      "C:\\Users\\premkumar\\AppData\\Local\\Programs\\Python\\Python312\\Lib\\site-packages\\autots\\models\\base.py:1025: RuntimeWarning: invalid value encountered in divide\n",
      "  smape_cons = (np.nansum(wsmape_df, axis=1) * 200) / np.count_nonzero(\n",
      "C:\\Users\\premkumar\\AppData\\Local\\Programs\\Python\\Python312\\Lib\\site-packages\\sklearn\\linear_model\\_ridge.py:204: LinAlgWarning: Ill-conditioned matrix (rcond=6.76561e-26): result may not be accurate.\n",
      "  return linalg.solve(A, Xy, assume_a=\"pos\", overwrite_a=True).T\n"
     ]
    },
    {
     "name": "stdout",
     "output_type": "stream",
     "text": [
      "Model Number: 683 with model Theta in generation 4 of 5\n",
      "Model Number: 684 with model MultivariateMotif in generation 4 of 5\n",
      "Model Number: 685 with model UnivariateMotif in generation 4 of 5\n",
      "Model Number: 686 with model LastValueNaive in generation 4 of 5\n"
     ]
    },
    {
     "name": "stderr",
     "output_type": "stream",
     "text": [
      "C:\\Users\\premkumar\\AppData\\Local\\Programs\\Python\\Python312\\Lib\\site-packages\\autots\\models\\base.py:1025: RuntimeWarning: invalid value encountered in divide\n",
      "  smape_cons = (np.nansum(wsmape_df, axis=1) * 200) / np.count_nonzero(\n",
      "C:\\Users\\premkumar\\AppData\\Local\\Programs\\Python\\Python312\\Lib\\site-packages\\autots\\models\\base.py:1025: RuntimeWarning: invalid value encountered in divide\n",
      "  smape_cons = (np.nansum(wsmape_df, axis=1) * 200) / np.count_nonzero(\n",
      "C:\\Users\\premkumar\\AppData\\Local\\Programs\\Python\\Python312\\Lib\\site-packages\\autots\\models\\base.py:1025: RuntimeWarning: invalid value encountered in divide\n",
      "  smape_cons = (np.nansum(wsmape_df, axis=1) * 200) / np.count_nonzero(\n",
      "C:\\Users\\premkumar\\AppData\\Local\\Programs\\Python\\Python312\\Lib\\site-packages\\autots\\models\\base.py:1025: RuntimeWarning: invalid value encountered in divide\n",
      "  smape_cons = (np.nansum(wsmape_df, axis=1) * 200) / np.count_nonzero(\n"
     ]
    },
    {
     "name": "stdout",
     "output_type": "stream",
     "text": [
      "Model Number: 687 with model ARIMA in generation 4 of 5\n"
     ]
    },
    {
     "name": "stderr",
     "output_type": "stream",
     "text": [
      "C:\\Users\\premkumar\\AppData\\Local\\Programs\\Python\\Python312\\Lib\\site-packages\\autots\\models\\base.py:1025: RuntimeWarning: invalid value encountered in divide\n",
      "  smape_cons = (np.nansum(wsmape_df, axis=1) * 200) / np.count_nonzero(\n"
     ]
    },
    {
     "name": "stdout",
     "output_type": "stream",
     "text": [
      "Model Number: 688 with model MetricMotif in generation 4 of 5\n",
      "Model Number: 689 with model UnivariateMotif in generation 4 of 5\n",
      "Model Number: 690 with model ARDL in generation 4 of 5\n",
      "Template Eval Error: ValueError(\"regression_type='User' but future_regressor not supplied\") in model 690 in generation 4: ARDL\n",
      "Model Number: 691 with model UnivariateMotif in generation 4 of 5\n"
     ]
    },
    {
     "name": "stderr",
     "output_type": "stream",
     "text": [
      "C:\\Users\\premkumar\\AppData\\Local\\Programs\\Python\\Python312\\Lib\\site-packages\\autots\\models\\base.py:1025: RuntimeWarning: invalid value encountered in divide\n",
      "  smape_cons = (np.nansum(wsmape_df, axis=1) * 200) / np.count_nonzero(\n",
      "C:\\Users\\premkumar\\AppData\\Local\\Programs\\Python\\Python312\\Lib\\site-packages\\autots\\models\\base.py:1025: RuntimeWarning: invalid value encountered in divide\n",
      "  smape_cons = (np.nansum(wsmape_df, axis=1) * 200) / np.count_nonzero(\n",
      "C:\\Users\\premkumar\\AppData\\Local\\Programs\\Python\\Python312\\Lib\\site-packages\\autots\\models\\base.py:1025: RuntimeWarning: invalid value encountered in divide\n",
      "  smape_cons = (np.nansum(wsmape_df, axis=1) * 200) / np.count_nonzero(\n"
     ]
    },
    {
     "name": "stdout",
     "output_type": "stream",
     "text": [
      "Model Number: 692 with model Theta in generation 4 of 5\n",
      "Model Number: 693 with model LastValueNaive in generation 4 of 5\n"
     ]
    },
    {
     "name": "stderr",
     "output_type": "stream",
     "text": [
      "C:\\Users\\premkumar\\AppData\\Local\\Programs\\Python\\Python312\\Lib\\site-packages\\autots\\models\\base.py:1025: RuntimeWarning: invalid value encountered in divide\n",
      "  smape_cons = (np.nansum(wsmape_df, axis=1) * 200) / np.count_nonzero(\n",
      "C:\\Users\\premkumar\\AppData\\Local\\Programs\\Python\\Python312\\Lib\\site-packages\\autots\\models\\base.py:1025: RuntimeWarning: invalid value encountered in divide\n",
      "  smape_cons = (np.nansum(wsmape_df, axis=1) * 200) / np.count_nonzero(\n"
     ]
    },
    {
     "name": "stdout",
     "output_type": "stream",
     "text": [
      "Model Number: 694 with model ARIMA in generation 4 of 5\n",
      "Model Number: 695 with model UnivariateMotif in generation 4 of 5\n",
      "Model Number: 696 with model AverageValueNaive in generation 4 of 5\n"
     ]
    },
    {
     "name": "stderr",
     "output_type": "stream",
     "text": [
      "C:\\Users\\premkumar\\AppData\\Local\\Programs\\Python\\Python312\\Lib\\site-packages\\autots\\models\\base.py:1025: RuntimeWarning: invalid value encountered in divide\n",
      "  smape_cons = (np.nansum(wsmape_df, axis=1) * 200) / np.count_nonzero(\n",
      "C:\\Users\\premkumar\\AppData\\Local\\Programs\\Python\\Python312\\Lib\\site-packages\\autots\\models\\base.py:1025: RuntimeWarning: invalid value encountered in divide\n",
      "  smape_cons = (np.nansum(wsmape_df, axis=1) * 200) / np.count_nonzero(\n",
      "C:\\Users\\premkumar\\AppData\\Local\\Programs\\Python\\Python312\\Lib\\site-packages\\autots\\models\\base.py:1025: RuntimeWarning: invalid value encountered in divide\n",
      "  smape_cons = (np.nansum(wsmape_df, axis=1) * 200) / np.count_nonzero(\n"
     ]
    },
    {
     "name": "stdout",
     "output_type": "stream",
     "text": [
      "Model Number: 697 with model ARIMA in generation 4 of 5\n",
      "Model Number: 698 with model GLM in generation 4 of 5\n",
      "Model Number: 699 with model ConstantNaive in generation 4 of 5\n"
     ]
    },
    {
     "name": "stderr",
     "output_type": "stream",
     "text": [
      "C:\\Users\\premkumar\\AppData\\Local\\Programs\\Python\\Python312\\Lib\\site-packages\\autots\\models\\base.py:1025: RuntimeWarning: invalid value encountered in divide\n",
      "  smape_cons = (np.nansum(wsmape_df, axis=1) * 200) / np.count_nonzero(\n",
      "C:\\Users\\premkumar\\AppData\\Local\\Programs\\Python\\Python312\\Lib\\site-packages\\statsmodels\\genmod\\families\\family.py:1367: ValueWarning: Negative binomial dispersion parameter alpha not set. Using default value alpha=1.0.\n",
      "  warnings.warn(\"Negative binomial dispersion parameter alpha not \"\n",
      "C:\\Users\\premkumar\\AppData\\Local\\Programs\\Python\\Python312\\Lib\\site-packages\\autots\\models\\base.py:1025: RuntimeWarning: invalid value encountered in divide\n",
      "  smape_cons = (np.nansum(wsmape_df, axis=1) * 200) / np.count_nonzero(\n",
      "C:\\Users\\premkumar\\AppData\\Local\\Programs\\Python\\Python312\\Lib\\site-packages\\autots\\models\\base.py:1025: RuntimeWarning: invalid value encountered in divide\n",
      "  smape_cons = (np.nansum(wsmape_df, axis=1) * 200) / np.count_nonzero(\n"
     ]
    },
    {
     "name": "stdout",
     "output_type": "stream",
     "text": [
      "Model Number: 700 with model MultivariateRegression in generation 4 of 5\n"
     ]
    },
    {
     "name": "stderr",
     "output_type": "stream",
     "text": [
      "C:\\Users\\premkumar\\AppData\\Local\\Programs\\Python\\Python312\\Lib\\site-packages\\sklearn\\experimental\\enable_hist_gradient_boosting.py:15: UserWarning: Since version 1.0, it is not needed to import enable_hist_gradient_boosting anymore. HistGradientBoostingClassifier and HistGradientBoostingRegressor are now stable and can be normally imported from sklearn.ensemble.\n",
      "  warnings.warn(\n"
     ]
    },
    {
     "name": "stdout",
     "output_type": "stream",
     "text": [
      "Model Number: 701 with model FFT in generation 4 of 5\n",
      "Model Number: 702 with model SeasonalityMotif in generation 4 of 5\n",
      "Model Number: 703 with model MultivariateMotif in generation 4 of 5\n",
      "Model Number: 704 with model SeasonalNaive in generation 4 of 5\n",
      "Model Number: 705 with model SectionalMotif in generation 4 of 5\n"
     ]
    },
    {
     "name": "stderr",
     "output_type": "stream",
     "text": [
      "C:\\Users\\premkumar\\AppData\\Local\\Programs\\Python\\Python312\\Lib\\site-packages\\autots\\models\\base.py:1025: RuntimeWarning: invalid value encountered in divide\n",
      "  smape_cons = (np.nansum(wsmape_df, axis=1) * 200) / np.count_nonzero(\n",
      "C:\\Users\\premkumar\\AppData\\Local\\Programs\\Python\\Python312\\Lib\\site-packages\\autots\\models\\base.py:1025: RuntimeWarning: invalid value encountered in divide\n",
      "  smape_cons = (np.nansum(wsmape_df, axis=1) * 200) / np.count_nonzero(\n",
      "C:\\Users\\premkumar\\AppData\\Local\\Programs\\Python\\Python312\\Lib\\site-packages\\autots\\models\\base.py:1025: RuntimeWarning: invalid value encountered in divide\n",
      "  smape_cons = (np.nansum(wsmape_df, axis=1) * 200) / np.count_nonzero(\n",
      "C:\\Users\\premkumar\\AppData\\Local\\Programs\\Python\\Python312\\Lib\\site-packages\\autots\\models\\base.py:1025: RuntimeWarning: invalid value encountered in divide\n",
      "  smape_cons = (np.nansum(wsmape_df, axis=1) * 200) / np.count_nonzero(\n",
      "C:\\Users\\premkumar\\AppData\\Local\\Programs\\Python\\Python312\\Lib\\site-packages\\autots\\models\\base.py:1025: RuntimeWarning: invalid value encountered in divide\n",
      "  smape_cons = (np.nansum(wsmape_df, axis=1) * 200) / np.count_nonzero(\n",
      "C:\\Users\\premkumar\\AppData\\Local\\Programs\\Python\\Python312\\Lib\\site-packages\\autots\\models\\base.py:1025: RuntimeWarning: invalid value encountered in divide\n",
      "  smape_cons = (np.nansum(wsmape_df, axis=1) * 200) / np.count_nonzero(\n"
     ]
    },
    {
     "name": "stdout",
     "output_type": "stream",
     "text": [
      "Model Number: 706 with model LastValueNaive in generation 4 of 5\n",
      "Model Number: 707 with model MultivariateMotif in generation 4 of 5\n",
      "Model Number: 708 with model RRVAR in generation 4 of 5\n",
      "Model Number: 709 with model SectionalMotif in generation 4 of 5\n",
      "Model Number: 710 with model NVAR in generation 4 of 5\n",
      "Template Eval Error: Exception(\"Transformer AlignLastValue failed on inverse from params rolling_mean {'0': {'rows': 1, 'lag': 2, 'method': 'additive', 'strength': 0.7, 'first_value_only': False, 'threshold': None}, '1': {'threshold': 0.8, 'splash_threshold': None, 'use_dayofmonth_holidays': True, 'use_wkdom_holidays': True, 'use_wkdeom_holidays': False, 'use_lunar_holidays': False, 'use_lunar_weekday': False, 'use_islamic_holidays': False, 'use_hebrew_holidays': False, 'anomaly_detector_params': {'method': 'IQR', 'method_params': {'iqr_threshold': 2.0, 'iqr_quantiles': [0.25, 0.75]}, 'fillna': 'ffill', 'transform_dict': None, 'isolated_only': False}, 'remove_excess_anomalies': True, 'impact': 'regression', 'regression_params': {}}, '2': {'lag': 1, 'fill': 'bfill'}, '3': {'rows': 1, 'lag': 1, 'method': 'additive', 'strength': 1.0, 'first_value_only': True, 'threshold': 1}}\") in model 710 in generation 4: NVAR\n",
      "Model Number: 711 with model WindowRegression in generation 4 of 5\n",
      "Template Eval Error: ModuleNotFoundError(\"No module named 'lightgbm'\") in model 711 in generation 4: WindowRegression\n",
      "Model Number: 712 with model UnobservedComponents in generation 4 of 5\n"
     ]
    },
    {
     "name": "stderr",
     "output_type": "stream",
     "text": [
      "C:\\Users\\premkumar\\AppData\\Local\\Programs\\Python\\Python312\\Lib\\site-packages\\autots\\models\\base.py:1025: RuntimeWarning: invalid value encountered in divide\n",
      "  smape_cons = (np.nansum(wsmape_df, axis=1) * 200) / np.count_nonzero(\n",
      "C:\\Users\\premkumar\\AppData\\Local\\Programs\\Python\\Python312\\Lib\\site-packages\\autots\\models\\base.py:1025: RuntimeWarning: invalid value encountered in divide\n",
      "  smape_cons = (np.nansum(wsmape_df, axis=1) * 200) / np.count_nonzero(\n",
      "C:\\Users\\premkumar\\AppData\\Local\\Programs\\Python\\Python312\\Lib\\site-packages\\autots\\models\\base.py:1025: RuntimeWarning: invalid value encountered in divide\n",
      "  smape_cons = (np.nansum(wsmape_df, axis=1) * 200) / np.count_nonzero(\n",
      "C:\\Users\\premkumar\\AppData\\Local\\Programs\\Python\\Python312\\Lib\\site-packages\\autots\\models\\base.py:1025: RuntimeWarning: invalid value encountered in divide\n",
      "  smape_cons = (np.nansum(wsmape_df, axis=1) * 200) / np.count_nonzero(\n"
     ]
    },
    {
     "name": "stdout",
     "output_type": "stream",
     "text": [
      "Model Number: 713 with model Theta in generation 4 of 5\n"
     ]
    },
    {
     "name": "stderr",
     "output_type": "stream",
     "text": [
      "C:\\Users\\premkumar\\AppData\\Local\\Programs\\Python\\Python312\\Lib\\site-packages\\autots\\models\\base.py:1025: RuntimeWarning: invalid value encountered in divide\n",
      "  smape_cons = (np.nansum(wsmape_df, axis=1) * 200) / np.count_nonzero(\n"
     ]
    },
    {
     "name": "stdout",
     "output_type": "stream",
     "text": [
      "Model Number: 714 with model SeasonalityMotif in generation 4 of 5\n",
      "Model Number: 715 with model NVAR in generation 4 of 5\n",
      "Model Number: 716 with model ETS in generation 4 of 5\n"
     ]
    },
    {
     "name": "stderr",
     "output_type": "stream",
     "text": [
      "C:\\Users\\premkumar\\AppData\\Local\\Programs\\Python\\Python312\\Lib\\site-packages\\autots\\models\\base.py:1025: RuntimeWarning: invalid value encountered in divide\n",
      "  smape_cons = (np.nansum(wsmape_df, axis=1) * 200) / np.count_nonzero(\n",
      "C:\\Users\\premkumar\\AppData\\Local\\Programs\\Python\\Python312\\Lib\\site-packages\\autots\\models\\base.py:1025: RuntimeWarning: invalid value encountered in divide\n",
      "  smape_cons = (np.nansum(wsmape_df, axis=1) * 200) / np.count_nonzero(\n",
      "C:\\Users\\premkumar\\AppData\\Local\\Programs\\Python\\Python312\\Lib\\site-packages\\autots\\models\\base.py:1025: RuntimeWarning: invalid value encountered in divide\n",
      "  smape_cons = (np.nansum(wsmape_df, axis=1) * 200) / np.count_nonzero(\n",
      "C:\\Users\\premkumar\\AppData\\Local\\Programs\\Python\\Python312\\Lib\\site-packages\\autots\\models\\base.py:1025: RuntimeWarning: invalid value encountered in divide\n",
      "  smape_cons = (np.nansum(wsmape_df, axis=1) * 200) / np.count_nonzero(\n"
     ]
    },
    {
     "name": "stdout",
     "output_type": "stream",
     "text": [
      "Model Number: 717 with model Cassandra in generation 4 of 5\n",
      "Model Number: 718 with model SectionalMotif in generation 4 of 5\n",
      "Model Number: 719 with model MetricMotif in generation 4 of 5\n",
      "Model Number: 720 with model ConstantNaive in generation 4 of 5\n",
      "Model Number: 721 with model MetricMotif in generation 4 of 5\n",
      "Model Number: 722 with model LastValueNaive in generation 4 of 5\n"
     ]
    },
    {
     "name": "stderr",
     "output_type": "stream",
     "text": [
      "C:\\Users\\premkumar\\AppData\\Local\\Programs\\Python\\Python312\\Lib\\site-packages\\autots\\models\\base.py:1025: RuntimeWarning: invalid value encountered in divide\n",
      "  smape_cons = (np.nansum(wsmape_df, axis=1) * 200) / np.count_nonzero(\n",
      "C:\\Users\\premkumar\\AppData\\Local\\Programs\\Python\\Python312\\Lib\\site-packages\\autots\\models\\base.py:1025: RuntimeWarning: invalid value encountered in divide\n",
      "  smape_cons = (np.nansum(wsmape_df, axis=1) * 200) / np.count_nonzero(\n",
      "C:\\Users\\premkumar\\AppData\\Local\\Programs\\Python\\Python312\\Lib\\site-packages\\autots\\models\\base.py:1025: RuntimeWarning: invalid value encountered in divide\n",
      "  smape_cons = (np.nansum(wsmape_df, axis=1) * 200) / np.count_nonzero(\n",
      "C:\\Users\\premkumar\\AppData\\Local\\Programs\\Python\\Python312\\Lib\\site-packages\\autots\\models\\base.py:1025: RuntimeWarning: invalid value encountered in divide\n",
      "  smape_cons = (np.nansum(wsmape_df, axis=1) * 200) / np.count_nonzero(\n",
      "C:\\Users\\premkumar\\AppData\\Local\\Programs\\Python\\Python312\\Lib\\site-packages\\autots\\models\\base.py:1025: RuntimeWarning: invalid value encountered in divide\n",
      "  smape_cons = (np.nansum(wsmape_df, axis=1) * 200) / np.count_nonzero(\n",
      "C:\\Users\\premkumar\\AppData\\Local\\Programs\\Python\\Python312\\Lib\\site-packages\\autots\\models\\base.py:1025: RuntimeWarning: invalid value encountered in divide\n",
      "  smape_cons = (np.nansum(wsmape_df, axis=1) * 200) / np.count_nonzero(\n"
     ]
    },
    {
     "name": "stdout",
     "output_type": "stream",
     "text": [
      "Model Number: 723 with model ARIMA in generation 4 of 5\n",
      "Template Eval Error: ValueError(\"regression_type='User' but future_regressor not supplied\") in model 723 in generation 4: ARIMA\n",
      "Model Number: 724 with model AverageValueNaive in generation 4 of 5\n",
      "Model Number: 725 with model SeasonalityMotif in generation 4 of 5\n",
      "Model Number: 726 with model MultivariateMotif in generation 4 of 5\n",
      "Model Number: 727 with model Cassandra in generation 4 of 5\n"
     ]
    },
    {
     "name": "stderr",
     "output_type": "stream",
     "text": [
      "C:\\Users\\premkumar\\AppData\\Local\\Programs\\Python\\Python312\\Lib\\site-packages\\autots\\models\\base.py:1025: RuntimeWarning: invalid value encountered in divide\n",
      "  smape_cons = (np.nansum(wsmape_df, axis=1) * 200) / np.count_nonzero(\n",
      "C:\\Users\\premkumar\\AppData\\Local\\Programs\\Python\\Python312\\Lib\\site-packages\\autots\\models\\base.py:1025: RuntimeWarning: invalid value encountered in divide\n",
      "  smape_cons = (np.nansum(wsmape_df, axis=1) * 200) / np.count_nonzero(\n",
      "C:\\Users\\premkumar\\AppData\\Local\\Programs\\Python\\Python312\\Lib\\site-packages\\autots\\models\\base.py:1025: RuntimeWarning: invalid value encountered in divide\n",
      "  smape_cons = (np.nansum(wsmape_df, axis=1) * 200) / np.count_nonzero(\n",
      "C:\\Users\\premkumar\\AppData\\Local\\Programs\\Python\\Python312\\Lib\\site-packages\\autots\\models\\base.py:1025: RuntimeWarning: invalid value encountered in divide\n",
      "  smape_cons = (np.nansum(wsmape_df, axis=1) * 200) / np.count_nonzero(\n"
     ]
    },
    {
     "name": "stdout",
     "output_type": "stream",
     "text": [
      "Model Number: 728 with model ARIMA in generation 4 of 5\n"
     ]
    },
    {
     "name": "stderr",
     "output_type": "stream",
     "text": [
      "C:\\Users\\premkumar\\AppData\\Local\\Programs\\Python\\Python312\\Lib\\site-packages\\autots\\models\\base.py:1025: RuntimeWarning: invalid value encountered in divide\n",
      "  smape_cons = (np.nansum(wsmape_df, axis=1) * 200) / np.count_nonzero(\n"
     ]
    },
    {
     "name": "stdout",
     "output_type": "stream",
     "text": [
      "Model Number: 729 with model ARIMA in generation 4 of 5\n",
      "Model Number: 730 with model NVAR in generation 4 of 5\n"
     ]
    },
    {
     "name": "stderr",
     "output_type": "stream",
     "text": [
      "C:\\Users\\premkumar\\AppData\\Local\\Programs\\Python\\Python312\\Lib\\site-packages\\autots\\models\\base.py:1025: RuntimeWarning: invalid value encountered in divide\n",
      "  smape_cons = (np.nansum(wsmape_df, axis=1) * 200) / np.count_nonzero(\n",
      "C:\\Users\\premkumar\\AppData\\Local\\Programs\\Python\\Python312\\Lib\\site-packages\\autots\\models\\base.py:1025: RuntimeWarning: invalid value encountered in divide\n",
      "  smape_cons = (np.nansum(wsmape_df, axis=1) * 200) / np.count_nonzero(\n"
     ]
    },
    {
     "name": "stdout",
     "output_type": "stream",
     "text": [
      "Model Number: 731 with model Theta in generation 4 of 5\n",
      "Model Number: 732 with model ConstantNaive in generation 4 of 5\n"
     ]
    },
    {
     "name": "stderr",
     "output_type": "stream",
     "text": [
      "C:\\Users\\premkumar\\AppData\\Local\\Programs\\Python\\Python312\\Lib\\site-packages\\autots\\models\\base.py:1025: RuntimeWarning: invalid value encountered in divide\n",
      "  smape_cons = (np.nansum(wsmape_df, axis=1) * 200) / np.count_nonzero(\n",
      "C:\\Users\\premkumar\\AppData\\Local\\Programs\\Python\\Python312\\Lib\\site-packages\\autots\\models\\base.py:1025: RuntimeWarning: invalid value encountered in divide\n",
      "  smape_cons = (np.nansum(wsmape_df, axis=1) * 200) / np.count_nonzero(\n"
     ]
    },
    {
     "name": "stdout",
     "output_type": "stream",
     "text": [
      "Model Number: 733 with model Theta in generation 4 of 5\n"
     ]
    },
    {
     "name": "stderr",
     "output_type": "stream",
     "text": [
      "C:\\Users\\premkumar\\AppData\\Local\\Programs\\Python\\Python312\\Lib\\site-packages\\autots\\models\\base.py:1025: RuntimeWarning: invalid value encountered in divide\n",
      "  smape_cons = (np.nansum(wsmape_df, axis=1) * 200) / np.count_nonzero(\n"
     ]
    },
    {
     "name": "stdout",
     "output_type": "stream",
     "text": [
      "Model Number: 734 with model RRVAR in generation 4 of 5\n",
      "Model Number: 735 with model UnivariateMotif in generation 4 of 5\n",
      "Model Number: 736 with model SeasonalityMotif in generation 4 of 5\n",
      "Model Number: 737 with model SeasonalityMotif in generation 4 of 5\n",
      "Model Number: 738 with model SeasonalityMotif in generation 4 of 5\n"
     ]
    },
    {
     "name": "stderr",
     "output_type": "stream",
     "text": [
      "C:\\Users\\premkumar\\AppData\\Local\\Programs\\Python\\Python312\\Lib\\site-packages\\autots\\models\\base.py:1025: RuntimeWarning: invalid value encountered in divide\n",
      "  smape_cons = (np.nansum(wsmape_df, axis=1) * 200) / np.count_nonzero(\n",
      "C:\\Users\\premkumar\\AppData\\Local\\Programs\\Python\\Python312\\Lib\\site-packages\\autots\\models\\base.py:1025: RuntimeWarning: invalid value encountered in divide\n",
      "  smape_cons = (np.nansum(wsmape_df, axis=1) * 200) / np.count_nonzero(\n",
      "C:\\Users\\premkumar\\AppData\\Local\\Programs\\Python\\Python312\\Lib\\site-packages\\autots\\models\\base.py:1025: RuntimeWarning: invalid value encountered in divide\n",
      "  smape_cons = (np.nansum(wsmape_df, axis=1) * 200) / np.count_nonzero(\n",
      "C:\\Users\\premkumar\\AppData\\Local\\Programs\\Python\\Python312\\Lib\\site-packages\\autots\\models\\base.py:1025: RuntimeWarning: invalid value encountered in divide\n",
      "  smape_cons = (np.nansum(wsmape_df, axis=1) * 200) / np.count_nonzero(\n",
      "C:\\Users\\premkumar\\AppData\\Local\\Programs\\Python\\Python312\\Lib\\site-packages\\autots\\models\\base.py:1025: RuntimeWarning: invalid value encountered in divide\n",
      "  smape_cons = (np.nansum(wsmape_df, axis=1) * 200) / np.count_nonzero(\n"
     ]
    },
    {
     "name": "stdout",
     "output_type": "stream",
     "text": [
      "Model Number: 739 with model AverageValueNaive in generation 4 of 5\n",
      "Model Number: 740 with model SectionalMotif in generation 4 of 5\n",
      "Model Number: 741 with model AverageValueNaive in generation 4 of 5\n"
     ]
    },
    {
     "name": "stderr",
     "output_type": "stream",
     "text": [
      "C:\\Users\\premkumar\\AppData\\Local\\Programs\\Python\\Python312\\Lib\\site-packages\\autots\\models\\base.py:1025: RuntimeWarning: invalid value encountered in divide\n",
      "  smape_cons = (np.nansum(wsmape_df, axis=1) * 200) / np.count_nonzero(\n",
      "C:\\Users\\premkumar\\AppData\\Local\\Programs\\Python\\Python312\\Lib\\site-packages\\autots\\models\\base.py:1025: RuntimeWarning: invalid value encountered in divide\n",
      "  smape_cons = (np.nansum(wsmape_df, axis=1) * 200) / np.count_nonzero(\n",
      "C:\\Users\\premkumar\\AppData\\Local\\Programs\\Python\\Python312\\Lib\\site-packages\\autots\\models\\base.py:1025: RuntimeWarning: invalid value encountered in divide\n",
      "  smape_cons = (np.nansum(wsmape_df, axis=1) * 200) / np.count_nonzero(\n"
     ]
    },
    {
     "name": "stdout",
     "output_type": "stream",
     "text": [
      "Model Number: 742 with model ARDL in generation 4 of 5\n"
     ]
    },
    {
     "name": "stderr",
     "output_type": "stream",
     "text": [
      "C:\\Users\\premkumar\\AppData\\Local\\Programs\\Python\\Python312\\Lib\\site-packages\\autots\\models\\base.py:1025: RuntimeWarning: invalid value encountered in divide\n",
      "  smape_cons = (np.nansum(wsmape_df, axis=1) * 200) / np.count_nonzero(\n"
     ]
    },
    {
     "name": "stdout",
     "output_type": "stream",
     "text": [
      "Model Number: 743 with model ARDL in generation 4 of 5\n",
      "Model Number: 744 with model ETS in generation 4 of 5\n",
      "Model Number: 745 with model NVAR in generation 4 of 5\n",
      "Model Number: 746 with model SeasonalityMotif in generation 4 of 5\n",
      "Model Number: 747 with model AverageValueNaive in generation 4 of 5\n",
      "Model Number: 748 with model ConstantNaive in generation 4 of 5\n"
     ]
    },
    {
     "name": "stderr",
     "output_type": "stream",
     "text": [
      "C:\\Users\\premkumar\\AppData\\Local\\Programs\\Python\\Python312\\Lib\\site-packages\\autots\\models\\base.py:1025: RuntimeWarning: invalid value encountered in divide\n",
      "  smape_cons = (np.nansum(wsmape_df, axis=1) * 200) / np.count_nonzero(\n",
      "C:\\Users\\premkumar\\AppData\\Local\\Programs\\Python\\Python312\\Lib\\site-packages\\autots\\models\\base.py:1025: RuntimeWarning: invalid value encountered in divide\n",
      "  smape_cons = (np.nansum(wsmape_df, axis=1) * 200) / np.count_nonzero(\n",
      "C:\\Users\\premkumar\\AppData\\Local\\Programs\\Python\\Python312\\Lib\\site-packages\\autots\\models\\base.py:1025: RuntimeWarning: invalid value encountered in divide\n",
      "  smape_cons = (np.nansum(wsmape_df, axis=1) * 200) / np.count_nonzero(\n",
      "C:\\Users\\premkumar\\AppData\\Local\\Programs\\Python\\Python312\\Lib\\site-packages\\autots\\models\\base.py:1025: RuntimeWarning: invalid value encountered in divide\n",
      "  smape_cons = (np.nansum(wsmape_df, axis=1) * 200) / np.count_nonzero(\n",
      "C:\\Users\\premkumar\\AppData\\Local\\Programs\\Python\\Python312\\Lib\\site-packages\\autots\\models\\base.py:1025: RuntimeWarning: invalid value encountered in divide\n",
      "  smape_cons = (np.nansum(wsmape_df, axis=1) * 200) / np.count_nonzero(\n",
      "C:\\Users\\premkumar\\AppData\\Local\\Programs\\Python\\Python312\\Lib\\site-packages\\autots\\models\\base.py:1025: RuntimeWarning: invalid value encountered in divide\n",
      "  smape_cons = (np.nansum(wsmape_df, axis=1) * 200) / np.count_nonzero(\n"
     ]
    },
    {
     "name": "stdout",
     "output_type": "stream",
     "text": [
      "Model Number: 749 with model Cassandra in generation 4 of 5\n",
      "Model Number: 750 with model MultivariateMotif in generation 4 of 5\n",
      "Model Number: 751 with model WindowRegression in generation 4 of 5\n",
      "Template Eval Error: ModuleNotFoundError(\"No module named 'lightgbm'\") in model 751 in generation 4: WindowRegression\n",
      "Model Number: 752 with model GLS in generation 4 of 5\n",
      "Model Number: 753 with model DatepartRegression in generation 4 of 5\n",
      "Model Number: 754 with model AverageValueNaive in generation 4 of 5\n"
     ]
    },
    {
     "name": "stderr",
     "output_type": "stream",
     "text": [
      "C:\\Users\\premkumar\\AppData\\Local\\Programs\\Python\\Python312\\Lib\\site-packages\\autots\\models\\base.py:1025: RuntimeWarning: invalid value encountered in divide\n",
      "  smape_cons = (np.nansum(wsmape_df, axis=1) * 200) / np.count_nonzero(\n",
      "C:\\Users\\premkumar\\AppData\\Local\\Programs\\Python\\Python312\\Lib\\site-packages\\autots\\models\\base.py:1025: RuntimeWarning: invalid value encountered in divide\n",
      "  smape_cons = (np.nansum(wsmape_df, axis=1) * 200) / np.count_nonzero(\n",
      "C:\\Users\\premkumar\\AppData\\Local\\Programs\\Python\\Python312\\Lib\\site-packages\\autots\\models\\base.py:1025: RuntimeWarning: invalid value encountered in divide\n",
      "  smape_cons = (np.nansum(wsmape_df, axis=1) * 200) / np.count_nonzero(\n",
      "C:\\Users\\premkumar\\AppData\\Local\\Programs\\Python\\Python312\\Lib\\site-packages\\autots\\models\\base.py:1025: RuntimeWarning: invalid value encountered in divide\n",
      "  smape_cons = (np.nansum(wsmape_df, axis=1) * 200) / np.count_nonzero(\n",
      "C:\\Users\\premkumar\\AppData\\Local\\Programs\\Python\\Python312\\Lib\\site-packages\\autots\\models\\base.py:1025: RuntimeWarning: invalid value encountered in divide\n",
      "  smape_cons = (np.nansum(wsmape_df, axis=1) * 200) / np.count_nonzero(\n"
     ]
    },
    {
     "name": "stdout",
     "output_type": "stream",
     "text": [
      "Model Number: 755 with model NVAR in generation 4 of 5\n",
      "Model Number: 756 with model SectionalMotif in generation 4 of 5\n",
      "Model Number: 757 with model Cassandra in generation 4 of 5\n"
     ]
    },
    {
     "name": "stderr",
     "output_type": "stream",
     "text": [
      "C:\\Users\\premkumar\\AppData\\Local\\Programs\\Python\\Python312\\Lib\\site-packages\\autots\\models\\base.py:1025: RuntimeWarning: invalid value encountered in divide\n",
      "  smape_cons = (np.nansum(wsmape_df, axis=1) * 200) / np.count_nonzero(\n",
      "C:\\Users\\premkumar\\AppData\\Local\\Programs\\Python\\Python312\\Lib\\site-packages\\autots\\models\\base.py:1025: RuntimeWarning: invalid value encountered in divide\n",
      "  smape_cons = (np.nansum(wsmape_df, axis=1) * 200) / np.count_nonzero(\n"
     ]
    },
    {
     "name": "stdout",
     "output_type": "stream",
     "text": [
      "Template Eval Error: ValueError(\"regression_type='User' but no future_regressor passed\") in model 757 in generation 4: Cassandra\n",
      "Model Number: 758 with model UnobservedComponents in generation 4 of 5\n"
     ]
    },
    {
     "name": "stderr",
     "output_type": "stream",
     "text": [
      "C:\\Users\\premkumar\\AppData\\Local\\Programs\\Python\\Python312\\Lib\\site-packages\\autots\\models\\base.py:1025: RuntimeWarning: invalid value encountered in divide\n",
      "  smape_cons = (np.nansum(wsmape_df, axis=1) * 200) / np.count_nonzero(\n"
     ]
    },
    {
     "name": "stdout",
     "output_type": "stream",
     "text": [
      "Model Number: 759 with model Theta in generation 4 of 5\n",
      "Model Number: 760 with model MultivariateMotif in generation 4 of 5\n",
      "Model Number: 761 with model UnivariateMotif in generation 4 of 5\n"
     ]
    },
    {
     "name": "stderr",
     "output_type": "stream",
     "text": [
      "C:\\Users\\premkumar\\AppData\\Local\\Programs\\Python\\Python312\\Lib\\site-packages\\autots\\models\\base.py:1025: RuntimeWarning: invalid value encountered in divide\n",
      "  smape_cons = (np.nansum(wsmape_df, axis=1) * 200) / np.count_nonzero(\n",
      "C:\\Users\\premkumar\\AppData\\Local\\Programs\\Python\\Python312\\Lib\\site-packages\\autots\\models\\base.py:1025: RuntimeWarning: invalid value encountered in divide\n",
      "  smape_cons = (np.nansum(wsmape_df, axis=1) * 200) / np.count_nonzero(\n",
      "C:\\Users\\premkumar\\AppData\\Local\\Programs\\Python\\Python312\\Lib\\site-packages\\autots\\models\\base.py:1025: RuntimeWarning: invalid value encountered in divide\n",
      "  smape_cons = (np.nansum(wsmape_df, axis=1) * 200) / np.count_nonzero(\n"
     ]
    },
    {
     "name": "stdout",
     "output_type": "stream",
     "text": [
      "New Generation: 5 of 5\n",
      "Model Number: 762 with model UnivariateMotif in generation 5 of 5\n",
      "Model Number: 763 with model NVAR in generation 5 of 5\n",
      "Model Number: 764 with model MetricMotif in generation 5 of 5\n",
      "Model Number: 765 with model MetricMotif in generation 5 of 5\n",
      "Model Number: 766 with model MetricMotif in generation 5 of 5\n",
      "Model Number: 767 with model SeasonalNaive in generation 5 of 5\n",
      "Model Number: 768 with model AverageValueNaive in generation 5 of 5\n"
     ]
    },
    {
     "name": "stderr",
     "output_type": "stream",
     "text": [
      "C:\\Users\\premkumar\\AppData\\Local\\Programs\\Python\\Python312\\Lib\\site-packages\\autots\\models\\base.py:1025: RuntimeWarning: invalid value encountered in divide\n",
      "  smape_cons = (np.nansum(wsmape_df, axis=1) * 200) / np.count_nonzero(\n",
      "C:\\Users\\premkumar\\AppData\\Local\\Programs\\Python\\Python312\\Lib\\site-packages\\autots\\models\\base.py:1025: RuntimeWarning: invalid value encountered in divide\n",
      "  smape_cons = (np.nansum(wsmape_df, axis=1) * 200) / np.count_nonzero(\n",
      "C:\\Users\\premkumar\\AppData\\Local\\Programs\\Python\\Python312\\Lib\\site-packages\\autots\\models\\base.py:1025: RuntimeWarning: invalid value encountered in divide\n",
      "  smape_cons = (np.nansum(wsmape_df, axis=1) * 200) / np.count_nonzero(\n",
      "C:\\Users\\premkumar\\AppData\\Local\\Programs\\Python\\Python312\\Lib\\site-packages\\autots\\models\\base.py:1025: RuntimeWarning: invalid value encountered in divide\n",
      "  smape_cons = (np.nansum(wsmape_df, axis=1) * 200) / np.count_nonzero(\n",
      "C:\\Users\\premkumar\\AppData\\Local\\Programs\\Python\\Python312\\Lib\\site-packages\\autots\\models\\base.py:1025: RuntimeWarning: invalid value encountered in divide\n",
      "  smape_cons = (np.nansum(wsmape_df, axis=1) * 200) / np.count_nonzero(\n",
      "C:\\Users\\premkumar\\AppData\\Local\\Programs\\Python\\Python312\\Lib\\site-packages\\autots\\models\\base.py:1025: RuntimeWarning: invalid value encountered in divide\n",
      "  smape_cons = (np.nansum(wsmape_df, axis=1) * 200) / np.count_nonzero(\n",
      "C:\\Users\\premkumar\\AppData\\Local\\Programs\\Python\\Python312\\Lib\\site-packages\\autots\\models\\base.py:1025: RuntimeWarning: invalid value encountered in divide\n",
      "  smape_cons = (np.nansum(wsmape_df, axis=1) * 200) / np.count_nonzero(\n"
     ]
    },
    {
     "name": "stdout",
     "output_type": "stream",
     "text": [
      "Model Number: 769 with model RRVAR in generation 5 of 5\n",
      "Model Number: 770 with model MultivariateRegression in generation 5 of 5\n"
     ]
    },
    {
     "name": "stderr",
     "output_type": "stream",
     "text": [
      "C:\\Users\\premkumar\\AppData\\Local\\Programs\\Python\\Python312\\Lib\\site-packages\\autots\\models\\base.py:1025: RuntimeWarning: invalid value encountered in divide\n",
      "  smape_cons = (np.nansum(wsmape_df, axis=1) * 200) / np.count_nonzero(\n"
     ]
    },
    {
     "name": "stdout",
     "output_type": "stream",
     "text": [
      "Model Number: 771 with model SeasonalNaive in generation 5 of 5\n",
      "Model Number: 772 with model ConstantNaive in generation 5 of 5\n",
      "Model Number: 773 with model AverageValueNaive in generation 5 of 5\n",
      "Model Number: 774 with model MultivariateMotif in generation 5 of 5\n",
      "Model Number: 775 with model RRVAR in generation 5 of 5\n"
     ]
    },
    {
     "name": "stderr",
     "output_type": "stream",
     "text": [
      "C:\\Users\\premkumar\\AppData\\Local\\Programs\\Python\\Python312\\Lib\\site-packages\\autots\\models\\base.py:1025: RuntimeWarning: invalid value encountered in divide\n",
      "  smape_cons = (np.nansum(wsmape_df, axis=1) * 200) / np.count_nonzero(\n",
      "C:\\Users\\premkumar\\AppData\\Local\\Programs\\Python\\Python312\\Lib\\site-packages\\autots\\models\\base.py:1025: RuntimeWarning: invalid value encountered in divide\n",
      "  smape_cons = (np.nansum(wsmape_df, axis=1) * 200) / np.count_nonzero(\n",
      "C:\\Users\\premkumar\\AppData\\Local\\Programs\\Python\\Python312\\Lib\\site-packages\\autots\\models\\base.py:1025: RuntimeWarning: invalid value encountered in divide\n",
      "  smape_cons = (np.nansum(wsmape_df, axis=1) * 200) / np.count_nonzero(\n",
      "C:\\Users\\premkumar\\AppData\\Local\\Programs\\Python\\Python312\\Lib\\site-packages\\autots\\models\\base.py:1025: RuntimeWarning: invalid value encountered in divide\n",
      "  smape_cons = (np.nansum(wsmape_df, axis=1) * 200) / np.count_nonzero(\n",
      "C:\\Users\\premkumar\\AppData\\Local\\Programs\\Python\\Python312\\Lib\\site-packages\\autots\\models\\base.py:1025: RuntimeWarning: invalid value encountered in divide\n",
      "  smape_cons = (np.nansum(wsmape_df, axis=1) * 200) / np.count_nonzero(\n",
      "C:\\Users\\premkumar\\AppData\\Local\\Programs\\Python\\Python312\\Lib\\site-packages\\autots\\models\\base.py:1025: RuntimeWarning: invalid value encountered in divide\n",
      "  smape_cons = (np.nansum(wsmape_df, axis=1) * 200) / np.count_nonzero(\n"
     ]
    },
    {
     "name": "stdout",
     "output_type": "stream",
     "text": [
      "Model Number: 776 with model MetricMotif in generation 5 of 5\n",
      "Model Number: 777 with model Cassandra in generation 5 of 5\n"
     ]
    },
    {
     "name": "stderr",
     "output_type": "stream",
     "text": [
      "C:\\Users\\premkumar\\AppData\\Local\\Programs\\Python\\Python312\\Lib\\site-packages\\autots\\models\\base.py:1025: RuntimeWarning: invalid value encountered in divide\n",
      "  smape_cons = (np.nansum(wsmape_df, axis=1) * 200) / np.count_nonzero(\n",
      "C:\\Users\\premkumar\\AppData\\Local\\Programs\\Python\\Python312\\Lib\\site-packages\\autots\\models\\base.py:1025: RuntimeWarning: invalid value encountered in divide\n",
      "  smape_cons = (np.nansum(wsmape_df, axis=1) * 200) / np.count_nonzero(\n"
     ]
    },
    {
     "name": "stdout",
     "output_type": "stream",
     "text": [
      "Model Number: 778 with model Theta in generation 5 of 5\n",
      "Model Number: 779 with model SeasonalNaive in generation 5 of 5\n",
      "Model Number: 780 with model MultivariateMotif in generation 5 of 5\n",
      "Model Number: 781 with model MetricMotif in generation 5 of 5\n"
     ]
    },
    {
     "name": "stderr",
     "output_type": "stream",
     "text": [
      "C:\\Users\\premkumar\\AppData\\Local\\Programs\\Python\\Python312\\Lib\\site-packages\\autots\\models\\base.py:1025: RuntimeWarning: invalid value encountered in divide\n",
      "  smape_cons = (np.nansum(wsmape_df, axis=1) * 200) / np.count_nonzero(\n",
      "C:\\Users\\premkumar\\AppData\\Local\\Programs\\Python\\Python312\\Lib\\site-packages\\autots\\models\\base.py:1025: RuntimeWarning: invalid value encountered in divide\n",
      "  smape_cons = (np.nansum(wsmape_df, axis=1) * 200) / np.count_nonzero(\n",
      "C:\\Users\\premkumar\\AppData\\Local\\Programs\\Python\\Python312\\Lib\\site-packages\\autots\\models\\base.py:1025: RuntimeWarning: invalid value encountered in divide\n",
      "  smape_cons = (np.nansum(wsmape_df, axis=1) * 200) / np.count_nonzero(\n",
      "C:\\Users\\premkumar\\AppData\\Local\\Programs\\Python\\Python312\\Lib\\site-packages\\autots\\models\\base.py:1025: RuntimeWarning: invalid value encountered in divide\n",
      "  smape_cons = (np.nansum(wsmape_df, axis=1) * 200) / np.count_nonzero(\n"
     ]
    },
    {
     "name": "stdout",
     "output_type": "stream",
     "text": [
      "Model Number: 782 with model ARIMA in generation 5 of 5\n",
      "Model Number: 783 with model SeasonalityMotif in generation 5 of 5\n",
      "Model Number: 784 with model AverageValueNaive in generation 5 of 5\n"
     ]
    },
    {
     "name": "stderr",
     "output_type": "stream",
     "text": [
      "C:\\Users\\premkumar\\AppData\\Local\\Programs\\Python\\Python312\\Lib\\site-packages\\autots\\models\\base.py:1025: RuntimeWarning: invalid value encountered in divide\n",
      "  smape_cons = (np.nansum(wsmape_df, axis=1) * 200) / np.count_nonzero(\n",
      "C:\\Users\\premkumar\\AppData\\Local\\Programs\\Python\\Python312\\Lib\\site-packages\\autots\\models\\base.py:1025: RuntimeWarning: invalid value encountered in divide\n",
      "  smape_cons = (np.nansum(wsmape_df, axis=1) * 200) / np.count_nonzero(\n",
      "C:\\Users\\premkumar\\AppData\\Local\\Programs\\Python\\Python312\\Lib\\site-packages\\autots\\models\\base.py:1025: RuntimeWarning: invalid value encountered in divide\n",
      "  smape_cons = (np.nansum(wsmape_df, axis=1) * 200) / np.count_nonzero(\n"
     ]
    },
    {
     "name": "stdout",
     "output_type": "stream",
     "text": [
      "Model Number: 785 with model Theta in generation 5 of 5\n",
      "Model Number: 786 with model DMD in generation 5 of 5\n"
     ]
    },
    {
     "name": "stderr",
     "output_type": "stream",
     "text": [
      "C:\\Users\\premkumar\\AppData\\Local\\Programs\\Python\\Python312\\Lib\\site-packages\\autots\\models\\base.py:1025: RuntimeWarning: invalid value encountered in divide\n",
      "  smape_cons = (np.nansum(wsmape_df, axis=1) * 200) / np.count_nonzero(\n",
      "C:\\Users\\premkumar\\AppData\\Local\\Programs\\Python\\Python312\\Lib\\site-packages\\autots\\models\\base.py:1025: RuntimeWarning: invalid value encountered in divide\n",
      "  smape_cons = (np.nansum(wsmape_df, axis=1) * 200) / np.count_nonzero(\n"
     ]
    },
    {
     "name": "stdout",
     "output_type": "stream",
     "text": [
      "Model Number: 787 with model UnobservedComponents in generation 5 of 5\n",
      "Model Number: 788 with model SectionalMotif in generation 5 of 5\n",
      "Model Number: 789 with model GLS in generation 5 of 5\n"
     ]
    },
    {
     "name": "stderr",
     "output_type": "stream",
     "text": [
      "C:\\Users\\premkumar\\AppData\\Local\\Programs\\Python\\Python312\\Lib\\site-packages\\autots\\models\\base.py:1025: RuntimeWarning: invalid value encountered in divide\n",
      "  smape_cons = (np.nansum(wsmape_df, axis=1) * 200) / np.count_nonzero(\n",
      "C:\\Users\\premkumar\\AppData\\Local\\Programs\\Python\\Python312\\Lib\\site-packages\\autots\\models\\base.py:1025: RuntimeWarning: invalid value encountered in divide\n",
      "  smape_cons = (np.nansum(wsmape_df, axis=1) * 200) / np.count_nonzero(\n",
      "C:\\Users\\premkumar\\AppData\\Local\\Programs\\Python\\Python312\\Lib\\site-packages\\autots\\models\\base.py:1025: RuntimeWarning: invalid value encountered in divide\n",
      "  smape_cons = (np.nansum(wsmape_df, axis=1) * 200) / np.count_nonzero(\n"
     ]
    },
    {
     "name": "stdout",
     "output_type": "stream",
     "text": [
      "Model Number: 790 with model AverageValueNaive in generation 5 of 5\n",
      "Model Number: 791 with model MetricMotif in generation 5 of 5\n",
      "Model Number: 792 with model MultivariateMotif in generation 5 of 5\n",
      "Model Number: 793 with model AverageValueNaive in generation 5 of 5\n"
     ]
    },
    {
     "name": "stderr",
     "output_type": "stream",
     "text": [
      "C:\\Users\\premkumar\\AppData\\Local\\Programs\\Python\\Python312\\Lib\\site-packages\\autots\\models\\base.py:1025: RuntimeWarning: invalid value encountered in divide\n",
      "  smape_cons = (np.nansum(wsmape_df, axis=1) * 200) / np.count_nonzero(\n",
      "C:\\Users\\premkumar\\AppData\\Local\\Programs\\Python\\Python312\\Lib\\site-packages\\autots\\models\\base.py:1025: RuntimeWarning: invalid value encountered in divide\n",
      "  smape_cons = (np.nansum(wsmape_df, axis=1) * 200) / np.count_nonzero(\n",
      "C:\\Users\\premkumar\\AppData\\Local\\Programs\\Python\\Python312\\Lib\\site-packages\\autots\\models\\base.py:1025: RuntimeWarning: invalid value encountered in divide\n",
      "  smape_cons = (np.nansum(wsmape_df, axis=1) * 200) / np.count_nonzero(\n",
      "C:\\Users\\premkumar\\AppData\\Local\\Programs\\Python\\Python312\\Lib\\site-packages\\autots\\models\\base.py:1025: RuntimeWarning: invalid value encountered in divide\n",
      "  smape_cons = (np.nansum(wsmape_df, axis=1) * 200) / np.count_nonzero(\n"
     ]
    },
    {
     "name": "stdout",
     "output_type": "stream",
     "text": [
      "Model Number: 794 with model MultivariateRegression in generation 5 of 5\n",
      "Model Number: 795 with model GLS in generation 5 of 5\n",
      "Model Number: 796 with model MultivariateMotif in generation 5 of 5\n"
     ]
    },
    {
     "name": "stderr",
     "output_type": "stream",
     "text": [
      "C:\\Users\\premkumar\\AppData\\Local\\Programs\\Python\\Python312\\Lib\\site-packages\\autots\\models\\base.py:1025: RuntimeWarning: invalid value encountered in divide\n",
      "  smape_cons = (np.nansum(wsmape_df, axis=1) * 200) / np.count_nonzero(\n",
      "C:\\Users\\premkumar\\AppData\\Local\\Programs\\Python\\Python312\\Lib\\site-packages\\autots\\models\\base.py:1025: RuntimeWarning: invalid value encountered in divide\n",
      "  smape_cons = (np.nansum(wsmape_df, axis=1) * 200) / np.count_nonzero(\n",
      "C:\\Users\\premkumar\\AppData\\Local\\Programs\\Python\\Python312\\Lib\\site-packages\\autots\\models\\base.py:1025: RuntimeWarning: invalid value encountered in divide\n",
      "  smape_cons = (np.nansum(wsmape_df, axis=1) * 200) / np.count_nonzero(\n"
     ]
    },
    {
     "name": "stdout",
     "output_type": "stream",
     "text": [
      "Model Number: 797 with model Theta in generation 5 of 5\n",
      "Model Number: 798 with model MetricMotif in generation 5 of 5\n"
     ]
    },
    {
     "name": "stderr",
     "output_type": "stream",
     "text": [
      "C:\\Users\\premkumar\\AppData\\Local\\Programs\\Python\\Python312\\Lib\\site-packages\\autots\\models\\base.py:1025: RuntimeWarning: invalid value encountered in divide\n",
      "  smape_cons = (np.nansum(wsmape_df, axis=1) * 200) / np.count_nonzero(\n"
     ]
    },
    {
     "name": "stdout",
     "output_type": "stream",
     "text": [
      "Model Number: 799 with model ConstantNaive in generation 5 of 5\n",
      "Template Eval Error: Exception(\"Transformer AlignLastValue failed on inverse from params rolling_mean {'0': {'rows': 1, 'lag': 1, 'method': 'additive', 'strength': 1.0, 'first_value_only': False, 'threshold': None}, '1': {'lag': 7, 'fill': 'bfill'}, '2': {'fixed': True, 'window': 360, 'macro_micro': True, 'center': True}, '3': {'rows': 1, 'lag': 1, 'method': 'additive', 'strength': 1.0, 'first_value_only': True, 'threshold': 10}}\") in model 799 in generation 5: ConstantNaive\n",
      "Model Number: 800 with model MultivariateRegression in generation 5 of 5\n"
     ]
    },
    {
     "name": "stderr",
     "output_type": "stream",
     "text": [
      "C:\\Users\\premkumar\\AppData\\Local\\Programs\\Python\\Python312\\Lib\\site-packages\\autots\\models\\base.py:1025: RuntimeWarning: invalid value encountered in divide\n",
      "  smape_cons = (np.nansum(wsmape_df, axis=1) * 200) / np.count_nonzero(\n"
     ]
    },
    {
     "name": "stdout",
     "output_type": "stream",
     "text": [
      "Model Number: 801 with model AverageValueNaive in generation 5 of 5\n",
      "Model Number: 802 with model SeasonalityMotif in generation 5 of 5\n",
      "Model Number: 803 with model Cassandra in generation 5 of 5\n"
     ]
    },
    {
     "name": "stderr",
     "output_type": "stream",
     "text": [
      "C:\\Users\\premkumar\\AppData\\Local\\Programs\\Python\\Python312\\Lib\\site-packages\\autots\\models\\base.py:1025: RuntimeWarning: invalid value encountered in divide\n",
      "  smape_cons = (np.nansum(wsmape_df, axis=1) * 200) / np.count_nonzero(\n",
      "C:\\Users\\premkumar\\AppData\\Local\\Programs\\Python\\Python312\\Lib\\site-packages\\autots\\models\\base.py:1025: RuntimeWarning: invalid value encountered in divide\n",
      "  smape_cons = (np.nansum(wsmape_df, axis=1) * 200) / np.count_nonzero(\n",
      "C:\\Users\\premkumar\\AppData\\Local\\Programs\\Python\\Python312\\Lib\\site-packages\\autots\\models\\base.py:1025: RuntimeWarning: invalid value encountered in divide\n",
      "  smape_cons = (np.nansum(wsmape_df, axis=1) * 200) / np.count_nonzero(\n"
     ]
    },
    {
     "name": "stdout",
     "output_type": "stream",
     "text": [
      "Model Number: 804 with model MultivariateMotif in generation 5 of 5\n",
      "Model Number: 805 with model MultivariateMotif in generation 5 of 5\n",
      "Model Number: 806 with model Cassandra in generation 5 of 5\n"
     ]
    },
    {
     "name": "stderr",
     "output_type": "stream",
     "text": [
      "C:\\Users\\premkumar\\AppData\\Local\\Programs\\Python\\Python312\\Lib\\site-packages\\autots\\models\\base.py:1025: RuntimeWarning: invalid value encountered in divide\n",
      "  smape_cons = (np.nansum(wsmape_df, axis=1) * 200) / np.count_nonzero(\n",
      "C:\\Users\\premkumar\\AppData\\Local\\Programs\\Python\\Python312\\Lib\\site-packages\\autots\\models\\base.py:1025: RuntimeWarning: invalid value encountered in divide\n",
      "  smape_cons = (np.nansum(wsmape_df, axis=1) * 200) / np.count_nonzero(\n",
      "C:\\Users\\premkumar\\AppData\\Local\\Programs\\Python\\Python312\\Lib\\site-packages\\autots\\models\\base.py:1025: RuntimeWarning: invalid value encountered in divide\n",
      "  smape_cons = (np.nansum(wsmape_df, axis=1) * 200) / np.count_nonzero(\n",
      "C:\\Users\\premkumar\\AppData\\Local\\Programs\\Python\\Python312\\Lib\\site-packages\\autots\\models\\base.py:1025: RuntimeWarning: invalid value encountered in divide\n",
      "  smape_cons = (np.nansum(wsmape_df, axis=1) * 200) / np.count_nonzero(\n"
     ]
    },
    {
     "name": "stdout",
     "output_type": "stream",
     "text": [
      "Model Number: 807 with model ARIMA in generation 5 of 5\n",
      "Model Number: 808 with model Cassandra in generation 5 of 5\n"
     ]
    },
    {
     "name": "stderr",
     "output_type": "stream",
     "text": [
      "C:\\Users\\premkumar\\AppData\\Local\\Programs\\Python\\Python312\\Lib\\site-packages\\autots\\models\\base.py:1025: RuntimeWarning: invalid value encountered in divide\n",
      "  smape_cons = (np.nansum(wsmape_df, axis=1) * 200) / np.count_nonzero(\n"
     ]
    },
    {
     "name": "stdout",
     "output_type": "stream",
     "text": [
      "Model Number: 809 with model LastValueNaive in generation 5 of 5\n",
      "Model Number: 810 with model SectionalMotif in generation 5 of 5\n"
     ]
    },
    {
     "name": "stderr",
     "output_type": "stream",
     "text": [
      "C:\\Users\\premkumar\\AppData\\Local\\Programs\\Python\\Python312\\Lib\\site-packages\\autots\\models\\base.py:1025: RuntimeWarning: invalid value encountered in divide\n",
      "  smape_cons = (np.nansum(wsmape_df, axis=1) * 200) / np.count_nonzero(\n",
      "C:\\Users\\premkumar\\AppData\\Local\\Programs\\Python\\Python312\\Lib\\site-packages\\autots\\models\\base.py:1025: RuntimeWarning: invalid value encountered in divide\n",
      "  smape_cons = (np.nansum(wsmape_df, axis=1) * 200) / np.count_nonzero(\n",
      "C:\\Users\\premkumar\\AppData\\Local\\Programs\\Python\\Python312\\Lib\\site-packages\\autots\\models\\base.py:1025: RuntimeWarning: invalid value encountered in divide\n",
      "  smape_cons = (np.nansum(wsmape_df, axis=1) * 200) / np.count_nonzero(\n"
     ]
    },
    {
     "name": "stdout",
     "output_type": "stream",
     "text": [
      "Model Number: 811 with model RRVAR in generation 5 of 5\n",
      "Model Number: 812 with model SeasonalityMotif in generation 5 of 5\n",
      "Model Number: 813 with model UnivariateMotif in generation 5 of 5\n",
      "Model Number: 814 with model UnivariateMotif in generation 5 of 5\n"
     ]
    },
    {
     "name": "stderr",
     "output_type": "stream",
     "text": [
      "C:\\Users\\premkumar\\AppData\\Local\\Programs\\Python\\Python312\\Lib\\site-packages\\autots\\models\\base.py:1025: RuntimeWarning: invalid value encountered in divide\n",
      "  smape_cons = (np.nansum(wsmape_df, axis=1) * 200) / np.count_nonzero(\n",
      "C:\\Users\\premkumar\\AppData\\Local\\Programs\\Python\\Python312\\Lib\\site-packages\\autots\\models\\base.py:1025: RuntimeWarning: invalid value encountered in divide\n",
      "  smape_cons = (np.nansum(wsmape_df, axis=1) * 200) / np.count_nonzero(\n",
      "C:\\Users\\premkumar\\AppData\\Local\\Programs\\Python\\Python312\\Lib\\site-packages\\autots\\models\\base.py:1025: RuntimeWarning: invalid value encountered in divide\n",
      "  smape_cons = (np.nansum(wsmape_df, axis=1) * 200) / np.count_nonzero(\n",
      "C:\\Users\\premkumar\\AppData\\Local\\Programs\\Python\\Python312\\Lib\\site-packages\\autots\\models\\base.py:1025: RuntimeWarning: invalid value encountered in divide\n",
      "  smape_cons = (np.nansum(wsmape_df, axis=1) * 200) / np.count_nonzero(\n"
     ]
    },
    {
     "name": "stdout",
     "output_type": "stream",
     "text": [
      "Model Number: 815 with model UnobservedComponents in generation 5 of 5\n"
     ]
    },
    {
     "name": "stderr",
     "output_type": "stream",
     "text": [
      "C:\\Users\\premkumar\\AppData\\Local\\Programs\\Python\\Python312\\Lib\\site-packages\\autots\\models\\base.py:1025: RuntimeWarning: invalid value encountered in divide\n",
      "  smape_cons = (np.nansum(wsmape_df, axis=1) * 200) / np.count_nonzero(\n"
     ]
    },
    {
     "name": "stdout",
     "output_type": "stream",
     "text": [
      "Model Number: 816 with model MetricMotif in generation 5 of 5\n",
      "Model Number: 817 with model SectionalMotif in generation 5 of 5\n",
      "Model Number: 818 with model UnivariateMotif in generation 5 of 5\n",
      "Template Eval Error: Exception(\"Transformer MaxAbsScaler failed on fit from params rolling_mean {'0': {'lag_1': 7, 'method': 'LastValue'}, '1': {'method': 'minmax', 'method_params': {'alpha': 0.05}, 'fillna': 'fake_date', 'transform_dict': {'fillna': 'rolling_mean', 'transformations': {'0': 'DifferencedTransformer'}, 'transformation_params': {'0': {'lag': 2, 'fill': 'zero'}}}, 'isolated_only': False}, '2': {}}\") in model 818 in generation 5: UnivariateMotif\n",
      "Model Number: 819 with model SeasonalityMotif in generation 5 of 5\n",
      "Model Number: 820 with model SectionalMotif in generation 5 of 5\n",
      "Model Number: 821 with model LastValueNaive in generation 5 of 5\n"
     ]
    },
    {
     "name": "stderr",
     "output_type": "stream",
     "text": [
      "C:\\Users\\premkumar\\AppData\\Local\\Programs\\Python\\Python312\\Lib\\site-packages\\autots\\models\\base.py:1025: RuntimeWarning: invalid value encountered in divide\n",
      "  smape_cons = (np.nansum(wsmape_df, axis=1) * 200) / np.count_nonzero(\n",
      "C:\\Users\\premkumar\\AppData\\Local\\Programs\\Python\\Python312\\Lib\\site-packages\\autots\\models\\base.py:1025: RuntimeWarning: invalid value encountered in divide\n",
      "  smape_cons = (np.nansum(wsmape_df, axis=1) * 200) / np.count_nonzero(\n",
      "C:\\Users\\premkumar\\AppData\\Local\\Programs\\Python\\Python312\\Lib\\site-packages\\autots\\models\\base.py:1025: RuntimeWarning: invalid value encountered in divide\n",
      "  smape_cons = (np.nansum(wsmape_df, axis=1) * 200) / np.count_nonzero(\n",
      "C:\\Users\\premkumar\\AppData\\Local\\Programs\\Python\\Python312\\Lib\\site-packages\\autots\\models\\base.py:1025: RuntimeWarning: invalid value encountered in divide\n",
      "  smape_cons = (np.nansum(wsmape_df, axis=1) * 200) / np.count_nonzero(\n",
      "C:\\Users\\premkumar\\AppData\\Local\\Programs\\Python\\Python312\\Lib\\site-packages\\autots\\models\\base.py:1025: RuntimeWarning: invalid value encountered in divide\n",
      "  smape_cons = (np.nansum(wsmape_df, axis=1) * 200) / np.count_nonzero(\n"
     ]
    },
    {
     "name": "stdout",
     "output_type": "stream",
     "text": [
      "Model Number: 822 with model Theta in generation 5 of 5\n",
      "Model Number: 823 with model MetricMotif in generation 5 of 5\n",
      "Model Number: 824 with model Theta in generation 5 of 5\n"
     ]
    },
    {
     "name": "stderr",
     "output_type": "stream",
     "text": [
      "C:\\Users\\premkumar\\AppData\\Local\\Programs\\Python\\Python312\\Lib\\site-packages\\autots\\models\\base.py:1025: RuntimeWarning: invalid value encountered in divide\n",
      "  smape_cons = (np.nansum(wsmape_df, axis=1) * 200) / np.count_nonzero(\n",
      "C:\\Users\\premkumar\\AppData\\Local\\Programs\\Python\\Python312\\Lib\\site-packages\\autots\\models\\base.py:1025: RuntimeWarning: invalid value encountered in divide\n",
      "  smape_cons = (np.nansum(wsmape_df, axis=1) * 200) / np.count_nonzero(\n"
     ]
    },
    {
     "name": "stdout",
     "output_type": "stream",
     "text": [
      "Model Number: 825 with model UnivariateMotif in generation 5 of 5\n"
     ]
    },
    {
     "name": "stderr",
     "output_type": "stream",
     "text": [
      "C:\\Users\\premkumar\\AppData\\Local\\Programs\\Python\\Python312\\Lib\\site-packages\\autots\\models\\base.py:1025: RuntimeWarning: invalid value encountered in divide\n",
      "  smape_cons = (np.nansum(wsmape_df, axis=1) * 200) / np.count_nonzero(\n",
      "C:\\Users\\premkumar\\AppData\\Local\\Programs\\Python\\Python312\\Lib\\site-packages\\autots\\models\\base.py:1025: RuntimeWarning: invalid value encountered in divide\n",
      "  smape_cons = (np.nansum(wsmape_df, axis=1) * 200) / np.count_nonzero(\n"
     ]
    },
    {
     "name": "stdout",
     "output_type": "stream",
     "text": [
      "Model Number: 826 with model ARIMA in generation 5 of 5\n",
      "Template Eval Error: ValueError(\"regression_type='User' but future_regressor not supplied\") in model 826 in generation 5: ARIMA\n",
      "Model Number: 827 with model Cassandra in generation 5 of 5\n",
      "Model Number: 828 with model NVAR in generation 5 of 5\n",
      "Model Number: 829 with model LastValueNaive in generation 5 of 5\n",
      "Model Number: 830 with model SeasonalityMotif in generation 5 of 5\n"
     ]
    },
    {
     "name": "stderr",
     "output_type": "stream",
     "text": [
      "C:\\Users\\premkumar\\AppData\\Local\\Programs\\Python\\Python312\\Lib\\site-packages\\autots\\models\\base.py:1025: RuntimeWarning: invalid value encountered in divide\n",
      "  smape_cons = (np.nansum(wsmape_df, axis=1) * 200) / np.count_nonzero(\n",
      "C:\\Users\\premkumar\\AppData\\Local\\Programs\\Python\\Python312\\Lib\\site-packages\\autots\\models\\base.py:1025: RuntimeWarning: invalid value encountered in divide\n",
      "  smape_cons = (np.nansum(wsmape_df, axis=1) * 200) / np.count_nonzero(\n",
      "C:\\Users\\premkumar\\AppData\\Local\\Programs\\Python\\Python312\\Lib\\site-packages\\autots\\models\\base.py:1025: RuntimeWarning: invalid value encountered in divide\n",
      "  smape_cons = (np.nansum(wsmape_df, axis=1) * 200) / np.count_nonzero(\n"
     ]
    },
    {
     "name": "stdout",
     "output_type": "stream",
     "text": [
      "Model Number: 831 with model WindowRegression in generation 5 of 5\n",
      "Model Number: 832 with model ConstantNaive in generation 5 of 5\n",
      "Template Eval Error: ValueError(\"Model returned NaN due to a preprocessing transformer {'fillna': 'zero', 'transformations': {'0': 'AlignLastValue', '1': 'AlignLastValue'}, 'transformation_params': {'0': {'rows': 1, 'lag': 1, 'method': 'additive', 'strength': 1.0, 'first_value_only': False, 'threshold': None}, '1': {'rows': 1, 'lag': 1, 'method': 'multiplicative', 'strength': 1.0, 'first_value_only': False, 'threshold': 10}}}. fail_on_forecast_nan=True\") in model 832 in generation 5: ConstantNaive\n",
      "Model Number: 833 with model GLS in generation 5 of 5\n",
      "Model Number: 834 with model Cassandra in generation 5 of 5\n"
     ]
    },
    {
     "name": "stderr",
     "output_type": "stream",
     "text": [
      "C:\\Users\\premkumar\\AppData\\Local\\Programs\\Python\\Python312\\Lib\\site-packages\\autots\\models\\base.py:1025: RuntimeWarning: invalid value encountered in divide\n",
      "  smape_cons = (np.nansum(wsmape_df, axis=1) * 200) / np.count_nonzero(\n",
      "C:\\Users\\premkumar\\AppData\\Local\\Programs\\Python\\Python312\\Lib\\site-packages\\autots\\models\\base.py:1025: RuntimeWarning: invalid value encountered in divide\n",
      "  smape_cons = (np.nansum(wsmape_df, axis=1) * 200) / np.count_nonzero(\n",
      "C:\\Users\\premkumar\\AppData\\Local\\Programs\\Python\\Python312\\Lib\\site-packages\\autots\\tools\\transform.py:5472: FutureWarning: Downcasting object dtype arrays on .fillna, .ffill, .bfill is deprecated and will change in a future version. Call result.infer_objects(copy=False) instead. To opt-in to the future behavior, set `pd.set_option('future.no_silent_downcasting', True)`\n",
      "  df = df.fillna(0)\n",
      "C:\\Users\\premkumar\\AppData\\Local\\Programs\\Python\\Python312\\Lib\\site-packages\\autots\\tools\\transform.py:5472: FutureWarning: Downcasting object dtype arrays on .fillna, .ffill, .bfill is deprecated and will change in a future version. Call result.infer_objects(copy=False) instead. To opt-in to the future behavior, set `pd.set_option('future.no_silent_downcasting', True)`\n",
      "  df = df.fillna(0)\n",
      "C:\\Users\\premkumar\\AppData\\Local\\Programs\\Python\\Python312\\Lib\\site-packages\\autots\\models\\base.py:1025: RuntimeWarning: invalid value encountered in divide\n",
      "  smape_cons = (np.nansum(wsmape_df, axis=1) * 200) / np.count_nonzero(\n"
     ]
    },
    {
     "name": "stdout",
     "output_type": "stream",
     "text": [
      "Model Number: 835 with model NVAR in generation 5 of 5\n",
      "Model Number: 836 with model ARDL in generation 5 of 5\n",
      "Model Number: 837 with model SectionalMotif in generation 5 of 5\n",
      "Model Number: 838 with model SectionalMotif in generation 5 of 5\n",
      "Model Number: 839 with model UnivariateMotif in generation 5 of 5\n",
      "Model Number: 840 with model AverageValueNaive in generation 5 of 5\n"
     ]
    },
    {
     "name": "stderr",
     "output_type": "stream",
     "text": [
      "C:\\Users\\premkumar\\AppData\\Local\\Programs\\Python\\Python312\\Lib\\site-packages\\autots\\models\\base.py:1025: RuntimeWarning: invalid value encountered in divide\n",
      "  smape_cons = (np.nansum(wsmape_df, axis=1) * 200) / np.count_nonzero(\n",
      "C:\\Users\\premkumar\\AppData\\Local\\Programs\\Python\\Python312\\Lib\\site-packages\\autots\\models\\base.py:1025: RuntimeWarning: invalid value encountered in divide\n",
      "  smape_cons = (np.nansum(wsmape_df, axis=1) * 200) / np.count_nonzero(\n",
      "C:\\Users\\premkumar\\AppData\\Local\\Programs\\Python\\Python312\\Lib\\site-packages\\autots\\models\\base.py:1025: RuntimeWarning: invalid value encountered in divide\n",
      "  smape_cons = (np.nansum(wsmape_df, axis=1) * 200) / np.count_nonzero(\n",
      "C:\\Users\\premkumar\\AppData\\Local\\Programs\\Python\\Python312\\Lib\\site-packages\\autots\\models\\base.py:1025: RuntimeWarning: invalid value encountered in divide\n",
      "  smape_cons = (np.nansum(wsmape_df, axis=1) * 200) / np.count_nonzero(\n",
      "C:\\Users\\premkumar\\AppData\\Local\\Programs\\Python\\Python312\\Lib\\site-packages\\autots\\models\\base.py:1025: RuntimeWarning: invalid value encountered in divide\n",
      "  smape_cons = (np.nansum(wsmape_df, axis=1) * 200) / np.count_nonzero(\n",
      "C:\\Users\\premkumar\\AppData\\Local\\Programs\\Python\\Python312\\Lib\\site-packages\\autots\\models\\base.py:1025: RuntimeWarning: invalid value encountered in divide\n",
      "  smape_cons = (np.nansum(wsmape_df, axis=1) * 200) / np.count_nonzero(\n",
      "C:\\Users\\premkumar\\AppData\\Local\\Programs\\Python\\Python312\\Lib\\site-packages\\autots\\models\\base.py:1025: RuntimeWarning: invalid value encountered in divide\n",
      "  smape_cons = (np.nansum(wsmape_df, axis=1) * 200) / np.count_nonzero(\n"
     ]
    },
    {
     "name": "stdout",
     "output_type": "stream",
     "text": [
      "Model Number: 841 with model ARDL in generation 5 of 5\n",
      "Template Eval Error: ValueError(\"regression_type='User' but future_regressor not supplied\") in model 841 in generation 5: ARDL\n",
      "Model Number: 842 with model ConstantNaive in generation 5 of 5\n",
      "Model Number: 843 with model LastValueNaive in generation 5 of 5\n",
      "Model Number: 844 with model NVAR in generation 5 of 5\n",
      "Model Number: 845 with model NVAR in generation 5 of 5\n"
     ]
    },
    {
     "name": "stderr",
     "output_type": "stream",
     "text": [
      "C:\\Users\\premkumar\\AppData\\Local\\Programs\\Python\\Python312\\Lib\\site-packages\\autots\\models\\base.py:1025: RuntimeWarning: invalid value encountered in divide\n",
      "  smape_cons = (np.nansum(wsmape_df, axis=1) * 200) / np.count_nonzero(\n",
      "C:\\Users\\premkumar\\AppData\\Local\\Programs\\Python\\Python312\\Lib\\site-packages\\autots\\models\\base.py:1025: RuntimeWarning: invalid value encountered in divide\n",
      "  smape_cons = (np.nansum(wsmape_df, axis=1) * 200) / np.count_nonzero(\n",
      "C:\\Users\\premkumar\\AppData\\Local\\Programs\\Python\\Python312\\Lib\\site-packages\\autots\\models\\base.py:1025: RuntimeWarning: invalid value encountered in divide\n",
      "  smape_cons = (np.nansum(wsmape_df, axis=1) * 200) / np.count_nonzero(\n",
      "C:\\Users\\premkumar\\AppData\\Local\\Programs\\Python\\Python312\\Lib\\site-packages\\sklearn\\linear_model\\_ridge.py:204: LinAlgWarning: Ill-conditioned matrix (rcond=6.76561e-26): result may not be accurate.\n",
      "  return linalg.solve(A, Xy, assume_a=\"pos\", overwrite_a=True).T\n"
     ]
    },
    {
     "name": "stdout",
     "output_type": "stream",
     "text": [
      "Model Number: 846 with model MetricMotif in generation 5 of 5\n",
      "Model Number: 847 with model Cassandra in generation 5 of 5\n"
     ]
    },
    {
     "name": "stderr",
     "output_type": "stream",
     "text": [
      "C:\\Users\\premkumar\\AppData\\Local\\Programs\\Python\\Python312\\Lib\\site-packages\\autots\\models\\base.py:1025: RuntimeWarning: invalid value encountered in divide\n",
      "  smape_cons = (np.nansum(wsmape_df, axis=1) * 200) / np.count_nonzero(\n",
      "C:\\Users\\premkumar\\AppData\\Local\\Programs\\Python\\Python312\\Lib\\site-packages\\autots\\models\\base.py:1025: RuntimeWarning: invalid value encountered in divide\n",
      "  smape_cons = (np.nansum(wsmape_df, axis=1) * 200) / np.count_nonzero(\n"
     ]
    },
    {
     "name": "stdout",
     "output_type": "stream",
     "text": [
      "Model Number: 848 with model ETS in generation 5 of 5\n"
     ]
    },
    {
     "name": "stderr",
     "output_type": "stream",
     "text": [
      "C:\\Users\\premkumar\\AppData\\Local\\Programs\\Python\\Python312\\Lib\\site-packages\\autots\\models\\base.py:1025: RuntimeWarning: invalid value encountered in divide\n",
      "  smape_cons = (np.nansum(wsmape_df, axis=1) * 200) / np.count_nonzero(\n",
      "C:\\Users\\premkumar\\AppData\\Local\\Programs\\Python\\Python312\\Lib\\site-packages\\autots\\models\\base.py:1025: RuntimeWarning: invalid value encountered in divide\n",
      "  smape_cons = (np.nansum(wsmape_df, axis=1) * 200) / np.count_nonzero(\n"
     ]
    },
    {
     "name": "stdout",
     "output_type": "stream",
     "text": [
      "Model Number: 849 with model Theta in generation 5 of 5\n",
      "Model Number: 850 with model GLS in generation 5 of 5\n",
      "Model Number: 851 with model ETS in generation 5 of 5\n",
      "Model Number: 852 with model SectionalMotif in generation 5 of 5\n",
      "Model Number: 853 with model MultivariateMotif in generation 5 of 5\n",
      "Model Number: 854 with model UnivariateMotif in generation 5 of 5\n"
     ]
    },
    {
     "name": "stderr",
     "output_type": "stream",
     "text": [
      "C:\\Users\\premkumar\\AppData\\Local\\Programs\\Python\\Python312\\Lib\\site-packages\\autots\\models\\base.py:1025: RuntimeWarning: invalid value encountered in divide\n",
      "  smape_cons = (np.nansum(wsmape_df, axis=1) * 200) / np.count_nonzero(\n",
      "C:\\Users\\premkumar\\AppData\\Local\\Programs\\Python\\Python312\\Lib\\site-packages\\autots\\models\\base.py:1025: RuntimeWarning: invalid value encountered in divide\n",
      "  smape_cons = (np.nansum(wsmape_df, axis=1) * 200) / np.count_nonzero(\n",
      "C:\\Users\\premkumar\\AppData\\Local\\Programs\\Python\\Python312\\Lib\\site-packages\\autots\\models\\base.py:1025: RuntimeWarning: invalid value encountered in divide\n",
      "  smape_cons = (np.nansum(wsmape_df, axis=1) * 200) / np.count_nonzero(\n",
      "C:\\Users\\premkumar\\AppData\\Local\\Programs\\Python\\Python312\\Lib\\site-packages\\autots\\models\\base.py:1025: RuntimeWarning: invalid value encountered in divide\n",
      "  smape_cons = (np.nansum(wsmape_df, axis=1) * 200) / np.count_nonzero(\n",
      "C:\\Users\\premkumar\\AppData\\Local\\Programs\\Python\\Python312\\Lib\\site-packages\\autots\\models\\base.py:1025: RuntimeWarning: invalid value encountered in divide\n",
      "  smape_cons = (np.nansum(wsmape_df, axis=1) * 200) / np.count_nonzero(\n",
      "C:\\Users\\premkumar\\AppData\\Local\\Programs\\Python\\Python312\\Lib\\site-packages\\autots\\models\\base.py:1025: RuntimeWarning: invalid value encountered in divide\n",
      "  smape_cons = (np.nansum(wsmape_df, axis=1) * 200) / np.count_nonzero(\n"
     ]
    },
    {
     "name": "stdout",
     "output_type": "stream",
     "text": [
      "Model Number: 855 with model SeasonalityMotif in generation 5 of 5\n",
      "Model Number: 856 with model UnobservedComponents in generation 5 of 5\n",
      "Model Number: 857 with model DMD in generation 5 of 5\n",
      "Model Number: 858 with model MultivariateRegression in generation 5 of 5\n"
     ]
    },
    {
     "name": "stderr",
     "output_type": "stream",
     "text": [
      "C:\\Users\\premkumar\\AppData\\Local\\Programs\\Python\\Python312\\Lib\\site-packages\\autots\\models\\base.py:1025: RuntimeWarning: invalid value encountered in divide\n",
      "  smape_cons = (np.nansum(wsmape_df, axis=1) * 200) / np.count_nonzero(\n",
      "C:\\Users\\premkumar\\AppData\\Local\\Programs\\Python\\Python312\\Lib\\site-packages\\autots\\models\\base.py:1025: RuntimeWarning: invalid value encountered in divide\n",
      "  smape_cons = (np.nansum(wsmape_df, axis=1) * 200) / np.count_nonzero(\n",
      "C:\\Users\\premkumar\\AppData\\Local\\Programs\\Python\\Python312\\Lib\\site-packages\\autots\\models\\base.py:1025: RuntimeWarning: invalid value encountered in divide\n",
      "  smape_cons = (np.nansum(wsmape_df, axis=1) * 200) / np.count_nonzero(\n"
     ]
    },
    {
     "name": "stdout",
     "output_type": "stream",
     "text": [
      "Model Number: 859 with model LastValueNaive in generation 5 of 5\n",
      "Model Number: 860 with model AverageValueNaive in generation 5 of 5\n",
      "Model Number: 861 with model MetricMotif in generation 5 of 5\n"
     ]
    },
    {
     "name": "stderr",
     "output_type": "stream",
     "text": [
      "C:\\Users\\premkumar\\AppData\\Local\\Programs\\Python\\Python312\\Lib\\site-packages\\autots\\models\\base.py:1025: RuntimeWarning: invalid value encountered in divide\n",
      "  smape_cons = (np.nansum(wsmape_df, axis=1) * 200) / np.count_nonzero(\n",
      "C:\\Users\\premkumar\\AppData\\Local\\Programs\\Python\\Python312\\Lib\\site-packages\\autots\\models\\base.py:1025: RuntimeWarning: invalid value encountered in divide\n",
      "  smape_cons = (np.nansum(wsmape_df, axis=1) * 200) / np.count_nonzero(\n",
      "C:\\Users\\premkumar\\AppData\\Local\\Programs\\Python\\Python312\\Lib\\site-packages\\autots\\models\\base.py:1025: RuntimeWarning: invalid value encountered in divide\n",
      "  smape_cons = (np.nansum(wsmape_df, axis=1) * 200) / np.count_nonzero(\n"
     ]
    },
    {
     "name": "stdout",
     "output_type": "stream",
     "text": [
      "Model Number: 862 with model MetricMotif in generation 5 of 5\n",
      "Model Number: 863 with model ARIMA in generation 5 of 5\n"
     ]
    },
    {
     "name": "stderr",
     "output_type": "stream",
     "text": [
      "C:\\Users\\premkumar\\AppData\\Local\\Programs\\Python\\Python312\\Lib\\site-packages\\autots\\models\\base.py:1025: RuntimeWarning: invalid value encountered in divide\n",
      "  smape_cons = (np.nansum(wsmape_df, axis=1) * 200) / np.count_nonzero(\n",
      "C:\\Users\\premkumar\\AppData\\Local\\Programs\\Python\\Python312\\Lib\\site-packages\\autots\\models\\base.py:1025: RuntimeWarning: invalid value encountered in divide\n",
      "  smape_cons = (np.nansum(wsmape_df, axis=1) * 200) / np.count_nonzero(\n",
      "C:\\Users\\premkumar\\AppData\\Local\\Programs\\Python\\Python312\\Lib\\site-packages\\autots\\models\\base.py:1025: RuntimeWarning: invalid value encountered in divide\n",
      "  smape_cons = (np.nansum(wsmape_df, axis=1) * 200) / np.count_nonzero(\n"
     ]
    },
    {
     "name": "stdout",
     "output_type": "stream",
     "text": [
      "Model Number: 864 with model WindowRegression in generation 5 of 5\n"
     ]
    },
    {
     "name": "stderr",
     "output_type": "stream",
     "text": [
      "C:\\Users\\premkumar\\AppData\\Local\\Programs\\Python\\Python312\\Lib\\site-packages\\autots\\models\\base.py:1025: RuntimeWarning: invalid value encountered in divide\n",
      "  smape_cons = (np.nansum(wsmape_df, axis=1) * 200) / np.count_nonzero(\n"
     ]
    },
    {
     "name": "stdout",
     "output_type": "stream",
     "text": [
      "Model Number: 865 with model MultivariateRegression in generation 5 of 5\n",
      "Model Number: 866 with model WindowRegression in generation 5 of 5\n",
      "Model Number: 867 with model GLS in generation 5 of 5\n"
     ]
    },
    {
     "name": "stderr",
     "output_type": "stream",
     "text": [
      "C:\\Users\\premkumar\\AppData\\Local\\Programs\\Python\\Python312\\Lib\\site-packages\\autots\\models\\base.py:1025: RuntimeWarning: invalid value encountered in divide\n",
      "  smape_cons = (np.nansum(wsmape_df, axis=1) * 200) / np.count_nonzero(\n",
      "C:\\Users\\premkumar\\AppData\\Local\\Programs\\Python\\Python312\\Lib\\site-packages\\autots\\models\\base.py:1025: RuntimeWarning: invalid value encountered in divide\n",
      "  smape_cons = (np.nansum(wsmape_df, axis=1) * 200) / np.count_nonzero(\n",
      "C:\\Users\\premkumar\\AppData\\Local\\Programs\\Python\\Python312\\Lib\\site-packages\\autots\\models\\base.py:1025: RuntimeWarning: invalid value encountered in divide\n",
      "  smape_cons = (np.nansum(wsmape_df, axis=1) * 200) / np.count_nonzero(\n"
     ]
    },
    {
     "name": "stdout",
     "output_type": "stream",
     "text": [
      "Model Number: 868 with model Cassandra in generation 5 of 5\n",
      "Model Number: 869 with model ARDL in generation 5 of 5\n"
     ]
    },
    {
     "name": "stderr",
     "output_type": "stream",
     "text": [
      "C:\\Users\\premkumar\\AppData\\Local\\Programs\\Python\\Python312\\Lib\\site-packages\\autots\\models\\base.py:1025: RuntimeWarning: invalid value encountered in divide\n",
      "  smape_cons = (np.nansum(wsmape_df, axis=1) * 200) / np.count_nonzero(\n",
      "C:\\Users\\premkumar\\AppData\\Local\\Programs\\Python\\Python312\\Lib\\site-packages\\autots\\models\\base.py:1025: RuntimeWarning: invalid value encountered in divide\n",
      "  smape_cons = (np.nansum(wsmape_df, axis=1) * 200) / np.count_nonzero(\n",
      "C:\\Users\\premkumar\\AppData\\Local\\Programs\\Python\\Python312\\Lib\\site-packages\\autots\\tools\\anomaly_utils.py:1115: FutureWarning: Downcasting object dtype arrays on .fillna, .ffill, .bfill is deprecated and will change in a future version. Call result.infer_objects(copy=False) instead. To opt-in to the future behavior, set `pd.set_option('future.no_silent_downcasting', True)`\n",
      "  result = result + temp.where(temp.isnull(), 1).fillna(0)\n"
     ]
    },
    {
     "name": "stdout",
     "output_type": "stream",
     "text": [
      "Model Number: 870 with model LastValueNaive in generation 5 of 5\n"
     ]
    },
    {
     "name": "stderr",
     "output_type": "stream",
     "text": [
      "C:\\Users\\premkumar\\AppData\\Local\\Programs\\Python\\Python312\\Lib\\site-packages\\autots\\models\\base.py:1025: RuntimeWarning: invalid value encountered in divide\n",
      "  smape_cons = (np.nansum(wsmape_df, axis=1) * 200) / np.count_nonzero(\n"
     ]
    },
    {
     "name": "stdout",
     "output_type": "stream",
     "text": [
      "Model Number: 871 with model MultivariateRegression in generation 5 of 5\n",
      "Model Number: 872 with model NVAR in generation 5 of 5\n",
      "Model Number: 873 with model GLS in generation 5 of 5\n"
     ]
    },
    {
     "name": "stderr",
     "output_type": "stream",
     "text": [
      "C:\\Users\\premkumar\\AppData\\Local\\Programs\\Python\\Python312\\Lib\\site-packages\\autots\\models\\base.py:1025: RuntimeWarning: invalid value encountered in divide\n",
      "  smape_cons = (np.nansum(wsmape_df, axis=1) * 200) / np.count_nonzero(\n",
      "C:\\Users\\premkumar\\AppData\\Local\\Programs\\Python\\Python312\\Lib\\site-packages\\autots\\models\\base.py:1025: RuntimeWarning: invalid value encountered in divide\n",
      "  smape_cons = (np.nansum(wsmape_df, axis=1) * 200) / np.count_nonzero(\n",
      "C:\\Users\\premkumar\\AppData\\Local\\Programs\\Python\\Python312\\Lib\\site-packages\\autots\\models\\base.py:1025: RuntimeWarning: invalid value encountered in divide\n",
      "  smape_cons = (np.nansum(wsmape_df, axis=1) * 200) / np.count_nonzero(\n"
     ]
    },
    {
     "name": "stdout",
     "output_type": "stream",
     "text": [
      "Model Number: 874 with model Ensemble in generation 6 of Ensembles\n",
      "Model Number: 875 with model Ensemble in generation 6 of Ensembles\n"
     ]
    },
    {
     "name": "stderr",
     "output_type": "stream",
     "text": [
      "C:\\Users\\premkumar\\AppData\\Local\\Programs\\Python\\Python312\\Lib\\site-packages\\autots\\models\\base.py:1025: RuntimeWarning: invalid value encountered in divide\n",
      "  smape_cons = (np.nansum(wsmape_df, axis=1) * 200) / np.count_nonzero(\n"
     ]
    },
    {
     "name": "stdout",
     "output_type": "stream",
     "text": [
      "Model Number: 876 with model Ensemble in generation 6 of Ensembles\n"
     ]
    },
    {
     "name": "stderr",
     "output_type": "stream",
     "text": [
      "C:\\Users\\premkumar\\AppData\\Local\\Programs\\Python\\Python312\\Lib\\site-packages\\autots\\models\\base.py:1025: RuntimeWarning: invalid value encountered in divide\n",
      "  smape_cons = (np.nansum(wsmape_df, axis=1) * 200) / np.count_nonzero(\n",
      "C:\\Users\\premkumar\\AppData\\Local\\Programs\\Python\\Python312\\Lib\\site-packages\\autots\\models\\base.py:1025: RuntimeWarning: invalid value encountered in divide\n",
      "  smape_cons = (np.nansum(wsmape_df, axis=1) * 200) / np.count_nonzero(\n"
     ]
    },
    {
     "name": "stdout",
     "output_type": "stream",
     "text": [
      "Model Number: 877 with model Ensemble in generation 6 of Ensembles\n",
      "Model Number: 878 with model Ensemble in generation 6 of Ensembles\n"
     ]
    },
    {
     "name": "stderr",
     "output_type": "stream",
     "text": [
      "C:\\Users\\premkumar\\AppData\\Local\\Programs\\Python\\Python312\\Lib\\site-packages\\autots\\models\\base.py:1025: RuntimeWarning: invalid value encountered in divide\n",
      "  smape_cons = (np.nansum(wsmape_df, axis=1) * 200) / np.count_nonzero(\n"
     ]
    },
    {
     "name": "stdout",
     "output_type": "stream",
     "text": [
      "Model Number: 879 with model Ensemble in generation 6 of Ensembles\n"
     ]
    },
    {
     "name": "stderr",
     "output_type": "stream",
     "text": [
      "C:\\Users\\premkumar\\AppData\\Local\\Programs\\Python\\Python312\\Lib\\site-packages\\autots\\models\\base.py:1025: RuntimeWarning: invalid value encountered in divide\n",
      "  smape_cons = (np.nansum(wsmape_df, axis=1) * 200) / np.count_nonzero(\n"
     ]
    },
    {
     "name": "stdout",
     "output_type": "stream",
     "text": [
      "Model Number: 880 with model Ensemble in generation 6 of Ensembles\n"
     ]
    },
    {
     "name": "stderr",
     "output_type": "stream",
     "text": [
      "C:\\Users\\premkumar\\AppData\\Local\\Programs\\Python\\Python312\\Lib\\site-packages\\autots\\models\\base.py:1025: RuntimeWarning: invalid value encountered in divide\n",
      "  smape_cons = (np.nansum(wsmape_df, axis=1) * 200) / np.count_nonzero(\n"
     ]
    },
    {
     "name": "stdout",
     "output_type": "stream",
     "text": [
      "Model Number: 881 with model Ensemble in generation 6 of Ensembles\n"
     ]
    },
    {
     "name": "stderr",
     "output_type": "stream",
     "text": [
      "C:\\Users\\premkumar\\AppData\\Local\\Programs\\Python\\Python312\\Lib\\site-packages\\autots\\models\\base.py:1025: RuntimeWarning: invalid value encountered in divide\n",
      "  smape_cons = (np.nansum(wsmape_df, axis=1) * 200) / np.count_nonzero(\n"
     ]
    },
    {
     "name": "stdout",
     "output_type": "stream",
     "text": [
      "Model Number: 882 with model Ensemble in generation 6 of Ensembles\n",
      "Model Number: 883 with model Ensemble in generation 6 of Ensembles\n"
     ]
    },
    {
     "name": "stderr",
     "output_type": "stream",
     "text": [
      "C:\\Users\\premkumar\\AppData\\Local\\Programs\\Python\\Python312\\Lib\\site-packages\\autots\\models\\base.py:1025: RuntimeWarning: invalid value encountered in divide\n",
      "  smape_cons = (np.nansum(wsmape_df, axis=1) * 200) / np.count_nonzero(\n",
      "C:\\Users\\premkumar\\AppData\\Local\\Programs\\Python\\Python312\\Lib\\site-packages\\autots\\models\\base.py:1025: RuntimeWarning: invalid value encountered in divide\n",
      "  smape_cons = (np.nansum(wsmape_df, axis=1) * 200) / np.count_nonzero(\n"
     ]
    },
    {
     "name": "stdout",
     "output_type": "stream",
     "text": [
      "Validation Round: 1\n",
      "Model Number: 1 of 133 with model Ensemble for Validation 1\n"
     ]
    },
    {
     "name": "stderr",
     "output_type": "stream",
     "text": [
      "C:\\Users\\premkumar\\AppData\\Local\\Programs\\Python\\Python312\\Lib\\site-packages\\autots\\models\\base.py:1025: RuntimeWarning: invalid value encountered in divide\n",
      "  smape_cons = (np.nansum(wsmape_df, axis=1) * 200) / np.count_nonzero(\n"
     ]
    },
    {
     "name": "stdout",
     "output_type": "stream",
     "text": [
      "📈 1 - Ensemble with avg smape 2.57: \n",
      "Model Number: 2 of 133 with model Ensemble for Validation 1\n"
     ]
    },
    {
     "name": "stderr",
     "output_type": "stream",
     "text": [
      "C:\\Users\\premkumar\\AppData\\Local\\Programs\\Python\\Python312\\Lib\\site-packages\\autots\\models\\base.py:1025: RuntimeWarning: invalid value encountered in divide\n",
      "  smape_cons = (np.nansum(wsmape_df, axis=1) * 200) / np.count_nonzero(\n",
      "C:\\Users\\premkumar\\AppData\\Local\\Programs\\Python\\Python312\\Lib\\site-packages\\autots\\models\\base.py:1025: RuntimeWarning: invalid value encountered in divide\n",
      "  smape_cons = (np.nansum(wsmape_df, axis=1) * 200) / np.count_nonzero(\n"
     ]
    },
    {
     "name": "stdout",
     "output_type": "stream",
     "text": [
      "📈 2 - Ensemble with avg smape 2.56: \n",
      "Model Number: 3 of 133 with model Ensemble for Validation 1\n",
      "3 - Ensemble with avg smape 2.57: \n",
      "Model Number: 4 of 133 with model Ensemble for Validation 1\n"
     ]
    },
    {
     "name": "stderr",
     "output_type": "stream",
     "text": [
      "C:\\Users\\premkumar\\AppData\\Local\\Programs\\Python\\Python312\\Lib\\site-packages\\autots\\models\\base.py:1025: RuntimeWarning: invalid value encountered in divide\n",
      "  smape_cons = (np.nansum(wsmape_df, axis=1) * 200) / np.count_nonzero(\n",
      "C:\\Users\\premkumar\\AppData\\Local\\Programs\\Python\\Python312\\Lib\\site-packages\\autots\\models\\base.py:1025: RuntimeWarning: invalid value encountered in divide\n",
      "  smape_cons = (np.nansum(wsmape_df, axis=1) * 200) / np.count_nonzero(\n"
     ]
    },
    {
     "name": "stdout",
     "output_type": "stream",
     "text": [
      "4 - Ensemble with avg smape 2.87: \n",
      "Model Number: 5 of 133 with model SectionalMotif for Validation 1\n",
      "5 - SectionalMotif with avg smape 3.06: \n",
      "Model Number: 6 of 133 with model SectionalMotif for Validation 1\n",
      "6 - SectionalMotif with avg smape 3.06: \n",
      "Model Number: 7 of 133 with model Ensemble for Validation 1\n"
     ]
    },
    {
     "name": "stderr",
     "output_type": "stream",
     "text": [
      "C:\\Users\\premkumar\\AppData\\Local\\Programs\\Python\\Python312\\Lib\\site-packages\\autots\\models\\base.py:1025: RuntimeWarning: invalid value encountered in divide\n",
      "  smape_cons = (np.nansum(wsmape_df, axis=1) * 200) / np.count_nonzero(\n",
      "C:\\Users\\premkumar\\AppData\\Local\\Programs\\Python\\Python312\\Lib\\site-packages\\autots\\models\\base.py:1025: RuntimeWarning: invalid value encountered in divide\n",
      "  smape_cons = (np.nansum(wsmape_df, axis=1) * 200) / np.count_nonzero(\n"
     ]
    },
    {
     "name": "stdout",
     "output_type": "stream",
     "text": [
      "7 - Ensemble with avg smape 3.06: \n",
      "Model Number: 8 of 133 with model SectionalMotif for Validation 1\n",
      "8 - SectionalMotif with avg smape 3.06: \n",
      "Model Number: 9 of 133 with model Ensemble for Validation 1\n"
     ]
    },
    {
     "name": "stderr",
     "output_type": "stream",
     "text": [
      "C:\\Users\\premkumar\\AppData\\Local\\Programs\\Python\\Python312\\Lib\\site-packages\\autots\\models\\base.py:1025: RuntimeWarning: invalid value encountered in divide\n",
      "  smape_cons = (np.nansum(wsmape_df, axis=1) * 200) / np.count_nonzero(\n",
      "C:\\Users\\premkumar\\AppData\\Local\\Programs\\Python\\Python312\\Lib\\site-packages\\autots\\models\\base.py:1025: RuntimeWarning: invalid value encountered in divide\n",
      "  smape_cons = (np.nansum(wsmape_df, axis=1) * 200) / np.count_nonzero(\n"
     ]
    },
    {
     "name": "stdout",
     "output_type": "stream",
     "text": [
      "📈 9 - Ensemble with avg smape 2.47: \n",
      "Model Number: 10 of 133 with model Cassandra for Validation 1\n"
     ]
    },
    {
     "name": "stderr",
     "output_type": "stream",
     "text": [
      "C:\\Users\\premkumar\\AppData\\Local\\Programs\\Python\\Python312\\Lib\\site-packages\\autots\\models\\base.py:1025: RuntimeWarning: invalid value encountered in divide\n",
      "  smape_cons = (np.nansum(wsmape_df, axis=1) * 200) / np.count_nonzero(\n",
      "C:\\Users\\premkumar\\AppData\\Local\\Programs\\Python\\Python312\\Lib\\site-packages\\autots\\models\\base.py:1025: RuntimeWarning: invalid value encountered in divide\n",
      "  smape_cons = (np.nansum(wsmape_df, axis=1) * 200) / np.count_nonzero(\n"
     ]
    },
    {
     "name": "stdout",
     "output_type": "stream",
     "text": [
      "10 - Cassandra with avg smape 2.47: \n",
      "Model Number: 11 of 133 with model Cassandra for Validation 1\n",
      "📈 11 - Cassandra with avg smape 2.04: \n",
      "Model Number: 12 of 133 with model AverageValueNaive for Validation 1\n",
      "12 - AverageValueNaive with avg smape 2.4: \n",
      "Model Number: 13 of 133 with model NVAR for Validation 1\n",
      "13 - NVAR with avg smape 2.18: \n",
      "Model Number: 14 of 133 with model AverageValueNaive for Validation 1\n",
      "14 - AverageValueNaive with avg smape 2.47: \n",
      "Model Number: 15 of 133 with model AverageValueNaive for Validation 1\n",
      "15 - AverageValueNaive with avg smape 2.47: \n",
      "Model Number: 16 of 133 with model AverageValueNaive for Validation 1\n",
      "16 - AverageValueNaive with avg smape 2.47: \n",
      "Model Number: 17 of 133 with model AverageValueNaive for Validation 1\n",
      "17 - AverageValueNaive with avg smape 2.47: \n",
      "Model Number: 18 of 133 with model AverageValueNaive for Validation 1\n"
     ]
    },
    {
     "name": "stderr",
     "output_type": "stream",
     "text": [
      "C:\\Users\\premkumar\\AppData\\Local\\Programs\\Python\\Python312\\Lib\\site-packages\\autots\\models\\base.py:1025: RuntimeWarning: invalid value encountered in divide\n",
      "  smape_cons = (np.nansum(wsmape_df, axis=1) * 200) / np.count_nonzero(\n",
      "C:\\Users\\premkumar\\AppData\\Local\\Programs\\Python\\Python312\\Lib\\site-packages\\autots\\models\\base.py:1025: RuntimeWarning: invalid value encountered in divide\n",
      "  smape_cons = (np.nansum(wsmape_df, axis=1) * 200) / np.count_nonzero(\n",
      "C:\\Users\\premkumar\\AppData\\Local\\Programs\\Python\\Python312\\Lib\\site-packages\\autots\\models\\base.py:1025: RuntimeWarning: invalid value encountered in divide\n",
      "  smape_cons = (np.nansum(wsmape_df, axis=1) * 200) / np.count_nonzero(\n",
      "C:\\Users\\premkumar\\AppData\\Local\\Programs\\Python\\Python312\\Lib\\site-packages\\autots\\models\\base.py:1025: RuntimeWarning: invalid value encountered in divide\n",
      "  smape_cons = (np.nansum(wsmape_df, axis=1) * 200) / np.count_nonzero(\n",
      "C:\\Users\\premkumar\\AppData\\Local\\Programs\\Python\\Python312\\Lib\\site-packages\\autots\\models\\base.py:1025: RuntimeWarning: invalid value encountered in divide\n",
      "  smape_cons = (np.nansum(wsmape_df, axis=1) * 200) / np.count_nonzero(\n",
      "C:\\Users\\premkumar\\AppData\\Local\\Programs\\Python\\Python312\\Lib\\site-packages\\autots\\models\\base.py:1025: RuntimeWarning: invalid value encountered in divide\n",
      "  smape_cons = (np.nansum(wsmape_df, axis=1) * 200) / np.count_nonzero(\n",
      "C:\\Users\\premkumar\\AppData\\Local\\Programs\\Python\\Python312\\Lib\\site-packages\\autots\\models\\base.py:1025: RuntimeWarning: invalid value encountered in divide\n",
      "  smape_cons = (np.nansum(wsmape_df, axis=1) * 200) / np.count_nonzero(\n",
      "C:\\Users\\premkumar\\AppData\\Local\\Programs\\Python\\Python312\\Lib\\site-packages\\autots\\models\\base.py:1025: RuntimeWarning: invalid value encountered in divide\n",
      "  smape_cons = (np.nansum(wsmape_df, axis=1) * 200) / np.count_nonzero(\n",
      "C:\\Users\\premkumar\\AppData\\Local\\Programs\\Python\\Python312\\Lib\\site-packages\\sklearn\\linear_model\\_ridge.py:204: LinAlgWarning: Ill-conditioned matrix (rcond=6.78724e-26): result may not be accurate.\n",
      "  return linalg.solve(A, Xy, assume_a=\"pos\", overwrite_a=True).T\n"
     ]
    },
    {
     "name": "stdout",
     "output_type": "stream",
     "text": [
      "18 - AverageValueNaive with avg smape 2.47: \n",
      "Model Number: 19 of 133 with model NVAR for Validation 1\n",
      "19 - NVAR with avg smape 3.26: \n",
      "Model Number: 20 of 133 with model MetricMotif for Validation 1\n",
      "20 - MetricMotif with avg smape 2.53: \n",
      "Model Number: 21 of 133 with model LastValueNaive for Validation 1\n",
      "21 - LastValueNaive with avg smape 2.27: \n",
      "Model Number: 22 of 133 with model LastValueNaive for Validation 1\n"
     ]
    },
    {
     "name": "stderr",
     "output_type": "stream",
     "text": [
      "C:\\Users\\premkumar\\AppData\\Local\\Programs\\Python\\Python312\\Lib\\site-packages\\autots\\models\\base.py:1025: RuntimeWarning: invalid value encountered in divide\n",
      "  smape_cons = (np.nansum(wsmape_df, axis=1) * 200) / np.count_nonzero(\n",
      "C:\\Users\\premkumar\\AppData\\Local\\Programs\\Python\\Python312\\Lib\\site-packages\\autots\\models\\base.py:1025: RuntimeWarning: invalid value encountered in divide\n",
      "  smape_cons = (np.nansum(wsmape_df, axis=1) * 200) / np.count_nonzero(\n",
      "C:\\Users\\premkumar\\AppData\\Local\\Programs\\Python\\Python312\\Lib\\site-packages\\autots\\models\\base.py:1025: RuntimeWarning: invalid value encountered in divide\n",
      "  smape_cons = (np.nansum(wsmape_df, axis=1) * 200) / np.count_nonzero(\n"
     ]
    },
    {
     "name": "stdout",
     "output_type": "stream",
     "text": [
      "22 - LastValueNaive with avg smape 3.09: \n",
      "Model Number: 23 of 133 with model Cassandra for Validation 1\n"
     ]
    },
    {
     "name": "stderr",
     "output_type": "stream",
     "text": [
      "C:\\Users\\premkumar\\AppData\\Local\\Programs\\Python\\Python312\\Lib\\site-packages\\autots\\models\\base.py:1025: RuntimeWarning: invalid value encountered in divide\n",
      "  smape_cons = (np.nansum(wsmape_df, axis=1) * 200) / np.count_nonzero(\n"
     ]
    },
    {
     "name": "stdout",
     "output_type": "stream",
     "text": [
      "23 - Cassandra with avg smape 2.38: \n",
      "Model Number: 24 of 133 with model LastValueNaive for Validation 1\n",
      "📈 24 - LastValueNaive with avg smape 0.73: \n",
      "Model Number: 25 of 133 with model Cassandra for Validation 1\n"
     ]
    },
    {
     "name": "stderr",
     "output_type": "stream",
     "text": [
      "C:\\Users\\premkumar\\AppData\\Local\\Programs\\Python\\Python312\\Lib\\site-packages\\autots\\models\\base.py:1025: RuntimeWarning: invalid value encountered in divide\n",
      "  smape_cons = (np.nansum(wsmape_df, axis=1) * 200) / np.count_nonzero(\n",
      "C:\\Users\\premkumar\\AppData\\Local\\Programs\\Python\\Python312\\Lib\\site-packages\\autots\\models\\base.py:1025: RuntimeWarning: invalid value encountered in divide\n",
      "  smape_cons = (np.nansum(wsmape_df, axis=1) * 200) / np.count_nonzero(\n"
     ]
    },
    {
     "name": "stdout",
     "output_type": "stream",
     "text": [
      "25 - Cassandra with avg smape 1.39: "
     ]
    },
    {
     "name": "stderr",
     "output_type": "stream",
     "text": [
      "C:\\Users\\premkumar\\AppData\\Local\\Programs\\Python\\Python312\\Lib\\site-packages\\autots\\models\\base.py:1025: RuntimeWarning: invalid value encountered in divide\n",
      "  smape_cons = (np.nansum(wsmape_df, axis=1) * 200) / np.count_nonzero(\n"
     ]
    },
    {
     "name": "stdout",
     "output_type": "stream",
     "text": [
      "\n",
      "Model Number: 26 of 133 with model GLS for Validation 1\n",
      "26 - GLS with avg smape 2.46: \n",
      "Model Number: 27 of 133 with model UnivariateMotif for Validation 1\n",
      "📈 27 - UnivariateMotif with avg smape 0.46: \n",
      "Model Number: 28 of 133 with model UnivariateMotif for Validation 1\n",
      "28 - UnivariateMotif with avg smape 0.46: \n",
      "Model Number: 29 of 133 with model UnivariateMotif for Validation 1\n",
      "29 - UnivariateMotif with avg smape 0.79: \n",
      "Model Number: 30 of 133 with model UnivariateMotif for Validation 1\n",
      "30 - UnivariateMotif with avg smape 0.54: \n",
      "Model Number: 31 of 133 with model MetricMotif for Validation 1\n",
      "31 - MetricMotif with avg smape 0.75: \n",
      "Model Number: 32 of 133 with model MetricMotif for Validation 1\n",
      "32 - MetricMotif with avg smape 1.44: \n",
      "Model Number: 33 of 133 with model SectionalMotif for Validation 1\n"
     ]
    },
    {
     "name": "stderr",
     "output_type": "stream",
     "text": [
      "C:\\Users\\premkumar\\AppData\\Local\\Programs\\Python\\Python312\\Lib\\site-packages\\autots\\models\\base.py:1025: RuntimeWarning: invalid value encountered in divide\n",
      "  smape_cons = (np.nansum(wsmape_df, axis=1) * 200) / np.count_nonzero(\n",
      "C:\\Users\\premkumar\\AppData\\Local\\Programs\\Python\\Python312\\Lib\\site-packages\\autots\\models\\base.py:1025: RuntimeWarning: invalid value encountered in divide\n",
      "  smape_cons = (np.nansum(wsmape_df, axis=1) * 200) / np.count_nonzero(\n",
      "C:\\Users\\premkumar\\AppData\\Local\\Programs\\Python\\Python312\\Lib\\site-packages\\autots\\models\\base.py:1025: RuntimeWarning: invalid value encountered in divide\n",
      "  smape_cons = (np.nansum(wsmape_df, axis=1) * 200) / np.count_nonzero(\n",
      "C:\\Users\\premkumar\\AppData\\Local\\Programs\\Python\\Python312\\Lib\\site-packages\\autots\\models\\base.py:1025: RuntimeWarning: invalid value encountered in divide\n",
      "  smape_cons = (np.nansum(wsmape_df, axis=1) * 200) / np.count_nonzero(\n",
      "C:\\Users\\premkumar\\AppData\\Local\\Programs\\Python\\Python312\\Lib\\site-packages\\autots\\models\\base.py:1025: RuntimeWarning: invalid value encountered in divide\n",
      "  smape_cons = (np.nansum(wsmape_df, axis=1) * 200) / np.count_nonzero(\n",
      "C:\\Users\\premkumar\\AppData\\Local\\Programs\\Python\\Python312\\Lib\\site-packages\\autots\\models\\base.py:1025: RuntimeWarning: invalid value encountered in divide\n",
      "  smape_cons = (np.nansum(wsmape_df, axis=1) * 200) / np.count_nonzero(\n",
      "C:\\Users\\premkumar\\AppData\\Local\\Programs\\Python\\Python312\\Lib\\site-packages\\autots\\models\\base.py:1025: RuntimeWarning: invalid value encountered in divide\n",
      "  smape_cons = (np.nansum(wsmape_df, axis=1) * 200) / np.count_nonzero(\n"
     ]
    },
    {
     "name": "stdout",
     "output_type": "stream",
     "text": [
      "33 - SectionalMotif with avg smape 2.03: \n",
      "Model Number: 34 of 133 with model UnivariateMotif for Validation 1\n",
      "34 - UnivariateMotif with avg smape 0.53: \n",
      "Model Number: 35 of 133 with model Theta for Validation 1\n"
     ]
    },
    {
     "name": "stderr",
     "output_type": "stream",
     "text": [
      "C:\\Users\\premkumar\\AppData\\Local\\Programs\\Python\\Python312\\Lib\\site-packages\\autots\\models\\base.py:1025: RuntimeWarning: invalid value encountered in divide\n",
      "  smape_cons = (np.nansum(wsmape_df, axis=1) * 200) / np.count_nonzero(\n",
      "C:\\Users\\premkumar\\AppData\\Local\\Programs\\Python\\Python312\\Lib\\site-packages\\autots\\models\\base.py:1025: RuntimeWarning: invalid value encountered in divide\n",
      "  smape_cons = (np.nansum(wsmape_df, axis=1) * 200) / np.count_nonzero(\n",
      "C:\\Users\\premkumar\\AppData\\Local\\Programs\\Python\\Python312\\Lib\\site-packages\\autots\\models\\base.py:1025: RuntimeWarning: invalid value encountered in divide\n",
      "  smape_cons = (np.nansum(wsmape_df, axis=1) * 200) / np.count_nonzero(\n"
     ]
    },
    {
     "name": "stdout",
     "output_type": "stream",
     "text": [
      "35 - Theta with avg smape 3.34: \n",
      "Model Number: 36 of 133 with model Theta for Validation 1\n",
      "36 - Theta with avg smape 3.34: \n",
      "Model Number: 37 of 133 with model MultivariateMotif for Validation 1\n",
      "37 - MultivariateMotif with avg smape 0.74: \n",
      "Model Number: 38 of 133 with model UnivariateMotif for Validation 1\n",
      "38 - UnivariateMotif with avg smape 1.19: \n",
      "Model Number: 39 of 133 with model MetricMotif for Validation 1\n",
      "39 - MetricMotif with avg smape 1.17: \n",
      "Model Number: 40 of 133 with model ConstantNaive for Validation 1\n"
     ]
    },
    {
     "name": "stderr",
     "output_type": "stream",
     "text": [
      "C:\\Users\\premkumar\\AppData\\Local\\Programs\\Python\\Python312\\Lib\\site-packages\\autots\\models\\base.py:1025: RuntimeWarning: invalid value encountered in divide\n",
      "  smape_cons = (np.nansum(wsmape_df, axis=1) * 200) / np.count_nonzero(\n",
      "C:\\Users\\premkumar\\AppData\\Local\\Programs\\Python\\Python312\\Lib\\site-packages\\autots\\models\\base.py:1025: RuntimeWarning: invalid value encountered in divide\n",
      "  smape_cons = (np.nansum(wsmape_df, axis=1) * 200) / np.count_nonzero(\n",
      "C:\\Users\\premkumar\\AppData\\Local\\Programs\\Python\\Python312\\Lib\\site-packages\\autots\\models\\base.py:1025: RuntimeWarning: invalid value encountered in divide\n",
      "  smape_cons = (np.nansum(wsmape_df, axis=1) * 200) / np.count_nonzero(\n",
      "C:\\Users\\premkumar\\AppData\\Local\\Programs\\Python\\Python312\\Lib\\site-packages\\autots\\models\\base.py:1025: RuntimeWarning: invalid value encountered in divide\n",
      "  smape_cons = (np.nansum(wsmape_df, axis=1) * 200) / np.count_nonzero(\n"
     ]
    },
    {
     "name": "stdout",
     "output_type": "stream",
     "text": [
      "40 - ConstantNaive with avg smape 2.98: \n",
      "Model Number: 41 of 133 with model ConstantNaive for Validation 1\n",
      "41 - ConstantNaive with avg smape 2.98: \n",
      "Model Number: 42 of 133 with model MultivariateMotif for Validation 1\n",
      "42 - MultivariateMotif with avg smape 0.93: \n",
      "Model Number: 43 of 133 with model SeasonalityMotif for Validation 1\n",
      "43 - SeasonalityMotif with avg smape 1.03: \n",
      "Model Number: 44 of 133 with model LastValueNaive for Validation 1\n"
     ]
    },
    {
     "name": "stderr",
     "output_type": "stream",
     "text": [
      "C:\\Users\\premkumar\\AppData\\Local\\Programs\\Python\\Python312\\Lib\\site-packages\\autots\\models\\base.py:1025: RuntimeWarning: invalid value encountered in divide\n",
      "  smape_cons = (np.nansum(wsmape_df, axis=1) * 200) / np.count_nonzero(\n",
      "C:\\Users\\premkumar\\AppData\\Local\\Programs\\Python\\Python312\\Lib\\site-packages\\autots\\models\\base.py:1025: RuntimeWarning: invalid value encountered in divide\n",
      "  smape_cons = (np.nansum(wsmape_df, axis=1) * 200) / np.count_nonzero(\n",
      "C:\\Users\\premkumar\\AppData\\Local\\Programs\\Python\\Python312\\Lib\\site-packages\\autots\\models\\base.py:1025: RuntimeWarning: invalid value encountered in divide\n",
      "  smape_cons = (np.nansum(wsmape_df, axis=1) * 200) / np.count_nonzero(\n",
      "C:\\Users\\premkumar\\AppData\\Local\\Programs\\Python\\Python312\\Lib\\site-packages\\autots\\models\\base.py:1025: RuntimeWarning: invalid value encountered in divide\n",
      "  smape_cons = (np.nansum(wsmape_df, axis=1) * 200) / np.count_nonzero(\n",
      "C:\\Users\\premkumar\\AppData\\Local\\Programs\\Python\\Python312\\Lib\\site-packages\\autots\\models\\base.py:1025: RuntimeWarning: invalid value encountered in divide\n",
      "  smape_cons = (np.nansum(wsmape_df, axis=1) * 200) / np.count_nonzero(\n"
     ]
    },
    {
     "name": "stdout",
     "output_type": "stream",
     "text": [
      "44 - LastValueNaive with avg smape 3.33: \n",
      "Model Number: 45 of 133 with model NVAR for Validation 1\n",
      "45 - NVAR with avg smape 3.83: \n",
      "Model Number: 46 of 133 with model SeasonalityMotif for Validation 1\n",
      "46 - SeasonalityMotif with avg smape 1.07: \n",
      "Model Number: 47 of 133 with model MultivariateMotif for Validation 1\n",
      "47 - MultivariateMotif with avg smape 1.49: \n",
      "Model Number: 48 of 133 with model MultivariateRegression for Validation 1\n"
     ]
    },
    {
     "name": "stderr",
     "output_type": "stream",
     "text": [
      "C:\\Users\\premkumar\\AppData\\Local\\Programs\\Python\\Python312\\Lib\\site-packages\\autots\\models\\base.py:1025: RuntimeWarning: invalid value encountered in divide\n",
      "  smape_cons = (np.nansum(wsmape_df, axis=1) * 200) / np.count_nonzero(\n",
      "C:\\Users\\premkumar\\AppData\\Local\\Programs\\Python\\Python312\\Lib\\site-packages\\autots\\models\\base.py:1025: RuntimeWarning: invalid value encountered in divide\n",
      "  smape_cons = (np.nansum(wsmape_df, axis=1) * 200) / np.count_nonzero(\n",
      "C:\\Users\\premkumar\\AppData\\Local\\Programs\\Python\\Python312\\Lib\\site-packages\\autots\\models\\base.py:1025: RuntimeWarning: invalid value encountered in divide\n",
      "  smape_cons = (np.nansum(wsmape_df, axis=1) * 200) / np.count_nonzero(\n"
     ]
    },
    {
     "name": "stdout",
     "output_type": "stream",
     "text": [
      "48 - MultivariateRegression with avg smape 0.96: \n",
      "Model Number: 49 of 133 with model MultivariateMotif for Validation 1\n",
      "49 - MultivariateMotif with avg smape 0.58: \n",
      "Model Number: 50 of 133 with model MetricMotif for Validation 1\n",
      "50 - MetricMotif with avg smape 1.85: \n",
      "Model Number: 51 of 133 with model MetricMotif for Validation 1\n",
      "51 - MetricMotif with avg smape 2.93: \n",
      "Model Number: 52 of 133 with model UnobservedComponents for Validation 1\n",
      "📈 52 - UnobservedComponents with avg smape 0.39: \n",
      "Model Number: 53 of 133 with model MultivariateMotif for Validation 1\n"
     ]
    },
    {
     "name": "stderr",
     "output_type": "stream",
     "text": [
      "C:\\Users\\premkumar\\AppData\\Local\\Programs\\Python\\Python312\\Lib\\site-packages\\autots\\models\\base.py:1025: RuntimeWarning: invalid value encountered in divide\n",
      "  smape_cons = (np.nansum(wsmape_df, axis=1) * 200) / np.count_nonzero(\n",
      "C:\\Users\\premkumar\\AppData\\Local\\Programs\\Python\\Python312\\Lib\\site-packages\\autots\\models\\base.py:1025: RuntimeWarning: invalid value encountered in divide\n",
      "  smape_cons = (np.nansum(wsmape_df, axis=1) * 200) / np.count_nonzero(\n",
      "C:\\Users\\premkumar\\AppData\\Local\\Programs\\Python\\Python312\\Lib\\site-packages\\autots\\models\\base.py:1025: RuntimeWarning: invalid value encountered in divide\n",
      "  smape_cons = (np.nansum(wsmape_df, axis=1) * 200) / np.count_nonzero(\n",
      "C:\\Users\\premkumar\\AppData\\Local\\Programs\\Python\\Python312\\Lib\\site-packages\\autots\\models\\base.py:1025: RuntimeWarning: invalid value encountered in divide\n",
      "  smape_cons = (np.nansum(wsmape_df, axis=1) * 200) / np.count_nonzero(\n",
      "C:\\Users\\premkumar\\AppData\\Local\\Programs\\Python\\Python312\\Lib\\site-packages\\autots\\models\\base.py:1025: RuntimeWarning: invalid value encountered in divide\n",
      "  smape_cons = (np.nansum(wsmape_df, axis=1) * 200) / np.count_nonzero(\n",
      "C:\\Users\\premkumar\\AppData\\Local\\Programs\\Python\\Python312\\Lib\\site-packages\\autots\\models\\base.py:1025: RuntimeWarning: invalid value encountered in divide\n",
      "  smape_cons = (np.nansum(wsmape_df, axis=1) * 200) / np.count_nonzero(\n"
     ]
    },
    {
     "name": "stdout",
     "output_type": "stream",
     "text": [
      "53 - MultivariateMotif with avg smape 0.68: \n",
      "Model Number: 54 of 133 with model SectionalMotif for Validation 1\n",
      "54 - SectionalMotif with avg smape 0.79: \n",
      "Model Number: 55 of 133 with model MultivariateMotif for Validation 1\n",
      "55 - MultivariateMotif with avg smape 1.12: \n",
      "Model Number: 56 of 133 with model SectionalMotif for Validation 1\n",
      "56 - SectionalMotif with avg smape 0.69: \n",
      "Model Number: 57 of 133 with model Cassandra for Validation 1\n"
     ]
    },
    {
     "name": "stderr",
     "output_type": "stream",
     "text": [
      "C:\\Users\\premkumar\\AppData\\Local\\Programs\\Python\\Python312\\Lib\\site-packages\\autots\\models\\base.py:1025: RuntimeWarning: invalid value encountered in divide\n",
      "  smape_cons = (np.nansum(wsmape_df, axis=1) * 200) / np.count_nonzero(\n",
      "C:\\Users\\premkumar\\AppData\\Local\\Programs\\Python\\Python312\\Lib\\site-packages\\autots\\models\\base.py:1025: RuntimeWarning: invalid value encountered in divide\n",
      "  smape_cons = (np.nansum(wsmape_df, axis=1) * 200) / np.count_nonzero(\n",
      "C:\\Users\\premkumar\\AppData\\Local\\Programs\\Python\\Python312\\Lib\\site-packages\\autots\\models\\base.py:1025: RuntimeWarning: invalid value encountered in divide\n",
      "  smape_cons = (np.nansum(wsmape_df, axis=1) * 200) / np.count_nonzero(\n"
     ]
    },
    {
     "name": "stdout",
     "output_type": "stream",
     "text": [
      "57 - Cassandra with avg smape 2.22: \n",
      "Model Number: 58 of 133 with model SeasonalityMotif for Validation 1\n"
     ]
    },
    {
     "name": "stderr",
     "output_type": "stream",
     "text": [
      "C:\\Users\\premkumar\\AppData\\Local\\Programs\\Python\\Python312\\Lib\\site-packages\\autots\\models\\base.py:1025: RuntimeWarning: invalid value encountered in divide\n",
      "  smape_cons = (np.nansum(wsmape_df, axis=1) * 200) / np.count_nonzero(\n",
      "C:\\Users\\premkumar\\AppData\\Local\\Programs\\Python\\Python312\\Lib\\site-packages\\autots\\models\\base.py:1025: RuntimeWarning: invalid value encountered in divide\n",
      "  smape_cons = (np.nansum(wsmape_df, axis=1) * 200) / np.count_nonzero(\n"
     ]
    },
    {
     "name": "stdout",
     "output_type": "stream",
     "text": [
      "58 - SeasonalityMotif with avg smape 1.16: \n",
      "Model Number: 59 of 133 with model Cassandra for Validation 1\n",
      "59 - Cassandra with avg smape 2.1: \n",
      "Model Number: 60 of 133 with model NVAR for Validation 1\n",
      "60 - NVAR with avg smape 1.48: \n",
      "Model Number: 61 of 133 with model NVAR for Validation 1\n",
      "61 - NVAR with avg smape 1.12: \n",
      "Model Number: 62 of 133 with model UnobservedComponents for Validation 1\n",
      "62 - UnobservedComponents with avg smape 4.45: \n",
      "Model Number: 63 of 133 with model NVAR for Validation 1\n"
     ]
    },
    {
     "name": "stderr",
     "output_type": "stream",
     "text": [
      "C:\\Users\\premkumar\\AppData\\Local\\Programs\\Python\\Python312\\Lib\\site-packages\\autots\\models\\base.py:1025: RuntimeWarning: invalid value encountered in divide\n",
      "  smape_cons = (np.nansum(wsmape_df, axis=1) * 200) / np.count_nonzero(\n",
      "C:\\Users\\premkumar\\AppData\\Local\\Programs\\Python\\Python312\\Lib\\site-packages\\autots\\models\\base.py:1025: RuntimeWarning: invalid value encountered in divide\n",
      "  smape_cons = (np.nansum(wsmape_df, axis=1) * 200) / np.count_nonzero(\n",
      "C:\\Users\\premkumar\\AppData\\Local\\Programs\\Python\\Python312\\Lib\\site-packages\\autots\\models\\base.py:1025: RuntimeWarning: invalid value encountered in divide\n",
      "  smape_cons = (np.nansum(wsmape_df, axis=1) * 200) / np.count_nonzero(\n",
      "C:\\Users\\premkumar\\AppData\\Local\\Programs\\Python\\Python312\\Lib\\site-packages\\autots\\models\\base.py:1025: RuntimeWarning: invalid value encountered in divide\n",
      "  smape_cons = (np.nansum(wsmape_df, axis=1) * 200) / np.count_nonzero(\n",
      "C:\\Users\\premkumar\\AppData\\Local\\Programs\\Python\\Python312\\Lib\\site-packages\\autots\\models\\base.py:1025: RuntimeWarning: invalid value encountered in divide\n",
      "  smape_cons = (np.nansum(wsmape_df, axis=1) * 200) / np.count_nonzero(\n"
     ]
    },
    {
     "name": "stdout",
     "output_type": "stream",
     "text": [
      "63 - NVAR with avg smape 1.48: \n",
      "Model Number: 64 of 133 with model SeasonalityMotif for Validation 1\n",
      "64 - SeasonalityMotif with avg smape 1.15: \n",
      "Model Number: 65 of 133 with model SeasonalityMotif for Validation 1\n",
      "65 - SeasonalityMotif with avg smape 0.85: \n",
      "Model Number: 66 of 133 with model MultivariateRegression for Validation 1\n"
     ]
    },
    {
     "name": "stderr",
     "output_type": "stream",
     "text": [
      "C:\\Users\\premkumar\\AppData\\Local\\Programs\\Python\\Python312\\Lib\\site-packages\\autots\\models\\base.py:1025: RuntimeWarning: invalid value encountered in divide\n",
      "  smape_cons = (np.nansum(wsmape_df, axis=1) * 200) / np.count_nonzero(\n",
      "C:\\Users\\premkumar\\AppData\\Local\\Programs\\Python\\Python312\\Lib\\site-packages\\autots\\models\\base.py:1025: RuntimeWarning: invalid value encountered in divide\n",
      "  smape_cons = (np.nansum(wsmape_df, axis=1) * 200) / np.count_nonzero(\n"
     ]
    },
    {
     "name": "stdout",
     "output_type": "stream",
     "text": [
      "66 - MultivariateRegression with avg smape 0.7: \n",
      "Model Number: 67 of 133 with model SeasonalityMotif for Validation 1\n",
      "67 - SeasonalityMotif with avg smape 0.99: \n",
      "Model Number: 68 of 133 with model ConstantNaive for Validation 1\n"
     ]
    },
    {
     "name": "stderr",
     "output_type": "stream",
     "text": [
      "C:\\Users\\premkumar\\AppData\\Local\\Programs\\Python\\Python312\\Lib\\site-packages\\autots\\models\\base.py:1025: RuntimeWarning: invalid value encountered in divide\n",
      "  smape_cons = (np.nansum(wsmape_df, axis=1) * 200) / np.count_nonzero(\n",
      "C:\\Users\\premkumar\\AppData\\Local\\Programs\\Python\\Python312\\Lib\\site-packages\\autots\\models\\base.py:1025: RuntimeWarning: invalid value encountered in divide\n",
      "  smape_cons = (np.nansum(wsmape_df, axis=1) * 200) / np.count_nonzero(\n",
      "C:\\Users\\premkumar\\AppData\\Local\\Programs\\Python\\Python312\\Lib\\site-packages\\autots\\models\\base.py:1025: RuntimeWarning: invalid value encountered in divide\n",
      "  smape_cons = (np.nansum(wsmape_df, axis=1) * 200) / np.count_nonzero(\n"
     ]
    },
    {
     "name": "stdout",
     "output_type": "stream",
     "text": [
      "68 - ConstantNaive with avg smape 1.13: \n",
      "Model Number: 69 of 133 with model WindowRegression for Validation 1\n",
      "69 - WindowRegression with avg smape 1.34: \n",
      "Model Number: 70 of 133 with model GLS for Validation 1\n",
      "70 - GLS with avg smape 2.86: \n",
      "Model Number: 71 of 133 with model SeasonalNaive for Validation 1\n"
     ]
    },
    {
     "name": "stderr",
     "output_type": "stream",
     "text": [
      "C:\\Users\\premkumar\\AppData\\Local\\Programs\\Python\\Python312\\Lib\\site-packages\\autots\\models\\base.py:1025: RuntimeWarning: invalid value encountered in divide\n",
      "  smape_cons = (np.nansum(wsmape_df, axis=1) * 200) / np.count_nonzero(\n",
      "C:\\Users\\premkumar\\AppData\\Local\\Programs\\Python\\Python312\\Lib\\site-packages\\autots\\models\\base.py:1025: RuntimeWarning: invalid value encountered in divide\n",
      "  smape_cons = (np.nansum(wsmape_df, axis=1) * 200) / np.count_nonzero(\n",
      "C:\\Users\\premkumar\\AppData\\Local\\Programs\\Python\\Python312\\Lib\\site-packages\\autots\\models\\base.py:1025: RuntimeWarning: invalid value encountered in divide\n",
      "  smape_cons = (np.nansum(wsmape_df, axis=1) * 200) / np.count_nonzero(\n"
     ]
    },
    {
     "name": "stdout",
     "output_type": "stream",
     "text": [
      "71 - SeasonalNaive with avg smape 0.45: \n",
      "Model Number: 72 of 133 with model ARIMA for Validation 1\n",
      "72 - ARIMA with avg smape 0.95: \n",
      "Model Number: 73 of 133 with model LastValueNaive for Validation 1\n"
     ]
    },
    {
     "name": "stderr",
     "output_type": "stream",
     "text": [
      "C:\\Users\\premkumar\\AppData\\Local\\Programs\\Python\\Python312\\Lib\\site-packages\\autots\\models\\base.py:1025: RuntimeWarning: invalid value encountered in divide\n",
      "  smape_cons = (np.nansum(wsmape_df, axis=1) * 200) / np.count_nonzero(\n",
      "C:\\Users\\premkumar\\AppData\\Local\\Programs\\Python\\Python312\\Lib\\site-packages\\autots\\models\\base.py:1025: RuntimeWarning: invalid value encountered in divide\n",
      "  smape_cons = (np.nansum(wsmape_df, axis=1) * 200) / np.count_nonzero(\n"
     ]
    },
    {
     "name": "stdout",
     "output_type": "stream",
     "text": [
      "73 - LastValueNaive with avg smape 1.55: \n",
      "Model Number: 74 of 133 with model WindowRegression for Validation 1\n",
      "74 - WindowRegression with avg smape 2.37: \n",
      "Model Number: 75 of 133 with model GLS for Validation 1\n"
     ]
    },
    {
     "name": "stderr",
     "output_type": "stream",
     "text": [
      "C:\\Users\\premkumar\\AppData\\Local\\Programs\\Python\\Python312\\Lib\\site-packages\\autots\\models\\base.py:1025: RuntimeWarning: invalid value encountered in divide\n",
      "  smape_cons = (np.nansum(wsmape_df, axis=1) * 200) / np.count_nonzero(\n",
      "C:\\Users\\premkumar\\AppData\\Local\\Programs\\Python\\Python312\\Lib\\site-packages\\autots\\models\\base.py:1025: RuntimeWarning: invalid value encountered in divide\n",
      "  smape_cons = (np.nansum(wsmape_df, axis=1) * 200) / np.count_nonzero(\n"
     ]
    },
    {
     "name": "stdout",
     "output_type": "stream",
     "text": [
      "75 - GLS with avg smape 1.71: \n",
      "Model Number: 76 of 133 with model ARIMA for Validation 1\n"
     ]
    },
    {
     "name": "stderr",
     "output_type": "stream",
     "text": [
      "C:\\Users\\premkumar\\AppData\\Local\\Programs\\Python\\Python312\\Lib\\site-packages\\autots\\models\\base.py:1025: RuntimeWarning: invalid value encountered in divide\n",
      "  smape_cons = (np.nansum(wsmape_df, axis=1) * 200) / np.count_nonzero(\n"
     ]
    },
    {
     "name": "stdout",
     "output_type": "stream",
     "text": [
      "76 - ARIMA with avg smape 0.83: \n",
      "Model Number: 77 of 133 with model MultivariateRegression for Validation 1\n",
      "77 - MultivariateRegression with avg smape 4.31: \n",
      "Model Number: 78 of 133 with model LastValueNaive for Validation 1\n",
      "78 - LastValueNaive with avg smape 0.73: \n",
      "Model Number: 79 of 133 with model GLS for Validation 1\n"
     ]
    },
    {
     "name": "stderr",
     "output_type": "stream",
     "text": [
      "C:\\Users\\premkumar\\AppData\\Local\\Programs\\Python\\Python312\\Lib\\site-packages\\autots\\models\\base.py:1025: RuntimeWarning: invalid value encountered in divide\n",
      "  smape_cons = (np.nansum(wsmape_df, axis=1) * 200) / np.count_nonzero(\n",
      "C:\\Users\\premkumar\\AppData\\Local\\Programs\\Python\\Python312\\Lib\\site-packages\\autots\\models\\base.py:1025: RuntimeWarning: invalid value encountered in divide\n",
      "  smape_cons = (np.nansum(wsmape_df, axis=1) * 200) / np.count_nonzero(\n",
      "C:\\Users\\premkumar\\AppData\\Local\\Programs\\Python\\Python312\\Lib\\site-packages\\autots\\models\\base.py:1025: RuntimeWarning: invalid value encountered in divide\n",
      "  smape_cons = (np.nansum(wsmape_df, axis=1) * 200) / np.count_nonzero(\n"
     ]
    },
    {
     "name": "stdout",
     "output_type": "stream",
     "text": [
      "79 - GLS with avg smape 0.77: \n",
      "Model Number: 80 of 133 with model ARIMA for Validation 1\n"
     ]
    },
    {
     "name": "stderr",
     "output_type": "stream",
     "text": [
      "C:\\Users\\premkumar\\AppData\\Local\\Programs\\Python\\Python312\\Lib\\site-packages\\autots\\models\\base.py:1025: RuntimeWarning: invalid value encountered in divide\n",
      "  smape_cons = (np.nansum(wsmape_df, axis=1) * 200) / np.count_nonzero(\n"
     ]
    },
    {
     "name": "stdout",
     "output_type": "stream",
     "text": [
      "80 - ARIMA with avg smape 0.42: \n",
      "Model Number: 81 of 133 with model ARIMA for Validation 1\n"
     ]
    },
    {
     "name": "stderr",
     "output_type": "stream",
     "text": [
      "C:\\Users\\premkumar\\AppData\\Local\\Programs\\Python\\Python312\\Lib\\site-packages\\autots\\models\\base.py:1025: RuntimeWarning: invalid value encountered in divide\n",
      "  smape_cons = (np.nansum(wsmape_df, axis=1) * 200) / np.count_nonzero(\n"
     ]
    },
    {
     "name": "stdout",
     "output_type": "stream",
     "text": [
      "81 - ARIMA with avg smape 0.54: \n",
      "Model Number: 82 of 133 with model UnobservedComponents for Validation 1\n",
      "82 - UnobservedComponents with avg smape 0.63: \n",
      "Model Number: 83 of 133 with model WindowRegression for Validation 1\n"
     ]
    },
    {
     "name": "stderr",
     "output_type": "stream",
     "text": [
      "C:\\Users\\premkumar\\AppData\\Local\\Programs\\Python\\Python312\\Lib\\site-packages\\autots\\models\\base.py:1025: RuntimeWarning: invalid value encountered in divide\n",
      "  smape_cons = (np.nansum(wsmape_df, axis=1) * 200) / np.count_nonzero(\n",
      "C:\\Users\\premkumar\\AppData\\Local\\Programs\\Python\\Python312\\Lib\\site-packages\\sklearn\\linear_model\\_coordinate_descent.py:678: ConvergenceWarning: Objective did not converge. You might want to increase the number of iterations, check the scale of the features or consider increasing regularisation. Duality gap: 7.695e+03, tolerance: 9.123e+02\n",
      "  model = cd_fast.enet_coordinate_descent(\n",
      "C:\\Users\\premkumar\\AppData\\Local\\Programs\\Python\\Python312\\Lib\\site-packages\\autots\\models\\base.py:1025: RuntimeWarning: invalid value encountered in divide\n",
      "  smape_cons = (np.nansum(wsmape_df, axis=1) * 200) / np.count_nonzero(\n"
     ]
    },
    {
     "name": "stdout",
     "output_type": "stream",
     "text": [
      "83 - WindowRegression with avg smape 1.97: \n",
      "Model Number: 84 of 133 with model ARIMA for Validation 1\n",
      "84 - ARIMA with avg smape 0.4: \n",
      "Model Number: 85 of 133 with model ConstantNaive for Validation 1\n"
     ]
    },
    {
     "name": "stderr",
     "output_type": "stream",
     "text": [
      "C:\\Users\\premkumar\\AppData\\Local\\Programs\\Python\\Python312\\Lib\\site-packages\\autots\\models\\base.py:1025: RuntimeWarning: invalid value encountered in divide\n",
      "  smape_cons = (np.nansum(wsmape_df, axis=1) * 200) / np.count_nonzero(\n",
      "C:\\Users\\premkumar\\AppData\\Local\\Programs\\Python\\Python312\\Lib\\site-packages\\autots\\models\\base.py:1025: RuntimeWarning: invalid value encountered in divide\n",
      "  smape_cons = (np.nansum(wsmape_df, axis=1) * 200) / np.count_nonzero(\n"
     ]
    },
    {
     "name": "stdout",
     "output_type": "stream",
     "text": [
      "85 - ConstantNaive with avg smape 1.82: \n",
      "Model Number: 86 of 133 with model MultivariateRegression for Validation 1\n"
     ]
    },
    {
     "name": "stderr",
     "output_type": "stream",
     "text": [
      "C:\\Users\\premkumar\\AppData\\Local\\Programs\\Python\\Python312\\Lib\\site-packages\\autots\\models\\base.py:1025: RuntimeWarning: invalid value encountered in divide\n",
      "  smape_cons = (np.nansum(wsmape_df, axis=1) * 200) / np.count_nonzero(\n"
     ]
    },
    {
     "name": "stdout",
     "output_type": "stream",
     "text": [
      "86 - MultivariateRegression with avg smape 0.39: \n",
      "Model Number: 87 of 133 with model ARIMA for Validation 1\n",
      "87 - ARIMA with avg smape 0.75: \n",
      "Model Number: 88 of 133 with model SeasonalNaive for Validation 1\n"
     ]
    },
    {
     "name": "stderr",
     "output_type": "stream",
     "text": [
      "C:\\Users\\premkumar\\AppData\\Local\\Programs\\Python\\Python312\\Lib\\site-packages\\autots\\models\\base.py:1025: RuntimeWarning: invalid value encountered in divide\n",
      "  smape_cons = (np.nansum(wsmape_df, axis=1) * 200) / np.count_nonzero(\n",
      "C:\\Users\\premkumar\\AppData\\Local\\Programs\\Python\\Python312\\Lib\\site-packages\\autots\\models\\base.py:1025: RuntimeWarning: invalid value encountered in divide\n",
      "  smape_cons = (np.nansum(wsmape_df, axis=1) * 200) / np.count_nonzero(\n"
     ]
    },
    {
     "name": "stdout",
     "output_type": "stream",
     "text": [
      "88 - SeasonalNaive with avg smape 0.49: \n",
      "Model Number: 89 of 133 with model UnobservedComponents for Validation 1\n",
      "89 - UnobservedComponents with avg smape 4.97: \n",
      "Model Number: 90 of 133 with model SeasonalNaive for Validation 1\n",
      "90 - SeasonalNaive with avg smape 0.57: \n",
      "Model Number: 91 of 133 with model ARDL for Validation 1\n",
      "91 - ARDL with avg smape 0.43: \n",
      "Model Number: 92 of 133 with model UnobservedComponents for Validation 1\n"
     ]
    },
    {
     "name": "stderr",
     "output_type": "stream",
     "text": [
      "C:\\Users\\premkumar\\AppData\\Local\\Programs\\Python\\Python312\\Lib\\site-packages\\autots\\models\\base.py:1025: RuntimeWarning: invalid value encountered in divide\n",
      "  smape_cons = (np.nansum(wsmape_df, axis=1) * 200) / np.count_nonzero(\n",
      "C:\\Users\\premkumar\\AppData\\Local\\Programs\\Python\\Python312\\Lib\\site-packages\\autots\\models\\base.py:1025: RuntimeWarning: invalid value encountered in divide\n",
      "  smape_cons = (np.nansum(wsmape_df, axis=1) * 200) / np.count_nonzero(\n",
      "C:\\Users\\premkumar\\AppData\\Local\\Programs\\Python\\Python312\\Lib\\site-packages\\autots\\models\\base.py:1025: RuntimeWarning: invalid value encountered in divide\n",
      "  smape_cons = (np.nansum(wsmape_df, axis=1) * 200) / np.count_nonzero(\n",
      "C:\\Users\\premkumar\\AppData\\Local\\Programs\\Python\\Python312\\Lib\\site-packages\\autots\\models\\base.py:1025: RuntimeWarning: invalid value encountered in divide\n",
      "  smape_cons = (np.nansum(wsmape_df, axis=1) * 200) / np.count_nonzero(\n"
     ]
    },
    {
     "name": "stdout",
     "output_type": "stream",
     "text": [
      "92 - UnobservedComponents with avg smape 4.19: \n",
      "Model Number: 93 of 133 with model UnobservedComponents for Validation 1\n",
      "93 - UnobservedComponents with avg smape 200.0: \n",
      "Model Number: 94 of 133 with model ConstantNaive for Validation 1\n"
     ]
    },
    {
     "name": "stderr",
     "output_type": "stream",
     "text": [
      "C:\\Users\\premkumar\\AppData\\Local\\Programs\\Python\\Python312\\Lib\\site-packages\\autots\\models\\base.py:1025: RuntimeWarning: invalid value encountered in divide\n",
      "  smape_cons = (np.nansum(wsmape_df, axis=1) * 200) / np.count_nonzero(\n",
      "C:\\Users\\premkumar\\AppData\\Local\\Programs\\Python\\Python312\\Lib\\site-packages\\autots\\models\\base.py:1025: RuntimeWarning: invalid value encountered in divide\n",
      "  smape_cons = (np.nansum(wsmape_df, axis=1) * 200) / np.count_nonzero(\n"
     ]
    },
    {
     "name": "stdout",
     "output_type": "stream",
     "text": [
      "94 - ConstantNaive with avg smape 0.63: \n",
      "Model Number: 95 of 133 with model Theta for Validation 1\n"
     ]
    },
    {
     "name": "stderr",
     "output_type": "stream",
     "text": [
      "C:\\Users\\premkumar\\AppData\\Local\\Programs\\Python\\Python312\\Lib\\site-packages\\autots\\models\\base.py:1025: RuntimeWarning: invalid value encountered in divide\n",
      "  smape_cons = (np.nansum(wsmape_df, axis=1) * 200) / np.count_nonzero(\n"
     ]
    },
    {
     "name": "stdout",
     "output_type": "stream",
     "text": [
      "95 - Theta with avg smape 4.47: \n",
      "Model Number: 96 of 133 with model MultivariateRegression for Validation 1\n",
      "96 - MultivariateRegression with avg smape 0.44: \n",
      "Model Number: 97 of 133 with model GLS for Validation 1\n"
     ]
    },
    {
     "name": "stderr",
     "output_type": "stream",
     "text": [
      "C:\\Users\\premkumar\\AppData\\Local\\Programs\\Python\\Python312\\Lib\\site-packages\\autots\\models\\base.py:1025: RuntimeWarning: invalid value encountered in divide\n",
      "  smape_cons = (np.nansum(wsmape_df, axis=1) * 200) / np.count_nonzero(\n",
      "C:\\Users\\premkumar\\AppData\\Local\\Programs\\Python\\Python312\\Lib\\site-packages\\autots\\models\\base.py:1025: RuntimeWarning: invalid value encountered in divide\n",
      "  smape_cons = (np.nansum(wsmape_df, axis=1) * 200) / np.count_nonzero(\n"
     ]
    },
    {
     "name": "stdout",
     "output_type": "stream",
     "text": [
      "97 - GLS with avg smape 1.36: \n",
      "Model Number: 98 of 133 with model MultivariateRegression for Validation 1\n"
     ]
    },
    {
     "name": "stderr",
     "output_type": "stream",
     "text": [
      "C:\\Users\\premkumar\\AppData\\Local\\Programs\\Python\\Python312\\Lib\\site-packages\\autots\\models\\base.py:1025: RuntimeWarning: invalid value encountered in divide\n",
      "  smape_cons = (np.nansum(wsmape_df, axis=1) * 200) / np.count_nonzero(\n"
     ]
    },
    {
     "name": "stdout",
     "output_type": "stream",
     "text": [
      "98 - MultivariateRegression with avg smape 0.45: \n",
      "Model Number: 99 of 133 with model Theta for Validation 1\n"
     ]
    },
    {
     "name": "stderr",
     "output_type": "stream",
     "text": [
      "C:\\Users\\premkumar\\AppData\\Local\\Programs\\Python\\Python312\\Lib\\site-packages\\autots\\models\\base.py:1025: RuntimeWarning: invalid value encountered in divide\n",
      "  smape_cons = (np.nansum(wsmape_df, axis=1) * 200) / np.count_nonzero(\n"
     ]
    },
    {
     "name": "stdout",
     "output_type": "stream",
     "text": [
      "99 - Theta with avg smape 0.41: \n",
      "Model Number: 100 of 133 with model Theta for Validation 1\n"
     ]
    },
    {
     "name": "stderr",
     "output_type": "stream",
     "text": [
      "C:\\Users\\premkumar\\AppData\\Local\\Programs\\Python\\Python312\\Lib\\site-packages\\autots\\models\\base.py:1025: RuntimeWarning: invalid value encountered in divide\n",
      "  smape_cons = (np.nansum(wsmape_df, axis=1) * 200) / np.count_nonzero(\n"
     ]
    },
    {
     "name": "stdout",
     "output_type": "stream",
     "text": [
      "100 - Theta with avg smape 0.41: \n",
      "Model Number: 101 of 133 with model Theta for Validation 1\n"
     ]
    },
    {
     "name": "stderr",
     "output_type": "stream",
     "text": [
      "C:\\Users\\premkumar\\AppData\\Local\\Programs\\Python\\Python312\\Lib\\site-packages\\autots\\models\\base.py:1025: RuntimeWarning: invalid value encountered in divide\n",
      "  smape_cons = (np.nansum(wsmape_df, axis=1) * 200) / np.count_nonzero(\n"
     ]
    },
    {
     "name": "stdout",
     "output_type": "stream",
     "text": [
      "101 - Theta with avg smape 0.39: \n",
      "Model Number: 102 of 133 with model FFT for Validation 1\n",
      "102 - FFT with avg smape 1.54: \n",
      "Model Number: 103 of 133 with model GLS for Validation 1\n"
     ]
    },
    {
     "name": "stderr",
     "output_type": "stream",
     "text": [
      "C:\\Users\\premkumar\\AppData\\Local\\Programs\\Python\\Python312\\Lib\\site-packages\\autots\\models\\base.py:1025: RuntimeWarning: invalid value encountered in divide\n",
      "  smape_cons = (np.nansum(wsmape_df, axis=1) * 200) / np.count_nonzero(\n",
      "C:\\Users\\premkumar\\AppData\\Local\\Programs\\Python\\Python312\\Lib\\site-packages\\autots\\models\\base.py:1025: RuntimeWarning: invalid value encountered in divide\n",
      "  smape_cons = (np.nansum(wsmape_df, axis=1) * 200) / np.count_nonzero(\n"
     ]
    },
    {
     "name": "stdout",
     "output_type": "stream",
     "text": [
      "103 - GLS with avg smape 0.53: \n",
      "Model Number: 104 of 133 with model ARDL for Validation 1\n",
      "104 - ARDL with avg smape 0.4: \n",
      "Model Number: 105 of 133 with model DMD for Validation 1\n",
      "105 - DMD with avg smape 0.56: \n",
      "Model Number: 106 of 133 with model DMD for Validation 1\n",
      "106 - DMD with avg smape 0.63: \n",
      "Model Number: 107 of 133 with model DMD for Validation 1\n"
     ]
    },
    {
     "name": "stderr",
     "output_type": "stream",
     "text": [
      "C:\\Users\\premkumar\\AppData\\Local\\Programs\\Python\\Python312\\Lib\\site-packages\\autots\\models\\base.py:1025: RuntimeWarning: invalid value encountered in divide\n",
      "  smape_cons = (np.nansum(wsmape_df, axis=1) * 200) / np.count_nonzero(\n",
      "C:\\Users\\premkumar\\AppData\\Local\\Programs\\Python\\Python312\\Lib\\site-packages\\autots\\models\\base.py:1025: RuntimeWarning: invalid value encountered in divide\n",
      "  smape_cons = (np.nansum(wsmape_df, axis=1) * 200) / np.count_nonzero(\n",
      "C:\\Users\\premkumar\\AppData\\Local\\Programs\\Python\\Python312\\Lib\\site-packages\\autots\\models\\base.py:1025: RuntimeWarning: invalid value encountered in divide\n",
      "  smape_cons = (np.nansum(wsmape_df, axis=1) * 200) / np.count_nonzero(\n",
      "C:\\Users\\premkumar\\AppData\\Local\\Programs\\Python\\Python312\\Lib\\site-packages\\autots\\models\\base.py:1025: RuntimeWarning: invalid value encountered in divide\n",
      "  smape_cons = (np.nansum(wsmape_df, axis=1) * 200) / np.count_nonzero(\n"
     ]
    },
    {
     "name": "stdout",
     "output_type": "stream",
     "text": [
      "107 - DMD with avg smape 0.39: \n",
      "Model Number: 108 of 133 with model ARDL for Validation 1\n"
     ]
    },
    {
     "name": "stderr",
     "output_type": "stream",
     "text": [
      "C:\\Users\\premkumar\\AppData\\Local\\Programs\\Python\\Python312\\Lib\\site-packages\\autots\\models\\base.py:1025: RuntimeWarning: invalid value encountered in divide\n",
      "  smape_cons = (np.nansum(wsmape_df, axis=1) * 200) / np.count_nonzero(\n"
     ]
    },
    {
     "name": "stdout",
     "output_type": "stream",
     "text": [
      "📈 108 - ARDL with avg smape 0.37: \n",
      "Model Number: 109 of 133 with model ARDL for Validation 1\n",
      "109 - ARDL with avg smape 0.81: \n",
      "Model Number: 110 of 133 with model ARDL for Validation 1\n",
      "110 - ARDL with avg smape 1.0: \n",
      "Model Number: 111 of 133 with model DMD for Validation 1\n",
      "111 - DMD with avg smape 1.02: \n",
      "Model Number: 112 of 133 with model DMD for Validation 1\n",
      "112 - DMD with avg smape 1.02: \n",
      "Model Number: 113 of 133 with model DMD for Validation 1\n",
      "113 - DMD with avg smape 1.45: \n",
      "Model Number: 114 of 133 with model ETS for Validation 1\n"
     ]
    },
    {
     "name": "stderr",
     "output_type": "stream",
     "text": [
      "C:\\Users\\premkumar\\AppData\\Local\\Programs\\Python\\Python312\\Lib\\site-packages\\autots\\models\\base.py:1025: RuntimeWarning: invalid value encountered in divide\n",
      "  smape_cons = (np.nansum(wsmape_df, axis=1) * 200) / np.count_nonzero(\n",
      "C:\\Users\\premkumar\\AppData\\Local\\Programs\\Python\\Python312\\Lib\\site-packages\\autots\\models\\base.py:1025: RuntimeWarning: invalid value encountered in divide\n",
      "  smape_cons = (np.nansum(wsmape_df, axis=1) * 200) / np.count_nonzero(\n",
      "C:\\Users\\premkumar\\AppData\\Local\\Programs\\Python\\Python312\\Lib\\site-packages\\autots\\models\\base.py:1025: RuntimeWarning: invalid value encountered in divide\n",
      "  smape_cons = (np.nansum(wsmape_df, axis=1) * 200) / np.count_nonzero(\n",
      "C:\\Users\\premkumar\\AppData\\Local\\Programs\\Python\\Python312\\Lib\\site-packages\\autots\\models\\base.py:1025: RuntimeWarning: invalid value encountered in divide\n",
      "  smape_cons = (np.nansum(wsmape_df, axis=1) * 200) / np.count_nonzero(\n",
      "C:\\Users\\premkumar\\AppData\\Local\\Programs\\Python\\Python312\\Lib\\site-packages\\autots\\models\\base.py:1025: RuntimeWarning: invalid value encountered in divide\n",
      "  smape_cons = (np.nansum(wsmape_df, axis=1) * 200) / np.count_nonzero(\n"
     ]
    },
    {
     "name": "stdout",
     "output_type": "stream",
     "text": [
      "114 - ETS with avg smape 2.71: \n",
      "Model Number: 115 of 133 with model FFT for Validation 1\n",
      "115 - FFT with avg smape 0.39: \n",
      "Model Number: 116 of 133 with model FFT for Validation 1\n",
      "116 - FFT with avg smape 0.39: \n",
      "Model Number: 117 of 133 with model ConstantNaive for Validation 1\n",
      "117 - ConstantNaive with avg smape 1.06: \n",
      "Model Number: 118 of 133 with model ARDL for Validation 1\n"
     ]
    },
    {
     "name": "stderr",
     "output_type": "stream",
     "text": [
      "C:\\Users\\premkumar\\AppData\\Local\\Programs\\Python\\Python312\\Lib\\site-packages\\autots\\models\\base.py:1025: RuntimeWarning: invalid value encountered in divide\n",
      "  smape_cons = (np.nansum(wsmape_df, axis=1) * 200) / np.count_nonzero(\n",
      "C:\\Users\\premkumar\\AppData\\Local\\Programs\\Python\\Python312\\Lib\\site-packages\\autots\\models\\base.py:1025: RuntimeWarning: invalid value encountered in divide\n",
      "  smape_cons = (np.nansum(wsmape_df, axis=1) * 200) / np.count_nonzero(\n",
      "C:\\Users\\premkumar\\AppData\\Local\\Programs\\Python\\Python312\\Lib\\site-packages\\autots\\models\\base.py:1025: RuntimeWarning: invalid value encountered in divide\n",
      "  smape_cons = (np.nansum(wsmape_df, axis=1) * 200) / np.count_nonzero(\n",
      "C:\\Users\\premkumar\\AppData\\Local\\Programs\\Python\\Python312\\Lib\\site-packages\\autots\\models\\base.py:1025: RuntimeWarning: invalid value encountered in divide\n",
      "  smape_cons = (np.nansum(wsmape_df, axis=1) * 200) / np.count_nonzero(\n"
     ]
    },
    {
     "name": "stdout",
     "output_type": "stream",
     "text": [
      "118 - ARDL with avg smape 1.12: \n",
      "Model Number: 119 of 133 with model RRVAR for Validation 1\n",
      "119 - RRVAR with avg smape 4.31: \n",
      "Model Number: 120 of 133 with model FFT for Validation 1\n"
     ]
    },
    {
     "name": "stderr",
     "output_type": "stream",
     "text": [
      "C:\\Users\\premkumar\\AppData\\Local\\Programs\\Python\\Python312\\Lib\\site-packages\\autots\\models\\base.py:1025: RuntimeWarning: invalid value encountered in divide\n",
      "  smape_cons = (np.nansum(wsmape_df, axis=1) * 200) / np.count_nonzero(\n",
      "C:\\Users\\premkumar\\AppData\\Local\\Programs\\Python\\Python312\\Lib\\site-packages\\autots\\models\\base.py:1025: RuntimeWarning: invalid value encountered in divide\n",
      "  smape_cons = (np.nansum(wsmape_df, axis=1) * 200) / np.count_nonzero(\n",
      "C:\\Users\\premkumar\\AppData\\Local\\Programs\\Python\\Python312\\Lib\\site-packages\\autots\\models\\base.py:1025: RuntimeWarning: invalid value encountered in divide\n",
      "  smape_cons = (np.nansum(wsmape_df, axis=1) * 200) / np.count_nonzero(\n"
     ]
    },
    {
     "name": "stdout",
     "output_type": "stream",
     "text": [
      "120 - FFT with avg smape 2.5: \n",
      "Model Number: 121 of 133 with model WindowRegression for Validation 1\n",
      "121 - WindowRegression with avg smape 4.75: \n",
      "Model Number: 122 of 133 with model ETS for Validation 1\n",
      "122 - ETS with avg smape 0.39: \n",
      "Model Number: 123 of 133 with model ETS for Validation 1\n"
     ]
    },
    {
     "name": "stderr",
     "output_type": "stream",
     "text": [
      "C:\\Users\\premkumar\\AppData\\Local\\Programs\\Python\\Python312\\Lib\\site-packages\\autots\\models\\base.py:1025: RuntimeWarning: invalid value encountered in divide\n",
      "  smape_cons = (np.nansum(wsmape_df, axis=1) * 200) / np.count_nonzero(\n",
      "C:\\Users\\premkumar\\AppData\\Local\\Programs\\Python\\Python312\\Lib\\site-packages\\autots\\models\\base.py:1025: RuntimeWarning: invalid value encountered in divide\n",
      "  smape_cons = (np.nansum(wsmape_df, axis=1) * 200) / np.count_nonzero(\n",
      "C:\\Users\\premkumar\\AppData\\Local\\Programs\\Python\\Python312\\Lib\\site-packages\\autots\\models\\base.py:1025: RuntimeWarning: invalid value encountered in divide\n",
      "  smape_cons = (np.nansum(wsmape_df, axis=1) * 200) / np.count_nonzero(\n"
     ]
    },
    {
     "name": "stdout",
     "output_type": "stream",
     "text": [
      "123 - ETS with avg smape 73.11: \n",
      "Model Number: 124 of 133 with model RRVAR for Validation 1\n",
      "124 - RRVAR with avg smape 0.62: \n",
      "Model Number: 125 of 133 with model FFT for Validation 1\n",
      "125 - FFT with avg smape 5.55: \n",
      "Model Number: 126 of 133 with model ETS for Validation 1\n",
      "126 - ETS with avg smape 0.9: \n",
      "Model Number: 127 of 133 with model WindowRegression for Validation 1\n"
     ]
    },
    {
     "name": "stderr",
     "output_type": "stream",
     "text": [
      "C:\\Users\\premkumar\\AppData\\Local\\Programs\\Python\\Python312\\Lib\\site-packages\\autots\\models\\base.py:1025: RuntimeWarning: invalid value encountered in divide\n",
      "  smape_cons = (np.nansum(wsmape_df, axis=1) * 200) / np.count_nonzero(\n",
      "C:\\Users\\premkumar\\AppData\\Local\\Programs\\Python\\Python312\\Lib\\site-packages\\autots\\models\\base.py:1025: RuntimeWarning: invalid value encountered in divide\n",
      "  smape_cons = (np.nansum(wsmape_df, axis=1) * 200) / np.count_nonzero(\n",
      "C:\\Users\\premkumar\\AppData\\Local\\Programs\\Python\\Python312\\Lib\\site-packages\\autots\\models\\base.py:1025: RuntimeWarning: invalid value encountered in divide\n",
      "  smape_cons = (np.nansum(wsmape_df, axis=1) * 200) / np.count_nonzero(\n"
     ]
    },
    {
     "name": "stdout",
     "output_type": "stream",
     "text": [
      "127 - WindowRegression with avg smape 0.51: \n",
      "Model Number: 128 of 133 with model WindowRegression for Validation 1\n",
      "128 - WindowRegression with avg smape 1.43: \n",
      "Model Number: 129 of 133 with model ETS for Validation 1\n"
     ]
    },
    {
     "name": "stderr",
     "output_type": "stream",
     "text": [
      "C:\\Users\\premkumar\\AppData\\Local\\Programs\\Python\\Python312\\Lib\\site-packages\\autots\\models\\base.py:1025: RuntimeWarning: invalid value encountered in divide\n",
      "  smape_cons = (np.nansum(wsmape_df, axis=1) * 200) / np.count_nonzero(\n",
      "C:\\Users\\premkumar\\AppData\\Local\\Programs\\Python\\Python312\\Lib\\site-packages\\autots\\models\\base.py:1025: RuntimeWarning: invalid value encountered in divide\n",
      "  smape_cons = (np.nansum(wsmape_df, axis=1) * 200) / np.count_nonzero(\n"
     ]
    },
    {
     "name": "stdout",
     "output_type": "stream",
     "text": [
      "129 - ETS with avg smape 3.21: \n",
      "Model Number: 130 of 133 with model RRVAR for Validation 1\n",
      "130 - RRVAR with avg smape 1.18: \n",
      "Model Number: 131 of 133 with model RRVAR for Validation 1\n"
     ]
    },
    {
     "name": "stderr",
     "output_type": "stream",
     "text": [
      "C:\\Users\\premkumar\\AppData\\Local\\Programs\\Python\\Python312\\Lib\\site-packages\\autots\\models\\base.py:1025: RuntimeWarning: invalid value encountered in divide\n",
      "  smape_cons = (np.nansum(wsmape_df, axis=1) * 200) / np.count_nonzero(\n",
      "C:\\Users\\premkumar\\AppData\\Local\\Programs\\Python\\Python312\\Lib\\site-packages\\autots\\models\\base.py:1025: RuntimeWarning: invalid value encountered in divide\n",
      "  smape_cons = (np.nansum(wsmape_df, axis=1) * 200) / np.count_nonzero(\n"
     ]
    },
    {
     "name": "stdout",
     "output_type": "stream",
     "text": [
      "131 - RRVAR with avg smape 1.12: \n",
      "Model Number: 132 of 133 with model RRVAR for Validation 1\n",
      "132 - RRVAR with avg smape 1.07: \n",
      "Model Number: 133 of 133 with model RRVAR for Validation 1\n"
     ]
    },
    {
     "name": "stderr",
     "output_type": "stream",
     "text": [
      "C:\\Users\\premkumar\\AppData\\Local\\Programs\\Python\\Python312\\Lib\\site-packages\\autots\\models\\base.py:1025: RuntimeWarning: invalid value encountered in divide\n",
      "  smape_cons = (np.nansum(wsmape_df, axis=1) * 200) / np.count_nonzero(\n",
      "C:\\Users\\premkumar\\AppData\\Local\\Programs\\Python\\Python312\\Lib\\site-packages\\autots\\models\\base.py:1025: RuntimeWarning: invalid value encountered in divide\n",
      "  smape_cons = (np.nansum(wsmape_df, axis=1) * 200) / np.count_nonzero(\n"
     ]
    },
    {
     "name": "stdout",
     "output_type": "stream",
     "text": [
      "133 - RRVAR with avg smape 0.95: \n",
      "Validation Round: 2\n",
      "Model Number: 1 of 133 with model Ensemble for Validation 2\n"
     ]
    },
    {
     "name": "stderr",
     "output_type": "stream",
     "text": [
      "C:\\Users\\premkumar\\AppData\\Local\\Programs\\Python\\Python312\\Lib\\site-packages\\autots\\models\\base.py:1025: RuntimeWarning: invalid value encountered in divide\n",
      "  smape_cons = (np.nansum(wsmape_df, axis=1) * 200) / np.count_nonzero(\n"
     ]
    },
    {
     "name": "stdout",
     "output_type": "stream",
     "text": [
      "📈 1 - Ensemble with avg smape 3.13: \n",
      "Model Number: 2 of 133 with model Ensemble for Validation 2\n"
     ]
    },
    {
     "name": "stderr",
     "output_type": "stream",
     "text": [
      "C:\\Users\\premkumar\\AppData\\Local\\Programs\\Python\\Python312\\Lib\\site-packages\\autots\\models\\base.py:1025: RuntimeWarning: invalid value encountered in divide\n",
      "  smape_cons = (np.nansum(wsmape_df, axis=1) * 200) / np.count_nonzero(\n",
      "C:\\Users\\premkumar\\AppData\\Local\\Programs\\Python\\Python312\\Lib\\site-packages\\autots\\models\\base.py:1025: RuntimeWarning: invalid value encountered in divide\n",
      "  smape_cons = (np.nansum(wsmape_df, axis=1) * 200) / np.count_nonzero(\n"
     ]
    },
    {
     "name": "stdout",
     "output_type": "stream",
     "text": [
      "2 - Ensemble with avg smape 3.15: \n",
      "Model Number: 3 of 133 with model Ensemble for Validation 2\n",
      "3 - Ensemble with avg smape 3.13: \n",
      "Model Number: 4 of 133 with model Ensemble for Validation 2\n"
     ]
    },
    {
     "name": "stderr",
     "output_type": "stream",
     "text": [
      "C:\\Users\\premkumar\\AppData\\Local\\Programs\\Python\\Python312\\Lib\\site-packages\\autots\\models\\base.py:1025: RuntimeWarning: invalid value encountered in divide\n",
      "  smape_cons = (np.nansum(wsmape_df, axis=1) * 200) / np.count_nonzero(\n"
     ]
    },
    {
     "name": "stdout",
     "output_type": "stream",
     "text": [
      "📈 4 - Ensemble with avg smape 2.94: \n",
      "Model Number: 5 of 133 with model SectionalMotif for Validation 2\n",
      "📈 5 - SectionalMotif with avg smape 2.51: \n",
      "Model Number: 6 of 133 with model SectionalMotif for Validation 2\n",
      "6 - SectionalMotif with avg smape 2.51: \n",
      "Model Number: 7 of 133 with model Ensemble for Validation 2\n"
     ]
    },
    {
     "name": "stderr",
     "output_type": "stream",
     "text": [
      "C:\\Users\\premkumar\\AppData\\Local\\Programs\\Python\\Python312\\Lib\\site-packages\\autots\\models\\base.py:1025: RuntimeWarning: invalid value encountered in divide\n",
      "  smape_cons = (np.nansum(wsmape_df, axis=1) * 200) / np.count_nonzero(\n",
      "C:\\Users\\premkumar\\AppData\\Local\\Programs\\Python\\Python312\\Lib\\site-packages\\autots\\models\\base.py:1025: RuntimeWarning: invalid value encountered in divide\n",
      "  smape_cons = (np.nansum(wsmape_df, axis=1) * 200) / np.count_nonzero(\n",
      "C:\\Users\\premkumar\\AppData\\Local\\Programs\\Python\\Python312\\Lib\\site-packages\\autots\\models\\base.py:1025: RuntimeWarning: invalid value encountered in divide\n",
      "  smape_cons = (np.nansum(wsmape_df, axis=1) * 200) / np.count_nonzero(\n"
     ]
    },
    {
     "name": "stdout",
     "output_type": "stream",
     "text": [
      "7 - Ensemble with avg smape 2.51: \n",
      "Model Number: 8 of 133 with model SectionalMotif for Validation 2\n",
      "8 - SectionalMotif with avg smape 2.51: \n",
      "Model Number: 9 of 133 with model Ensemble for Validation 2\n"
     ]
    },
    {
     "name": "stderr",
     "output_type": "stream",
     "text": [
      "C:\\Users\\premkumar\\AppData\\Local\\Programs\\Python\\Python312\\Lib\\site-packages\\autots\\models\\base.py:1025: RuntimeWarning: invalid value encountered in divide\n",
      "  smape_cons = (np.nansum(wsmape_df, axis=1) * 200) / np.count_nonzero(\n",
      "C:\\Users\\premkumar\\AppData\\Local\\Programs\\Python\\Python312\\Lib\\site-packages\\autots\\models\\base.py:1025: RuntimeWarning: invalid value encountered in divide\n",
      "  smape_cons = (np.nansum(wsmape_df, axis=1) * 200) / np.count_nonzero(\n"
     ]
    },
    {
     "name": "stdout",
     "output_type": "stream",
     "text": [
      "9 - Ensemble with avg smape 3.33: \n",
      "Model Number: 10 of 133 with model Cassandra for Validation 2\n"
     ]
    },
    {
     "name": "stderr",
     "output_type": "stream",
     "text": [
      "C:\\Users\\premkumar\\AppData\\Local\\Programs\\Python\\Python312\\Lib\\site-packages\\autots\\models\\base.py:1025: RuntimeWarning: invalid value encountered in divide\n",
      "  smape_cons = (np.nansum(wsmape_df, axis=1) * 200) / np.count_nonzero(\n",
      "C:\\Users\\premkumar\\AppData\\Local\\Programs\\Python\\Python312\\Lib\\site-packages\\autots\\models\\base.py:1025: RuntimeWarning: invalid value encountered in divide\n",
      "  smape_cons = (np.nansum(wsmape_df, axis=1) * 200) / np.count_nonzero(\n"
     ]
    },
    {
     "name": "stdout",
     "output_type": "stream",
     "text": [
      "10 - Cassandra with avg smape 3.8: \n",
      "Model Number: 11 of 133 with model Cassandra for Validation 2\n",
      "11 - Cassandra with avg smape 4.03: \n",
      "Model Number: 12 of 133 with model AverageValueNaive for Validation 2\n",
      "📈 12 - AverageValueNaive with avg smape 1.93: \n",
      "Model Number: 13 of 133 with model NVAR for Validation 2\n",
      "13 - NVAR with avg smape 3.09: \n",
      "Model Number: 14 of 133 with model AverageValueNaive for Validation 2\n",
      "14 - AverageValueNaive with avg smape 3.8: \n",
      "Model Number: 15 of 133 with model AverageValueNaive for Validation 2\n",
      "15 - AverageValueNaive with avg smape 3.8: \n",
      "Model Number: 16 of 133 with model AverageValueNaive for Validation 2\n",
      "16 - AverageValueNaive with avg smape 3.8: \n",
      "Model Number: 17 of 133 with model AverageValueNaive for Validation 2\n",
      "17 - AverageValueNaive with avg smape 3.8: \n",
      "Model Number: 18 of 133 with model AverageValueNaive for Validation 2\n"
     ]
    },
    {
     "name": "stderr",
     "output_type": "stream",
     "text": [
      "C:\\Users\\premkumar\\AppData\\Local\\Programs\\Python\\Python312\\Lib\\site-packages\\autots\\models\\base.py:1025: RuntimeWarning: invalid value encountered in divide\n",
      "  smape_cons = (np.nansum(wsmape_df, axis=1) * 200) / np.count_nonzero(\n",
      "C:\\Users\\premkumar\\AppData\\Local\\Programs\\Python\\Python312\\Lib\\site-packages\\autots\\models\\base.py:1025: RuntimeWarning: invalid value encountered in divide\n",
      "  smape_cons = (np.nansum(wsmape_df, axis=1) * 200) / np.count_nonzero(\n",
      "C:\\Users\\premkumar\\AppData\\Local\\Programs\\Python\\Python312\\Lib\\site-packages\\autots\\models\\base.py:1025: RuntimeWarning: invalid value encountered in divide\n",
      "  smape_cons = (np.nansum(wsmape_df, axis=1) * 200) / np.count_nonzero(\n",
      "C:\\Users\\premkumar\\AppData\\Local\\Programs\\Python\\Python312\\Lib\\site-packages\\autots\\models\\base.py:1025: RuntimeWarning: invalid value encountered in divide\n",
      "  smape_cons = (np.nansum(wsmape_df, axis=1) * 200) / np.count_nonzero(\n",
      "C:\\Users\\premkumar\\AppData\\Local\\Programs\\Python\\Python312\\Lib\\site-packages\\autots\\models\\base.py:1025: RuntimeWarning: invalid value encountered in divide\n",
      "  smape_cons = (np.nansum(wsmape_df, axis=1) * 200) / np.count_nonzero(\n",
      "C:\\Users\\premkumar\\AppData\\Local\\Programs\\Python\\Python312\\Lib\\site-packages\\autots\\models\\base.py:1025: RuntimeWarning: invalid value encountered in divide\n",
      "  smape_cons = (np.nansum(wsmape_df, axis=1) * 200) / np.count_nonzero(\n",
      "C:\\Users\\premkumar\\AppData\\Local\\Programs\\Python\\Python312\\Lib\\site-packages\\autots\\models\\base.py:1025: RuntimeWarning: invalid value encountered in divide\n",
      "  smape_cons = (np.nansum(wsmape_df, axis=1) * 200) / np.count_nonzero(\n"
     ]
    },
    {
     "name": "stdout",
     "output_type": "stream",
     "text": [
      "18 - AverageValueNaive with avg smape 3.8: \n",
      "Model Number: 19 of 133 with model NVAR for Validation 2\n",
      "19 - NVAR with avg smape 3.73: \n",
      "Model Number: 20 of 133 with model MetricMotif for Validation 2\n",
      "20 - MetricMotif with avg smape 2.4: \n",
      "Model Number: 21 of 133 with model LastValueNaive for Validation 2\n"
     ]
    },
    {
     "name": "stderr",
     "output_type": "stream",
     "text": [
      "C:\\Users\\premkumar\\AppData\\Local\\Programs\\Python\\Python312\\Lib\\site-packages\\autots\\models\\base.py:1025: RuntimeWarning: invalid value encountered in divide\n",
      "  smape_cons = (np.nansum(wsmape_df, axis=1) * 200) / np.count_nonzero(\n",
      "C:\\Users\\premkumar\\AppData\\Local\\Programs\\Python\\Python312\\Lib\\site-packages\\sklearn\\linear_model\\_ridge.py:204: LinAlgWarning: Ill-conditioned matrix (rcond=6.8086e-26): result may not be accurate.\n",
      "  return linalg.solve(A, Xy, assume_a=\"pos\", overwrite_a=True).T\n",
      "C:\\Users\\premkumar\\AppData\\Local\\Programs\\Python\\Python312\\Lib\\site-packages\\autots\\models\\base.py:1025: RuntimeWarning: invalid value encountered in divide\n",
      "  smape_cons = (np.nansum(wsmape_df, axis=1) * 200) / np.count_nonzero(\n",
      "C:\\Users\\premkumar\\AppData\\Local\\Programs\\Python\\Python312\\Lib\\site-packages\\autots\\models\\base.py:1025: RuntimeWarning: invalid value encountered in divide\n",
      "  smape_cons = (np.nansum(wsmape_df, axis=1) * 200) / np.count_nonzero(\n"
     ]
    },
    {
     "name": "stdout",
     "output_type": "stream",
     "text": [
      "21 - LastValueNaive with avg smape 3.31: \n",
      "Model Number: 22 of 133 with model LastValueNaive for Validation 2\n",
      "22 - LastValueNaive with avg smape 3.4: \n",
      "Model Number: 23 of 133 with model Cassandra for Validation 2\n"
     ]
    },
    {
     "name": "stderr",
     "output_type": "stream",
     "text": [
      "C:\\Users\\premkumar\\AppData\\Local\\Programs\\Python\\Python312\\Lib\\site-packages\\autots\\models\\base.py:1025: RuntimeWarning: invalid value encountered in divide\n",
      "  smape_cons = (np.nansum(wsmape_df, axis=1) * 200) / np.count_nonzero(\n",
      "C:\\Users\\premkumar\\AppData\\Local\\Programs\\Python\\Python312\\Lib\\site-packages\\autots\\models\\base.py:1025: RuntimeWarning: invalid value encountered in divide\n",
      "  smape_cons = (np.nansum(wsmape_df, axis=1) * 200) / np.count_nonzero(\n",
      "C:\\Users\\premkumar\\AppData\\Local\\Programs\\Python\\Python312\\Lib\\site-packages\\autots\\models\\base.py:1025: RuntimeWarning: invalid value encountered in divide\n",
      "  smape_cons = (np.nansum(wsmape_df, axis=1) * 200) / np.count_nonzero(\n",
      "C:\\Users\\premkumar\\AppData\\Local\\Programs\\Python\\Python312\\Lib\\site-packages\\autots\\tools\\anomaly_utils.py:1115: FutureWarning: Downcasting object dtype arrays on .fillna, .ffill, .bfill is deprecated and will change in a future version. Call result.infer_objects(copy=False) instead. To opt-in to the future behavior, set `pd.set_option('future.no_silent_downcasting', True)`\n",
      "  result = result + temp.where(temp.isnull(), 1).fillna(0)\n"
     ]
    },
    {
     "name": "stdout",
     "output_type": "stream",
     "text": [
      "23 - Cassandra with avg smape 4.14: \n",
      "Model Number: 24 of 133 with model LastValueNaive for Validation 2\n",
      "24 - LastValueNaive with avg smape 4.07: \n",
      "Model Number: 25 of 133 with model Cassandra for Validation 2\n"
     ]
    },
    {
     "name": "stderr",
     "output_type": "stream",
     "text": [
      "C:\\Users\\premkumar\\AppData\\Local\\Programs\\Python\\Python312\\Lib\\site-packages\\autots\\models\\base.py:1025: RuntimeWarning: invalid value encountered in divide\n",
      "  smape_cons = (np.nansum(wsmape_df, axis=1) * 200) / np.count_nonzero(\n",
      "C:\\Users\\premkumar\\AppData\\Local\\Programs\\Python\\Python312\\Lib\\site-packages\\autots\\models\\base.py:1025: RuntimeWarning: invalid value encountered in divide\n",
      "  smape_cons = (np.nansum(wsmape_df, axis=1) * 200) / np.count_nonzero(\n"
     ]
    },
    {
     "name": "stdout",
     "output_type": "stream",
     "text": [
      "25 - Cassandra with avg smape 2.95: \n",
      "Model Number: 26 of 133 with model GLS for Validation 2\n",
      "📈 26 - GLS with avg smape 1.47: \n",
      "Model Number: 27 of 133 with model UnivariateMotif for Validation 2\n",
      "27 - UnivariateMotif with avg smape 1.63: \n",
      "Model Number: 28 of 133 with model UnivariateMotif for Validation 2\n",
      "28 - UnivariateMotif with avg smape 1.63: \n",
      "Model Number: 29 of 133 with model UnivariateMotif for Validation 2\n",
      "📈 29 - UnivariateMotif with avg smape 0.54: \n",
      "Model Number: 30 of 133 with model UnivariateMotif for Validation 2\n",
      "📈 30 - UnivariateMotif with avg smape 0.41: \n",
      "Model Number: 31 of 133 with model MetricMotif for Validation 2\n",
      "31 - MetricMotif with avg smape 0.73: \n",
      "Model Number: 32 of 133 with model MetricMotif for Validation 2\n",
      "32 - MetricMotif with avg smape 1.1: \n",
      "Model Number: 33 of 133 with model SectionalMotif for Validation 2\n",
      "33 - SectionalMotif with avg smape 1.12: \n",
      "Model Number: 34 of 133 with model UnivariateMotif for Validation 2\n"
     ]
    },
    {
     "name": "stderr",
     "output_type": "stream",
     "text": [
      "C:\\Users\\premkumar\\AppData\\Local\\Programs\\Python\\Python312\\Lib\\site-packages\\autots\\models\\base.py:1025: RuntimeWarning: invalid value encountered in divide\n",
      "  smape_cons = (np.nansum(wsmape_df, axis=1) * 200) / np.count_nonzero(\n",
      "C:\\Users\\premkumar\\AppData\\Local\\Programs\\Python\\Python312\\Lib\\site-packages\\autots\\models\\base.py:1025: RuntimeWarning: invalid value encountered in divide\n",
      "  smape_cons = (np.nansum(wsmape_df, axis=1) * 200) / np.count_nonzero(\n",
      "C:\\Users\\premkumar\\AppData\\Local\\Programs\\Python\\Python312\\Lib\\site-packages\\autots\\models\\base.py:1025: RuntimeWarning: invalid value encountered in divide\n",
      "  smape_cons = (np.nansum(wsmape_df, axis=1) * 200) / np.count_nonzero(\n",
      "C:\\Users\\premkumar\\AppData\\Local\\Programs\\Python\\Python312\\Lib\\site-packages\\autots\\models\\base.py:1025: RuntimeWarning: invalid value encountered in divide\n",
      "  smape_cons = (np.nansum(wsmape_df, axis=1) * 200) / np.count_nonzero(\n",
      "C:\\Users\\premkumar\\AppData\\Local\\Programs\\Python\\Python312\\Lib\\site-packages\\autots\\models\\base.py:1025: RuntimeWarning: invalid value encountered in divide\n",
      "  smape_cons = (np.nansum(wsmape_df, axis=1) * 200) / np.count_nonzero(\n",
      "C:\\Users\\premkumar\\AppData\\Local\\Programs\\Python\\Python312\\Lib\\site-packages\\autots\\models\\base.py:1025: RuntimeWarning: invalid value encountered in divide\n",
      "  smape_cons = (np.nansum(wsmape_df, axis=1) * 200) / np.count_nonzero(\n",
      "C:\\Users\\premkumar\\AppData\\Local\\Programs\\Python\\Python312\\Lib\\site-packages\\autots\\models\\base.py:1025: RuntimeWarning: invalid value encountered in divide\n",
      "  smape_cons = (np.nansum(wsmape_df, axis=1) * 200) / np.count_nonzero(\n",
      "C:\\Users\\premkumar\\AppData\\Local\\Programs\\Python\\Python312\\Lib\\site-packages\\autots\\models\\base.py:1025: RuntimeWarning: invalid value encountered in divide\n",
      "  smape_cons = (np.nansum(wsmape_df, axis=1) * 200) / np.count_nonzero(\n"
     ]
    },
    {
     "name": "stdout",
     "output_type": "stream",
     "text": [
      "34 - UnivariateMotif with avg smape 0.43: \n",
      "Model Number: 35 of 133 with model Theta for Validation 2\n"
     ]
    },
    {
     "name": "stderr",
     "output_type": "stream",
     "text": [
      "C:\\Users\\premkumar\\AppData\\Local\\Programs\\Python\\Python312\\Lib\\site-packages\\autots\\models\\base.py:1025: RuntimeWarning: invalid value encountered in divide\n",
      "  smape_cons = (np.nansum(wsmape_df, axis=1) * 200) / np.count_nonzero(\n",
      "C:\\Users\\premkumar\\AppData\\Local\\Programs\\Python\\Python312\\Lib\\site-packages\\autots\\models\\base.py:1025: RuntimeWarning: invalid value encountered in divide\n",
      "  smape_cons = (np.nansum(wsmape_df, axis=1) * 200) / np.count_nonzero(\n"
     ]
    },
    {
     "name": "stdout",
     "output_type": "stream",
     "text": [
      "35 - Theta with avg smape 4.17: \n",
      "Model Number: 36 of 133 with model Theta for Validation 2\n",
      "36 - Theta with avg smape 4.17: \n",
      "Model Number: 37 of 133 with model MultivariateMotif for Validation 2\n",
      "37 - MultivariateMotif with avg smape 0.63: \n",
      "Model Number: 38 of 133 with model UnivariateMotif for Validation 2\n",
      "38 - UnivariateMotif with avg smape 1.31: \n",
      "Model Number: 39 of 133 with model MetricMotif for Validation 2\n",
      "39 - MetricMotif with avg smape 1.34: \n",
      "Model Number: 40 of 133 with model ConstantNaive for Validation 2\n",
      "40 - ConstantNaive with avg smape 2.73: \n",
      "Model Number: 41 of 133 with model ConstantNaive for Validation 2\n"
     ]
    },
    {
     "name": "stderr",
     "output_type": "stream",
     "text": [
      "C:\\Users\\premkumar\\AppData\\Local\\Programs\\Python\\Python312\\Lib\\site-packages\\autots\\models\\base.py:1025: RuntimeWarning: invalid value encountered in divide\n",
      "  smape_cons = (np.nansum(wsmape_df, axis=1) * 200) / np.count_nonzero(\n",
      "C:\\Users\\premkumar\\AppData\\Local\\Programs\\Python\\Python312\\Lib\\site-packages\\autots\\models\\base.py:1025: RuntimeWarning: invalid value encountered in divide\n",
      "  smape_cons = (np.nansum(wsmape_df, axis=1) * 200) / np.count_nonzero(\n",
      "C:\\Users\\premkumar\\AppData\\Local\\Programs\\Python\\Python312\\Lib\\site-packages\\autots\\models\\base.py:1025: RuntimeWarning: invalid value encountered in divide\n",
      "  smape_cons = (np.nansum(wsmape_df, axis=1) * 200) / np.count_nonzero(\n",
      "C:\\Users\\premkumar\\AppData\\Local\\Programs\\Python\\Python312\\Lib\\site-packages\\autots\\models\\base.py:1025: RuntimeWarning: invalid value encountered in divide\n",
      "  smape_cons = (np.nansum(wsmape_df, axis=1) * 200) / np.count_nonzero(\n",
      "C:\\Users\\premkumar\\AppData\\Local\\Programs\\Python\\Python312\\Lib\\site-packages\\autots\\models\\base.py:1025: RuntimeWarning: invalid value encountered in divide\n",
      "  smape_cons = (np.nansum(wsmape_df, axis=1) * 200) / np.count_nonzero(\n",
      "C:\\Users\\premkumar\\AppData\\Local\\Programs\\Python\\Python312\\Lib\\site-packages\\autots\\models\\base.py:1025: RuntimeWarning: invalid value encountered in divide\n",
      "  smape_cons = (np.nansum(wsmape_df, axis=1) * 200) / np.count_nonzero(\n"
     ]
    },
    {
     "name": "stdout",
     "output_type": "stream",
     "text": [
      "41 - ConstantNaive with avg smape 2.73: \n",
      "Model Number: 42 of 133 with model MultivariateMotif for Validation 2\n",
      "📈 42 - MultivariateMotif with avg smape 0.38: \n",
      "Model Number: 43 of 133 with model SeasonalityMotif for Validation 2\n",
      "43 - SeasonalityMotif with avg smape 0.59: \n",
      "Model Number: 44 of 133 with model LastValueNaive for Validation 2\n",
      "44 - LastValueNaive with avg smape 2.9: \n",
      "Model Number: 45 of 133 with model NVAR for Validation 2\n",
      "45 - NVAR with avg smape 1.79: \n",
      "Model Number: 46 of 133 with model SeasonalityMotif for Validation 2\n"
     ]
    },
    {
     "name": "stderr",
     "output_type": "stream",
     "text": [
      "C:\\Users\\premkumar\\AppData\\Local\\Programs\\Python\\Python312\\Lib\\site-packages\\autots\\models\\base.py:1025: RuntimeWarning: invalid value encountered in divide\n",
      "  smape_cons = (np.nansum(wsmape_df, axis=1) * 200) / np.count_nonzero(\n",
      "C:\\Users\\premkumar\\AppData\\Local\\Programs\\Python\\Python312\\Lib\\site-packages\\autots\\models\\base.py:1025: RuntimeWarning: invalid value encountered in divide\n",
      "  smape_cons = (np.nansum(wsmape_df, axis=1) * 200) / np.count_nonzero(\n",
      "C:\\Users\\premkumar\\AppData\\Local\\Programs\\Python\\Python312\\Lib\\site-packages\\autots\\models\\base.py:1025: RuntimeWarning: invalid value encountered in divide\n",
      "  smape_cons = (np.nansum(wsmape_df, axis=1) * 200) / np.count_nonzero(\n",
      "C:\\Users\\premkumar\\AppData\\Local\\Programs\\Python\\Python312\\Lib\\site-packages\\autots\\models\\base.py:1025: RuntimeWarning: invalid value encountered in divide\n",
      "  smape_cons = (np.nansum(wsmape_df, axis=1) * 200) / np.count_nonzero(\n"
     ]
    },
    {
     "name": "stdout",
     "output_type": "stream",
     "text": [
      "46 - SeasonalityMotif with avg smape 0.98: \n",
      "Model Number: 47 of 133 with model MultivariateMotif for Validation 2\n",
      "47 - MultivariateMotif with avg smape 1.26: \n",
      "Model Number: 48 of 133 with model MultivariateRegression for Validation 2\n"
     ]
    },
    {
     "name": "stderr",
     "output_type": "stream",
     "text": [
      "C:\\Users\\premkumar\\AppData\\Local\\Programs\\Python\\Python312\\Lib\\site-packages\\autots\\models\\base.py:1025: RuntimeWarning: invalid value encountered in divide\n",
      "  smape_cons = (np.nansum(wsmape_df, axis=1) * 200) / np.count_nonzero(\n",
      "C:\\Users\\premkumar\\AppData\\Local\\Programs\\Python\\Python312\\Lib\\site-packages\\autots\\models\\base.py:1025: RuntimeWarning: invalid value encountered in divide\n",
      "  smape_cons = (np.nansum(wsmape_df, axis=1) * 200) / np.count_nonzero(\n"
     ]
    },
    {
     "name": "stdout",
     "output_type": "stream",
     "text": [
      "48 - MultivariateRegression with avg smape 1.4: \n",
      "Model Number: 49 of 133 with model MultivariateMotif for Validation 2\n",
      "📈 49 - MultivariateMotif with avg smape 0.3: \n",
      "Model Number: 50 of 133 with model MetricMotif for Validation 2\n",
      "50 - MetricMotif with avg smape 3.74: \n",
      "Model Number: 51 of 133 with model MetricMotif for Validation 2\n",
      "51 - MetricMotif with avg smape 3.75: \n",
      "Model Number: 52 of 133 with model UnobservedComponents for Validation 2\n",
      "52 - UnobservedComponents with avg smape 1.24: \n",
      "Model Number: 53 of 133 with model MultivariateMotif for Validation 2\n",
      "53 - MultivariateMotif with avg smape 1.6: \n",
      "Model Number: 54 of 133 with model SectionalMotif for Validation 2\n",
      "54 - SectionalMotif with avg smape 0.43: \n",
      "Model Number: 55 of 133 with model MultivariateMotif for Validation 2\n"
     ]
    },
    {
     "name": "stderr",
     "output_type": "stream",
     "text": [
      "C:\\Users\\premkumar\\AppData\\Local\\Programs\\Python\\Python312\\Lib\\site-packages\\autots\\models\\base.py:1025: RuntimeWarning: invalid value encountered in divide\n",
      "  smape_cons = (np.nansum(wsmape_df, axis=1) * 200) / np.count_nonzero(\n",
      "C:\\Users\\premkumar\\AppData\\Local\\Programs\\Python\\Python312\\Lib\\site-packages\\autots\\models\\base.py:1025: RuntimeWarning: invalid value encountered in divide\n",
      "  smape_cons = (np.nansum(wsmape_df, axis=1) * 200) / np.count_nonzero(\n",
      "C:\\Users\\premkumar\\AppData\\Local\\Programs\\Python\\Python312\\Lib\\site-packages\\autots\\models\\base.py:1025: RuntimeWarning: invalid value encountered in divide\n",
      "  smape_cons = (np.nansum(wsmape_df, axis=1) * 200) / np.count_nonzero(\n",
      "C:\\Users\\premkumar\\AppData\\Local\\Programs\\Python\\Python312\\Lib\\site-packages\\autots\\models\\base.py:1025: RuntimeWarning: invalid value encountered in divide\n",
      "  smape_cons = (np.nansum(wsmape_df, axis=1) * 200) / np.count_nonzero(\n",
      "C:\\Users\\premkumar\\AppData\\Local\\Programs\\Python\\Python312\\Lib\\site-packages\\autots\\models\\base.py:1025: RuntimeWarning: invalid value encountered in divide\n",
      "  smape_cons = (np.nansum(wsmape_df, axis=1) * 200) / np.count_nonzero(\n",
      "C:\\Users\\premkumar\\AppData\\Local\\Programs\\Python\\Python312\\Lib\\site-packages\\autots\\models\\base.py:1025: RuntimeWarning: invalid value encountered in divide\n",
      "  smape_cons = (np.nansum(wsmape_df, axis=1) * 200) / np.count_nonzero(\n",
      "C:\\Users\\premkumar\\AppData\\Local\\Programs\\Python\\Python312\\Lib\\site-packages\\autots\\models\\base.py:1025: RuntimeWarning: invalid value encountered in divide\n",
      "  smape_cons = (np.nansum(wsmape_df, axis=1) * 200) / np.count_nonzero(\n",
      "C:\\Users\\premkumar\\AppData\\Local\\Programs\\Python\\Python312\\Lib\\site-packages\\autots\\models\\base.py:1025: RuntimeWarning: invalid value encountered in divide\n",
      "  smape_cons = (np.nansum(wsmape_df, axis=1) * 200) / np.count_nonzero(\n"
     ]
    },
    {
     "name": "stdout",
     "output_type": "stream",
     "text": [
      "55 - MultivariateMotif with avg smape 0.65: \n",
      "Model Number: 56 of 133 with model SectionalMotif for Validation 2\n",
      "56 - SectionalMotif with avg smape 0.47: \n",
      "Model Number: 57 of 133 with model Cassandra for Validation 2\n"
     ]
    },
    {
     "name": "stderr",
     "output_type": "stream",
     "text": [
      "C:\\Users\\premkumar\\AppData\\Local\\Programs\\Python\\Python312\\Lib\\site-packages\\autots\\models\\base.py:1025: RuntimeWarning: invalid value encountered in divide\n",
      "  smape_cons = (np.nansum(wsmape_df, axis=1) * 200) / np.count_nonzero(\n"
     ]
    },
    {
     "name": "stdout",
     "output_type": "stream",
     "text": [
      "57 - Cassandra with avg smape 2.81: \n",
      "Model Number: 58 of 133 with model SeasonalityMotif for Validation 2\n"
     ]
    },
    {
     "name": "stderr",
     "output_type": "stream",
     "text": [
      "C:\\Users\\premkumar\\AppData\\Local\\Programs\\Python\\Python312\\Lib\\site-packages\\autots\\models\\base.py:1025: RuntimeWarning: invalid value encountered in divide\n",
      "  smape_cons = (np.nansum(wsmape_df, axis=1) * 200) / np.count_nonzero(\n",
      "C:\\Users\\premkumar\\AppData\\Local\\Programs\\Python\\Python312\\Lib\\site-packages\\autots\\models\\base.py:1025: RuntimeWarning: invalid value encountered in divide\n",
      "  smape_cons = (np.nansum(wsmape_df, axis=1) * 200) / np.count_nonzero(\n"
     ]
    },
    {
     "name": "stdout",
     "output_type": "stream",
     "text": [
      "58 - SeasonalityMotif with avg smape 0.61: \n",
      "Model Number: 59 of 133 with model Cassandra for Validation 2\n",
      "59 - Cassandra with avg smape 2.58: \n",
      "Model Number: 60 of 133 with model NVAR for Validation 2\n",
      "60 - NVAR with avg smape 2.99: \n",
      "Model Number: 61 of 133 with model NVAR for Validation 2\n",
      "61 - NVAR with avg smape 1.88: \n",
      "Model Number: 62 of 133 with model UnobservedComponents for Validation 2\n",
      "62 - UnobservedComponents with avg smape 2.83: \n",
      "Model Number: 63 of 133 with model NVAR for Validation 2\n"
     ]
    },
    {
     "name": "stderr",
     "output_type": "stream",
     "text": [
      "C:\\Users\\premkumar\\AppData\\Local\\Programs\\Python\\Python312\\Lib\\site-packages\\autots\\models\\base.py:1025: RuntimeWarning: invalid value encountered in divide\n",
      "  smape_cons = (np.nansum(wsmape_df, axis=1) * 200) / np.count_nonzero(\n",
      "C:\\Users\\premkumar\\AppData\\Local\\Programs\\Python\\Python312\\Lib\\site-packages\\autots\\models\\base.py:1025: RuntimeWarning: invalid value encountered in divide\n",
      "  smape_cons = (np.nansum(wsmape_df, axis=1) * 200) / np.count_nonzero(\n",
      "C:\\Users\\premkumar\\AppData\\Local\\Programs\\Python\\Python312\\Lib\\site-packages\\autots\\models\\base.py:1025: RuntimeWarning: invalid value encountered in divide\n",
      "  smape_cons = (np.nansum(wsmape_df, axis=1) * 200) / np.count_nonzero(\n",
      "C:\\Users\\premkumar\\AppData\\Local\\Programs\\Python\\Python312\\Lib\\site-packages\\autots\\models\\base.py:1025: RuntimeWarning: invalid value encountered in divide\n",
      "  smape_cons = (np.nansum(wsmape_df, axis=1) * 200) / np.count_nonzero(\n",
      "C:\\Users\\premkumar\\AppData\\Local\\Programs\\Python\\Python312\\Lib\\site-packages\\autots\\models\\base.py:1025: RuntimeWarning: invalid value encountered in divide\n",
      "  smape_cons = (np.nansum(wsmape_df, axis=1) * 200) / np.count_nonzero(\n"
     ]
    },
    {
     "name": "stdout",
     "output_type": "stream",
     "text": [
      "63 - NVAR with avg smape 2.99: \n",
      "Model Number: 64 of 133 with model SeasonalityMotif for Validation 2\n",
      "64 - SeasonalityMotif with avg smape 0.81: \n",
      "Model Number: 65 of 133 with model SeasonalityMotif for Validation 2\n",
      "65 - SeasonalityMotif with avg smape 0.9: \n",
      "Model Number: 66 of 133 with model MultivariateRegression for Validation 2\n"
     ]
    },
    {
     "name": "stderr",
     "output_type": "stream",
     "text": [
      "C:\\Users\\premkumar\\AppData\\Local\\Programs\\Python\\Python312\\Lib\\site-packages\\autots\\models\\base.py:1025: RuntimeWarning: invalid value encountered in divide\n",
      "  smape_cons = (np.nansum(wsmape_df, axis=1) * 200) / np.count_nonzero(\n",
      "C:\\Users\\premkumar\\AppData\\Local\\Programs\\Python\\Python312\\Lib\\site-packages\\autots\\models\\base.py:1025: RuntimeWarning: invalid value encountered in divide\n",
      "  smape_cons = (np.nansum(wsmape_df, axis=1) * 200) / np.count_nonzero(\n"
     ]
    },
    {
     "name": "stdout",
     "output_type": "stream",
     "text": [
      "66 - MultivariateRegression with avg smape 1.1: \n",
      "Model Number: 67 of 133 with model SeasonalityMotif for Validation 2\n",
      "67 - SeasonalityMotif with avg smape 1.8: \n",
      "Model Number: 68 of 133 with model ConstantNaive for Validation 2\n"
     ]
    },
    {
     "name": "stderr",
     "output_type": "stream",
     "text": [
      "C:\\Users\\premkumar\\AppData\\Local\\Programs\\Python\\Python312\\Lib\\site-packages\\autots\\models\\base.py:1025: RuntimeWarning: invalid value encountered in divide\n",
      "  smape_cons = (np.nansum(wsmape_df, axis=1) * 200) / np.count_nonzero(\n",
      "C:\\Users\\premkumar\\AppData\\Local\\Programs\\Python\\Python312\\Lib\\site-packages\\autots\\models\\base.py:1025: RuntimeWarning: invalid value encountered in divide\n",
      "  smape_cons = (np.nansum(wsmape_df, axis=1) * 200) / np.count_nonzero(\n",
      "C:\\Users\\premkumar\\AppData\\Local\\Programs\\Python\\Python312\\Lib\\site-packages\\autots\\models\\base.py:1025: RuntimeWarning: invalid value encountered in divide\n",
      "  smape_cons = (np.nansum(wsmape_df, axis=1) * 200) / np.count_nonzero(\n"
     ]
    },
    {
     "name": "stdout",
     "output_type": "stream",
     "text": [
      "68 - ConstantNaive with avg smape 2.1: \n",
      "Model Number: 69 of 133 with model WindowRegression for Validation 2\n",
      "69 - WindowRegression with avg smape 0.43: \n",
      "Model Number: 70 of 133 with model GLS for Validation 2\n",
      "70 - GLS with avg smape 6.34: \n",
      "Model Number: 71 of 133 with model SeasonalNaive for Validation 2\n"
     ]
    },
    {
     "name": "stderr",
     "output_type": "stream",
     "text": [
      "C:\\Users\\premkumar\\AppData\\Local\\Programs\\Python\\Python312\\Lib\\site-packages\\autots\\models\\base.py:1025: RuntimeWarning: invalid value encountered in divide\n",
      "  smape_cons = (np.nansum(wsmape_df, axis=1) * 200) / np.count_nonzero(\n",
      "C:\\Users\\premkumar\\AppData\\Local\\Programs\\Python\\Python312\\Lib\\site-packages\\autots\\models\\base.py:1025: RuntimeWarning: invalid value encountered in divide\n",
      "  smape_cons = (np.nansum(wsmape_df, axis=1) * 200) / np.count_nonzero(\n",
      "C:\\Users\\premkumar\\AppData\\Local\\Programs\\Python\\Python312\\Lib\\site-packages\\autots\\models\\base.py:1025: RuntimeWarning: invalid value encountered in divide\n",
      "  smape_cons = (np.nansum(wsmape_df, axis=1) * 200) / np.count_nonzero(\n"
     ]
    },
    {
     "name": "stdout",
     "output_type": "stream",
     "text": [
      "71 - SeasonalNaive with avg smape 1.24: \n",
      "Model Number: 72 of 133 with model ARIMA for Validation 2\n",
      "72 - ARIMA with avg smape 1.31: \n",
      "Model Number: 73 of 133 with model LastValueNaive for Validation 2\n"
     ]
    },
    {
     "name": "stderr",
     "output_type": "stream",
     "text": [
      "C:\\Users\\premkumar\\AppData\\Local\\Programs\\Python\\Python312\\Lib\\site-packages\\autots\\models\\base.py:1025: RuntimeWarning: invalid value encountered in divide\n",
      "  smape_cons = (np.nansum(wsmape_df, axis=1) * 200) / np.count_nonzero(\n",
      "C:\\Users\\premkumar\\AppData\\Local\\Programs\\Python\\Python312\\Lib\\site-packages\\autots\\models\\base.py:1025: RuntimeWarning: invalid value encountered in divide\n",
      "  smape_cons = (np.nansum(wsmape_df, axis=1) * 200) / np.count_nonzero(\n"
     ]
    },
    {
     "name": "stdout",
     "output_type": "stream",
     "text": [
      "73 - LastValueNaive with avg smape 0.88: \n",
      "Model Number: 74 of 133 with model WindowRegression for Validation 2\n",
      "74 - WindowRegression with avg smape 0.75: \n",
      "Model Number: 75 of 133 with model GLS for Validation 2\n"
     ]
    },
    {
     "name": "stderr",
     "output_type": "stream",
     "text": [
      "C:\\Users\\premkumar\\AppData\\Local\\Programs\\Python\\Python312\\Lib\\site-packages\\autots\\models\\base.py:1025: RuntimeWarning: invalid value encountered in divide\n",
      "  smape_cons = (np.nansum(wsmape_df, axis=1) * 200) / np.count_nonzero(\n",
      "C:\\Users\\premkumar\\AppData\\Local\\Programs\\Python\\Python312\\Lib\\site-packages\\autots\\models\\base.py:1025: RuntimeWarning: invalid value encountered in divide\n",
      "  smape_cons = (np.nansum(wsmape_df, axis=1) * 200) / np.count_nonzero(\n"
     ]
    },
    {
     "name": "stdout",
     "output_type": "stream",
     "text": [
      "75 - GLS with avg smape 1.48: \n",
      "Model Number: 76 of 133 with model ARIMA for Validation 2\n"
     ]
    },
    {
     "name": "stderr",
     "output_type": "stream",
     "text": [
      "C:\\Users\\premkumar\\AppData\\Local\\Programs\\Python\\Python312\\Lib\\site-packages\\autots\\models\\base.py:1025: RuntimeWarning: invalid value encountered in divide\n",
      "  smape_cons = (np.nansum(wsmape_df, axis=1) * 200) / np.count_nonzero(\n"
     ]
    },
    {
     "name": "stdout",
     "output_type": "stream",
     "text": [
      "76 - ARIMA with avg smape 0.63: \n",
      "Model Number: 77 of 133 with model MultivariateRegression for Validation 2\n",
      "77 - MultivariateRegression with avg smape 2.26: \n",
      "Model Number: 78 of 133 with model LastValueNaive for Validation 2\n",
      "78 - LastValueNaive with avg smape 1.0: \n",
      "Model Number: 79 of 133 with model GLS for Validation 2\n"
     ]
    },
    {
     "name": "stderr",
     "output_type": "stream",
     "text": [
      "C:\\Users\\premkumar\\AppData\\Local\\Programs\\Python\\Python312\\Lib\\site-packages\\autots\\models\\base.py:1025: RuntimeWarning: invalid value encountered in divide\n",
      "  smape_cons = (np.nansum(wsmape_df, axis=1) * 200) / np.count_nonzero(\n",
      "C:\\Users\\premkumar\\AppData\\Local\\Programs\\Python\\Python312\\Lib\\site-packages\\autots\\models\\base.py:1025: RuntimeWarning: invalid value encountered in divide\n",
      "  smape_cons = (np.nansum(wsmape_df, axis=1) * 200) / np.count_nonzero(\n",
      "C:\\Users\\premkumar\\AppData\\Local\\Programs\\Python\\Python312\\Lib\\site-packages\\autots\\models\\base.py:1025: RuntimeWarning: invalid value encountered in divide\n",
      "  smape_cons = (np.nansum(wsmape_df, axis=1) * 200) / np.count_nonzero(\n"
     ]
    },
    {
     "name": "stdout",
     "output_type": "stream",
     "text": [
      "79 - GLS with avg smape 1.44: \n",
      "Model Number: 80 of 133 with model ARIMA for Validation 2\n"
     ]
    },
    {
     "name": "stderr",
     "output_type": "stream",
     "text": [
      "C:\\Users\\premkumar\\AppData\\Local\\Programs\\Python\\Python312\\Lib\\site-packages\\autots\\models\\base.py:1025: RuntimeWarning: invalid value encountered in divide\n",
      "  smape_cons = (np.nansum(wsmape_df, axis=1) * 200) / np.count_nonzero(\n"
     ]
    },
    {
     "name": "stdout",
     "output_type": "stream",
     "text": [
      "80 - ARIMA with avg smape 1.29: \n",
      "Model Number: 81 of 133 with model ARIMA for Validation 2\n"
     ]
    },
    {
     "name": "stderr",
     "output_type": "stream",
     "text": [
      "C:\\Users\\premkumar\\AppData\\Local\\Programs\\Python\\Python312\\Lib\\site-packages\\autots\\models\\base.py:1025: RuntimeWarning: invalid value encountered in divide\n",
      "  smape_cons = (np.nansum(wsmape_df, axis=1) * 200) / np.count_nonzero(\n"
     ]
    },
    {
     "name": "stdout",
     "output_type": "stream",
     "text": [
      "81 - ARIMA with avg smape 1.39: \n",
      "Model Number: 82 of 133 with model UnobservedComponents for Validation 2\n",
      "82 - UnobservedComponents with avg smape 1.81: \n",
      "Model Number: 83 of 133 with model WindowRegression for Validation 2\n"
     ]
    },
    {
     "name": "stderr",
     "output_type": "stream",
     "text": [
      "C:\\Users\\premkumar\\AppData\\Local\\Programs\\Python\\Python312\\Lib\\site-packages\\autots\\models\\base.py:1025: RuntimeWarning: invalid value encountered in divide\n",
      "  smape_cons = (np.nansum(wsmape_df, axis=1) * 200) / np.count_nonzero(\n",
      "C:\\Users\\premkumar\\AppData\\Local\\Programs\\Python\\Python312\\Lib\\site-packages\\sklearn\\linear_model\\_coordinate_descent.py:678: ConvergenceWarning: Objective did not converge. You might want to increase the number of iterations, check the scale of the features or consider increasing regularisation. Duality gap: 8.341e+03, tolerance: 9.182e+02\n",
      "  model = cd_fast.enet_coordinate_descent(\n",
      "C:\\Users\\premkumar\\AppData\\Local\\Programs\\Python\\Python312\\Lib\\site-packages\\autots\\models\\base.py:1025: RuntimeWarning: invalid value encountered in divide\n",
      "  smape_cons = (np.nansum(wsmape_df, axis=1) * 200) / np.count_nonzero(\n"
     ]
    },
    {
     "name": "stdout",
     "output_type": "stream",
     "text": [
      "83 - WindowRegression with avg smape 2.85: \n",
      "Model Number: 84 of 133 with model ARIMA for Validation 2\n",
      "84 - ARIMA with avg smape 1.66: \n",
      "Model Number: 85 of 133 with model ConstantNaive for Validation 2\n"
     ]
    },
    {
     "name": "stderr",
     "output_type": "stream",
     "text": [
      "C:\\Users\\premkumar\\AppData\\Local\\Programs\\Python\\Python312\\Lib\\site-packages\\autots\\models\\base.py:1025: RuntimeWarning: invalid value encountered in divide\n",
      "  smape_cons = (np.nansum(wsmape_df, axis=1) * 200) / np.count_nonzero(\n",
      "C:\\Users\\premkumar\\AppData\\Local\\Programs\\Python\\Python312\\Lib\\site-packages\\autots\\models\\base.py:1025: RuntimeWarning: invalid value encountered in divide\n",
      "  smape_cons = (np.nansum(wsmape_df, axis=1) * 200) / np.count_nonzero(\n"
     ]
    },
    {
     "name": "stdout",
     "output_type": "stream",
     "text": [
      "85 - ConstantNaive with avg smape 1.88: \n",
      "Model Number: 86 of 133 with model MultivariateRegression for Validation 2\n",
      "86 - MultivariateRegression with avg smape 0.7: \n",
      "Model Number: 87 of 133 with model ARIMA for Validation 2\n",
      "87 - ARIMA with avg smape 1.03: \n",
      "Model Number: 88 of 133 with model SeasonalNaive for Validation 2\n"
     ]
    },
    {
     "name": "stderr",
     "output_type": "stream",
     "text": [
      "C:\\Users\\premkumar\\AppData\\Local\\Programs\\Python\\Python312\\Lib\\site-packages\\autots\\models\\base.py:1025: RuntimeWarning: invalid value encountered in divide\n",
      "  smape_cons = (np.nansum(wsmape_df, axis=1) * 200) / np.count_nonzero(\n",
      "C:\\Users\\premkumar\\AppData\\Local\\Programs\\Python\\Python312\\Lib\\site-packages\\autots\\models\\base.py:1025: RuntimeWarning: invalid value encountered in divide\n",
      "  smape_cons = (np.nansum(wsmape_df, axis=1) * 200) / np.count_nonzero(\n"
     ]
    },
    {
     "name": "stdout",
     "output_type": "stream",
     "text": [
      "88 - SeasonalNaive with avg smape 0.61: \n",
      "Model Number: 89 of 133 with model UnobservedComponents for Validation 2\n"
     ]
    },
    {
     "name": "stderr",
     "output_type": "stream",
     "text": [
      "C:\\Users\\premkumar\\AppData\\Local\\Programs\\Python\\Python312\\Lib\\site-packages\\autots\\models\\base.py:1025: RuntimeWarning: invalid value encountered in divide\n",
      "  smape_cons = (np.nansum(wsmape_df, axis=1) * 200) / np.count_nonzero(\n"
     ]
    },
    {
     "name": "stdout",
     "output_type": "stream",
     "text": [
      "89 - UnobservedComponents with avg smape 5.7: \n",
      "Model Number: 90 of 133 with model SeasonalNaive for Validation 2\n",
      "90 - SeasonalNaive with avg smape 0.37: \n",
      "Model Number: 91 of 133 with model ARDL for Validation 2\n",
      "91 - ARDL with avg smape 1.17: \n",
      "Model Number: 92 of 133 with model UnobservedComponents for Validation 2\n"
     ]
    },
    {
     "name": "stderr",
     "output_type": "stream",
     "text": [
      "C:\\Users\\premkumar\\AppData\\Local\\Programs\\Python\\Python312\\Lib\\site-packages\\autots\\models\\base.py:1025: RuntimeWarning: invalid value encountered in divide\n",
      "  smape_cons = (np.nansum(wsmape_df, axis=1) * 200) / np.count_nonzero(\n",
      "C:\\Users\\premkumar\\AppData\\Local\\Programs\\Python\\Python312\\Lib\\site-packages\\autots\\models\\base.py:1025: RuntimeWarning: invalid value encountered in divide\n",
      "  smape_cons = (np.nansum(wsmape_df, axis=1) * 200) / np.count_nonzero(\n",
      "C:\\Users\\premkumar\\AppData\\Local\\Programs\\Python\\Python312\\Lib\\site-packages\\autots\\models\\base.py:1025: RuntimeWarning: invalid value encountered in divide\n",
      "  smape_cons = (np.nansum(wsmape_df, axis=1) * 200) / np.count_nonzero(\n",
      "C:\\Users\\premkumar\\AppData\\Local\\Programs\\Python\\Python312\\Lib\\site-packages\\autots\\models\\base.py:1025: RuntimeWarning: invalid value encountered in divide\n",
      "  smape_cons = (np.nansum(wsmape_df, axis=1) * 200) / np.count_nonzero(\n"
     ]
    },
    {
     "name": "stdout",
     "output_type": "stream",
     "text": [
      "92 - UnobservedComponents with avg smape 2.48: \n",
      "Model Number: 93 of 133 with model UnobservedComponents for Validation 2\n",
      "93 - UnobservedComponents with avg smape 1.14: \n",
      "Model Number: 94 of 133 with model ConstantNaive for Validation 2\n"
     ]
    },
    {
     "name": "stderr",
     "output_type": "stream",
     "text": [
      "C:\\Users\\premkumar\\AppData\\Local\\Programs\\Python\\Python312\\Lib\\site-packages\\autots\\models\\base.py:1025: RuntimeWarning: invalid value encountered in divide\n",
      "  smape_cons = (np.nansum(wsmape_df, axis=1) * 200) / np.count_nonzero(\n",
      "C:\\Users\\premkumar\\AppData\\Local\\Programs\\Python\\Python312\\Lib\\site-packages\\autots\\models\\base.py:1025: RuntimeWarning: invalid value encountered in divide\n",
      "  smape_cons = (np.nansum(wsmape_df, axis=1) * 200) / np.count_nonzero(\n"
     ]
    },
    {
     "name": "stdout",
     "output_type": "stream",
     "text": [
      "94 - ConstantNaive with avg smape 1.81: \n",
      "Model Number: 95 of 133 with model Theta for Validation 2\n"
     ]
    },
    {
     "name": "stderr",
     "output_type": "stream",
     "text": [
      "C:\\Users\\premkumar\\AppData\\Local\\Programs\\Python\\Python312\\Lib\\site-packages\\autots\\models\\base.py:1025: RuntimeWarning: invalid value encountered in divide\n",
      "  smape_cons = (np.nansum(wsmape_df, axis=1) * 200) / np.count_nonzero(\n"
     ]
    },
    {
     "name": "stdout",
     "output_type": "stream",
     "text": [
      "95 - Theta with avg smape 4.85: \n",
      "Model Number: 96 of 133 with model MultivariateRegression for Validation 2\n",
      "96 - MultivariateRegression with avg smape 0.71: \n",
      "Model Number: 97 of 133 with model GLS for Validation 2\n"
     ]
    },
    {
     "name": "stderr",
     "output_type": "stream",
     "text": [
      "C:\\Users\\premkumar\\AppData\\Local\\Programs\\Python\\Python312\\Lib\\site-packages\\autots\\models\\base.py:1025: RuntimeWarning: invalid value encountered in divide\n",
      "  smape_cons = (np.nansum(wsmape_df, axis=1) * 200) / np.count_nonzero(\n",
      "C:\\Users\\premkumar\\AppData\\Local\\Programs\\Python\\Python312\\Lib\\site-packages\\autots\\models\\base.py:1025: RuntimeWarning: invalid value encountered in divide\n",
      "  smape_cons = (np.nansum(wsmape_df, axis=1) * 200) / np.count_nonzero(\n"
     ]
    },
    {
     "name": "stdout",
     "output_type": "stream",
     "text": [
      "97 - GLS with avg smape 0.76: \n",
      "Model Number: 98 of 133 with model MultivariateRegression for Validation 2\n"
     ]
    },
    {
     "name": "stderr",
     "output_type": "stream",
     "text": [
      "C:\\Users\\premkumar\\AppData\\Local\\Programs\\Python\\Python312\\Lib\\site-packages\\autots\\models\\base.py:1025: RuntimeWarning: invalid value encountered in divide\n",
      "  smape_cons = (np.nansum(wsmape_df, axis=1) * 200) / np.count_nonzero(\n"
     ]
    },
    {
     "name": "stdout",
     "output_type": "stream",
     "text": [
      "98 - MultivariateRegression with avg smape 3.21: \n",
      "Model Number: 99 of 133 with model Theta for Validation 2\n"
     ]
    },
    {
     "name": "stderr",
     "output_type": "stream",
     "text": [
      "C:\\Users\\premkumar\\AppData\\Local\\Programs\\Python\\Python312\\Lib\\site-packages\\autots\\models\\base.py:1025: RuntimeWarning: invalid value encountered in divide\n",
      "  smape_cons = (np.nansum(wsmape_df, axis=1) * 200) / np.count_nonzero(\n"
     ]
    },
    {
     "name": "stdout",
     "output_type": "stream",
     "text": [
      "99 - Theta with avg smape 1.15: \n",
      "Model Number: 100 of 133 with model Theta for Validation 2\n"
     ]
    },
    {
     "name": "stderr",
     "output_type": "stream",
     "text": [
      "C:\\Users\\premkumar\\AppData\\Local\\Programs\\Python\\Python312\\Lib\\site-packages\\autots\\models\\base.py:1025: RuntimeWarning: invalid value encountered in divide\n",
      "  smape_cons = (np.nansum(wsmape_df, axis=1) * 200) / np.count_nonzero(\n"
     ]
    },
    {
     "name": "stdout",
     "output_type": "stream",
     "text": [
      "100 - Theta with avg smape 1.15: \n",
      "Model Number: 101 of 133 with model Theta for Validation 2\n"
     ]
    },
    {
     "name": "stderr",
     "output_type": "stream",
     "text": [
      "C:\\Users\\premkumar\\AppData\\Local\\Programs\\Python\\Python312\\Lib\\site-packages\\autots\\models\\base.py:1025: RuntimeWarning: invalid value encountered in divide\n",
      "  smape_cons = (np.nansum(wsmape_df, axis=1) * 200) / np.count_nonzero(\n"
     ]
    },
    {
     "name": "stdout",
     "output_type": "stream",
     "text": [
      "101 - Theta with avg smape 1.13: \n",
      "Model Number: 102 of 133 with model FFT for Validation 2\n",
      "102 - FFT with avg smape 1.46: \n",
      "Model Number: 103 of 133 with model GLS for Validation 2\n"
     ]
    },
    {
     "name": "stderr",
     "output_type": "stream",
     "text": [
      "C:\\Users\\premkumar\\AppData\\Local\\Programs\\Python\\Python312\\Lib\\site-packages\\autots\\models\\base.py:1025: RuntimeWarning: invalid value encountered in divide\n",
      "  smape_cons = (np.nansum(wsmape_df, axis=1) * 200) / np.count_nonzero(\n",
      "C:\\Users\\premkumar\\AppData\\Local\\Programs\\Python\\Python312\\Lib\\site-packages\\autots\\models\\base.py:1025: RuntimeWarning: invalid value encountered in divide\n",
      "  smape_cons = (np.nansum(wsmape_df, axis=1) * 200) / np.count_nonzero(\n"
     ]
    },
    {
     "name": "stdout",
     "output_type": "stream",
     "text": [
      "103 - GLS with avg smape 1.34: \n",
      "Model Number: 104 of 133 with model ARDL for Validation 2\n",
      "104 - ARDL with avg smape 1.12: \n",
      "Model Number: 105 of 133 with model DMD for Validation 2\n",
      "105 - DMD with avg smape 1.43: \n",
      "Model Number: 106 of 133 with model DMD for Validation 2\n",
      "106 - DMD with avg smape 1.81: \n",
      "Model Number: 107 of 133 with model DMD for Validation 2\n"
     ]
    },
    {
     "name": "stderr",
     "output_type": "stream",
     "text": [
      "C:\\Users\\premkumar\\AppData\\Local\\Programs\\Python\\Python312\\Lib\\site-packages\\autots\\models\\base.py:1025: RuntimeWarning: invalid value encountered in divide\n",
      "  smape_cons = (np.nansum(wsmape_df, axis=1) * 200) / np.count_nonzero(\n",
      "C:\\Users\\premkumar\\AppData\\Local\\Programs\\Python\\Python312\\Lib\\site-packages\\autots\\models\\base.py:1025: RuntimeWarning: invalid value encountered in divide\n",
      "  smape_cons = (np.nansum(wsmape_df, axis=1) * 200) / np.count_nonzero(\n",
      "C:\\Users\\premkumar\\AppData\\Local\\Programs\\Python\\Python312\\Lib\\site-packages\\autots\\models\\base.py:1025: RuntimeWarning: invalid value encountered in divide\n",
      "  smape_cons = (np.nansum(wsmape_df, axis=1) * 200) / np.count_nonzero(\n",
      "C:\\Users\\premkumar\\AppData\\Local\\Programs\\Python\\Python312\\Lib\\site-packages\\autots\\models\\base.py:1025: RuntimeWarning: invalid value encountered in divide\n",
      "  smape_cons = (np.nansum(wsmape_df, axis=1) * 200) / np.count_nonzero(\n"
     ]
    },
    {
     "name": "stdout",
     "output_type": "stream",
     "text": [
      "107 - DMD with avg smape 1.21: \n",
      "Model Number: 108 of 133 with model ARDL for Validation 2\n"
     ]
    },
    {
     "name": "stderr",
     "output_type": "stream",
     "text": [
      "C:\\Users\\premkumar\\AppData\\Local\\Programs\\Python\\Python312\\Lib\\site-packages\\autots\\models\\base.py:1025: RuntimeWarning: invalid value encountered in divide\n",
      "  smape_cons = (np.nansum(wsmape_df, axis=1) * 200) / np.count_nonzero(\n"
     ]
    },
    {
     "name": "stdout",
     "output_type": "stream",
     "text": [
      "108 - ARDL with avg smape 1.11: \n",
      "Model Number: 109 of 133 with model ARDL for Validation 2\n",
      "109 - ARDL with avg smape 1.42: \n",
      "Model Number: 110 of 133 with model ARDL for Validation 2\n",
      "110 - ARDL with avg smape 1.24: \n",
      "Model Number: 111 of 133 with model DMD for Validation 2\n",
      "111 - DMD with avg smape 1.21: \n",
      "Model Number: 112 of 133 with model DMD for Validation 2\n",
      "112 - DMD with avg smape 1.21: \n",
      "Model Number: 113 of 133 with model DMD for Validation 2\n",
      "113 - DMD with avg smape 1.41: \n",
      "Model Number: 114 of 133 with model ETS for Validation 2\n"
     ]
    },
    {
     "name": "stderr",
     "output_type": "stream",
     "text": [
      "C:\\Users\\premkumar\\AppData\\Local\\Programs\\Python\\Python312\\Lib\\site-packages\\autots\\models\\base.py:1025: RuntimeWarning: invalid value encountered in divide\n",
      "  smape_cons = (np.nansum(wsmape_df, axis=1) * 200) / np.count_nonzero(\n",
      "C:\\Users\\premkumar\\AppData\\Local\\Programs\\Python\\Python312\\Lib\\site-packages\\autots\\models\\base.py:1025: RuntimeWarning: invalid value encountered in divide\n",
      "  smape_cons = (np.nansum(wsmape_df, axis=1) * 200) / np.count_nonzero(\n",
      "C:\\Users\\premkumar\\AppData\\Local\\Programs\\Python\\Python312\\Lib\\site-packages\\autots\\models\\base.py:1025: RuntimeWarning: invalid value encountered in divide\n",
      "  smape_cons = (np.nansum(wsmape_df, axis=1) * 200) / np.count_nonzero(\n",
      "C:\\Users\\premkumar\\AppData\\Local\\Programs\\Python\\Python312\\Lib\\site-packages\\autots\\models\\base.py:1025: RuntimeWarning: invalid value encountered in divide\n",
      "  smape_cons = (np.nansum(wsmape_df, axis=1) * 200) / np.count_nonzero(\n",
      "C:\\Users\\premkumar\\AppData\\Local\\Programs\\Python\\Python312\\Lib\\site-packages\\autots\\models\\base.py:1025: RuntimeWarning: invalid value encountered in divide\n",
      "  smape_cons = (np.nansum(wsmape_df, axis=1) * 200) / np.count_nonzero(\n"
     ]
    },
    {
     "name": "stdout",
     "output_type": "stream",
     "text": [
      "114 - ETS with avg smape 0.72: \n",
      "Model Number: 115 of 133 with model FFT for Validation 2\n",
      "115 - FFT with avg smape 1.14: \n",
      "Model Number: 116 of 133 with model FFT for Validation 2\n",
      "116 - FFT with avg smape 1.14: \n",
      "Model Number: 117 of 133 with model ConstantNaive for Validation 2\n",
      "117 - ConstantNaive with avg smape 1.14: \n",
      "Model Number: 118 of 133 with model ARDL for Validation 2\n"
     ]
    },
    {
     "name": "stderr",
     "output_type": "stream",
     "text": [
      "C:\\Users\\premkumar\\AppData\\Local\\Programs\\Python\\Python312\\Lib\\site-packages\\autots\\models\\base.py:1025: RuntimeWarning: invalid value encountered in divide\n",
      "  smape_cons = (np.nansum(wsmape_df, axis=1) * 200) / np.count_nonzero(\n",
      "C:\\Users\\premkumar\\AppData\\Local\\Programs\\Python\\Python312\\Lib\\site-packages\\autots\\models\\base.py:1025: RuntimeWarning: invalid value encountered in divide\n",
      "  smape_cons = (np.nansum(wsmape_df, axis=1) * 200) / np.count_nonzero(\n",
      "C:\\Users\\premkumar\\AppData\\Local\\Programs\\Python\\Python312\\Lib\\site-packages\\autots\\models\\base.py:1025: RuntimeWarning: invalid value encountered in divide\n",
      "  smape_cons = (np.nansum(wsmape_df, axis=1) * 200) / np.count_nonzero(\n",
      "C:\\Users\\premkumar\\AppData\\Local\\Programs\\Python\\Python312\\Lib\\site-packages\\autots\\models\\base.py:1025: RuntimeWarning: invalid value encountered in divide\n",
      "  smape_cons = (np.nansum(wsmape_df, axis=1) * 200) / np.count_nonzero(\n"
     ]
    },
    {
     "name": "stdout",
     "output_type": "stream",
     "text": [
      "118 - ARDL with avg smape 1.17: \n",
      "Model Number: 119 of 133 with model RRVAR for Validation 2\n",
      "119 - RRVAR with avg smape 1.44: \n",
      "Model Number: 120 of 133 with model FFT for Validation 2\n"
     ]
    },
    {
     "name": "stderr",
     "output_type": "stream",
     "text": [
      "C:\\Users\\premkumar\\AppData\\Local\\Programs\\Python\\Python312\\Lib\\site-packages\\autots\\models\\base.py:1025: RuntimeWarning: invalid value encountered in divide\n",
      "  smape_cons = (np.nansum(wsmape_df, axis=1) * 200) / np.count_nonzero(\n",
      "C:\\Users\\premkumar\\AppData\\Local\\Programs\\Python\\Python312\\Lib\\site-packages\\autots\\models\\base.py:1025: RuntimeWarning: invalid value encountered in divide\n",
      "  smape_cons = (np.nansum(wsmape_df, axis=1) * 200) / np.count_nonzero(\n",
      "C:\\Users\\premkumar\\AppData\\Local\\Programs\\Python\\Python312\\Lib\\site-packages\\autots\\models\\base.py:1025: RuntimeWarning: invalid value encountered in divide\n",
      "  smape_cons = (np.nansum(wsmape_df, axis=1) * 200) / np.count_nonzero(\n"
     ]
    },
    {
     "name": "stdout",
     "output_type": "stream",
     "text": [
      "120 - FFT with avg smape 2.0: \n",
      "Model Number: 121 of 133 with model WindowRegression for Validation 2\n",
      "121 - WindowRegression with avg smape 4.21: \n",
      "Model Number: 122 of 133 with model ETS for Validation 2\n",
      "122 - ETS with avg smape 4.85: \n",
      "Model Number: 123 of 133 with model ETS for Validation 2\n"
     ]
    },
    {
     "name": "stderr",
     "output_type": "stream",
     "text": [
      "C:\\Users\\premkumar\\AppData\\Local\\Programs\\Python\\Python312\\Lib\\site-packages\\autots\\models\\base.py:1025: RuntimeWarning: invalid value encountered in divide\n",
      "  smape_cons = (np.nansum(wsmape_df, axis=1) * 200) / np.count_nonzero(\n",
      "C:\\Users\\premkumar\\AppData\\Local\\Programs\\Python\\Python312\\Lib\\site-packages\\autots\\models\\base.py:1025: RuntimeWarning: invalid value encountered in divide\n",
      "  smape_cons = (np.nansum(wsmape_df, axis=1) * 200) / np.count_nonzero(\n",
      "C:\\Users\\premkumar\\AppData\\Local\\Programs\\Python\\Python312\\Lib\\site-packages\\autots\\models\\base.py:1025: RuntimeWarning: invalid value encountered in divide\n",
      "  smape_cons = (np.nansum(wsmape_df, axis=1) * 200) / np.count_nonzero(\n"
     ]
    },
    {
     "name": "stdout",
     "output_type": "stream",
     "text": [
      "123 - ETS with avg smape 36.15: \n",
      "Model Number: 124 of 133 with model RRVAR for Validation 2\n",
      "124 - RRVAR with avg smape 1.26: \n",
      "Model Number: 125 of 133 with model FFT for Validation 2\n",
      "125 - FFT with avg smape 6.56: \n",
      "Model Number: 126 of 133 with model ETS for Validation 2\n"
     ]
    },
    {
     "name": "stderr",
     "output_type": "stream",
     "text": [
      "C:\\Users\\premkumar\\AppData\\Local\\Programs\\Python\\Python312\\Lib\\site-packages\\autots\\models\\base.py:1025: RuntimeWarning: invalid value encountered in divide\n",
      "  smape_cons = (np.nansum(wsmape_df, axis=1) * 200) / np.count_nonzero(\n",
      "C:\\Users\\premkumar\\AppData\\Local\\Programs\\Python\\Python312\\Lib\\site-packages\\autots\\models\\base.py:1025: RuntimeWarning: invalid value encountered in divide\n",
      "  smape_cons = (np.nansum(wsmape_df, axis=1) * 200) / np.count_nonzero(\n",
      "C:\\Users\\premkumar\\AppData\\Local\\Programs\\Python\\Python312\\Lib\\site-packages\\autots\\models\\base.py:1025: RuntimeWarning: invalid value encountered in divide\n",
      "  smape_cons = (np.nansum(wsmape_df, axis=1) * 200) / np.count_nonzero(\n"
     ]
    },
    {
     "name": "stdout",
     "output_type": "stream",
     "text": [
      "126 - ETS with avg smape 2.36: \n",
      "Model Number: 127 of 133 with model WindowRegression for Validation 2\n",
      "127 - WindowRegression with avg smape 1.09: \n",
      "Model Number: 128 of 133 with model WindowRegression for Validation 2\n",
      "128 - WindowRegression with avg smape 2.02: \n",
      "Model Number: 129 of 133 with model ETS for Validation 2\n"
     ]
    },
    {
     "name": "stderr",
     "output_type": "stream",
     "text": [
      "C:\\Users\\premkumar\\AppData\\Local\\Programs\\Python\\Python312\\Lib\\site-packages\\autots\\models\\base.py:1025: RuntimeWarning: invalid value encountered in divide\n",
      "  smape_cons = (np.nansum(wsmape_df, axis=1) * 200) / np.count_nonzero(\n",
      "C:\\Users\\premkumar\\AppData\\Local\\Programs\\Python\\Python312\\Lib\\site-packages\\autots\\models\\base.py:1025: RuntimeWarning: invalid value encountered in divide\n",
      "  smape_cons = (np.nansum(wsmape_df, axis=1) * 200) / np.count_nonzero(\n"
     ]
    },
    {
     "name": "stdout",
     "output_type": "stream",
     "text": [
      "129 - ETS with avg smape 1.34: \n",
      "Model Number: 130 of 133 with model RRVAR for Validation 2\n",
      "130 - RRVAR with avg smape 1.0: \n",
      "Model Number: 131 of 133 with model RRVAR for Validation 2\n"
     ]
    },
    {
     "name": "stderr",
     "output_type": "stream",
     "text": [
      "C:\\Users\\premkumar\\AppData\\Local\\Programs\\Python\\Python312\\Lib\\site-packages\\autots\\models\\base.py:1025: RuntimeWarning: invalid value encountered in divide\n",
      "  smape_cons = (np.nansum(wsmape_df, axis=1) * 200) / np.count_nonzero(\n",
      "C:\\Users\\premkumar\\AppData\\Local\\Programs\\Python\\Python312\\Lib\\site-packages\\autots\\models\\base.py:1025: RuntimeWarning: invalid value encountered in divide\n",
      "  smape_cons = (np.nansum(wsmape_df, axis=1) * 200) / np.count_nonzero(\n"
     ]
    },
    {
     "name": "stdout",
     "output_type": "stream",
     "text": [
      "131 - RRVAR with avg smape 0.84: \n",
      "Model Number: 132 of 133 with model RRVAR for Validation 2\n",
      "132 - RRVAR with avg smape 0.81: \n",
      "Model Number: 133 of 133 with model RRVAR for Validation 2\n"
     ]
    },
    {
     "name": "stderr",
     "output_type": "stream",
     "text": [
      "C:\\Users\\premkumar\\AppData\\Local\\Programs\\Python\\Python312\\Lib\\site-packages\\autots\\models\\base.py:1025: RuntimeWarning: invalid value encountered in divide\n",
      "  smape_cons = (np.nansum(wsmape_df, axis=1) * 200) / np.count_nonzero(\n",
      "C:\\Users\\premkumar\\AppData\\Local\\Programs\\Python\\Python312\\Lib\\site-packages\\autots\\models\\base.py:1025: RuntimeWarning: invalid value encountered in divide\n",
      "  smape_cons = (np.nansum(wsmape_df, axis=1) * 200) / np.count_nonzero(\n"
     ]
    },
    {
     "name": "stdout",
     "output_type": "stream",
     "text": [
      "133 - RRVAR with avg smape 0.72: \n",
      "Validation Round: 3\n",
      "Model Number: 1 of 133 with model Ensemble for Validation 3\n"
     ]
    },
    {
     "name": "stderr",
     "output_type": "stream",
     "text": [
      "C:\\Users\\premkumar\\AppData\\Local\\Programs\\Python\\Python312\\Lib\\site-packages\\autots\\models\\base.py:1025: RuntimeWarning: invalid value encountered in divide\n",
      "  smape_cons = (np.nansum(wsmape_df, axis=1) * 200) / np.count_nonzero(\n"
     ]
    },
    {
     "name": "stdout",
     "output_type": "stream",
     "text": [
      "📈 1 - Ensemble with avg smape 1.27: \n",
      "Model Number: 2 of 133 with model Ensemble for Validation 3\n"
     ]
    },
    {
     "name": "stderr",
     "output_type": "stream",
     "text": [
      "C:\\Users\\premkumar\\AppData\\Local\\Programs\\Python\\Python312\\Lib\\site-packages\\autots\\models\\base.py:1025: RuntimeWarning: invalid value encountered in divide\n",
      "  smape_cons = (np.nansum(wsmape_df, axis=1) * 200) / np.count_nonzero(\n",
      "C:\\Users\\premkumar\\AppData\\Local\\Programs\\Python\\Python312\\Lib\\site-packages\\autots\\models\\base.py:1025: RuntimeWarning: invalid value encountered in divide\n",
      "  smape_cons = (np.nansum(wsmape_df, axis=1) * 200) / np.count_nonzero(\n"
     ]
    },
    {
     "name": "stdout",
     "output_type": "stream",
     "text": [
      "2 - Ensemble with avg smape 1.29: \n",
      "Model Number: 3 of 133 with model Ensemble for Validation 3\n",
      "3 - Ensemble with avg smape 1.27: \n",
      "Model Number: 4 of 133 with model Ensemble for Validation 3\n",
      "4 - Ensemble with avg smape 1.27: \n",
      "Model Number: 5 of 133 with model SectionalMotif for Validation 3\n",
      "5 - SectionalMotif with avg smape 1.45: \n",
      "Model Number: 6 of 133 with model SectionalMotif for Validation 3\n"
     ]
    },
    {
     "name": "stderr",
     "output_type": "stream",
     "text": [
      "C:\\Users\\premkumar\\AppData\\Local\\Programs\\Python\\Python312\\Lib\\site-packages\\autots\\models\\base.py:1025: RuntimeWarning: invalid value encountered in divide\n",
      "  smape_cons = (np.nansum(wsmape_df, axis=1) * 200) / np.count_nonzero(\n",
      "C:\\Users\\premkumar\\AppData\\Local\\Programs\\Python\\Python312\\Lib\\site-packages\\autots\\models\\base.py:1025: RuntimeWarning: invalid value encountered in divide\n",
      "  smape_cons = (np.nansum(wsmape_df, axis=1) * 200) / np.count_nonzero(\n",
      "C:\\Users\\premkumar\\AppData\\Local\\Programs\\Python\\Python312\\Lib\\site-packages\\autots\\models\\base.py:1025: RuntimeWarning: invalid value encountered in divide\n",
      "  smape_cons = (np.nansum(wsmape_df, axis=1) * 200) / np.count_nonzero(\n",
      "C:\\Users\\premkumar\\AppData\\Local\\Programs\\Python\\Python312\\Lib\\site-packages\\autots\\models\\base.py:1025: RuntimeWarning: invalid value encountered in divide\n",
      "  smape_cons = (np.nansum(wsmape_df, axis=1) * 200) / np.count_nonzero(\n"
     ]
    },
    {
     "name": "stdout",
     "output_type": "stream",
     "text": [
      "6 - SectionalMotif with avg smape 1.45: \n",
      "Model Number: 7 of 133 with model Ensemble for Validation 3\n",
      "7 - Ensemble with avg smape 1.45: \n",
      "Model Number: 8 of 133 with model SectionalMotif for Validation 3\n",
      "8 - SectionalMotif with avg smape 1.45: \n",
      "Model Number: 9 of 133 with model Ensemble for Validation 3\n"
     ]
    },
    {
     "name": "stderr",
     "output_type": "stream",
     "text": [
      "C:\\Users\\premkumar\\AppData\\Local\\Programs\\Python\\Python312\\Lib\\site-packages\\autots\\models\\base.py:1025: RuntimeWarning: invalid value encountered in divide\n",
      "  smape_cons = (np.nansum(wsmape_df, axis=1) * 200) / np.count_nonzero(\n",
      "C:\\Users\\premkumar\\AppData\\Local\\Programs\\Python\\Python312\\Lib\\site-packages\\autots\\models\\base.py:1025: RuntimeWarning: invalid value encountered in divide\n",
      "  smape_cons = (np.nansum(wsmape_df, axis=1) * 200) / np.count_nonzero(\n"
     ]
    },
    {
     "name": "stdout",
     "output_type": "stream",
     "text": [
      "9 - Ensemble with avg smape 1.57: \n",
      "Model Number: 10 of 133 with model Cassandra for Validation 3\n"
     ]
    },
    {
     "name": "stderr",
     "output_type": "stream",
     "text": [
      "C:\\Users\\premkumar\\AppData\\Local\\Programs\\Python\\Python312\\Lib\\site-packages\\autots\\models\\base.py:1025: RuntimeWarning: invalid value encountered in divide\n",
      "  smape_cons = (np.nansum(wsmape_df, axis=1) * 200) / np.count_nonzero(\n",
      "C:\\Users\\premkumar\\AppData\\Local\\Programs\\Python\\Python312\\Lib\\site-packages\\autots\\models\\base.py:1025: RuntimeWarning: invalid value encountered in divide\n",
      "  smape_cons = (np.nansum(wsmape_df, axis=1) * 200) / np.count_nonzero(\n"
     ]
    },
    {
     "name": "stdout",
     "output_type": "stream",
     "text": [
      "10 - Cassandra with avg smape 1.99: \n",
      "Model Number: 11 of 133 with model Cassandra for Validation 3\n",
      "📈 11 - Cassandra with avg smape 1.14: \n",
      "Model Number: 12 of 133 with model AverageValueNaive for Validation 3\n",
      "📈 12 - AverageValueNaive with avg smape 0.41: \n",
      "Model Number: 13 of 133 with model NVAR for Validation 3\n",
      "13 - NVAR with avg smape 1.02: \n",
      "Model Number: 14 of 133 with model AverageValueNaive for Validation 3\n",
      "14 - AverageValueNaive with avg smape 1.99: \n",
      "Model Number: 15 of 133 with model AverageValueNaive for Validation 3\n",
      "15 - AverageValueNaive with avg smape 1.99: \n",
      "Model Number: 16 of 133 with model AverageValueNaive for Validation 3\n",
      "16 - AverageValueNaive with avg smape 1.99: \n",
      "Model Number: 17 of 133 with model AverageValueNaive for Validation 3\n",
      "17 - AverageValueNaive with avg smape 1.99: \n",
      "Model Number: 18 of 133 with model AverageValueNaive for Validation 3\n"
     ]
    },
    {
     "name": "stderr",
     "output_type": "stream",
     "text": [
      "C:\\Users\\premkumar\\AppData\\Local\\Programs\\Python\\Python312\\Lib\\site-packages\\autots\\models\\base.py:1025: RuntimeWarning: invalid value encountered in divide\n",
      "  smape_cons = (np.nansum(wsmape_df, axis=1) * 200) / np.count_nonzero(\n",
      "C:\\Users\\premkumar\\AppData\\Local\\Programs\\Python\\Python312\\Lib\\site-packages\\autots\\models\\base.py:1025: RuntimeWarning: invalid value encountered in divide\n",
      "  smape_cons = (np.nansum(wsmape_df, axis=1) * 200) / np.count_nonzero(\n",
      "C:\\Users\\premkumar\\AppData\\Local\\Programs\\Python\\Python312\\Lib\\site-packages\\autots\\models\\base.py:1025: RuntimeWarning: invalid value encountered in divide\n",
      "  smape_cons = (np.nansum(wsmape_df, axis=1) * 200) / np.count_nonzero(\n",
      "C:\\Users\\premkumar\\AppData\\Local\\Programs\\Python\\Python312\\Lib\\site-packages\\autots\\models\\base.py:1025: RuntimeWarning: invalid value encountered in divide\n",
      "  smape_cons = (np.nansum(wsmape_df, axis=1) * 200) / np.count_nonzero(\n",
      "C:\\Users\\premkumar\\AppData\\Local\\Programs\\Python\\Python312\\Lib\\site-packages\\autots\\models\\base.py:1025: RuntimeWarning: invalid value encountered in divide\n",
      "  smape_cons = (np.nansum(wsmape_df, axis=1) * 200) / np.count_nonzero(\n",
      "C:\\Users\\premkumar\\AppData\\Local\\Programs\\Python\\Python312\\Lib\\site-packages\\autots\\models\\base.py:1025: RuntimeWarning: invalid value encountered in divide\n",
      "  smape_cons = (np.nansum(wsmape_df, axis=1) * 200) / np.count_nonzero(\n",
      "C:\\Users\\premkumar\\AppData\\Local\\Programs\\Python\\Python312\\Lib\\site-packages\\autots\\models\\base.py:1025: RuntimeWarning: invalid value encountered in divide\n",
      "  smape_cons = (np.nansum(wsmape_df, axis=1) * 200) / np.count_nonzero(\n"
     ]
    },
    {
     "name": "stdout",
     "output_type": "stream",
     "text": [
      "18 - AverageValueNaive with avg smape 1.99: \n",
      "Model Number: 19 of 133 with model NVAR for Validation 3\n",
      "19 - NVAR with avg smape 1.48: \n",
      "Model Number: 20 of 133 with model MetricMotif for Validation 3\n",
      "20 - MetricMotif with avg smape 0.61: \n",
      "Model Number: 21 of 133 with model LastValueNaive for Validation 3\n"
     ]
    },
    {
     "name": "stderr",
     "output_type": "stream",
     "text": [
      "C:\\Users\\premkumar\\AppData\\Local\\Programs\\Python\\Python312\\Lib\\site-packages\\autots\\models\\base.py:1025: RuntimeWarning: invalid value encountered in divide\n",
      "  smape_cons = (np.nansum(wsmape_df, axis=1) * 200) / np.count_nonzero(\n",
      "C:\\Users\\premkumar\\AppData\\Local\\Programs\\Python\\Python312\\Lib\\site-packages\\sklearn\\linear_model\\_ridge.py:204: LinAlgWarning: Ill-conditioned matrix (rcond=6.83083e-26): result may not be accurate.\n",
      "  return linalg.solve(A, Xy, assume_a=\"pos\", overwrite_a=True).T\n",
      "C:\\Users\\premkumar\\AppData\\Local\\Programs\\Python\\Python312\\Lib\\site-packages\\autots\\models\\base.py:1025: RuntimeWarning: invalid value encountered in divide\n",
      "  smape_cons = (np.nansum(wsmape_df, axis=1) * 200) / np.count_nonzero(\n",
      "C:\\Users\\premkumar\\AppData\\Local\\Programs\\Python\\Python312\\Lib\\site-packages\\autots\\models\\base.py:1025: RuntimeWarning: invalid value encountered in divide\n",
      "  smape_cons = (np.nansum(wsmape_df, axis=1) * 200) / np.count_nonzero(\n"
     ]
    },
    {
     "name": "stdout",
     "output_type": "stream",
     "text": [
      "21 - LastValueNaive with avg smape 1.55: \n",
      "Model Number: 22 of 133 with model LastValueNaive for Validation 3\n",
      "22 - LastValueNaive with avg smape 1.59: \n",
      "Model Number: 23 of 133 with model Cassandra for Validation 3\n"
     ]
    },
    {
     "name": "stderr",
     "output_type": "stream",
     "text": [
      "C:\\Users\\premkumar\\AppData\\Local\\Programs\\Python\\Python312\\Lib\\site-packages\\autots\\models\\base.py:1025: RuntimeWarning: invalid value encountered in divide\n",
      "  smape_cons = (np.nansum(wsmape_df, axis=1) * 200) / np.count_nonzero(\n",
      "C:\\Users\\premkumar\\AppData\\Local\\Programs\\Python\\Python312\\Lib\\site-packages\\autots\\models\\base.py:1025: RuntimeWarning: invalid value encountered in divide\n",
      "  smape_cons = (np.nansum(wsmape_df, axis=1) * 200) / np.count_nonzero(\n"
     ]
    },
    {
     "name": "stdout",
     "output_type": "stream",
     "text": [
      "23 - Cassandra with avg smape 1.37: \n",
      "Model Number: 24 of 133 with model LastValueNaive for Validation 3\n",
      "24 - LastValueNaive with avg smape 0.64: \n",
      "Model Number: 25 of 133 with model Cassandra for Validation 3\n"
     ]
    },
    {
     "name": "stderr",
     "output_type": "stream",
     "text": [
      "C:\\Users\\premkumar\\AppData\\Local\\Programs\\Python\\Python312\\Lib\\site-packages\\autots\\models\\base.py:1025: RuntimeWarning: invalid value encountered in divide\n",
      "  smape_cons = (np.nansum(wsmape_df, axis=1) * 200) / np.count_nonzero(\n",
      "C:\\Users\\premkumar\\AppData\\Local\\Programs\\Python\\Python312\\Lib\\site-packages\\autots\\models\\base.py:1025: RuntimeWarning: invalid value encountered in divide\n",
      "  smape_cons = (np.nansum(wsmape_df, axis=1) * 200) / np.count_nonzero(\n"
     ]
    },
    {
     "name": "stdout",
     "output_type": "stream",
     "text": [
      "25 - Cassandra with avg smape 1.34: \n",
      "Model Number: 26 of 133 with model GLS for Validation 3\n"
     ]
    },
    {
     "name": "stderr",
     "output_type": "stream",
     "text": [
      "C:\\Users\\premkumar\\AppData\\Local\\Programs\\Python\\Python312\\Lib\\site-packages\\autots\\models\\base.py:1025: RuntimeWarning: invalid value encountered in divide\n",
      "  smape_cons = (np.nansum(wsmape_df, axis=1) * 200) / np.count_nonzero(\n"
     ]
    },
    {
     "name": "stdout",
     "output_type": "stream",
     "text": [
      "26 - GLS with avg smape 0.94: \n",
      "Model Number: 27 of 133 with model UnivariateMotif for Validation 3\n",
      "27 - UnivariateMotif with avg smape 1.55: \n",
      "Model Number: 28 of 133 with model UnivariateMotif for Validation 3\n",
      "28 - UnivariateMotif with avg smape 1.55: \n",
      "Model Number: 29 of 133 with model UnivariateMotif for Validation 3\n",
      "29 - UnivariateMotif with avg smape 1.71: \n",
      "Model Number: 30 of 133 with model UnivariateMotif for Validation 3\n",
      "30 - UnivariateMotif with avg smape 2.46: \n",
      "Model Number: 31 of 133 with model MetricMotif for Validation 3\n",
      "31 - MetricMotif with avg smape 1.81: \n",
      "Model Number: 32 of 133 with model MetricMotif for Validation 3\n",
      "32 - MetricMotif with avg smape 2.19: \n",
      "Model Number: 33 of 133 with model SectionalMotif for Validation 3\n"
     ]
    },
    {
     "name": "stderr",
     "output_type": "stream",
     "text": [
      "C:\\Users\\premkumar\\AppData\\Local\\Programs\\Python\\Python312\\Lib\\site-packages\\autots\\models\\base.py:1025: RuntimeWarning: invalid value encountered in divide\n",
      "  smape_cons = (np.nansum(wsmape_df, axis=1) * 200) / np.count_nonzero(\n",
      "C:\\Users\\premkumar\\AppData\\Local\\Programs\\Python\\Python312\\Lib\\site-packages\\autots\\models\\base.py:1025: RuntimeWarning: invalid value encountered in divide\n",
      "  smape_cons = (np.nansum(wsmape_df, axis=1) * 200) / np.count_nonzero(\n",
      "C:\\Users\\premkumar\\AppData\\Local\\Programs\\Python\\Python312\\Lib\\site-packages\\autots\\models\\base.py:1025: RuntimeWarning: invalid value encountered in divide\n",
      "  smape_cons = (np.nansum(wsmape_df, axis=1) * 200) / np.count_nonzero(\n",
      "C:\\Users\\premkumar\\AppData\\Local\\Programs\\Python\\Python312\\Lib\\site-packages\\autots\\models\\base.py:1025: RuntimeWarning: invalid value encountered in divide\n",
      "  smape_cons = (np.nansum(wsmape_df, axis=1) * 200) / np.count_nonzero(\n",
      "C:\\Users\\premkumar\\AppData\\Local\\Programs\\Python\\Python312\\Lib\\site-packages\\autots\\models\\base.py:1025: RuntimeWarning: invalid value encountered in divide\n",
      "  smape_cons = (np.nansum(wsmape_df, axis=1) * 200) / np.count_nonzero(\n",
      "C:\\Users\\premkumar\\AppData\\Local\\Programs\\Python\\Python312\\Lib\\site-packages\\autots\\models\\base.py:1025: RuntimeWarning: invalid value encountered in divide\n",
      "  smape_cons = (np.nansum(wsmape_df, axis=1) * 200) / np.count_nonzero(\n",
      "C:\\Users\\premkumar\\AppData\\Local\\Programs\\Python\\Python312\\Lib\\site-packages\\autots\\models\\base.py:1025: RuntimeWarning: invalid value encountered in divide\n",
      "  smape_cons = (np.nansum(wsmape_df, axis=1) * 200) / np.count_nonzero(\n",
      "C:\\Users\\premkumar\\AppData\\Local\\Programs\\Python\\Python312\\Lib\\site-packages\\autots\\models\\base.py:1025: RuntimeWarning: invalid value encountered in divide\n",
      "  smape_cons = (np.nansum(wsmape_df, axis=1) * 200) / np.count_nonzero(\n"
     ]
    },
    {
     "name": "stdout",
     "output_type": "stream",
     "text": [
      "33 - SectionalMotif with avg smape 0.95: \n",
      "Model Number: 34 of 133 with model UnivariateMotif for Validation 3\n",
      "34 - UnivariateMotif with avg smape 1.96: \n",
      "Model Number: 35 of 133 with model Theta for Validation 3\n"
     ]
    },
    {
     "name": "stderr",
     "output_type": "stream",
     "text": [
      "C:\\Users\\premkumar\\AppData\\Local\\Programs\\Python\\Python312\\Lib\\site-packages\\autots\\models\\base.py:1025: RuntimeWarning: invalid value encountered in divide\n",
      "  smape_cons = (np.nansum(wsmape_df, axis=1) * 200) / np.count_nonzero(\n",
      "C:\\Users\\premkumar\\AppData\\Local\\Programs\\Python\\Python312\\Lib\\site-packages\\autots\\models\\base.py:1025: RuntimeWarning: invalid value encountered in divide\n",
      "  smape_cons = (np.nansum(wsmape_df, axis=1) * 200) / np.count_nonzero(\n"
     ]
    },
    {
     "name": "stdout",
     "output_type": "stream",
     "text": [
      "35 - Theta with avg smape 1.91: \n",
      "Model Number: 36 of 133 with model Theta for Validation 3\n",
      "36 - Theta with avg smape 1.91: \n",
      "Model Number: 37 of 133 with model MultivariateMotif for Validation 3\n",
      "37 - MultivariateMotif with avg smape 1.61: \n",
      "Model Number: 38 of 133 with model UnivariateMotif for Validation 3\n",
      "38 - UnivariateMotif with avg smape 3.02: \n",
      "Model Number: 39 of 133 with model MetricMotif for Validation 3\n",
      "39 - MetricMotif with avg smape 1.69: \n",
      "Model Number: 40 of 133 with model ConstantNaive for Validation 3\n",
      "40 - ConstantNaive with avg smape 0.95: \n",
      "Model Number: 41 of 133 with model ConstantNaive for Validation 3\n"
     ]
    },
    {
     "name": "stderr",
     "output_type": "stream",
     "text": [
      "C:\\Users\\premkumar\\AppData\\Local\\Programs\\Python\\Python312\\Lib\\site-packages\\autots\\models\\base.py:1025: RuntimeWarning: invalid value encountered in divide\n",
      "  smape_cons = (np.nansum(wsmape_df, axis=1) * 200) / np.count_nonzero(\n",
      "C:\\Users\\premkumar\\AppData\\Local\\Programs\\Python\\Python312\\Lib\\site-packages\\autots\\models\\base.py:1025: RuntimeWarning: invalid value encountered in divide\n",
      "  smape_cons = (np.nansum(wsmape_df, axis=1) * 200) / np.count_nonzero(\n",
      "C:\\Users\\premkumar\\AppData\\Local\\Programs\\Python\\Python312\\Lib\\site-packages\\autots\\models\\base.py:1025: RuntimeWarning: invalid value encountered in divide\n",
      "  smape_cons = (np.nansum(wsmape_df, axis=1) * 200) / np.count_nonzero(\n",
      "C:\\Users\\premkumar\\AppData\\Local\\Programs\\Python\\Python312\\Lib\\site-packages\\autots\\models\\base.py:1025: RuntimeWarning: invalid value encountered in divide\n",
      "  smape_cons = (np.nansum(wsmape_df, axis=1) * 200) / np.count_nonzero(\n",
      "C:\\Users\\premkumar\\AppData\\Local\\Programs\\Python\\Python312\\Lib\\site-packages\\autots\\models\\base.py:1025: RuntimeWarning: invalid value encountered in divide\n",
      "  smape_cons = (np.nansum(wsmape_df, axis=1) * 200) / np.count_nonzero(\n",
      "C:\\Users\\premkumar\\AppData\\Local\\Programs\\Python\\Python312\\Lib\\site-packages\\autots\\models\\base.py:1025: RuntimeWarning: invalid value encountered in divide\n",
      "  smape_cons = (np.nansum(wsmape_df, axis=1) * 200) / np.count_nonzero(\n"
     ]
    },
    {
     "name": "stdout",
     "output_type": "stream",
     "text": [
      "41 - ConstantNaive with avg smape 0.95: \n",
      "Model Number: 42 of 133 with model MultivariateMotif for Validation 3\n",
      "42 - MultivariateMotif with avg smape 1.27: \n",
      "Model Number: 43 of 133 with model SeasonalityMotif for Validation 3\n",
      "43 - SeasonalityMotif with avg smape 1.65: \n",
      "Model Number: 44 of 133 with model LastValueNaive for Validation 3\n",
      "44 - LastValueNaive with avg smape 0.6: \n",
      "Model Number: 45 of 133 with model NVAR for Validation 3\n",
      "45 - NVAR with avg smape 1.37: \n",
      "Model Number: 46 of 133 with model SeasonalityMotif for Validation 3\n"
     ]
    },
    {
     "name": "stderr",
     "output_type": "stream",
     "text": [
      "C:\\Users\\premkumar\\AppData\\Local\\Programs\\Python\\Python312\\Lib\\site-packages\\autots\\models\\base.py:1025: RuntimeWarning: invalid value encountered in divide\n",
      "  smape_cons = (np.nansum(wsmape_df, axis=1) * 200) / np.count_nonzero(\n",
      "C:\\Users\\premkumar\\AppData\\Local\\Programs\\Python\\Python312\\Lib\\site-packages\\autots\\models\\base.py:1025: RuntimeWarning: invalid value encountered in divide\n",
      "  smape_cons = (np.nansum(wsmape_df, axis=1) * 200) / np.count_nonzero(\n",
      "C:\\Users\\premkumar\\AppData\\Local\\Programs\\Python\\Python312\\Lib\\site-packages\\autots\\models\\base.py:1025: RuntimeWarning: invalid value encountered in divide\n",
      "  smape_cons = (np.nansum(wsmape_df, axis=1) * 200) / np.count_nonzero(\n",
      "C:\\Users\\premkumar\\AppData\\Local\\Programs\\Python\\Python312\\Lib\\site-packages\\autots\\models\\base.py:1025: RuntimeWarning: invalid value encountered in divide\n",
      "  smape_cons = (np.nansum(wsmape_df, axis=1) * 200) / np.count_nonzero(\n"
     ]
    },
    {
     "name": "stdout",
     "output_type": "stream",
     "text": [
      "46 - SeasonalityMotif with avg smape 1.78: \n",
      "Model Number: 47 of 133 with model MultivariateMotif for Validation 3\n",
      "47 - MultivariateMotif with avg smape 0.69: \n",
      "Model Number: 48 of 133 with model MultivariateRegression for Validation 3\n"
     ]
    },
    {
     "name": "stderr",
     "output_type": "stream",
     "text": [
      "C:\\Users\\premkumar\\AppData\\Local\\Programs\\Python\\Python312\\Lib\\site-packages\\autots\\models\\base.py:1025: RuntimeWarning: invalid value encountered in divide\n",
      "  smape_cons = (np.nansum(wsmape_df, axis=1) * 200) / np.count_nonzero(\n",
      "C:\\Users\\premkumar\\AppData\\Local\\Programs\\Python\\Python312\\Lib\\site-packages\\autots\\models\\base.py:1025: RuntimeWarning: invalid value encountered in divide\n",
      "  smape_cons = (np.nansum(wsmape_df, axis=1) * 200) / np.count_nonzero(\n"
     ]
    },
    {
     "name": "stdout",
     "output_type": "stream",
     "text": [
      "48 - MultivariateRegression with avg smape 4.65: \n",
      "Model Number: 49 of 133 with model MultivariateMotif for Validation 3\n",
      "49 - MultivariateMotif with avg smape 2.4: \n",
      "Model Number: 50 of 133 with model MetricMotif for Validation 3\n",
      "50 - MetricMotif with avg smape 1.89: \n",
      "Model Number: 51 of 133 with model MetricMotif for Validation 3\n",
      "51 - MetricMotif with avg smape 1.31: \n",
      "Model Number: 52 of 133 with model UnobservedComponents for Validation 3\n",
      "52 - UnobservedComponents with avg smape 4.44: \n",
      "Model Number: 53 of 133 with model MultivariateMotif for Validation 3\n",
      "53 - MultivariateMotif with avg smape 0.92: \n",
      "Model Number: 54 of 133 with model SectionalMotif for Validation 3\n",
      "54 - SectionalMotif with avg smape 2.73: \n",
      "Model Number: 55 of 133 with model MultivariateMotif for Validation 3\n"
     ]
    },
    {
     "name": "stderr",
     "output_type": "stream",
     "text": [
      "C:\\Users\\premkumar\\AppData\\Local\\Programs\\Python\\Python312\\Lib\\site-packages\\autots\\models\\base.py:1025: RuntimeWarning: invalid value encountered in divide\n",
      "  smape_cons = (np.nansum(wsmape_df, axis=1) * 200) / np.count_nonzero(\n",
      "C:\\Users\\premkumar\\AppData\\Local\\Programs\\Python\\Python312\\Lib\\site-packages\\autots\\models\\base.py:1025: RuntimeWarning: invalid value encountered in divide\n",
      "  smape_cons = (np.nansum(wsmape_df, axis=1) * 200) / np.count_nonzero(\n",
      "C:\\Users\\premkumar\\AppData\\Local\\Programs\\Python\\Python312\\Lib\\site-packages\\autots\\models\\base.py:1025: RuntimeWarning: invalid value encountered in divide\n",
      "  smape_cons = (np.nansum(wsmape_df, axis=1) * 200) / np.count_nonzero(\n",
      "C:\\Users\\premkumar\\AppData\\Local\\Programs\\Python\\Python312\\Lib\\site-packages\\autots\\models\\base.py:1025: RuntimeWarning: invalid value encountered in divide\n",
      "  smape_cons = (np.nansum(wsmape_df, axis=1) * 200) / np.count_nonzero(\n",
      "C:\\Users\\premkumar\\AppData\\Local\\Programs\\Python\\Python312\\Lib\\site-packages\\autots\\models\\base.py:1025: RuntimeWarning: invalid value encountered in divide\n",
      "  smape_cons = (np.nansum(wsmape_df, axis=1) * 200) / np.count_nonzero(\n",
      "C:\\Users\\premkumar\\AppData\\Local\\Programs\\Python\\Python312\\Lib\\site-packages\\autots\\models\\base.py:1025: RuntimeWarning: invalid value encountered in divide\n",
      "  smape_cons = (np.nansum(wsmape_df, axis=1) * 200) / np.count_nonzero(\n",
      "C:\\Users\\premkumar\\AppData\\Local\\Programs\\Python\\Python312\\Lib\\site-packages\\autots\\models\\base.py:1025: RuntimeWarning: invalid value encountered in divide\n",
      "  smape_cons = (np.nansum(wsmape_df, axis=1) * 200) / np.count_nonzero(\n"
     ]
    },
    {
     "name": "stdout",
     "output_type": "stream",
     "text": [
      "55 - MultivariateMotif with avg smape 1.85: \n",
      "Model Number: 56 of 133 with model SectionalMotif for Validation 3\n",
      "56 - SectionalMotif with avg smape 2.72: \n",
      "Model Number: 57 of 133 with model Cassandra for Validation 3\n"
     ]
    },
    {
     "name": "stderr",
     "output_type": "stream",
     "text": [
      "C:\\Users\\premkumar\\AppData\\Local\\Programs\\Python\\Python312\\Lib\\site-packages\\autots\\models\\base.py:1025: RuntimeWarning: invalid value encountered in divide\n",
      "  smape_cons = (np.nansum(wsmape_df, axis=1) * 200) / np.count_nonzero(\n",
      "C:\\Users\\premkumar\\AppData\\Local\\Programs\\Python\\Python312\\Lib\\site-packages\\autots\\models\\base.py:1025: RuntimeWarning: invalid value encountered in divide\n",
      "  smape_cons = (np.nansum(wsmape_df, axis=1) * 200) / np.count_nonzero(\n"
     ]
    },
    {
     "name": "stdout",
     "output_type": "stream",
     "text": [
      "57 - Cassandra with avg smape 1.14: \n",
      "Model Number: 58 of 133 with model SeasonalityMotif for Validation 3\n"
     ]
    },
    {
     "name": "stderr",
     "output_type": "stream",
     "text": [
      "C:\\Users\\premkumar\\AppData\\Local\\Programs\\Python\\Python312\\Lib\\site-packages\\autots\\models\\base.py:1025: RuntimeWarning: invalid value encountered in divide\n",
      "  smape_cons = (np.nansum(wsmape_df, axis=1) * 200) / np.count_nonzero(\n",
      "C:\\Users\\premkumar\\AppData\\Local\\Programs\\Python\\Python312\\Lib\\site-packages\\autots\\models\\base.py:1025: RuntimeWarning: invalid value encountered in divide\n",
      "  smape_cons = (np.nansum(wsmape_df, axis=1) * 200) / np.count_nonzero(\n"
     ]
    },
    {
     "name": "stdout",
     "output_type": "stream",
     "text": [
      "58 - SeasonalityMotif with avg smape 1.7: \n",
      "Model Number: 59 of 133 with model Cassandra for Validation 3\n",
      "59 - Cassandra with avg smape 1.01: \n",
      "Model Number: 60 of 133 with model NVAR for Validation 3\n",
      "60 - NVAR with avg smape 1.7: \n",
      "Model Number: 61 of 133 with model NVAR for Validation 3\n",
      "61 - NVAR with avg smape 1.19: \n",
      "Model Number: 62 of 133 with model UnobservedComponents for Validation 3\n",
      "62 - UnobservedComponents with avg smape 1.34: \n",
      "Model Number: 63 of 133 with model NVAR for Validation 3\n",
      "63 - NVAR with avg smape 1.7: \n",
      "Model Number: 64 of 133 with model SeasonalityMotif for Validation 3\n"
     ]
    },
    {
     "name": "stderr",
     "output_type": "stream",
     "text": [
      "C:\\Users\\premkumar\\AppData\\Local\\Programs\\Python\\Python312\\Lib\\site-packages\\autots\\models\\base.py:1025: RuntimeWarning: invalid value encountered in divide\n",
      "  smape_cons = (np.nansum(wsmape_df, axis=1) * 200) / np.count_nonzero(\n",
      "C:\\Users\\premkumar\\AppData\\Local\\Programs\\Python\\Python312\\Lib\\site-packages\\autots\\models\\base.py:1025: RuntimeWarning: invalid value encountered in divide\n",
      "  smape_cons = (np.nansum(wsmape_df, axis=1) * 200) / np.count_nonzero(\n",
      "C:\\Users\\premkumar\\AppData\\Local\\Programs\\Python\\Python312\\Lib\\site-packages\\autots\\models\\base.py:1025: RuntimeWarning: invalid value encountered in divide\n",
      "  smape_cons = (np.nansum(wsmape_df, axis=1) * 200) / np.count_nonzero(\n",
      "C:\\Users\\premkumar\\AppData\\Local\\Programs\\Python\\Python312\\Lib\\site-packages\\autots\\models\\base.py:1025: RuntimeWarning: invalid value encountered in divide\n",
      "  smape_cons = (np.nansum(wsmape_df, axis=1) * 200) / np.count_nonzero(\n",
      "C:\\Users\\premkumar\\AppData\\Local\\Programs\\Python\\Python312\\Lib\\site-packages\\autots\\models\\base.py:1025: RuntimeWarning: invalid value encountered in divide\n",
      "  smape_cons = (np.nansum(wsmape_df, axis=1) * 200) / np.count_nonzero(\n"
     ]
    },
    {
     "name": "stdout",
     "output_type": "stream",
     "text": [
      "64 - SeasonalityMotif with avg smape 1.45: \n",
      "Model Number: 65 of 133 with model SeasonalityMotif for Validation 3\n",
      "65 - SeasonalityMotif with avg smape 1.43: \n",
      "Model Number: 66 of 133 with model MultivariateRegression for Validation 3\n"
     ]
    },
    {
     "name": "stderr",
     "output_type": "stream",
     "text": [
      "C:\\Users\\premkumar\\AppData\\Local\\Programs\\Python\\Python312\\Lib\\site-packages\\autots\\models\\base.py:1025: RuntimeWarning: invalid value encountered in divide\n",
      "  smape_cons = (np.nansum(wsmape_df, axis=1) * 200) / np.count_nonzero(\n",
      "C:\\Users\\premkumar\\AppData\\Local\\Programs\\Python\\Python312\\Lib\\site-packages\\autots\\models\\base.py:1025: RuntimeWarning: invalid value encountered in divide\n",
      "  smape_cons = (np.nansum(wsmape_df, axis=1) * 200) / np.count_nonzero(\n"
     ]
    },
    {
     "name": "stdout",
     "output_type": "stream",
     "text": [
      "66 - MultivariateRegression with avg smape 1.78: \n",
      "Model Number: 67 of 133 with model SeasonalityMotif for Validation 3\n",
      "67 - SeasonalityMotif with avg smape 1.75: \n",
      "Model Number: 68 of 133 with model ConstantNaive for Validation 3\n"
     ]
    },
    {
     "name": "stderr",
     "output_type": "stream",
     "text": [
      "C:\\Users\\premkumar\\AppData\\Local\\Programs\\Python\\Python312\\Lib\\site-packages\\autots\\models\\base.py:1025: RuntimeWarning: invalid value encountered in divide\n",
      "  smape_cons = (np.nansum(wsmape_df, axis=1) * 200) / np.count_nonzero(\n",
      "C:\\Users\\premkumar\\AppData\\Local\\Programs\\Python\\Python312\\Lib\\site-packages\\autots\\models\\base.py:1025: RuntimeWarning: invalid value encountered in divide\n",
      "  smape_cons = (np.nansum(wsmape_df, axis=1) * 200) / np.count_nonzero(\n",
      "C:\\Users\\premkumar\\AppData\\Local\\Programs\\Python\\Python312\\Lib\\site-packages\\autots\\models\\base.py:1025: RuntimeWarning: invalid value encountered in divide\n",
      "  smape_cons = (np.nansum(wsmape_df, axis=1) * 200) / np.count_nonzero(\n"
     ]
    },
    {
     "name": "stdout",
     "output_type": "stream",
     "text": [
      "68 - ConstantNaive with avg smape 0.83: \n",
      "Model Number: 69 of 133 with model WindowRegression for Validation 3\n",
      "69 - WindowRegression with avg smape 1.93: \n",
      "Model Number: 70 of 133 with model GLS for Validation 3\n",
      "70 - GLS with avg smape 1.89: \n",
      "Model Number: 71 of 133 with model SeasonalNaive for Validation 3\n"
     ]
    },
    {
     "name": "stderr",
     "output_type": "stream",
     "text": [
      "C:\\Users\\premkumar\\AppData\\Local\\Programs\\Python\\Python312\\Lib\\site-packages\\autots\\models\\base.py:1025: RuntimeWarning: invalid value encountered in divide\n",
      "  smape_cons = (np.nansum(wsmape_df, axis=1) * 200) / np.count_nonzero(\n",
      "C:\\Users\\premkumar\\AppData\\Local\\Programs\\Python\\Python312\\Lib\\site-packages\\autots\\models\\base.py:1025: RuntimeWarning: invalid value encountered in divide\n",
      "  smape_cons = (np.nansum(wsmape_df, axis=1) * 200) / np.count_nonzero(\n",
      "C:\\Users\\premkumar\\AppData\\Local\\Programs\\Python\\Python312\\Lib\\site-packages\\autots\\models\\base.py:1025: RuntimeWarning: invalid value encountered in divide\n",
      "  smape_cons = (np.nansum(wsmape_df, axis=1) * 200) / np.count_nonzero(\n"
     ]
    },
    {
     "name": "stdout",
     "output_type": "stream",
     "text": [
      "71 - SeasonalNaive with avg smape 4.81: \n",
      "Model Number: 72 of 133 with model ARIMA for Validation 3\n",
      "72 - ARIMA with avg smape 0.68: \n",
      "Model Number: 73 of 133 with model LastValueNaive for Validation 3\n"
     ]
    },
    {
     "name": "stderr",
     "output_type": "stream",
     "text": [
      "C:\\Users\\premkumar\\AppData\\Local\\Programs\\Python\\Python312\\Lib\\site-packages\\autots\\models\\base.py:1025: RuntimeWarning: invalid value encountered in divide\n",
      "  smape_cons = (np.nansum(wsmape_df, axis=1) * 200) / np.count_nonzero(\n",
      "C:\\Users\\premkumar\\AppData\\Local\\Programs\\Python\\Python312\\Lib\\site-packages\\autots\\models\\base.py:1025: RuntimeWarning: invalid value encountered in divide\n",
      "  smape_cons = (np.nansum(wsmape_df, axis=1) * 200) / np.count_nonzero(\n"
     ]
    },
    {
     "name": "stdout",
     "output_type": "stream",
     "text": [
      "73 - LastValueNaive with avg smape 1.15: \n",
      "Model Number: 74 of 133 with model WindowRegression for Validation 3\n",
      "74 - WindowRegression with avg smape 1.9: \n",
      "Model Number: 75 of 133 with model GLS for Validation 3\n"
     ]
    },
    {
     "name": "stderr",
     "output_type": "stream",
     "text": [
      "C:\\Users\\premkumar\\AppData\\Local\\Programs\\Python\\Python312\\Lib\\site-packages\\autots\\models\\base.py:1025: RuntimeWarning: invalid value encountered in divide\n",
      "  smape_cons = (np.nansum(wsmape_df, axis=1) * 200) / np.count_nonzero(\n",
      "C:\\Users\\premkumar\\AppData\\Local\\Programs\\Python\\Python312\\Lib\\site-packages\\autots\\models\\base.py:1025: RuntimeWarning: invalid value encountered in divide\n",
      "  smape_cons = (np.nansum(wsmape_df, axis=1) * 200) / np.count_nonzero(\n"
     ]
    },
    {
     "name": "stdout",
     "output_type": "stream",
     "text": [
      "75 - GLS with avg smape 0.71: \n",
      "Model Number: 76 of 133 with model ARIMA for Validation 3\n"
     ]
    },
    {
     "name": "stderr",
     "output_type": "stream",
     "text": [
      "C:\\Users\\premkumar\\AppData\\Local\\Programs\\Python\\Python312\\Lib\\site-packages\\autots\\models\\base.py:1025: RuntimeWarning: invalid value encountered in divide\n",
      "  smape_cons = (np.nansum(wsmape_df, axis=1) * 200) / np.count_nonzero(\n"
     ]
    },
    {
     "name": "stdout",
     "output_type": "stream",
     "text": [
      "76 - ARIMA with avg smape 0.88: \n",
      "Model Number: 77 of 133 with model MultivariateRegression for Validation 3\n",
      "77 - MultivariateRegression with avg smape 1.42: \n",
      "Model Number: 78 of 133 with model LastValueNaive for Validation 3\n",
      "78 - LastValueNaive with avg smape 1.01: \n",
      "Model Number: 79 of 133 with model GLS for Validation 3\n"
     ]
    },
    {
     "name": "stderr",
     "output_type": "stream",
     "text": [
      "C:\\Users\\premkumar\\AppData\\Local\\Programs\\Python\\Python312\\Lib\\site-packages\\autots\\models\\base.py:1025: RuntimeWarning: invalid value encountered in divide\n",
      "  smape_cons = (np.nansum(wsmape_df, axis=1) * 200) / np.count_nonzero(\n",
      "C:\\Users\\premkumar\\AppData\\Local\\Programs\\Python\\Python312\\Lib\\site-packages\\autots\\models\\base.py:1025: RuntimeWarning: invalid value encountered in divide\n",
      "  smape_cons = (np.nansum(wsmape_df, axis=1) * 200) / np.count_nonzero(\n",
      "C:\\Users\\premkumar\\AppData\\Local\\Programs\\Python\\Python312\\Lib\\site-packages\\autots\\models\\base.py:1025: RuntimeWarning: invalid value encountered in divide\n",
      "  smape_cons = (np.nansum(wsmape_df, axis=1) * 200) / np.count_nonzero(\n"
     ]
    },
    {
     "name": "stdout",
     "output_type": "stream",
     "text": [
      "79 - GLS with avg smape 1.58: \n",
      "Model Number: 80 of 133 with model ARIMA for Validation 3\n"
     ]
    },
    {
     "name": "stderr",
     "output_type": "stream",
     "text": [
      "C:\\Users\\premkumar\\AppData\\Local\\Programs\\Python\\Python312\\Lib\\site-packages\\autots\\models\\base.py:1025: RuntimeWarning: invalid value encountered in divide\n",
      "  smape_cons = (np.nansum(wsmape_df, axis=1) * 200) / np.count_nonzero(\n"
     ]
    },
    {
     "name": "stdout",
     "output_type": "stream",
     "text": [
      "80 - ARIMA with avg smape 0.91: \n",
      "Model Number: 81 of 133 with model ARIMA for Validation 3\n"
     ]
    },
    {
     "name": "stderr",
     "output_type": "stream",
     "text": [
      "C:\\Users\\premkumar\\AppData\\Local\\Programs\\Python\\Python312\\Lib\\site-packages\\autots\\models\\base.py:1025: RuntimeWarning: invalid value encountered in divide\n",
      "  smape_cons = (np.nansum(wsmape_df, axis=1) * 200) / np.count_nonzero(\n"
     ]
    },
    {
     "name": "stdout",
     "output_type": "stream",
     "text": [
      "81 - ARIMA with avg smape 1.12: \n",
      "Model Number: 82 of 133 with model UnobservedComponents for Validation 3\n",
      "82 - UnobservedComponents with avg smape 1.5: \n",
      "Model Number: 83 of 133 with model WindowRegression for Validation 3\n"
     ]
    },
    {
     "name": "stderr",
     "output_type": "stream",
     "text": [
      "C:\\Users\\premkumar\\AppData\\Local\\Programs\\Python\\Python312\\Lib\\site-packages\\autots\\models\\base.py:1025: RuntimeWarning: invalid value encountered in divide\n",
      "  smape_cons = (np.nansum(wsmape_df, axis=1) * 200) / np.count_nonzero(\n",
      "C:\\Users\\premkumar\\AppData\\Local\\Programs\\Python\\Python312\\Lib\\site-packages\\sklearn\\linear_model\\_coordinate_descent.py:678: ConvergenceWarning: Objective did not converge. You might want to increase the number of iterations, check the scale of the features or consider increasing regularisation. Duality gap: 3.469e+03, tolerance: 9.397e+02\n",
      "  model = cd_fast.enet_coordinate_descent(\n",
      "C:\\Users\\premkumar\\AppData\\Local\\Programs\\Python\\Python312\\Lib\\site-packages\\autots\\models\\base.py:1025: RuntimeWarning: invalid value encountered in divide\n",
      "  smape_cons = (np.nansum(wsmape_df, axis=1) * 200) / np.count_nonzero(\n"
     ]
    },
    {
     "name": "stdout",
     "output_type": "stream",
     "text": [
      "83 - WindowRegression with avg smape 0.96: \n",
      "Model Number: 84 of 133 with model ARIMA for Validation 3\n",
      "84 - ARIMA with avg smape 0.79: \n",
      "Model Number: 85 of 133 with model ConstantNaive for Validation 3\n"
     ]
    },
    {
     "name": "stderr",
     "output_type": "stream",
     "text": [
      "C:\\Users\\premkumar\\AppData\\Local\\Programs\\Python\\Python312\\Lib\\site-packages\\autots\\models\\base.py:1025: RuntimeWarning: invalid value encountered in divide\n",
      "  smape_cons = (np.nansum(wsmape_df, axis=1) * 200) / np.count_nonzero(\n",
      "C:\\Users\\premkumar\\AppData\\Local\\Programs\\Python\\Python312\\Lib\\site-packages\\autots\\models\\base.py:1025: RuntimeWarning: invalid value encountered in divide\n",
      "  smape_cons = (np.nansum(wsmape_df, axis=1) * 200) / np.count_nonzero(\n"
     ]
    },
    {
     "name": "stdout",
     "output_type": "stream",
     "text": [
      "85 - ConstantNaive with avg smape 2.19: \n",
      "Model Number: 86 of 133 with model MultivariateRegression for Validation 3\n",
      "86 - MultivariateRegression with avg smape 3.56: \n",
      "Model Number: 87 of 133 with model ARIMA for Validation 3\n",
      "87 - ARIMA with avg smape 1.37: \n",
      "Model Number: 88 of 133 with model SeasonalNaive for Validation 3\n"
     ]
    },
    {
     "name": "stderr",
     "output_type": "stream",
     "text": [
      "C:\\Users\\premkumar\\AppData\\Local\\Programs\\Python\\Python312\\Lib\\site-packages\\autots\\models\\base.py:1025: RuntimeWarning: invalid value encountered in divide\n",
      "  smape_cons = (np.nansum(wsmape_df, axis=1) * 200) / np.count_nonzero(\n",
      "C:\\Users\\premkumar\\AppData\\Local\\Programs\\Python\\Python312\\Lib\\site-packages\\autots\\models\\base.py:1025: RuntimeWarning: invalid value encountered in divide\n",
      "  smape_cons = (np.nansum(wsmape_df, axis=1) * 200) / np.count_nonzero(\n"
     ]
    },
    {
     "name": "stdout",
     "output_type": "stream",
     "text": [
      "88 - SeasonalNaive with avg smape 3.37: \n",
      "Model Number: 89 of 133 with model UnobservedComponents for Validation 3\n"
     ]
    },
    {
     "name": "stderr",
     "output_type": "stream",
     "text": [
      "C:\\Users\\premkumar\\AppData\\Local\\Programs\\Python\\Python312\\Lib\\site-packages\\autots\\models\\base.py:1025: RuntimeWarning: invalid value encountered in divide\n",
      "  smape_cons = (np.nansum(wsmape_df, axis=1) * 200) / np.count_nonzero(\n"
     ]
    },
    {
     "name": "stdout",
     "output_type": "stream",
     "text": [
      "89 - UnobservedComponents with avg smape 3.91: \n",
      "Model Number: 90 of 133 with model SeasonalNaive for Validation 3\n",
      "90 - SeasonalNaive with avg smape 0.91: \n",
      "Model Number: 91 of 133 with model ARDL for Validation 3\n",
      "91 - ARDL with avg smape 0.7: \n",
      "Model Number: 92 of 133 with model UnobservedComponents for Validation 3\n"
     ]
    },
    {
     "name": "stderr",
     "output_type": "stream",
     "text": [
      "C:\\Users\\premkumar\\AppData\\Local\\Programs\\Python\\Python312\\Lib\\site-packages\\autots\\models\\base.py:1025: RuntimeWarning: invalid value encountered in divide\n",
      "  smape_cons = (np.nansum(wsmape_df, axis=1) * 200) / np.count_nonzero(\n",
      "C:\\Users\\premkumar\\AppData\\Local\\Programs\\Python\\Python312\\Lib\\site-packages\\autots\\models\\base.py:1025: RuntimeWarning: invalid value encountered in divide\n",
      "  smape_cons = (np.nansum(wsmape_df, axis=1) * 200) / np.count_nonzero(\n",
      "C:\\Users\\premkumar\\AppData\\Local\\Programs\\Python\\Python312\\Lib\\site-packages\\autots\\models\\base.py:1025: RuntimeWarning: invalid value encountered in divide\n",
      "  smape_cons = (np.nansum(wsmape_df, axis=1) * 200) / np.count_nonzero(\n",
      "C:\\Users\\premkumar\\AppData\\Local\\Programs\\Python\\Python312\\Lib\\site-packages\\autots\\models\\base.py:1025: RuntimeWarning: invalid value encountered in divide\n",
      "  smape_cons = (np.nansum(wsmape_df, axis=1) * 200) / np.count_nonzero(\n"
     ]
    },
    {
     "name": "stdout",
     "output_type": "stream",
     "text": [
      "92 - UnobservedComponents with avg smape 0.89: \n",
      "Model Number: 93 of 133 with model UnobservedComponents for Validation 3\n",
      "93 - UnobservedComponents with avg smape 0.64: \n",
      "Model Number: 94 of 133 with model ConstantNaive for Validation 3\n"
     ]
    },
    {
     "name": "stderr",
     "output_type": "stream",
     "text": [
      "C:\\Users\\premkumar\\AppData\\Local\\Programs\\Python\\Python312\\Lib\\site-packages\\autots\\models\\base.py:1025: RuntimeWarning: invalid value encountered in divide\n",
      "  smape_cons = (np.nansum(wsmape_df, axis=1) * 200) / np.count_nonzero(\n",
      "C:\\Users\\premkumar\\AppData\\Local\\Programs\\Python\\Python312\\Lib\\site-packages\\autots\\models\\base.py:1025: RuntimeWarning: invalid value encountered in divide\n",
      "  smape_cons = (np.nansum(wsmape_df, axis=1) * 200) / np.count_nonzero(\n"
     ]
    },
    {
     "name": "stdout",
     "output_type": "stream",
     "text": [
      "94 - ConstantNaive with avg smape 1.5: \n",
      "Model Number: 95 of 133 with model Theta for Validation 3\n"
     ]
    },
    {
     "name": "stderr",
     "output_type": "stream",
     "text": [
      "C:\\Users\\premkumar\\AppData\\Local\\Programs\\Python\\Python312\\Lib\\site-packages\\autots\\models\\base.py:1025: RuntimeWarning: invalid value encountered in divide\n",
      "  smape_cons = (np.nansum(wsmape_df, axis=1) * 200) / np.count_nonzero(\n"
     ]
    },
    {
     "name": "stdout",
     "output_type": "stream",
     "text": [
      "95 - Theta with avg smape 1.59: \n",
      "Model Number: 96 of 133 with model MultivariateRegression for Validation 3\n",
      "96 - MultivariateRegression with avg smape 1.24: \n",
      "Model Number: 97 of 133 with model GLS for Validation 3\n"
     ]
    },
    {
     "name": "stderr",
     "output_type": "stream",
     "text": [
      "C:\\Users\\premkumar\\AppData\\Local\\Programs\\Python\\Python312\\Lib\\site-packages\\autots\\models\\base.py:1025: RuntimeWarning: invalid value encountered in divide\n",
      "  smape_cons = (np.nansum(wsmape_df, axis=1) * 200) / np.count_nonzero(\n",
      "C:\\Users\\premkumar\\AppData\\Local\\Programs\\Python\\Python312\\Lib\\site-packages\\autots\\models\\base.py:1025: RuntimeWarning: invalid value encountered in divide\n",
      "  smape_cons = (np.nansum(wsmape_df, axis=1) * 200) / np.count_nonzero(\n"
     ]
    },
    {
     "name": "stdout",
     "output_type": "stream",
     "text": [
      "97 - GLS with avg smape 0.89: \n",
      "Model Number: 98 of 133 with model MultivariateRegression for Validation 3\n"
     ]
    },
    {
     "name": "stderr",
     "output_type": "stream",
     "text": [
      "C:\\Users\\premkumar\\AppData\\Local\\Programs\\Python\\Python312\\Lib\\site-packages\\autots\\models\\base.py:1025: RuntimeWarning: invalid value encountered in divide\n",
      "  smape_cons = (np.nansum(wsmape_df, axis=1) * 200) / np.count_nonzero(\n"
     ]
    },
    {
     "name": "stdout",
     "output_type": "stream",
     "text": [
      "98 - MultivariateRegression with avg smape 1.7: \n",
      "Model Number: 99 of 133 with model Theta for Validation 3\n"
     ]
    },
    {
     "name": "stderr",
     "output_type": "stream",
     "text": [
      "C:\\Users\\premkumar\\AppData\\Local\\Programs\\Python\\Python312\\Lib\\site-packages\\autots\\models\\base.py:1025: RuntimeWarning: invalid value encountered in divide\n",
      "  smape_cons = (np.nansum(wsmape_df, axis=1) * 200) / np.count_nonzero(\n"
     ]
    },
    {
     "name": "stdout",
     "output_type": "stream",
     "text": [
      "99 - Theta with avg smape 0.63: \n",
      "Model Number: 100 of 133 with model Theta for Validation 3\n"
     ]
    },
    {
     "name": "stderr",
     "output_type": "stream",
     "text": [
      "C:\\Users\\premkumar\\AppData\\Local\\Programs\\Python\\Python312\\Lib\\site-packages\\autots\\models\\base.py:1025: RuntimeWarning: invalid value encountered in divide\n",
      "  smape_cons = (np.nansum(wsmape_df, axis=1) * 200) / np.count_nonzero(\n"
     ]
    },
    {
     "name": "stdout",
     "output_type": "stream",
     "text": [
      "100 - Theta with avg smape 0.65: \n",
      "Model Number: 101 of 133 with model Theta for Validation 3\n"
     ]
    },
    {
     "name": "stderr",
     "output_type": "stream",
     "text": [
      "C:\\Users\\premkumar\\AppData\\Local\\Programs\\Python\\Python312\\Lib\\site-packages\\autots\\models\\base.py:1025: RuntimeWarning: invalid value encountered in divide\n",
      "  smape_cons = (np.nansum(wsmape_df, axis=1) * 200) / np.count_nonzero(\n"
     ]
    },
    {
     "name": "stdout",
     "output_type": "stream",
     "text": [
      "101 - Theta with avg smape 0.59: \n",
      "Model Number: 102 of 133 with model FFT for Validation 3\n",
      "102 - FFT with avg smape 0.72: \n",
      "Model Number: 103 of 133 with model GLS for Validation 3\n"
     ]
    },
    {
     "name": "stderr",
     "output_type": "stream",
     "text": [
      "C:\\Users\\premkumar\\AppData\\Local\\Programs\\Python\\Python312\\Lib\\site-packages\\autots\\models\\base.py:1025: RuntimeWarning: invalid value encountered in divide\n",
      "  smape_cons = (np.nansum(wsmape_df, axis=1) * 200) / np.count_nonzero(\n",
      "C:\\Users\\premkumar\\AppData\\Local\\Programs\\Python\\Python312\\Lib\\site-packages\\autots\\models\\base.py:1025: RuntimeWarning: invalid value encountered in divide\n",
      "  smape_cons = (np.nansum(wsmape_df, axis=1) * 200) / np.count_nonzero(\n"
     ]
    },
    {
     "name": "stdout",
     "output_type": "stream",
     "text": [
      "103 - GLS with avg smape 0.68: \n",
      "Model Number: 104 of 133 with model ARDL for Validation 3\n",
      "104 - ARDL with avg smape 0.65: \n",
      "Model Number: 105 of 133 with model DMD for Validation 3\n",
      "105 - DMD with avg smape 0.64: \n",
      "Model Number: 106 of 133 with model DMD for Validation 3\n",
      "106 - DMD with avg smape 1.5: \n",
      "Model Number: 107 of 133 with model DMD for Validation 3\n"
     ]
    },
    {
     "name": "stderr",
     "output_type": "stream",
     "text": [
      "C:\\Users\\premkumar\\AppData\\Local\\Programs\\Python\\Python312\\Lib\\site-packages\\autots\\models\\base.py:1025: RuntimeWarning: invalid value encountered in divide\n",
      "  smape_cons = (np.nansum(wsmape_df, axis=1) * 200) / np.count_nonzero(\n",
      "C:\\Users\\premkumar\\AppData\\Local\\Programs\\Python\\Python312\\Lib\\site-packages\\autots\\models\\base.py:1025: RuntimeWarning: invalid value encountered in divide\n",
      "  smape_cons = (np.nansum(wsmape_df, axis=1) * 200) / np.count_nonzero(\n",
      "C:\\Users\\premkumar\\AppData\\Local\\Programs\\Python\\Python312\\Lib\\site-packages\\autots\\models\\base.py:1025: RuntimeWarning: invalid value encountered in divide\n",
      "  smape_cons = (np.nansum(wsmape_df, axis=1) * 200) / np.count_nonzero(\n",
      "C:\\Users\\premkumar\\AppData\\Local\\Programs\\Python\\Python312\\Lib\\site-packages\\autots\\models\\base.py:1025: RuntimeWarning: invalid value encountered in divide\n",
      "  smape_cons = (np.nansum(wsmape_df, axis=1) * 200) / np.count_nonzero(\n"
     ]
    },
    {
     "name": "stdout",
     "output_type": "stream",
     "text": [
      "107 - DMD with avg smape 0.68: \n",
      "Model Number: 108 of 133 with model ARDL for Validation 3\n"
     ]
    },
    {
     "name": "stderr",
     "output_type": "stream",
     "text": [
      "C:\\Users\\premkumar\\AppData\\Local\\Programs\\Python\\Python312\\Lib\\site-packages\\autots\\models\\base.py:1025: RuntimeWarning: invalid value encountered in divide\n",
      "  smape_cons = (np.nansum(wsmape_df, axis=1) * 200) / np.count_nonzero(\n"
     ]
    },
    {
     "name": "stdout",
     "output_type": "stream",
     "text": [
      "108 - ARDL with avg smape 0.63: \n",
      "Model Number: 109 of 133 with model ARDL for Validation 3\n",
      "109 - ARDL with avg smape 1.12: \n",
      "Model Number: 110 of 133 with model ARDL for Validation 3\n",
      "110 - ARDL with avg smape 0.66: \n",
      "Model Number: 111 of 133 with model DMD for Validation 3\n",
      "111 - DMD with avg smape 0.64: \n",
      "Model Number: 112 of 133 with model DMD for Validation 3\n",
      "112 - DMD with avg smape 0.68: \n",
      "Model Number: 113 of 133 with model DMD for Validation 3\n"
     ]
    },
    {
     "name": "stderr",
     "output_type": "stream",
     "text": [
      "C:\\Users\\premkumar\\AppData\\Local\\Programs\\Python\\Python312\\Lib\\site-packages\\autots\\models\\base.py:1025: RuntimeWarning: invalid value encountered in divide\n",
      "  smape_cons = (np.nansum(wsmape_df, axis=1) * 200) / np.count_nonzero(\n",
      "C:\\Users\\premkumar\\AppData\\Local\\Programs\\Python\\Python312\\Lib\\site-packages\\autots\\models\\base.py:1025: RuntimeWarning: invalid value encountered in divide\n",
      "  smape_cons = (np.nansum(wsmape_df, axis=1) * 200) / np.count_nonzero(\n",
      "C:\\Users\\premkumar\\AppData\\Local\\Programs\\Python\\Python312\\Lib\\site-packages\\autots\\models\\base.py:1025: RuntimeWarning: invalid value encountered in divide\n",
      "  smape_cons = (np.nansum(wsmape_df, axis=1) * 200) / np.count_nonzero(\n",
      "C:\\Users\\premkumar\\AppData\\Local\\Programs\\Python\\Python312\\Lib\\site-packages\\autots\\models\\base.py:1025: RuntimeWarning: invalid value encountered in divide\n",
      "  smape_cons = (np.nansum(wsmape_df, axis=1) * 200) / np.count_nonzero(\n",
      "C:\\Users\\premkumar\\AppData\\Local\\Programs\\Python\\Python312\\Lib\\site-packages\\autots\\models\\base.py:1025: RuntimeWarning: invalid value encountered in divide\n",
      "  smape_cons = (np.nansum(wsmape_df, axis=1) * 200) / np.count_nonzero(\n"
     ]
    },
    {
     "name": "stdout",
     "output_type": "stream",
     "text": [
      "113 - DMD with avg smape 0.63: \n",
      "Model Number: 114 of 133 with model ETS for Validation 3\n",
      "114 - ETS with avg smape 4.38: \n",
      "Model Number: 115 of 133 with model FFT for Validation 3\n",
      "115 - FFT with avg smape 7.09: \n",
      "Model Number: 116 of 133 with model FFT for Validation 3\n",
      "116 - FFT with avg smape 7.09: \n",
      "Model Number: 117 of 133 with model ConstantNaive for Validation 3\n",
      "117 - ConstantNaive with avg smape 0.64: \n",
      "Model Number: 118 of 133 with model ARDL for Validation 3\n"
     ]
    },
    {
     "name": "stderr",
     "output_type": "stream",
     "text": [
      "C:\\Users\\premkumar\\AppData\\Local\\Programs\\Python\\Python312\\Lib\\site-packages\\autots\\models\\base.py:1025: RuntimeWarning: invalid value encountered in divide\n",
      "  smape_cons = (np.nansum(wsmape_df, axis=1) * 200) / np.count_nonzero(\n",
      "C:\\Users\\premkumar\\AppData\\Local\\Programs\\Python\\Python312\\Lib\\site-packages\\autots\\models\\base.py:1025: RuntimeWarning: invalid value encountered in divide\n",
      "  smape_cons = (np.nansum(wsmape_df, axis=1) * 200) / np.count_nonzero(\n",
      "C:\\Users\\premkumar\\AppData\\Local\\Programs\\Python\\Python312\\Lib\\site-packages\\autots\\models\\base.py:1025: RuntimeWarning: invalid value encountered in divide\n",
      "  smape_cons = (np.nansum(wsmape_df, axis=1) * 200) / np.count_nonzero(\n",
      "C:\\Users\\premkumar\\AppData\\Local\\Programs\\Python\\Python312\\Lib\\site-packages\\autots\\models\\base.py:1025: RuntimeWarning: invalid value encountered in divide\n",
      "  smape_cons = (np.nansum(wsmape_df, axis=1) * 200) / np.count_nonzero(\n"
     ]
    },
    {
     "name": "stdout",
     "output_type": "stream",
     "text": [
      "118 - ARDL with avg smape 0.65: \n",
      "Model Number: 119 of 133 with model RRVAR for Validation 3\n",
      "119 - RRVAR with avg smape 0.92: \n",
      "Model Number: 120 of 133 with model FFT for Validation 3\n"
     ]
    },
    {
     "name": "stderr",
     "output_type": "stream",
     "text": [
      "C:\\Users\\premkumar\\AppData\\Local\\Programs\\Python\\Python312\\Lib\\site-packages\\autots\\models\\base.py:1025: RuntimeWarning: invalid value encountered in divide\n",
      "  smape_cons = (np.nansum(wsmape_df, axis=1) * 200) / np.count_nonzero(\n",
      "C:\\Users\\premkumar\\AppData\\Local\\Programs\\Python\\Python312\\Lib\\site-packages\\autots\\models\\base.py:1025: RuntimeWarning: invalid value encountered in divide\n",
      "  smape_cons = (np.nansum(wsmape_df, axis=1) * 200) / np.count_nonzero(\n",
      "C:\\Users\\premkumar\\AppData\\Local\\Programs\\Python\\Python312\\Lib\\site-packages\\autots\\models\\base.py:1025: RuntimeWarning: invalid value encountered in divide\n",
      "  smape_cons = (np.nansum(wsmape_df, axis=1) * 200) / np.count_nonzero(\n"
     ]
    },
    {
     "name": "stdout",
     "output_type": "stream",
     "text": [
      "120 - FFT with avg smape 1.4: \n",
      "Model Number: 121 of 133 with model WindowRegression for Validation 3\n",
      "121 - WindowRegression with avg smape 2.51: \n",
      "Model Number: 122 of 133 with model ETS for Validation 3\n",
      "122 - ETS with avg smape 3.79: \n",
      "Model Number: 123 of 133 with model ETS for Validation 3\n"
     ]
    },
    {
     "name": "stderr",
     "output_type": "stream",
     "text": [
      "C:\\Users\\premkumar\\AppData\\Local\\Programs\\Python\\Python312\\Lib\\site-packages\\autots\\models\\base.py:1025: RuntimeWarning: invalid value encountered in divide\n",
      "  smape_cons = (np.nansum(wsmape_df, axis=1) * 200) / np.count_nonzero(\n",
      "C:\\Users\\premkumar\\AppData\\Local\\Programs\\Python\\Python312\\Lib\\site-packages\\autots\\models\\base.py:1025: RuntimeWarning: invalid value encountered in divide\n",
      "  smape_cons = (np.nansum(wsmape_df, axis=1) * 200) / np.count_nonzero(\n",
      "C:\\Users\\premkumar\\AppData\\Local\\Programs\\Python\\Python312\\Lib\\site-packages\\autots\\models\\base.py:1025: RuntimeWarning: invalid value encountered in divide\n",
      "  smape_cons = (np.nansum(wsmape_df, axis=1) * 200) / np.count_nonzero(\n"
     ]
    },
    {
     "name": "stdout",
     "output_type": "stream",
     "text": [
      "123 - ETS with avg smape 56.6: \n",
      "Model Number: 124 of 133 with model RRVAR for Validation 3\n",
      "124 - RRVAR with avg smape 0.58: \n",
      "Model Number: 125 of 133 with model FFT for Validation 3\n",
      "125 - FFT with avg smape 4.87: \n",
      "Model Number: 126 of 133 with model ETS for Validation 3\n",
      "126 - ETS with avg smape 1.1: \n",
      "Model Number: 127 of 133 with model WindowRegression for Validation 3\n"
     ]
    },
    {
     "name": "stderr",
     "output_type": "stream",
     "text": [
      "C:\\Users\\premkumar\\AppData\\Local\\Programs\\Python\\Python312\\Lib\\site-packages\\autots\\models\\base.py:1025: RuntimeWarning: invalid value encountered in divide\n",
      "  smape_cons = (np.nansum(wsmape_df, axis=1) * 200) / np.count_nonzero(\n",
      "C:\\Users\\premkumar\\AppData\\Local\\Programs\\Python\\Python312\\Lib\\site-packages\\autots\\models\\base.py:1025: RuntimeWarning: invalid value encountered in divide\n",
      "  smape_cons = (np.nansum(wsmape_df, axis=1) * 200) / np.count_nonzero(\n",
      "C:\\Users\\premkumar\\AppData\\Local\\Programs\\Python\\Python312\\Lib\\site-packages\\autots\\models\\base.py:1025: RuntimeWarning: invalid value encountered in divide\n",
      "  smape_cons = (np.nansum(wsmape_df, axis=1) * 200) / np.count_nonzero(\n"
     ]
    },
    {
     "name": "stdout",
     "output_type": "stream",
     "text": [
      "127 - WindowRegression with avg smape 2.12: \n",
      "Model Number: 128 of 133 with model WindowRegression for Validation 3\n",
      "128 - WindowRegression with avg smape 1.6: \n",
      "Model Number: 129 of 133 with model ETS for Validation 3\n"
     ]
    },
    {
     "name": "stderr",
     "output_type": "stream",
     "text": [
      "C:\\Users\\premkumar\\AppData\\Local\\Programs\\Python\\Python312\\Lib\\site-packages\\autots\\models\\base.py:1025: RuntimeWarning: invalid value encountered in divide\n",
      "  smape_cons = (np.nansum(wsmape_df, axis=1) * 200) / np.count_nonzero(\n",
      "C:\\Users\\premkumar\\AppData\\Local\\Programs\\Python\\Python312\\Lib\\site-packages\\autots\\models\\base.py:1025: RuntimeWarning: invalid value encountered in divide\n",
      "  smape_cons = (np.nansum(wsmape_df, axis=1) * 200) / np.count_nonzero(\n"
     ]
    },
    {
     "name": "stdout",
     "output_type": "stream",
     "text": [
      "129 - ETS with avg smape 1.36: \n",
      "Model Number: 130 of 133 with model RRVAR for Validation 3\n",
      "130 - RRVAR with avg smape 1.83: \n",
      "Model Number: 131 of 133 with model RRVAR for Validation 3\n"
     ]
    },
    {
     "name": "stderr",
     "output_type": "stream",
     "text": [
      "C:\\Users\\premkumar\\AppData\\Local\\Programs\\Python\\Python312\\Lib\\site-packages\\autots\\models\\base.py:1025: RuntimeWarning: invalid value encountered in divide\n",
      "  smape_cons = (np.nansum(wsmape_df, axis=1) * 200) / np.count_nonzero(\n",
      "C:\\Users\\premkumar\\AppData\\Local\\Programs\\Python\\Python312\\Lib\\site-packages\\autots\\models\\base.py:1025: RuntimeWarning: invalid value encountered in divide\n",
      "  smape_cons = (np.nansum(wsmape_df, axis=1) * 200) / np.count_nonzero(\n"
     ]
    },
    {
     "name": "stdout",
     "output_type": "stream",
     "text": [
      "131 - RRVAR with avg smape 1.39: \n",
      "Model Number: 132 of 133 with model RRVAR for Validation 3\n",
      "132 - RRVAR with avg smape 1.4: \n",
      "Model Number: 133 of 133 with model RRVAR for Validation 3\n"
     ]
    },
    {
     "name": "stderr",
     "output_type": "stream",
     "text": [
      "C:\\Users\\premkumar\\AppData\\Local\\Programs\\Python\\Python312\\Lib\\site-packages\\autots\\models\\base.py:1025: RuntimeWarning: invalid value encountered in divide\n",
      "  smape_cons = (np.nansum(wsmape_df, axis=1) * 200) / np.count_nonzero(\n",
      "C:\\Users\\premkumar\\AppData\\Local\\Programs\\Python\\Python312\\Lib\\site-packages\\autots\\models\\base.py:1025: RuntimeWarning: invalid value encountered in divide\n",
      "  smape_cons = (np.nansum(wsmape_df, axis=1) * 200) / np.count_nonzero(\n"
     ]
    },
    {
     "name": "stdout",
     "output_type": "stream",
     "text": [
      "133 - RRVAR with avg smape 1.43: \n"
     ]
    },
    {
     "name": "stderr",
     "output_type": "stream",
     "text": [
      "C:\\Users\\premkumar\\AppData\\Local\\Programs\\Python\\Python312\\Lib\\site-packages\\autots\\models\\base.py:1025: RuntimeWarning: invalid value encountered in divide\n",
      "  smape_cons = (np.nansum(wsmape_df, axis=1) * 200) / np.count_nonzero(\n",
      "C:\\Users\\premkumar\\AppData\\Local\\Programs\\Python\\Python312\\Lib\\site-packages\\autots\\evaluator\\auto_model.py:2460: FutureWarning: Downcasting behavior in `replace` is deprecated and will be removed in a future version. To retain the old behavior, explicitly call `result.infer_objects(copy=False)`. To opt-in to the future behavior, set `pd.set_option('future.no_silent_downcasting', True)`\n",
      "  validation_results.model_results = validation_results.model_results.replace(\n"
     ]
    },
    {
     "name": "stdout",
     "output_type": "stream",
     "text": [
      "Model Number: 1283 with model Ensemble in generation 7 of Ensembles\n",
      "Model Number: 1284 with model Ensemble in generation 7 of Ensembles\n",
      "Model Number: 1285 with model Ensemble in generation 7 of Ensembles\n",
      "Model Number: 1286 with model Ensemble in generation 7 of Ensembles\n",
      "Model Number: 1287 with model Ensemble in generation 7 of Ensembles\n"
     ]
    },
    {
     "name": "stderr",
     "output_type": "stream",
     "text": [
      "C:\\Users\\premkumar\\AppData\\Local\\Programs\\Python\\Python312\\Lib\\site-packages\\autots\\models\\base.py:1025: RuntimeWarning: invalid value encountered in divide\n",
      "  smape_cons = (np.nansum(wsmape_df, axis=1) * 200) / np.count_nonzero(\n",
      "C:\\Users\\premkumar\\AppData\\Local\\Programs\\Python\\Python312\\Lib\\site-packages\\autots\\models\\base.py:1025: RuntimeWarning: invalid value encountered in divide\n",
      "  smape_cons = (np.nansum(wsmape_df, axis=1) * 200) / np.count_nonzero(\n",
      "C:\\Users\\premkumar\\AppData\\Local\\Programs\\Python\\Python312\\Lib\\site-packages\\autots\\models\\base.py:1025: RuntimeWarning: invalid value encountered in divide\n",
      "  smape_cons = (np.nansum(wsmape_df, axis=1) * 200) / np.count_nonzero(\n",
      "C:\\Users\\premkumar\\AppData\\Local\\Programs\\Python\\Python312\\Lib\\site-packages\\autots\\models\\base.py:1025: RuntimeWarning: invalid value encountered in divide\n",
      "  smape_cons = (np.nansum(wsmape_df, axis=1) * 200) / np.count_nonzero(\n"
     ]
    },
    {
     "name": "stdout",
     "output_type": "stream",
     "text": [
      "Model Number: 1288 with model Ensemble in generation 7 of Ensembles\n"
     ]
    },
    {
     "name": "stderr",
     "output_type": "stream",
     "text": [
      "C:\\Users\\premkumar\\AppData\\Local\\Programs\\Python\\Python312\\Lib\\site-packages\\autots\\models\\base.py:1025: RuntimeWarning: invalid value encountered in divide\n",
      "  smape_cons = (np.nansum(wsmape_df, axis=1) * 200) / np.count_nonzero(\n"
     ]
    },
    {
     "name": "stdout",
     "output_type": "stream",
     "text": [
      "Model Number: 1289 with model Ensemble in generation 7 of Ensembles\n",
      "Model Number: 1290 with model Ensemble in generation 7 of Ensembles\n",
      "Model Number: 1291 with model Ensemble in generation 7 of Ensembles\n"
     ]
    },
    {
     "name": "stderr",
     "output_type": "stream",
     "text": [
      "C:\\Users\\premkumar\\AppData\\Local\\Programs\\Python\\Python312\\Lib\\site-packages\\autots\\models\\base.py:1025: RuntimeWarning: invalid value encountered in divide\n",
      "  smape_cons = (np.nansum(wsmape_df, axis=1) * 200) / np.count_nonzero(\n",
      "C:\\Users\\premkumar\\AppData\\Local\\Programs\\Python\\Python312\\Lib\\site-packages\\autots\\models\\base.py:1025: RuntimeWarning: invalid value encountered in divide\n",
      "  smape_cons = (np.nansum(wsmape_df, axis=1) * 200) / np.count_nonzero(\n",
      "C:\\Users\\premkumar\\AppData\\Local\\Programs\\Python\\Python312\\Lib\\site-packages\\autots\\models\\base.py:1025: RuntimeWarning: invalid value encountered in divide\n",
      "  smape_cons = (np.nansum(wsmape_df, axis=1) * 200) / np.count_nonzero(\n"
     ]
    },
    {
     "name": "stdout",
     "output_type": "stream",
     "text": [
      "Model Number: 1292 with model Ensemble in generation 7 of Ensembles\n"
     ]
    },
    {
     "name": "stderr",
     "output_type": "stream",
     "text": [
      "C:\\Users\\premkumar\\AppData\\Local\\Programs\\Python\\Python312\\Lib\\site-packages\\autots\\models\\base.py:1025: RuntimeWarning: invalid value encountered in divide\n",
      "  smape_cons = (np.nansum(wsmape_df, axis=1) * 200) / np.count_nonzero(\n"
     ]
    },
    {
     "name": "stdout",
     "output_type": "stream",
     "text": [
      "Validation Round: 1\n",
      "Model Number: 1 of 10 with model Ensemble for Validation 1\n",
      "📈 1 - Ensemble with avg smape 0.66: \n",
      "Model Number: 2 of 10 with model Ensemble for Validation 1\n",
      "📈 2 - Ensemble with avg smape 0.59: \n",
      "Model Number: 3 of 10 with model Ensemble for Validation 1\n"
     ]
    },
    {
     "name": "stderr",
     "output_type": "stream",
     "text": [
      "C:\\Users\\premkumar\\AppData\\Local\\Programs\\Python\\Python312\\Lib\\site-packages\\autots\\models\\base.py:1025: RuntimeWarning: invalid value encountered in divide\n",
      "  smape_cons = (np.nansum(wsmape_df, axis=1) * 200) / np.count_nonzero(\n",
      "C:\\Users\\premkumar\\AppData\\Local\\Programs\\Python\\Python312\\Lib\\site-packages\\autots\\models\\base.py:1025: RuntimeWarning: invalid value encountered in divide\n",
      "  smape_cons = (np.nansum(wsmape_df, axis=1) * 200) / np.count_nonzero(\n",
      "C:\\Users\\premkumar\\AppData\\Local\\Programs\\Python\\Python312\\Lib\\site-packages\\autots\\models\\base.py:1025: RuntimeWarning: invalid value encountered in divide\n",
      "  smape_cons = (np.nansum(wsmape_df, axis=1) * 200) / np.count_nonzero(\n"
     ]
    },
    {
     "name": "stdout",
     "output_type": "stream",
     "text": [
      "3 - Ensemble with avg smape 0.67: \n",
      "Model Number: 4 of 10 with model Ensemble for Validation 1\n",
      "4 - Ensemble with avg smape 0.81: \n",
      "Model Number: 5 of 10 with model Ensemble for Validation 1\n",
      "📈 5 - Ensemble with avg smape 0.27: \n",
      "Model Number: 6 of 10 with model Ensemble for Validation 1\n"
     ]
    },
    {
     "name": "stderr",
     "output_type": "stream",
     "text": [
      "C:\\Users\\premkumar\\AppData\\Local\\Programs\\Python\\Python312\\Lib\\site-packages\\autots\\models\\base.py:1025: RuntimeWarning: invalid value encountered in divide\n",
      "  smape_cons = (np.nansum(wsmape_df, axis=1) * 200) / np.count_nonzero(\n",
      "C:\\Users\\premkumar\\AppData\\Local\\Programs\\Python\\Python312\\Lib\\site-packages\\autots\\models\\base.py:1025: RuntimeWarning: invalid value encountered in divide\n",
      "  smape_cons = (np.nansum(wsmape_df, axis=1) * 200) / np.count_nonzero(\n",
      "C:\\Users\\premkumar\\AppData\\Local\\Programs\\Python\\Python312\\Lib\\site-packages\\autots\\models\\base.py:1025: RuntimeWarning: invalid value encountered in divide\n",
      "  smape_cons = (np.nansum(wsmape_df, axis=1) * 200) / np.count_nonzero(\n"
     ]
    },
    {
     "name": "stdout",
     "output_type": "stream",
     "text": [
      "6 - Ensemble with avg smape 0.6: \n",
      "Model Number: 7 of 10 with model Ensemble for Validation 1\n",
      "7 - Ensemble with avg smape 1.26: \n",
      "Model Number: 8 of 10 with model Ensemble for Validation 1\n",
      "8 - Ensemble with avg smape 1.26: \n",
      "Model Number: 9 of 10 with model Ensemble for Validation 1\n"
     ]
    },
    {
     "name": "stderr",
     "output_type": "stream",
     "text": [
      "C:\\Users\\premkumar\\AppData\\Local\\Programs\\Python\\Python312\\Lib\\site-packages\\autots\\models\\base.py:1025: RuntimeWarning: invalid value encountered in divide\n",
      "  smape_cons = (np.nansum(wsmape_df, axis=1) * 200) / np.count_nonzero(\n",
      "C:\\Users\\premkumar\\AppData\\Local\\Programs\\Python\\Python312\\Lib\\site-packages\\autots\\models\\base.py:1025: RuntimeWarning: invalid value encountered in divide\n",
      "  smape_cons = (np.nansum(wsmape_df, axis=1) * 200) / np.count_nonzero(\n",
      "C:\\Users\\premkumar\\AppData\\Local\\Programs\\Python\\Python312\\Lib\\site-packages\\autots\\models\\base.py:1025: RuntimeWarning: invalid value encountered in divide\n",
      "  smape_cons = (np.nansum(wsmape_df, axis=1) * 200) / np.count_nonzero(\n"
     ]
    },
    {
     "name": "stdout",
     "output_type": "stream",
     "text": [
      "9 - Ensemble with avg smape 0.58: \n",
      "Model Number: 10 of 10 with model Ensemble for Validation 1\n"
     ]
    },
    {
     "name": "stderr",
     "output_type": "stream",
     "text": [
      "C:\\Users\\premkumar\\AppData\\Local\\Programs\\Python\\Python312\\Lib\\site-packages\\autots\\models\\base.py:1025: RuntimeWarning: invalid value encountered in divide\n",
      "  smape_cons = (np.nansum(wsmape_df, axis=1) * 200) / np.count_nonzero(\n"
     ]
    },
    {
     "name": "stdout",
     "output_type": "stream",
     "text": [
      "10 - Ensemble with avg smape 0.57: \n",
      "Validation Round: 2\n",
      "Model Number: 1 of 10 with model Ensemble for Validation 2\n",
      "📈 1 - Ensemble with avg smape 0.39: \n",
      "Model Number: 2 of 10 with model Ensemble for Validation 2\n",
      "2 - Ensemble with avg smape 0.4: \n",
      "Model Number: 3 of 10 with model Ensemble for Validation 2\n",
      "3 - Ensemble with avg smape 0.63: \n",
      "Model Number: 4 of 10 with model Ensemble for Validation 2\n"
     ]
    },
    {
     "name": "stderr",
     "output_type": "stream",
     "text": [
      "C:\\Users\\premkumar\\AppData\\Local\\Programs\\Python\\Python312\\Lib\\site-packages\\autots\\models\\base.py:1025: RuntimeWarning: invalid value encountered in divide\n",
      "  smape_cons = (np.nansum(wsmape_df, axis=1) * 200) / np.count_nonzero(\n",
      "C:\\Users\\premkumar\\AppData\\Local\\Programs\\Python\\Python312\\Lib\\site-packages\\autots\\models\\base.py:1025: RuntimeWarning: invalid value encountered in divide\n",
      "  smape_cons = (np.nansum(wsmape_df, axis=1) * 200) / np.count_nonzero(\n",
      "C:\\Users\\premkumar\\AppData\\Local\\Programs\\Python\\Python312\\Lib\\site-packages\\autots\\models\\base.py:1025: RuntimeWarning: invalid value encountered in divide\n",
      "  smape_cons = (np.nansum(wsmape_df, axis=1) * 200) / np.count_nonzero(\n",
      "C:\\Users\\premkumar\\AppData\\Local\\Programs\\Python\\Python312\\Lib\\site-packages\\autots\\models\\base.py:1025: RuntimeWarning: invalid value encountered in divide\n",
      "  smape_cons = (np.nansum(wsmape_df, axis=1) * 200) / np.count_nonzero(\n"
     ]
    },
    {
     "name": "stdout",
     "output_type": "stream",
     "text": [
      "4 - Ensemble with avg smape 0.59: \n",
      "Model Number: 5 of 10 with model Ensemble for Validation 2\n",
      "📈 5 - Ensemble with avg smape 0.32: \n",
      "Model Number: 6 of 10 with model Ensemble for Validation 2\n"
     ]
    },
    {
     "name": "stderr",
     "output_type": "stream",
     "text": [
      "C:\\Users\\premkumar\\AppData\\Local\\Programs\\Python\\Python312\\Lib\\site-packages\\autots\\models\\base.py:1025: RuntimeWarning: invalid value encountered in divide\n",
      "  smape_cons = (np.nansum(wsmape_df, axis=1) * 200) / np.count_nonzero(\n",
      "C:\\Users\\premkumar\\AppData\\Local\\Programs\\Python\\Python312\\Lib\\site-packages\\autots\\models\\base.py:1025: RuntimeWarning: invalid value encountered in divide\n",
      "  smape_cons = (np.nansum(wsmape_df, axis=1) * 200) / np.count_nonzero(\n"
     ]
    },
    {
     "name": "stdout",
     "output_type": "stream",
     "text": [
      "6 - Ensemble with avg smape 0.49: \n",
      "Model Number: 7 of 10 with model Ensemble for Validation 2\n",
      "7 - Ensemble with avg smape 0.56: \n",
      "Model Number: 8 of 10 with model Ensemble for Validation 2\n",
      "8 - Ensemble with avg smape 0.56: \n",
      "Model Number: 9 of 10 with model Ensemble for Validation 2\n"
     ]
    },
    {
     "name": "stderr",
     "output_type": "stream",
     "text": [
      "C:\\Users\\premkumar\\AppData\\Local\\Programs\\Python\\Python312\\Lib\\site-packages\\autots\\models\\base.py:1025: RuntimeWarning: invalid value encountered in divide\n",
      "  smape_cons = (np.nansum(wsmape_df, axis=1) * 200) / np.count_nonzero(\n",
      "C:\\Users\\premkumar\\AppData\\Local\\Programs\\Python\\Python312\\Lib\\site-packages\\autots\\models\\base.py:1025: RuntimeWarning: invalid value encountered in divide\n",
      "  smape_cons = (np.nansum(wsmape_df, axis=1) * 200) / np.count_nonzero(\n",
      "C:\\Users\\premkumar\\AppData\\Local\\Programs\\Python\\Python312\\Lib\\site-packages\\autots\\models\\base.py:1025: RuntimeWarning: invalid value encountered in divide\n",
      "  smape_cons = (np.nansum(wsmape_df, axis=1) * 200) / np.count_nonzero(\n"
     ]
    },
    {
     "name": "stdout",
     "output_type": "stream",
     "text": [
      "9 - Ensemble with avg smape 0.39: \n",
      "Model Number: 10 of 10 with model Ensemble for Validation 2\n"
     ]
    },
    {
     "name": "stderr",
     "output_type": "stream",
     "text": [
      "C:\\Users\\premkumar\\AppData\\Local\\Programs\\Python\\Python312\\Lib\\site-packages\\autots\\models\\base.py:1025: RuntimeWarning: invalid value encountered in divide\n",
      "  smape_cons = (np.nansum(wsmape_df, axis=1) * 200) / np.count_nonzero(\n"
     ]
    },
    {
     "name": "stdout",
     "output_type": "stream",
     "text": [
      "10 - Ensemble with avg smape 0.39: \n",
      "Validation Round: 3\n",
      "Model Number: 1 of 10 with model Ensemble for Validation 3\n",
      "📈 1 - Ensemble with avg smape 1.62: \n",
      "Model Number: 2 of 10 with model Ensemble for Validation 3\n",
      "📈 2 - Ensemble with avg smape 1.58: \n",
      "Model Number: 3 of 10 with model Ensemble for Validation 3\n"
     ]
    },
    {
     "name": "stderr",
     "output_type": "stream",
     "text": [
      "C:\\Users\\premkumar\\AppData\\Local\\Programs\\Python\\Python312\\Lib\\site-packages\\autots\\models\\base.py:1025: RuntimeWarning: invalid value encountered in divide\n",
      "  smape_cons = (np.nansum(wsmape_df, axis=1) * 200) / np.count_nonzero(\n",
      "C:\\Users\\premkumar\\AppData\\Local\\Programs\\Python\\Python312\\Lib\\site-packages\\autots\\models\\base.py:1025: RuntimeWarning: invalid value encountered in divide\n",
      "  smape_cons = (np.nansum(wsmape_df, axis=1) * 200) / np.count_nonzero(\n",
      "C:\\Users\\premkumar\\AppData\\Local\\Programs\\Python\\Python312\\Lib\\site-packages\\autots\\models\\base.py:1025: RuntimeWarning: invalid value encountered in divide\n",
      "  smape_cons = (np.nansum(wsmape_df, axis=1) * 200) / np.count_nonzero(\n",
      "C:\\Users\\premkumar\\AppData\\Local\\Programs\\Python\\Python312\\Lib\\site-packages\\autots\\models\\base.py:1025: RuntimeWarning: invalid value encountered in divide\n",
      "  smape_cons = (np.nansum(wsmape_df, axis=1) * 200) / np.count_nonzero(\n"
     ]
    },
    {
     "name": "stdout",
     "output_type": "stream",
     "text": [
      "📈 3 - Ensemble with avg smape 0.73: \n",
      "Model Number: 4 of 10 with model Ensemble for Validation 3\n",
      "4 - Ensemble with avg smape 1.17: \n",
      "Model Number: 5 of 10 with model Ensemble for Validation 3\n",
      "5 - Ensemble with avg smape 1.68: \n",
      "Model Number: 6 of 10 with model Ensemble for Validation 3\n"
     ]
    },
    {
     "name": "stderr",
     "output_type": "stream",
     "text": [
      "C:\\Users\\premkumar\\AppData\\Local\\Programs\\Python\\Python312\\Lib\\site-packages\\autots\\models\\base.py:1025: RuntimeWarning: invalid value encountered in divide\n",
      "  smape_cons = (np.nansum(wsmape_df, axis=1) * 200) / np.count_nonzero(\n",
      "C:\\Users\\premkumar\\AppData\\Local\\Programs\\Python\\Python312\\Lib\\site-packages\\autots\\models\\base.py:1025: RuntimeWarning: invalid value encountered in divide\n",
      "  smape_cons = (np.nansum(wsmape_df, axis=1) * 200) / np.count_nonzero(\n"
     ]
    },
    {
     "name": "stdout",
     "output_type": "stream",
     "text": [
      "6 - Ensemble with avg smape 1.47: \n",
      "Model Number: 7 of 10 with model Ensemble for Validation 3\n",
      "7 - Ensemble with avg smape 1.01: \n",
      "Model Number: 8 of 10 with model Ensemble for Validation 3\n",
      "8 - Ensemble with avg smape 1.01: \n",
      "Model Number: 9 of 10 with model Ensemble for Validation 3\n"
     ]
    },
    {
     "name": "stderr",
     "output_type": "stream",
     "text": [
      "C:\\Users\\premkumar\\AppData\\Local\\Programs\\Python\\Python312\\Lib\\site-packages\\autots\\models\\base.py:1025: RuntimeWarning: invalid value encountered in divide\n",
      "  smape_cons = (np.nansum(wsmape_df, axis=1) * 200) / np.count_nonzero(\n",
      "C:\\Users\\premkumar\\AppData\\Local\\Programs\\Python\\Python312\\Lib\\site-packages\\autots\\models\\base.py:1025: RuntimeWarning: invalid value encountered in divide\n",
      "  smape_cons = (np.nansum(wsmape_df, axis=1) * 200) / np.count_nonzero(\n",
      "C:\\Users\\premkumar\\AppData\\Local\\Programs\\Python\\Python312\\Lib\\site-packages\\autots\\models\\base.py:1025: RuntimeWarning: invalid value encountered in divide\n",
      "  smape_cons = (np.nansum(wsmape_df, axis=1) * 200) / np.count_nonzero(\n"
     ]
    },
    {
     "name": "stdout",
     "output_type": "stream",
     "text": [
      "9 - Ensemble with avg smape 1.29: \n",
      "Model Number: 10 of 10 with model Ensemble for Validation 3\n"
     ]
    },
    {
     "name": "stderr",
     "output_type": "stream",
     "text": [
      "C:\\Users\\premkumar\\AppData\\Local\\Programs\\Python\\Python312\\Lib\\site-packages\\autots\\models\\base.py:1025: RuntimeWarning: invalid value encountered in divide\n",
      "  smape_cons = (np.nansum(wsmape_df, axis=1) * 200) / np.count_nonzero(\n"
     ]
    },
    {
     "name": "stdout",
     "output_type": "stream",
     "text": [
      "10 - Ensemble with avg smape 1.28: \n"
     ]
    },
    {
     "name": "stderr",
     "output_type": "stream",
     "text": [
      "C:\\Users\\premkumar\\AppData\\Local\\Programs\\Python\\Python312\\Lib\\site-packages\\autots\\models\\base.py:1025: RuntimeWarning: invalid value encountered in divide\n",
      "  smape_cons = (np.nansum(wsmape_df, axis=1) * 200) / np.count_nonzero(\n",
      "C:\\Users\\premkumar\\AppData\\Local\\Programs\\Python\\Python312\\Lib\\site-packages\\autots\\evaluator\\auto_model.py:2460: FutureWarning: Downcasting behavior in `replace` is deprecated and will be removed in a future version. To retain the old behavior, explicitly call `result.infer_objects(copy=False)`. To opt-in to the future behavior, set `pd.set_option('future.no_silent_downcasting', True)`\n",
      "  validation_results.model_results = validation_results.model_results.replace(\n",
      "C:\\Users\\premkumar\\AppData\\Local\\Programs\\Python\\Python312\\Lib\\site-packages\\autots\\evaluator\\auto_model.py:2460: FutureWarning: Downcasting behavior in `replace` is deprecated and will be removed in a future version. To retain the old behavior, explicitly call `result.infer_objects(copy=False)`. To opt-in to the future behavior, set `pd.set_option('future.no_silent_downcasting', True)`\n",
      "  validation_results.model_results = validation_results.model_results.replace(\n"
     ]
    }
   ],
   "source": [
    "from autots import AutoTS\n",
    "model = AutoTS(\n",
    "    forecast_length=5,  # Predict the next 5 periods\n",
    "    frequency='infer',  # Automatically detect the data frequency\n",
    "    prediction_interval=0.9,  # Use a 90% confidence interval for predictions\n",
    "    ensemble='auto',  # Use ensemble methods\n",
    "    model_list=\"default\",  # Use a wider range of models\n",
    "    transformer_list=\"fast\",  # Use a predefined list of fast transformers\n",
    "    drop_most_recent=1,  # Drop the most recent data point when training\n",
    "    max_generations=5,  # Increase to 5 generations\n",
    "    num_validations=3,  # Increase to 3 validation splits\n",
    "    validation_method=\"backwards\"  # Use backward chaining for validation\n",
    ")\n",
    "model = model.fit(data, date_col='Date', value_col='Price', id_col=None)"
   ]
  },
  {
   "cell_type": "markdown",
   "id": "176f47f7-acfa-4604-9c25-09286ad13872",
   "metadata": {},
   "source": [
    "<h3>Handling Seasonality</h3>"
   ]
  },
  {
   "cell_type": "markdown",
   "id": "b28dec4e-347a-4972-ae4c-3ff9183043da",
   "metadata": {},
   "source": [
    "<h4>There is no need to manually handle seasonality trends ,The model_list parameter specifies the types of models that \n",
    "AutoTS will consider during training. Many of these models, such as SARIMA (Seasonal AutoRegressive Integrated Moving Average) and\n",
    "DatepartRegression, are specifically designed to capture and model seasonality in time series data.</h4>"
   ]
  },
  {
   "cell_type": "markdown",
   "id": "6f90fe45-fc48-4a9c-bd2c-77a5ae6356e6",
   "metadata": {},
   "source": [
    "<h2>Predicting</h2>"
   ]
  },
  {
   "cell_type": "code",
   "execution_count": 16,
   "id": "37b74f84-ab4d-45c5-863d-5940217a3cd3",
   "metadata": {},
   "outputs": [],
   "source": [
    "prediction = model.predict()"
   ]
  },
  {
   "cell_type": "code",
   "execution_count": 17,
   "id": "16c9a331-04dd-406b-98e4-7f91236b7d11",
   "metadata": {},
   "outputs": [],
   "source": [
    "forecast = prediction.forecast"
   ]
  },
  {
   "cell_type": "code",
   "execution_count": 19,
   "id": "1dbc11f8-1b61-4b14-99e1-f5696d5f57b9",
   "metadata": {},
   "outputs": [
    {
     "data": {
      "text/html": [
       "<div>\n",
       "<style scoped>\n",
       "    .dataframe tbody tr th:only-of-type {\n",
       "        vertical-align: middle;\n",
       "    }\n",
       "\n",
       "    .dataframe tbody tr th {\n",
       "        vertical-align: top;\n",
       "    }\n",
       "\n",
       "    .dataframe thead th {\n",
       "        text-align: right;\n",
       "    }\n",
       "</style>\n",
       "<table border=\"1\" class=\"dataframe\">\n",
       "  <thead>\n",
       "    <tr style=\"text-align: right;\">\n",
       "      <th></th>\n",
       "      <th>Price</th>\n",
       "    </tr>\n",
       "  </thead>\n",
       "  <tbody>\n",
       "    <tr>\n",
       "      <th>2024-05-30</th>\n",
       "      <td>459.626567</td>\n",
       "    </tr>\n",
       "    <tr>\n",
       "      <th>2024-05-31</th>\n",
       "      <td>459.399454</td>\n",
       "    </tr>\n",
       "    <tr>\n",
       "      <th>2024-06-01</th>\n",
       "      <td>460.557786</td>\n",
       "    </tr>\n",
       "    <tr>\n",
       "      <th>2024-06-02</th>\n",
       "      <td>459.036077</td>\n",
       "    </tr>\n",
       "    <tr>\n",
       "      <th>2024-06-03</th>\n",
       "      <td>456.207109</td>\n",
       "    </tr>\n",
       "  </tbody>\n",
       "</table>\n",
       "</div>"
      ],
      "text/plain": [
       "                 Price\n",
       "2024-05-30  459.626567\n",
       "2024-05-31  459.399454\n",
       "2024-06-01  460.557786\n",
       "2024-06-02  459.036077\n",
       "2024-06-03  456.207109"
      ]
     },
     "execution_count": 19,
     "metadata": {},
     "output_type": "execute_result"
    }
   ],
   "source": [
    "forecast"
   ]
  },
  {
   "cell_type": "code",
   "execution_count": 23,
   "id": "96b7328c-9a23-4373-bd79-3449d84051ee",
   "metadata": {},
   "outputs": [
    {
     "data": {
      "image/png": "[encoded data removed]",
      "text/plain": [
       "<Figure size 1000x500 with 1 Axes>"
      ]
     },
     "metadata": {},
     "output_type": "display_data"
    }
   ],
   "source": [
    "forecast[\"Price\"].plot(figsize=(10,5),title=\"Wipro future Stock Prices\",label=\"Close Price\")\n",
    "plt.show()"
   ]
  }
 ],
 "metadata": {
  "kernelspec": {
   "display_name": "Python 3 (ipykernel)",
   "language": "python",
   "name": "python3"
  },
  "language_info": {
   "codemirror_mode": {
    "name": "ipython",
    "version": 3
   },
   "file_extension": ".py",
   "mimetype": "text/x-python",
   "name": "python",
   "nbconvert_exporter": "python",
   "pygments_lexer": "ipython3",
   "version": "3.12.2"
  }
 },
 "nbformat": 4,
 "nbformat_minor": 5
}
